{
 "cells": [
  {
   "cell_type": "markdown",
   "id": "4e8b240b",
   "metadata": {},
   "source": [
    "# 신경망 학습"
   ]
  },
  {
   "cell_type": "code",
   "execution_count": 2,
   "id": "c0a2601d",
   "metadata": {},
   "outputs": [],
   "source": [
    "import numpy as np\n",
    "from dataset.mnist import load_mnist"
   ]
  },
  {
   "cell_type": "markdown",
   "id": "25a6ebbd",
   "metadata": {},
   "source": [
    "## Helper functions"
   ]
  },
  {
   "cell_type": "code",
   "execution_count": 3,
   "id": "c0c5b1ad",
   "metadata": {},
   "outputs": [],
   "source": [
    "# 손실함수 (Cross Entropy)\n",
    "def cross_entropy_error(y, t):\n",
    "    delta = 1e-7 # 0.0000001\n",
    "    \n",
    "    if y.ndim == 1:\n",
    "        t = t.reshape(1, t.size) \n",
    "        y = y.reshape(1, y.size)\n",
    "        \n",
    "    batch_size = y.shape[0]\n",
    "    return -np.sum(t*np.log(y+delta))/batch_size"
   ]
  },
  {
   "cell_type": "code",
   "execution_count": 4,
   "id": "abc413a5",
   "metadata": {},
   "outputs": [],
   "source": [
    "# 신경망에서 사용할 W(Matrix 형태)의 편미분 행렬을 구하는 함수\n",
    "# 신경망의 기울기 : 그레디언트 (편미분 벡터)\n",
    "def numerical_gradient(f, x): # x의 shape이 (784, 20) => grads 도 (784, 20)\n",
    "    h = 1e-4 # 0.0001\n",
    "    grads = np.zeros_like(x)\n",
    "    \n",
    "    it = np.nditer(x, flags=[\"multi_index\"], op_flags=[\"readwrite\"])\n",
    "        \n",
    "    while not it.finished:\n",
    "        idx = it.multi_index\n",
    "        tmp_val = x[idx]\n",
    "\n",
    "        x[idx] = tmp_val + h\n",
    "        fxh1 = f(x) # f(x+h)\n",
    "        x[idx] = tmp_val - h\n",
    "        fxh2 = f(x) # f(x-h)\n",
    "    \n",
    "        grads[idx] = (fxh1 - fxh2) / (2*h)\n",
    "        x[idx] = tmp_val\n",
    "        it.iternext()\n",
    "        \n",
    "    return grads"
   ]
  },
  {
   "cell_type": "code",
   "execution_count": 5,
   "id": "44236caa",
   "metadata": {},
   "outputs": [],
   "source": [
    "# Softmax\n",
    "def softmax(x):\n",
    "    if x.ndim == 2:\n",
    "        x = x.T # 10*100\n",
    "        x = x - np.max(x, axis=0) # 10*100 - 100 = 10*100\n",
    "        y = np.exp(x) / np.sum(np.exp(x), axis=0)\n",
    "        return y.T \n",
    "\n",
    "    x = x - np.max(x) # 오버플로 대책\n",
    "    return np.exp(x) / np.sum(np.exp(x))"
   ]
  },
  {
   "cell_type": "code",
   "execution_count": 6,
   "id": "b35d3bdc",
   "metadata": {},
   "outputs": [],
   "source": [
    "# Sigmoid\n",
    "def sigmoid(x):\n",
    "    return 1/(1+np.exp(-x))"
   ]
  },
  {
   "cell_type": "markdown",
   "id": "15168194",
   "metadata": {},
   "source": [
    "## 2층 신경망 구현하기"
   ]
  },
  {
   "cell_type": "code",
   "execution_count": 17,
   "id": "8ca558ce",
   "metadata": {},
   "outputs": [],
   "source": [
    "class TwoLayerNet:\n",
    "    def __init__(self, input_size, hidden_size, output_size, weight_init_std=0.01):\n",
    "        # 모델파라미터 초기화\n",
    "        # W1 shape (784, 20), b1 shape (20,), W2 shape (20, 10), b2 shape (10,)\n",
    "        self.params = {}\n",
    "        self.params['W1'] = weight_init_std * np.random.randn(input_size, hidden_size)\n",
    "        self.params['b1'] = np.zeros(hidden_size)\n",
    "        self.params['W2'] = weight_init_std * np.random.randn(hidden_size, output_size)\n",
    "        self.params['b2'] = np.zeros(output_size)\n",
    "        \n",
    "    def predict(self, x):\n",
    "        W1, W2 = self.params['W1'], self.params['W2']\n",
    "        b1, b2 = self.params['b1'], self.params['b2'] \n",
    "    \n",
    "        a1 = np.dot(x, W1) + b1  # (20,)\n",
    "        z1 = sigmoid(a1)         # (20,)\n",
    "        a2 = np.dot(z1, W2) + b2 # (10,)\n",
    "        y = softmax(a2)          # (10,)\n",
    "        return y\n",
    "    \n",
    "    def loss(self, x, t):\n",
    "        y = self.predict(x)\n",
    "        loss = cross_entropy_error(y, t)\n",
    "        return loss\n",
    "    \n",
    "    def numerical_gradient(self, x, t):\n",
    "        f = lambda w : self.loss(x, t)\n",
    "        \n",
    "        grads = {}\n",
    "        grads['W1'] = numerical_gradient(f, self.params['W1']) # W1 (784, 20) --> dW (784, 20)\n",
    "        grads['b1'] = numerical_gradient(f, self.params['b1']) # b1 (20,) --> db (20,)\n",
    "        grads['W2'] = numerical_gradient(f, self.params['W2']) # W2 (20, 10) --> dW2 (20, 10)\n",
    "        grads['b2'] = numerical_gradient(f, self.params['b2']) # b2 (10,) --> db2 (10,)\n",
    "        \n",
    "        return grads\n",
    "    \n",
    "    def accuracy(self):\n",
    "        pass\n",
    "    "
   ]
  },
  {
   "cell_type": "code",
   "execution_count": 18,
   "id": "6fce2dfa",
   "metadata": {},
   "outputs": [],
   "source": [
    "(X_train, y_train), (X_test, y_test) = load_mnist(normalize=True, flatten=True, one_hot_label=True)"
   ]
  },
  {
   "cell_type": "code",
   "execution_count": 19,
   "id": "c6afba36",
   "metadata": {},
   "outputs": [],
   "source": [
    "network = TwoLayerNet(input_size = 784, hidden_size=20, output_size=10)"
   ]
  },
  {
   "cell_type": "code",
   "execution_count": null,
   "id": "38802128",
   "metadata": {},
   "outputs": [
    {
     "name": "stdout",
     "output_type": "stream",
     "text": [
      "0 2.2994508537739495\n",
      "1 2.301847412939289\n",
      "2 2.2974665195961546\n",
      "3 2.3017517466980126\n",
      "4 2.299750466479626\n",
      "5 2.293010337795922\n",
      "6 2.2910569834661954\n",
      "7 2.3059323653113952\n",
      "8 2.2996606236225334\n",
      "9 2.297703519134499\n",
      "10 2.291573730719461\n",
      "11 2.2976872859387525\n",
      "12 2.301089186192442\n",
      "13 2.3006563904555475\n",
      "14 2.2951417491264077\n",
      "15 2.299251368467017\n",
      "16 2.280728978150129\n",
      "17 2.3016078608253436\n",
      "18 2.3015157623336844\n",
      "19 2.302748785790564\n",
      "20 2.3046901108950197\n",
      "21 2.293777745267885\n",
      "22 2.291815765236617\n",
      "23 2.294805905707565\n",
      "24 2.299722949758889\n",
      "25 2.295240066430731\n",
      "26 2.2982777149738784\n",
      "27 2.289313999223268\n",
      "28 2.2834870883098866\n",
      "29 2.2865976989820935\n",
      "30 2.2878849171365725\n",
      "31 2.3048895335457336\n",
      "32 2.3027215214049206\n",
      "33 2.286920190749916\n"
     ]
    }
   ],
   "source": [
    "# 하이퍼파라미터\n",
    "iters_num = 1000\n",
    "batch_size = 100 # 미니배치 사이즈\n",
    "learning_rate = 0.1\n",
    "\n",
    "for i in range(iters_num):\n",
    "    batch_mask = np.random.choice(60000, 100) # 랜덤하게 뽑은 배치의 인덱스\n",
    "    x_batch = X_train[batch_mask]\n",
    "    t_batch = y_train[batch_mask]\n",
    "\n",
    "    # 1. Gradient \n",
    "    grads = network.numerical_gradient(x_batch, t_batch)\n",
    "\n",
    "    # 2. Gradent Descent (모델 파라미터 업데이트)\n",
    "    for keys in ('W1', 'W2', 'b1', 'b2'):\n",
    "        # W(new) <- W(old) - (lr * Gradient) : 경사 하강법\n",
    "        network.params[keys] = network.params[keys] - (learning_rate * grads[keys])\n",
    "\n",
    "    loss = network.loss(x_batch, t_batch)  \n",
    "    print(i, loss)"
   ]
  },
  {
   "cell_type": "code",
   "execution_count": null,
   "id": "ce58bd60",
   "metadata": {},
   "outputs": [],
   "source": []
  }
 ],
 "metadata": {
  "kernelspec": {
   "display_name": "Python 3 (ipykernel)",
   "language": "python",
   "name": "python3"
  },
  "language_info": {
   "codemirror_mode": {
    "name": "ipython",
    "version": 3
   },
   "file_extension": ".py",
   "mimetype": "text/x-python",
   "name": "python",
   "nbconvert_exporter": "python",
   "pygments_lexer": "ipython3",
   "version": "3.9.12"
  }
 },
 "nbformat": 4,
 "nbformat_minor": 5
}
