{
 "cells": [
  {
   "cell_type": "markdown",
   "id": "af05c153",
   "metadata": {},
   "source": [
    "# Bike Sharing Demand"
   ]
  },
  {
   "cell_type": "markdown",
   "id": "21bb932d",
   "metadata": {},
   "source": [
    "- 도시 자전거 공유 시스템 사용 예측\n",
    "- [캐글](https://www.kaggle.com)의 [Bike Sharing Demand](https://www.kaggle.com/c/bike-sharing-demand)에서 `train.csv`와 `test.csv`를 다운로드\n",
    "- 두 파일을 각각 datasets 디렉토리에 bike_train.csv bike_test.csv로 저장 "
   ]
  },
  {
   "cell_type": "markdown",
   "id": "13585302",
   "metadata": {},
   "source": [
    "## 1. 문제 정의\n",
    "- 자전거 대여량을 예측하는 문제\n",
    "- Evaluation : Submissions are evaluated one the Root Mean Squared Logarithmic Error (RMSLE). "
   ]
  },
  {
   "cell_type": "code",
   "execution_count": 1,
   "id": "24ec38cc",
   "metadata": {},
   "outputs": [],
   "source": [
    "import numpy as np\n",
    "import pandas as pd\n",
    "import seaborn as sns\n",
    "import matplotlib.pyplot as plt"
   ]
  },
  {
   "cell_type": "markdown",
   "id": "d3d306c5",
   "metadata": {},
   "source": [
    "## 2. 데이터 가져오기"
   ]
  },
  {
   "cell_type": "code",
   "execution_count": null,
   "id": "05e4a385",
   "metadata": {},
   "outputs": [],
   "source": []
  },
  {
   "cell_type": "code",
   "execution_count": null,
   "id": "759d0443",
   "metadata": {},
   "outputs": [],
   "source": []
  },
  {
   "cell_type": "markdown",
   "id": "04bbcf5e",
   "metadata": {},
   "source": [
    "## 3. 데이터 훑어보기"
   ]
  },
  {
   "cell_type": "code",
   "execution_count": null,
   "id": "15215b43",
   "metadata": {},
   "outputs": [],
   "source": []
  },
  {
   "cell_type": "code",
   "execution_count": null,
   "id": "b82bb9d4",
   "metadata": {},
   "outputs": [],
   "source": []
  },
  {
   "cell_type": "markdown",
   "id": "e2a57c99",
   "metadata": {},
   "source": [
    "datetime: hourly date + timestamp  \n",
    "season: 1 = 봄, 2 = 여름, 3 = 가을, 4 = 겨울  \n",
    "holiday: 1 = 토, 일요일의 주말을 제외한 국경일 등의 휴일, 0 = 휴일이 아닌 날  \n",
    "workingday: 1 = 토, 일요일의 주말 및 휴일이 아닌 주중, 0 = 주말 및 휴일  \n",
    "weather:  \n",
    "• 1 = 맑음, 약간 구름 낀 흐림  \n",
    "• 2 = 안개, 안개 + 흐림  \n",
    "• 3 = 가벼운 눈, 가벼운 비 + 천둥  \n",
    "• 4 = 심한 눈/비, 천둥/번개  \n",
    "temp: 온도(섭씨)   \n",
    "atemp: 체감온도(섭씨)  \n",
    "humidity: 상대습도  \n",
    "windspeed: 풍속  \n",
    "casual: 사전에 등록되지 않는 사용자가 대여한 횟수  \n",
    "registered: 사전에 등록된 사용자가 대여한 횟수  \n",
    "count: 대여 횟수  "
   ]
  },
  {
   "cell_type": "code",
   "execution_count": null,
   "id": "70f50874",
   "metadata": {},
   "outputs": [],
   "source": []
  },
  {
   "cell_type": "code",
   "execution_count": null,
   "id": "c616aa2b",
   "metadata": {},
   "outputs": [],
   "source": []
  },
  {
   "cell_type": "markdown",
   "id": "610e7ab7",
   "metadata": {},
   "source": [
    "## 4. 데이터 탐색"
   ]
  },
  {
   "cell_type": "markdown",
   "id": "e0a970f4",
   "metadata": {},
   "source": [
    "### 4.1 타깃값(count) 의 분포도 그려보기"
   ]
  },
  {
   "cell_type": "code",
   "execution_count": null,
   "id": "aed73fff",
   "metadata": {},
   "outputs": [],
   "source": []
  },
  {
   "cell_type": "markdown",
   "id": "e1417b40",
   "metadata": {},
   "source": [
    "- x축은 타깃값 count, y축은 빈도수(횟수)\n",
    "- 오른쪽으로 꼬리가 긴 분포\n",
    "- 회귀 모델이 좋은 성능 내려면 데이터가 정규분포를 따르는게 좋음\n",
    "- 따라서 타깃값으 정규분포에 가깝게 만들기 위해 로그 변환 사용"
   ]
  },
  {
   "cell_type": "markdown",
   "id": "9575aa7b",
   "metadata": {},
   "source": [
    "### 4.2 대여 시간대(년, 월, 일, 요일, 시간, 분) 에 따른 자전거 대여율\n",
    "범주형 데이터에 따른 수치형 데이터의 평균값(막대그래프)"
   ]
  },
  {
   "cell_type": "code",
   "execution_count": null,
   "id": "58c0c3d7",
   "metadata": {},
   "outputs": [],
   "source": []
  },
  {
   "cell_type": "code",
   "execution_count": null,
   "id": "36c93821",
   "metadata": {},
   "outputs": [],
   "source": []
  },
  {
   "cell_type": "markdown",
   "id": "8a72bd0b",
   "metadata": {},
   "source": [
    "### 4.3 대여 시간대를 제외한 다른 범주형 데이터(계절, 날씨, 공휴일여부 등)에 따른 자전거 대여율"
   ]
  },
  {
   "cell_type": "code",
   "execution_count": null,
   "id": "044fbd8c",
   "metadata": {},
   "outputs": [],
   "source": []
  },
  {
   "cell_type": "code",
   "execution_count": null,
   "id": "ff2078a7",
   "metadata": {},
   "outputs": [],
   "source": []
  },
  {
   "cell_type": "markdown",
   "id": "c12e990e",
   "metadata": {},
   "source": [
    "### 4.4 위의 범주형 데이터(계절, 날씨, 공휴일 여부 등)의 사분위 분포 확인"
   ]
  },
  {
   "cell_type": "code",
   "execution_count": null,
   "id": "4f2e2380",
   "metadata": {},
   "outputs": [],
   "source": []
  },
  {
   "cell_type": "code",
   "execution_count": null,
   "id": "d26e1cd9",
   "metadata": {},
   "outputs": [],
   "source": []
  },
  {
   "cell_type": "markdown",
   "id": "af9fc371",
   "metadata": {},
   "source": [
    "- 공휴일이 아닐 때 특잇값(outlier)가 많음\n",
    "- 근무일일 때 특잇값이 많음\n",
    "- 가을(Fall, 3)에 대여량이 많음\n",
    "- 날씨가 좋을수록 대여량이 많음\n",
    "- 악천후 속 자전거 대여수 한건(특잇값)데 대해 제거 고려"
   ]
  },
  {
   "cell_type": "markdown",
   "id": "9a7a9855",
   "metadata": {},
   "source": [
    "### 4.5 시간대별 자건거 대여율을 추가 정보와 함께 보기\n",
    "추가정보 : 공휴일여부"
   ]
  },
  {
   "cell_type": "code",
   "execution_count": null,
   "id": "64c42b54",
   "metadata": {},
   "outputs": [],
   "source": []
  },
  {
   "cell_type": "code",
   "execution_count": null,
   "id": "0325c380",
   "metadata": {},
   "outputs": [],
   "source": []
  },
  {
   "cell_type": "markdown",
   "id": "c129a7c6",
   "metadata": {},
   "source": [
    "* 근무일에는 출퇴근 시간에 대여량이 많고\n",
    "* 쉬는날에는 오후 12~2시 사이에 대여량이 많음"
   ]
  },
  {
   "cell_type": "markdown",
   "id": "7d2ba278",
   "metadata": {},
   "source": [
    "### 4.6 상관관계\n",
    "수치형 데이터 간 상관관계를 파악하기 위해 산점도 그래프(회귀선 포함한) 그리기"
   ]
  },
  {
   "cell_type": "markdown",
   "id": "5af74a47",
   "metadata": {},
   "source": [
    "- **(1)** 온도, 체감온도, 습도, 풍속별 대여 수량 산점도 그래프('temp', 'atemp', 'humidity', 'windspeed')"
   ]
  },
  {
   "cell_type": "code",
   "execution_count": null,
   "id": "fcee790d",
   "metadata": {},
   "outputs": [],
   "source": []
  },
  {
   "cell_type": "code",
   "execution_count": null,
   "id": "a677af81",
   "metadata": {},
   "outputs": [],
   "source": []
  },
  {
   "cell_type": "markdown",
   "id": "e7102029",
   "metadata": {},
   "source": [
    "- **(2)** 상관계수"
   ]
  },
  {
   "cell_type": "code",
   "execution_count": null,
   "id": "e28a21d3",
   "metadata": {},
   "outputs": [],
   "source": []
  },
  {
   "cell_type": "code",
   "execution_count": null,
   "id": "0e65ae2f",
   "metadata": {},
   "outputs": [],
   "source": []
  },
  {
   "cell_type": "markdown",
   "id": "bfb1b414",
   "metadata": {},
   "source": [
    "**선형회귀에서 다중공선성 문제(Multicollinearity in Regression)**\n",
    "- https://towardsdatascience.com/multi-collinearity-in-regression-fe7a2c1467ea\n",
    "- temp와 atemp가 상관관계가 높으므로 원하는 coef값이 나오지 않을 수 있음\n",
    "- 두 특성 모두 예측변수에 양의 상관관계가 있으므로 coef가 양수값이 나오길 기대하지만\n",
    "- 다중 선형회귀에선느 이 값이 바뀔 수 있음"
   ]
  },
  {
   "cell_type": "markdown",
   "id": "c209df2d",
   "metadata": {},
   "source": [
    "## 5. 데이터 전처리"
   ]
  },
  {
   "cell_type": "markdown",
   "id": "fa59d171",
   "metadata": {},
   "source": [
    "훈련 데이터와 테스트 데이터를 준비하는 방법\n",
    "1. 훈련 데이터에 대한 전처리를 해준 뒤, 동일한 방법으로 테스트 데이터에 적용한다.\n",
    "2. 훈련 데이터와 테스트 데이터를 합쳐서 모든 전처리가 끝난 뒤, 분리한다."
   ]
  },
  {
   "cell_type": "code",
   "execution_count": 1,
   "id": "36056f3a",
   "metadata": {},
   "outputs": [
    {
     "data": {
      "image/png": "[encoded data removed]",
      "text/plain": [
       "<IPython.core.display.Image object>"
      ]
     },
     "execution_count": 1,
     "metadata": {},
     "output_type": "execute_result"
    }
   ],
   "source": [
    "from IPython.display import Image\n",
    "Image('./images/img5.png')"
   ]
  },
  {
   "cell_type": "code",
   "execution_count": null,
   "id": "cc7eb162",
   "metadata": {},
   "outputs": [],
   "source": []
  },
  {
   "cell_type": "markdown",
   "id": "e9d6cd7a",
   "metadata": {},
   "source": [
    "### 5.1 이상치 제거"
   ]
  },
  {
   "cell_type": "code",
   "execution_count": null,
   "id": "1725f612",
   "metadata": {},
   "outputs": [],
   "source": []
  },
  {
   "cell_type": "code",
   "execution_count": null,
   "id": "ac531de2",
   "metadata": {},
   "outputs": [],
   "source": []
  },
  {
   "cell_type": "markdown",
   "id": "536e1609",
   "metadata": {},
   "source": [
    "### 5.2 훈련 데이터와 테스트 데이터 합치기"
   ]
  },
  {
   "cell_type": "code",
   "execution_count": null,
   "id": "c2f9ccca",
   "metadata": {},
   "outputs": [],
   "source": []
  },
  {
   "cell_type": "code",
   "execution_count": null,
   "id": "8f7ab552",
   "metadata": {},
   "outputs": [],
   "source": []
  },
  {
   "cell_type": "markdown",
   "id": "f8612d6d",
   "metadata": {},
   "source": [
    "### 5.3 datetime으로부터 파생특성 추가(특성 공학, feature engineering)"
   ]
  },
  {
   "cell_type": "code",
   "execution_count": null,
   "id": "e7fb77c5",
   "metadata": {},
   "outputs": [],
   "source": []
  },
  {
   "cell_type": "code",
   "execution_count": null,
   "id": "aec3d15a",
   "metadata": {},
   "outputs": [],
   "source": []
  },
  {
   "cell_type": "markdown",
   "id": "43037adf",
   "metadata": {},
   "source": [
    "### 5.4 필요없는 특성 제거"
   ]
  },
  {
   "cell_type": "code",
   "execution_count": null,
   "id": "8300757e",
   "metadata": {},
   "outputs": [],
   "source": []
  },
  {
   "cell_type": "code",
   "execution_count": null,
   "id": "59676915",
   "metadata": {},
   "outputs": [],
   "source": []
  },
  {
   "cell_type": "markdown",
   "id": "a664477c",
   "metadata": {},
   "source": [
    "* 탐색적 데이터 분석에서 얻은 인사트를 활용해 의미있는 특성과 불필요한 특성을 구분(특성 선택)\n",
    "- 특성이 많다고 무조건 좋은게 아님\n",
    "- 예측 성능을 높이려면 타기값과 관련있는 특성이 필요\n",
    "- 탐색적 데이터 분석, 상관관계 매트릭스 등의 배경지식을 종합적으로 활용해 판단해야 함\n",
    "- 모델링 과정에서 특성 중요도(Tree model), 회귀 계수등을 참고해 볼 수 있음"
   ]
  },
  {
   "cell_type": "markdown",
   "id": "e4cba81a",
   "metadata": {},
   "source": [
    "### 5.5 훈련 데이터와 테스트 데이터 나누기"
   ]
  },
  {
   "cell_type": "code",
   "execution_count": null,
   "id": "8c183df6",
   "metadata": {},
   "outputs": [],
   "source": []
  },
  {
   "cell_type": "code",
   "execution_count": null,
   "id": "41d395f7",
   "metadata": {},
   "outputs": [],
   "source": []
  },
  {
   "cell_type": "code",
   "execution_count": null,
   "id": "71db2cb4",
   "metadata": {},
   "outputs": [],
   "source": []
  },
  {
   "cell_type": "markdown",
   "id": "5ce472a1",
   "metadata": {},
   "source": [
    "## 6. 평가지표 계산 함수 작성"
   ]
  },
  {
   "cell_type": "code",
   "execution_count": 2,
   "id": "ff0f7a5e",
   "metadata": {},
   "outputs": [
    {
     "data": {
      "image/png": "[encoded data removed]",
      "text/plain": [
       "<IPython.core.display.Image object>"
      ]
     },
     "execution_count": 2,
     "metadata": {},
     "output_type": "execute_result"
    }
   ],
   "source": [
    "Image('./images/img6.png')"
   ]
  },
  {
   "cell_type": "code",
   "execution_count": null,
   "id": "7d9ff398",
   "metadata": {},
   "outputs": [],
   "source": []
  },
  {
   "cell_type": "markdown",
   "id": "b2592bf6",
   "metadata": {},
   "source": [
    "## 7. 모델 선택과 훈련"
   ]
  },
  {
   "cell_type": "code",
   "execution_count": null,
   "id": "b7a0e1bc",
   "metadata": {},
   "outputs": [],
   "source": []
  },
  {
   "cell_type": "code",
   "execution_count": null,
   "id": "baeb6cd8",
   "metadata": {},
   "outputs": [],
   "source": []
  },
  {
   "cell_type": "markdown",
   "id": "38de589a",
   "metadata": {},
   "source": [
    "## 8. 모델 세부 튜닝"
   ]
  },
  {
   "cell_type": "code",
   "execution_count": null,
   "id": "82d5be9d",
   "metadata": {},
   "outputs": [],
   "source": []
  },
  {
   "cell_type": "code",
   "execution_count": null,
   "id": "8b61a3b6",
   "metadata": {},
   "outputs": [],
   "source": []
  },
  {
   "cell_type": "markdown",
   "id": "a33e23b2",
   "metadata": {},
   "source": [
    "## 9.모델 예측과 성능 평가"
   ]
  },
  {
   "cell_type": "code",
   "execution_count": null,
   "id": "066969ae",
   "metadata": {},
   "outputs": [],
   "source": []
  },
  {
   "cell_type": "code",
   "execution_count": null,
   "id": "07ca93ea",
   "metadata": {},
   "outputs": [],
   "source": []
  },
  {
   "cell_type": "markdown",
   "id": "5013d454",
   "metadata": {},
   "source": [
    "# 더 해볼만한것!"
   ]
  },
  {
   "cell_type": "code",
   "execution_count": null,
   "id": "8b2ba788",
   "metadata": {},
   "outputs": [],
   "source": []
  },
  {
   "cell_type": "code",
   "execution_count": null,
   "id": "e2a998fb",
   "metadata": {},
   "outputs": [],
   "source": []
  }
 ],
 "metadata": {
  "kernelspec": {
   "display_name": "Python 3 (ipykernel)",
   "language": "python",
   "name": "python3"
  },
  "language_info": {
   "codemirror_mode": {
    "name": "ipython",
    "version": 3
   },
   "file_extension": ".py",
   "mimetype": "text/x-python",
   "name": "python",
   "nbconvert_exporter": "python",
   "pygments_lexer": "ipython3",
   "version": "3.9.12"
  }
 },
 "nbformat": 4,
 "nbformat_minor": 5
}
