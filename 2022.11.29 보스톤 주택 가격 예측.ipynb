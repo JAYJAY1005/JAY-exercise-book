{
 "cells": [
  {
   "cell_type": "markdown",
   "metadata": {
    "id": "MKrRTjzzsIGQ"
   },
   "source": [
    "# 보스톤 주택 가격 예측"
   ]
  },
  {
   "cell_type": "code",
   "execution_count": 46,
   "metadata": {
    "executionInfo": {
     "elapsed": 984,
     "status": "ok",
     "timestamp": 1669689541555,
     "user": {
      "displayName": "장경희",
      "userId": "05148120440289478711"
     },
     "user_tz": -540
    },
    "id": "8ZUDTgnY3jBi"
   },
   "outputs": [],
   "source": [
    "import pandas as pd\n",
    "import numpy as np\n",
    "import matplotlib.pyplot as plt\n",
    "import seaborn as sns"
   ]
  },
  {
   "cell_type": "code",
   "execution_count": 47,
   "metadata": {
    "executionInfo": {
     "elapsed": 996,
     "status": "ok",
     "timestamp": 1669689542546,
     "user": {
      "displayName": "장경희",
      "userId": "05148120440289478711"
     },
     "user_tz": -540
    },
    "id": "BwwiUfpZVrAO"
   },
   "outputs": [],
   "source": [
    "from sklearn.datasets import load_boston"
   ]
  },
  {
   "cell_type": "markdown",
   "metadata": {
    "id": "ZkH6lCflV5lj"
   },
   "source": [
    "## 1. 데이터 탐색"
   ]
  },
  {
   "cell_type": "markdown",
   "metadata": {
    "id": "JBjI2fs-sXAa"
   },
   "source": [
    " ```\n",
    " CRIM     per capita crime rate by town\n",
    " ZN       proportion of residential land zoned for lots over 25,000 sq.ft.\n",
    " INDUS    proportion of non-retail business acres per town\n",
    " CHAS     Charles River dummy variable (= 1 if tract bounds river; 0 otherwise)\n",
    " NOX      nitric oxides concentration (parts per 10 million)\n",
    " RM       average number of rooms per dwelling\n",
    " AGE      proportion of owner-occupied units built prior to 1940\n",
    " DIS      weighted distances to five Boston employment centres\n",
    " RAD      index of accessibility to radial highways\n",
    " TAX      full-value property-tax rate per $10,000\n",
    " PTRATIO  pupil-teacher ratio by town\n",
    " B        1000(Bk - 0.63)^2 where Bk is the proportion of blacks by town\n",
    " LSTAT    % lower status of the population\n",
    " MEDV     Median value of owner-occupied homes in $1000's\n",
    " ```"
   ]
  },
  {
   "cell_type": "markdown",
   "metadata": {
    "id": "U7wZh1tCtHME"
   },
   "source": [
    "* CRIM: 지역별 범죄 발생률  \n",
    "* ZN: 25,000평방피트를 초과하는 거주 지역의 비율\n",
    "* NDUS: 비상업 지역 넓이 비율\n",
    "* CHAS: 찰스강에 대한 더미 변수(강의 경계에 위치한 경우는 1, 아니면 0)\n",
    "* NOX: 일산화질소 농도\n",
    "* RM: 거주할 수 있는 방 개수\n",
    "* AGE: 1940년 이전에 건축된 소유 주택의 비율\n",
    "* DIS: 5개 주요 고용센터까지의 가중 거리\n",
    "* RAD: 고속도로 접근 용이도\n",
    "* TAX: 10,000달러당 재산세율\n",
    "* PTRATIO: 지역의 교사와 학생 수 비율\n",
    "* B: 지역의 흑인 거주 비율\n",
    "* LSTAT: 하위 계층의 비율\n",
    "* MEDV: 본인 소유의 주택 가격(중앙값)"
   ]
  },
  {
   "cell_type": "markdown",
   "metadata": {
    "id": "gb623mwIP0L-"
   },
   "source": [
    "- DataFrame으로 준비"
   ]
  },
  {
   "cell_type": "code",
   "execution_count": 56,
   "metadata": {
    "id": "llKuDe-mP0MD"
   },
   "outputs": [],
   "source": [
    "boston = load_boston()"
   ]
  },
  {
   "cell_type": "code",
   "execution_count": 57,
   "metadata": {},
   "outputs": [
    {
     "data": {
      "text/plain": [
       "dict_keys(['data', 'target', 'feature_names', 'DESCR', 'filename', 'data_module'])"
      ]
     },
     "execution_count": 57,
     "metadata": {},
     "output_type": "execute_result"
    }
   ],
   "source": [
    "boston.keys()"
   ]
  },
  {
   "cell_type": "code",
   "execution_count": 68,
   "metadata": {
    "scrolled": true
   },
   "outputs": [
    {
     "data": {
      "text/html": [
       "<div>\n",
       "<style scoped>\n",
       "    .dataframe tbody tr th:only-of-type {\n",
       "        vertical-align: middle;\n",
       "    }\n",
       "\n",
       "    .dataframe tbody tr th {\n",
       "        vertical-align: top;\n",
       "    }\n",
       "\n",
       "    .dataframe thead th {\n",
       "        text-align: right;\n",
       "    }\n",
       "</style>\n",
       "<table border=\"1\" class=\"dataframe\">\n",
       "  <thead>\n",
       "    <tr style=\"text-align: right;\">\n",
       "      <th></th>\n",
       "      <th>CRIM</th>\n",
       "      <th>ZN</th>\n",
       "      <th>INDUS</th>\n",
       "      <th>CHAS</th>\n",
       "      <th>NOX</th>\n",
       "      <th>RM</th>\n",
       "      <th>AGE</th>\n",
       "      <th>DIS</th>\n",
       "      <th>RAD</th>\n",
       "      <th>TAX</th>\n",
       "      <th>PTRATIO</th>\n",
       "      <th>B</th>\n",
       "      <th>LSTAT</th>\n",
       "      <th>PRICE</th>\n",
       "    </tr>\n",
       "  </thead>\n",
       "  <tbody>\n",
       "    <tr>\n",
       "      <th>0</th>\n",
       "      <td>0.00632</td>\n",
       "      <td>18.0</td>\n",
       "      <td>2.31</td>\n",
       "      <td>0.0</td>\n",
       "      <td>0.538</td>\n",
       "      <td>6.575</td>\n",
       "      <td>65.2</td>\n",
       "      <td>4.0900</td>\n",
       "      <td>1.0</td>\n",
       "      <td>296.0</td>\n",
       "      <td>15.3</td>\n",
       "      <td>396.90</td>\n",
       "      <td>4.98</td>\n",
       "      <td>24.0</td>\n",
       "    </tr>\n",
       "    <tr>\n",
       "      <th>1</th>\n",
       "      <td>0.02731</td>\n",
       "      <td>0.0</td>\n",
       "      <td>7.07</td>\n",
       "      <td>0.0</td>\n",
       "      <td>0.469</td>\n",
       "      <td>6.421</td>\n",
       "      <td>78.9</td>\n",
       "      <td>4.9671</td>\n",
       "      <td>2.0</td>\n",
       "      <td>242.0</td>\n",
       "      <td>17.8</td>\n",
       "      <td>396.90</td>\n",
       "      <td>9.14</td>\n",
       "      <td>21.6</td>\n",
       "    </tr>\n",
       "    <tr>\n",
       "      <th>2</th>\n",
       "      <td>0.02729</td>\n",
       "      <td>0.0</td>\n",
       "      <td>7.07</td>\n",
       "      <td>0.0</td>\n",
       "      <td>0.469</td>\n",
       "      <td>7.185</td>\n",
       "      <td>61.1</td>\n",
       "      <td>4.9671</td>\n",
       "      <td>2.0</td>\n",
       "      <td>242.0</td>\n",
       "      <td>17.8</td>\n",
       "      <td>392.83</td>\n",
       "      <td>4.03</td>\n",
       "      <td>34.7</td>\n",
       "    </tr>\n",
       "    <tr>\n",
       "      <th>3</th>\n",
       "      <td>0.03237</td>\n",
       "      <td>0.0</td>\n",
       "      <td>2.18</td>\n",
       "      <td>0.0</td>\n",
       "      <td>0.458</td>\n",
       "      <td>6.998</td>\n",
       "      <td>45.8</td>\n",
       "      <td>6.0622</td>\n",
       "      <td>3.0</td>\n",
       "      <td>222.0</td>\n",
       "      <td>18.7</td>\n",
       "      <td>394.63</td>\n",
       "      <td>2.94</td>\n",
       "      <td>33.4</td>\n",
       "    </tr>\n",
       "    <tr>\n",
       "      <th>4</th>\n",
       "      <td>0.06905</td>\n",
       "      <td>0.0</td>\n",
       "      <td>2.18</td>\n",
       "      <td>0.0</td>\n",
       "      <td>0.458</td>\n",
       "      <td>7.147</td>\n",
       "      <td>54.2</td>\n",
       "      <td>6.0622</td>\n",
       "      <td>3.0</td>\n",
       "      <td>222.0</td>\n",
       "      <td>18.7</td>\n",
       "      <td>396.90</td>\n",
       "      <td>5.33</td>\n",
       "      <td>36.2</td>\n",
       "    </tr>\n",
       "    <tr>\n",
       "      <th>5</th>\n",
       "      <td>0.02985</td>\n",
       "      <td>0.0</td>\n",
       "      <td>2.18</td>\n",
       "      <td>0.0</td>\n",
       "      <td>0.458</td>\n",
       "      <td>6.430</td>\n",
       "      <td>58.7</td>\n",
       "      <td>6.0622</td>\n",
       "      <td>3.0</td>\n",
       "      <td>222.0</td>\n",
       "      <td>18.7</td>\n",
       "      <td>394.12</td>\n",
       "      <td>5.21</td>\n",
       "      <td>28.7</td>\n",
       "    </tr>\n",
       "    <tr>\n",
       "      <th>6</th>\n",
       "      <td>0.08829</td>\n",
       "      <td>12.5</td>\n",
       "      <td>7.87</td>\n",
       "      <td>0.0</td>\n",
       "      <td>0.524</td>\n",
       "      <td>6.012</td>\n",
       "      <td>66.6</td>\n",
       "      <td>5.5605</td>\n",
       "      <td>5.0</td>\n",
       "      <td>311.0</td>\n",
       "      <td>15.2</td>\n",
       "      <td>395.60</td>\n",
       "      <td>12.43</td>\n",
       "      <td>22.9</td>\n",
       "    </tr>\n",
       "    <tr>\n",
       "      <th>7</th>\n",
       "      <td>0.14455</td>\n",
       "      <td>12.5</td>\n",
       "      <td>7.87</td>\n",
       "      <td>0.0</td>\n",
       "      <td>0.524</td>\n",
       "      <td>6.172</td>\n",
       "      <td>96.1</td>\n",
       "      <td>5.9505</td>\n",
       "      <td>5.0</td>\n",
       "      <td>311.0</td>\n",
       "      <td>15.2</td>\n",
       "      <td>396.90</td>\n",
       "      <td>19.15</td>\n",
       "      <td>27.1</td>\n",
       "    </tr>\n",
       "    <tr>\n",
       "      <th>8</th>\n",
       "      <td>0.21124</td>\n",
       "      <td>12.5</td>\n",
       "      <td>7.87</td>\n",
       "      <td>0.0</td>\n",
       "      <td>0.524</td>\n",
       "      <td>5.631</td>\n",
       "      <td>100.0</td>\n",
       "      <td>6.0821</td>\n",
       "      <td>5.0</td>\n",
       "      <td>311.0</td>\n",
       "      <td>15.2</td>\n",
       "      <td>386.63</td>\n",
       "      <td>29.93</td>\n",
       "      <td>16.5</td>\n",
       "    </tr>\n",
       "    <tr>\n",
       "      <th>9</th>\n",
       "      <td>0.17004</td>\n",
       "      <td>12.5</td>\n",
       "      <td>7.87</td>\n",
       "      <td>0.0</td>\n",
       "      <td>0.524</td>\n",
       "      <td>6.004</td>\n",
       "      <td>85.9</td>\n",
       "      <td>6.5921</td>\n",
       "      <td>5.0</td>\n",
       "      <td>311.0</td>\n",
       "      <td>15.2</td>\n",
       "      <td>386.71</td>\n",
       "      <td>17.10</td>\n",
       "      <td>18.9</td>\n",
       "    </tr>\n",
       "  </tbody>\n",
       "</table>\n",
       "</div>"
      ],
      "text/plain": [
       "      CRIM    ZN  INDUS  CHAS    NOX     RM    AGE     DIS  RAD    TAX  \\\n",
       "0  0.00632  18.0   2.31   0.0  0.538  6.575   65.2  4.0900  1.0  296.0   \n",
       "1  0.02731   0.0   7.07   0.0  0.469  6.421   78.9  4.9671  2.0  242.0   \n",
       "2  0.02729   0.0   7.07   0.0  0.469  7.185   61.1  4.9671  2.0  242.0   \n",
       "3  0.03237   0.0   2.18   0.0  0.458  6.998   45.8  6.0622  3.0  222.0   \n",
       "4  0.06905   0.0   2.18   0.0  0.458  7.147   54.2  6.0622  3.0  222.0   \n",
       "5  0.02985   0.0   2.18   0.0  0.458  6.430   58.7  6.0622  3.0  222.0   \n",
       "6  0.08829  12.5   7.87   0.0  0.524  6.012   66.6  5.5605  5.0  311.0   \n",
       "7  0.14455  12.5   7.87   0.0  0.524  6.172   96.1  5.9505  5.0  311.0   \n",
       "8  0.21124  12.5   7.87   0.0  0.524  5.631  100.0  6.0821  5.0  311.0   \n",
       "9  0.17004  12.5   7.87   0.0  0.524  6.004   85.9  6.5921  5.0  311.0   \n",
       "\n",
       "   PTRATIO       B  LSTAT  PRICE  \n",
       "0     15.3  396.90   4.98   24.0  \n",
       "1     17.8  396.90   9.14   21.6  \n",
       "2     17.8  392.83   4.03   34.7  \n",
       "3     18.7  394.63   2.94   33.4  \n",
       "4     18.7  396.90   5.33   36.2  \n",
       "5     18.7  394.12   5.21   28.7  \n",
       "6     15.2  395.60  12.43   22.9  \n",
       "7     15.2  396.90  19.15   27.1  \n",
       "8     15.2  386.63  29.93   16.5  \n",
       "9     15.2  386.71  17.10   18.9  "
      ]
     },
     "execution_count": 68,
     "metadata": {},
     "output_type": "execute_result"
    }
   ],
   "source": [
    "df = pd.DataFrame(boston.data, columns=boston.feature_names)\n",
    "df['PRICE'] = boston.target\n",
    "df.head(10)"
   ]
  },
  {
   "cell_type": "markdown",
   "metadata": {
    "id": "nkC4GSbvP0MG"
   },
   "source": [
    "- 누락 데이터 확인"
   ]
  },
  {
   "cell_type": "code",
   "execution_count": 64,
   "metadata": {
    "id": "vSkn6QQUP0MK",
    "scrolled": true
   },
   "outputs": [
    {
     "data": {
      "text/plain": [
       "CRIM       0\n",
       "ZN         0\n",
       "INDUS      0\n",
       "CHAS       0\n",
       "NOX        0\n",
       "RM         0\n",
       "AGE        0\n",
       "DIS        0\n",
       "RAD        0\n",
       "TAX        0\n",
       "PTRATIO    0\n",
       "B          0\n",
       "LSTAT      0\n",
       "PRICE      0\n",
       "dtype: int64"
      ]
     },
     "execution_count": 64,
     "metadata": {},
     "output_type": "execute_result"
    }
   ],
   "source": [
    "df.isnull().sum()"
   ]
  },
  {
   "cell_type": "markdown",
   "metadata": {
    "executionInfo": {
     "elapsed": 499,
     "status": "ok",
     "timestamp": 1657519770935,
     "user": {
      "displayName": "장경희",
      "userId": "05148120440289478711"
     },
     "user_tz": -540
    },
    "id": "kEVFaF3gtp2O",
    "outputId": "a9f6a625-b669-4b82-e264-f4f2a594bba7"
   },
   "source": [
    "- 통계 정보"
   ]
  },
  {
   "cell_type": "code",
   "execution_count": 65,
   "metadata": {
    "id": "AX0Dznn8P0ML"
   },
   "outputs": [
    {
     "name": "stdout",
     "output_type": "stream",
     "text": [
      "<class 'pandas.core.frame.DataFrame'>\n",
      "RangeIndex: 506 entries, 0 to 505\n",
      "Data columns (total 14 columns):\n",
      " #   Column   Non-Null Count  Dtype  \n",
      "---  ------   --------------  -----  \n",
      " 0   CRIM     506 non-null    float64\n",
      " 1   ZN       506 non-null    float64\n",
      " 2   INDUS    506 non-null    float64\n",
      " 3   CHAS     506 non-null    float64\n",
      " 4   NOX      506 non-null    float64\n",
      " 5   RM       506 non-null    float64\n",
      " 6   AGE      506 non-null    float64\n",
      " 7   DIS      506 non-null    float64\n",
      " 8   RAD      506 non-null    float64\n",
      " 9   TAX      506 non-null    float64\n",
      " 10  PTRATIO  506 non-null    float64\n",
      " 11  B        506 non-null    float64\n",
      " 12  LSTAT    506 non-null    float64\n",
      " 13  PRICE    506 non-null    float64\n",
      "dtypes: float64(14)\n",
      "memory usage: 55.5 KB\n"
     ]
    }
   ],
   "source": [
    "df.info()"
   ]
  },
  {
   "cell_type": "markdown",
   "metadata": {
    "id": "nF0j3ZH7P0MM"
   },
   "source": [
    "- 시각화"
   ]
  },
  {
   "cell_type": "code",
   "execution_count": 92,
   "metadata": {
    "id": "jUO7QJhbP0MM"
   },
   "outputs": [
    {
     "data": {
      "image/png": "[encoded data removed]",
      "text/plain": [
       "<Figure size 1440x1080 with 16 Axes>"
      ]
     },
     "metadata": {
      "needs_background": "light"
     },
     "output_type": "display_data"
    }
   ],
   "source": [
    "his = df.hist(bins=50, figsize=(20, 15))"
   ]
  },
  {
   "cell_type": "markdown",
   "metadata": {
    "id": "PUF4MlSuP0MN"
   },
   "source": [
    "- 상관계수"
   ]
  },
  {
   "cell_type": "code",
   "execution_count": 90,
   "metadata": {
    "id": "no3efRnfP0MN"
   },
   "outputs": [
    {
     "data": {
      "image/png": "[encoded data removed]",
      "text/plain": [
       "<Figure size 1080x720 with 2 Axes>"
      ]
     },
     "metadata": {
      "needs_background": "light"
     },
     "output_type": "display_data"
    }
   ],
   "source": [
    "df_corr=df.corr()\n",
    "plt.figure(figsize=(15,10))\n",
    "sns.heatmap(df_corr,annot=True)\n",
    "plt.show()"
   ]
  },
  {
   "cell_type": "markdown",
   "metadata": {
    "id": "tQj-KhgntvUa"
   },
   "source": [
    "## 2. 데이터 준비"
   ]
  },
  {
   "cell_type": "code",
   "execution_count": 93,
   "metadata": {
    "id": "9ZbyETkbP0MO"
   },
   "outputs": [
    {
     "name": "stdout",
     "output_type": "stream",
     "text": [
      "(404, 13) (102, 13) (404,) (102,)\n"
     ]
    }
   ],
   "source": [
    "from sklearn.model_selection import train_test_split\n",
    "\n",
    "X = df.drop('PRICE', axis=1)\n",
    "y = df['PRICE']\n",
    "\n",
    "X_train, X_test, y_train, y_test = train_test_split(X, y, test_size=0.2, random_state=42)\n",
    "print(X_train.shape, X_test.shape, y_train.shape, y_test.shape)"
   ]
  },
  {
   "cell_type": "code",
   "execution_count": null,
   "metadata": {
    "id": "zVspLeQ3P0MP"
   },
   "outputs": [],
   "source": []
  },
  {
   "cell_type": "markdown",
   "metadata": {
    "id": "pta7JLbeWDaO"
   },
   "source": [
    "## 3. 모델 훈련"
   ]
  },
  {
   "cell_type": "markdown",
   "metadata": {
    "id": "lbrwruwxIChk"
   },
   "source": [
    "### 3.1 기본 선형 모델"
   ]
  },
  {
   "cell_type": "markdown",
   "metadata": {
    "id": "n5LcK2CHP0MP"
   },
   "source": [
    "- 기본 선형모델(정규방정식)"
   ]
  },
  {
   "cell_type": "code",
   "execution_count": 94,
   "metadata": {
    "id": "ICHrT_uFP0MQ"
   },
   "outputs": [
    {
     "data": {
      "text/plain": [
       "4.928602182665355"
      ]
     },
     "execution_count": 94,
     "metadata": {},
     "output_type": "execute_result"
    }
   ],
   "source": [
    "from sklearn.linear_model import LinearRegression\n",
    "from sklearn.metrics import mean_squared_error\n",
    "\n",
    "# 교차검증을 사용하지 않은 경우 (잘못된 방법)\n",
    "lin_reg = LinearRegression()\n",
    "lin_reg.fit(X_train, y_train)\n",
    "y_pred = lin_reg.predict(X_test)\n",
    "rmse = mean_squared_error(y_test, y_pred, squared=False) # MSE의 제곱근 값을 구하려면 squared=False\n",
    "rmse"
   ]
  },
  {
   "cell_type": "code",
   "execution_count": 95,
   "metadata": {
    "id": "xRVXoOp7P0MQ"
   },
   "outputs": [
    {
     "data": {
      "text/plain": [
       "4.86358080742005"
      ]
     },
     "execution_count": 95,
     "metadata": {},
     "output_type": "execute_result"
    }
   ],
   "source": [
    "from sklearn.model_selection import cross_val_score\n",
    "\n",
    "# 교차검증을 사용한 경우 (올바른 방법)\n",
    "lin_reg = LinearRegression()\n",
    "scores = cross_val_score(lin_reg, X_train, y_train, scoring=\"neg_mean_squared_error\", cv=5)\n",
    "lin_reg_rmse = np.sqrt((-scores).mean())\n",
    "lin_reg_rmse"
   ]
  },
  {
   "cell_type": "markdown",
   "metadata": {
    "id": "69glpZyjP0MQ"
   },
   "source": [
    "- 기본 선형모델(경사하강법 + 특성스케일링)"
   ]
  },
  {
   "cell_type": "code",
   "execution_count": 96,
   "metadata": {
    "id": "ZCHCnrXgP0MQ"
   },
   "outputs": [],
   "source": [
    "from sklearn.linear_model import SGDRegressor\n",
    "from sklearn.preprocessing import StandardScaler # 평균을 0 분산을 1로 변환"
   ]
  },
  {
   "cell_type": "code",
   "execution_count": 97,
   "metadata": {
    "id": "kroNyiYVP0MQ"
   },
   "outputs": [
    {
     "data": {
      "text/plain": [
       "4.898581570477037"
      ]
     },
     "execution_count": 97,
     "metadata": {},
     "output_type": "execute_result"
    }
   ],
   "source": [
    "# 교차검증 사용\n",
    "\n",
    "std_scaler = StandardScaler()\n",
    "X_train_scaled = std_scaler.fit_transform(X_train)\n",
    "\n",
    "sgd_reg = SGDRegressor(penalty=None, random_state=42)\n",
    "scores = cross_val_score(sgd_reg, X_train_scaled, y_train, scoring=\"neg_mean_squared_error\", cv=5)\n",
    "sgd_reg_rmse = np.sqrt((-scores).mean())\n",
    "sgd_reg_rmse"
   ]
  },
  {
   "cell_type": "code",
   "execution_count": 98,
   "metadata": {},
   "outputs": [
    {
     "data": {
      "text/plain": [
       "(-9.740875280793452e-17, 1.0)"
      ]
     },
     "execution_count": 98,
     "metadata": {},
     "output_type": "execute_result"
    }
   ],
   "source": [
    "X_train_scaled.mean(), X_train_scaled.std()"
   ]
  },
  {
   "cell_type": "markdown",
   "metadata": {
    "id": "8GXAsEOYIHQm"
   },
   "source": [
    "### 3.2 다항 회귀 모델"
   ]
  },
  {
   "cell_type": "code",
   "execution_count": 99,
   "metadata": {
    "id": "ykuNs_urP0MR"
   },
   "outputs": [
    {
     "data": {
      "text/plain": [
       "Index(['CRIM', 'ZN', 'INDUS', 'CHAS', 'NOX', 'RM', 'AGE', 'DIS', 'RAD', 'TAX',\n",
       "       'PTRATIO', 'B', 'LSTAT'],\n",
       "      dtype='object')"
      ]
     },
     "execution_count": 99,
     "metadata": {},
     "output_type": "execute_result"
    }
   ],
   "source": [
    "X_train.columns"
   ]
  },
  {
   "cell_type": "code",
   "execution_count": 100,
   "metadata": {
    "id": "QYCnv-10P0MR"
   },
   "outputs": [
    {
     "data": {
      "text/plain": [
       "((404, 13), (404, 104))"
      ]
     },
     "execution_count": 100,
     "metadata": {},
     "output_type": "execute_result"
    }
   ],
   "source": [
    "from sklearn.preprocessing import PolynomialFeatures # 변환기\n",
    "\n",
    "poly_feature = PolynomialFeatures(degree=2, include_bias =False)\n",
    "X_train_poly = poly_feature.fit_transform(X_train)\n",
    "X_train.shape, X_train_poly.shape"
   ]
  },
  {
   "cell_type": "code",
   "execution_count": 101,
   "metadata": {},
   "outputs": [
    {
     "data": {
      "text/plain": [
       "4.349154691529798"
      ]
     },
     "execution_count": 101,
     "metadata": {},
     "output_type": "execute_result"
    }
   ],
   "source": [
    "# 다항회귀 (정규방정식)\n",
    "lin_reg = LinearRegression()\n",
    "\n",
    "# 교차 검증\n",
    "scores = cross_val_score(lin_reg, X_train_poly, y_train, scoring=\"neg_mean_squared_error\", cv=5)\n",
    "poly_lin_reg_rmse= np.sqrt(-scores.mean())\n",
    "poly_lin_reg_rmse"
   ]
  },
  {
   "cell_type": "code",
   "execution_count": 102,
   "metadata": {},
   "outputs": [
    {
     "data": {
      "text/plain": [
       "3.8507394341607575"
      ]
     },
     "execution_count": 102,
     "metadata": {},
     "output_type": "execute_result"
    }
   ],
   "source": [
    "# 다항회귀 (경사하강법)\n",
    "# (1) Poly(제곱특성 추가) -> (2) STD Scale(표준화) -> (3) SGDRegressor (경사하강법)\n",
    "\n",
    "# (1) Poly(제곱특성 추가)\n",
    "poly_feature = PolynomialFeatures(degree=2, include_bias =False)\n",
    "X_train_poly = poly_feature.fit_transform(X_train)\n",
    "\n",
    "# (2) STD Scale(표준화)\n",
    "std_scaler = StandardScaler()\n",
    "X_train_poly_scaled = std_scaler.fit_transform(X_train_poly)\n",
    "\n",
    "# (3) SGDRegressor (경사하강법)\n",
    "sgd_reg = SGDRegressor(penalty=None, random_state=42)\n",
    "scores = cross_val_score(sgd_reg, X_train_poly_scaled, y_train, scoring=\"neg_mean_squared_error\", cv=5)\n",
    "sgd_reg_rmse = np.sqrt((-scores).mean())\n",
    "sgd_reg_rmse"
   ]
  },
  {
   "cell_type": "code",
   "execution_count": 103,
   "metadata": {},
   "outputs": [
    {
     "data": {
      "text/plain": [
       "3.8507394341607575"
      ]
     },
     "execution_count": 103,
     "metadata": {},
     "output_type": "execute_result"
    }
   ],
   "source": [
    "from sklearn.pipeline import Pipeline\n",
    "\n",
    "# 다항회귀 (경사하강법) with Pipeline\n",
    "# (1) Poly(제곱특성 추가) -> (2) STD Scale(표준화) -> (3) SGDRegressor (경사하강법)\n",
    "\n",
    "# (1) Poly(제곱특성 추가) -> (2) STD Scale(표준화)\n",
    "poly_std_pipeline = Pipeline([\n",
    "                      ('poly', PolynomialFeatures(degree=2, include_bias =False)),\n",
    "                      ('std_scaler', StandardScaler())\n",
    "                   ])\n",
    "\n",
    "X_train_poly_scaled = poly_std_pipeline.fit_transform(X_train)\n",
    "\n",
    "# (3) SGDRegressor (경사하강법)\n",
    "sgd_reg = SGDRegressor(penalty=None, random_state=42)\n",
    "scores = cross_val_score(sgd_reg, X_train_poly_scaled, y_train, scoring=\"neg_mean_squared_error\", cv=5)\n",
    "sgd_reg_rmse = np.sqrt((-scores).mean())\n",
    "sgd_reg_rmse"
   ]
  },
  {
   "cell_type": "markdown",
   "metadata": {
    "id": "mNBUKOkcWI1D"
   },
   "source": [
    "### 3.3 규제모델"
   ]
  },
  {
   "cell_type": "markdown",
   "metadata": {
    "id": "n_Gz3PM1P0MR"
   },
   "source": [
    "- **모델 파라미터** 규제가 되는지 확인(교차검증 사용하지 않음)"
   ]
  },
  {
   "cell_type": "code",
   "execution_count": 104,
   "metadata": {
    "id": "6RLk1VD3P0MR"
   },
   "outputs": [],
   "source": [
    "from sklearn.linear_model import Ridge, Lasso, ElasticNet"
   ]
  },
  {
   "cell_type": "markdown",
   "metadata": {
    "id": "7iZuQJYQP0MR"
   },
   "source": [
    "- 기본 선형 회귀 모델"
   ]
  },
  {
   "cell_type": "code",
   "execution_count": 105,
   "metadata": {
    "id": "v34QXkX5P0MR"
   },
   "outputs": [
    {
     "data": {
      "text/plain": [
       "LinearRegression()"
      ]
     },
     "execution_count": 105,
     "metadata": {},
     "output_type": "execute_result"
    }
   ],
   "source": [
    "lin_reg = LinearRegression()\n",
    "lin_reg.fit(X_train, y_train)"
   ]
  },
  {
   "cell_type": "code",
   "execution_count": 106,
   "metadata": {
    "id": "KWa6oZ_OP0MS"
   },
   "outputs": [
    {
     "data": {
      "text/plain": [
       "(404, 13)"
      ]
     },
     "execution_count": 106,
     "metadata": {},
     "output_type": "execute_result"
    }
   ],
   "source": [
    "X_train.shape"
   ]
  },
  {
   "cell_type": "markdown",
   "metadata": {
    "id": "JaWUELlgP0MS"
   },
   "source": [
    "- 릿지 회귀(Ridge)"
   ]
  },
  {
   "cell_type": "code",
   "execution_count": 107,
   "metadata": {
    "id": "VfJPWu63P0MS"
   },
   "outputs": [
    {
     "data": {
      "text/html": [
       "<div>\n",
       "<style scoped>\n",
       "    .dataframe tbody tr th:only-of-type {\n",
       "        vertical-align: middle;\n",
       "    }\n",
       "\n",
       "    .dataframe tbody tr th {\n",
       "        vertical-align: top;\n",
       "    }\n",
       "\n",
       "    .dataframe thead th {\n",
       "        text-align: right;\n",
       "    }\n",
       "</style>\n",
       "<table border=\"1\" class=\"dataframe\">\n",
       "  <thead>\n",
       "    <tr style=\"text-align: right;\">\n",
       "      <th></th>\n",
       "      <th>alpha : 0</th>\n",
       "      <th>alpha : 0.1</th>\n",
       "      <th>alpha : 1</th>\n",
       "      <th>alpha : 10</th>\n",
       "      <th>alpha : 100</th>\n",
       "    </tr>\n",
       "  </thead>\n",
       "  <tbody>\n",
       "    <tr>\n",
       "      <th>RM</th>\n",
       "      <td>4.438835</td>\n",
       "      <td>4.445779</td>\n",
       "      <td>4.464505</td>\n",
       "      <td>4.195326</td>\n",
       "      <td>2.438815</td>\n",
       "    </tr>\n",
       "    <tr>\n",
       "      <th>CHAS</th>\n",
       "      <td>2.784438</td>\n",
       "      <td>2.750333</td>\n",
       "      <td>2.545470</td>\n",
       "      <td>1.813291</td>\n",
       "      <td>0.550702</td>\n",
       "    </tr>\n",
       "    <tr>\n",
       "      <th>RAD</th>\n",
       "      <td>0.262430</td>\n",
       "      <td>0.260043</td>\n",
       "      <td>0.248882</td>\n",
       "      <td>0.248031</td>\n",
       "      <td>0.299014</td>\n",
       "    </tr>\n",
       "    <tr>\n",
       "      <th>INDUS</th>\n",
       "      <td>0.040381</td>\n",
       "      <td>0.034896</td>\n",
       "      <td>0.007498</td>\n",
       "      <td>-0.026277</td>\n",
       "      <td>-0.048625</td>\n",
       "    </tr>\n",
       "    <tr>\n",
       "      <th>ZN</th>\n",
       "      <td>0.030110</td>\n",
       "      <td>0.030459</td>\n",
       "      <td>0.032271</td>\n",
       "      <td>0.035552</td>\n",
       "      <td>0.039892</td>\n",
       "    </tr>\n",
       "    <tr>\n",
       "      <th>B</th>\n",
       "      <td>0.012351</td>\n",
       "      <td>0.012400</td>\n",
       "      <td>0.012642</td>\n",
       "      <td>0.012833</td>\n",
       "      <td>0.011951</td>\n",
       "    </tr>\n",
       "    <tr>\n",
       "      <th>AGE</th>\n",
       "      <td>-0.006296</td>\n",
       "      <td>-0.007305</td>\n",
       "      <td>-0.012191</td>\n",
       "      <td>-0.015341</td>\n",
       "      <td>0.000545</td>\n",
       "    </tr>\n",
       "    <tr>\n",
       "      <th>TAX</th>\n",
       "      <td>-0.010647</td>\n",
       "      <td>-0.010780</td>\n",
       "      <td>-0.011475</td>\n",
       "      <td>-0.012744</td>\n",
       "      <td>-0.014630</td>\n",
       "    </tr>\n",
       "    <tr>\n",
       "      <th>CRIM</th>\n",
       "      <td>-0.113056</td>\n",
       "      <td>-0.112400</td>\n",
       "      <td>-0.109234</td>\n",
       "      <td>-0.107134</td>\n",
       "      <td>-0.110765</td>\n",
       "    </tr>\n",
       "    <tr>\n",
       "      <th>LSTAT</th>\n",
       "      <td>-0.508571</td>\n",
       "      <td>-0.510902</td>\n",
       "      <td>-0.523833</td>\n",
       "      <td>-0.561835</td>\n",
       "      <td>-0.689539</td>\n",
       "    </tr>\n",
       "    <tr>\n",
       "      <th>PTRATIO</th>\n",
       "      <td>-0.915456</td>\n",
       "      <td>-0.900771</td>\n",
       "      <td>-0.828604</td>\n",
       "      <td>-0.761769</td>\n",
       "      <td>-0.817852</td>\n",
       "    </tr>\n",
       "    <tr>\n",
       "      <th>DIS</th>\n",
       "      <td>-1.447865</td>\n",
       "      <td>-1.429608</td>\n",
       "      <td>-1.338700</td>\n",
       "      <td>-1.232621</td>\n",
       "      <td>-1.129400</td>\n",
       "    </tr>\n",
       "    <tr>\n",
       "      <th>NOX</th>\n",
       "      <td>-17.202633</td>\n",
       "      <td>-15.924459</td>\n",
       "      <td>-9.537952</td>\n",
       "      <td>-1.889245</td>\n",
       "      <td>-0.197859</td>\n",
       "    </tr>\n",
       "  </tbody>\n",
       "</table>\n",
       "</div>"
      ],
      "text/plain": [
       "         alpha : 0  alpha : 0.1  alpha : 1  alpha : 10  alpha : 100\n",
       "RM        4.438835     4.445779   4.464505    4.195326     2.438815\n",
       "CHAS      2.784438     2.750333   2.545470    1.813291     0.550702\n",
       "RAD       0.262430     0.260043   0.248882    0.248031     0.299014\n",
       "INDUS     0.040381     0.034896   0.007498   -0.026277    -0.048625\n",
       "ZN        0.030110     0.030459   0.032271    0.035552     0.039892\n",
       "B         0.012351     0.012400   0.012642    0.012833     0.011951\n",
       "AGE      -0.006296    -0.007305  -0.012191   -0.015341     0.000545\n",
       "TAX      -0.010647    -0.010780  -0.011475   -0.012744    -0.014630\n",
       "CRIM     -0.113056    -0.112400  -0.109234   -0.107134    -0.110765\n",
       "LSTAT    -0.508571    -0.510902  -0.523833   -0.561835    -0.689539\n",
       "PTRATIO  -0.915456    -0.900771  -0.828604   -0.761769    -0.817852\n",
       "DIS      -1.447865    -1.429608  -1.338700   -1.232621    -1.129400\n",
       "NOX     -17.202633   -15.924459  -9.537952   -1.889245    -0.197859"
      ]
     },
     "execution_count": 107,
     "metadata": {},
     "output_type": "execute_result"
    }
   ],
   "source": [
    "alphas = [0, 0.1, 1, 10, 100]\n",
    "\n",
    "coef_df = pd.DataFrame()\n",
    "for alpha in alphas:\n",
    "  ridge_reg = Ridge(alpha=alpha, random_state=42)\n",
    "  ridge_reg.fit(X_train, y_train)\n",
    "\n",
    "  ridge_coef = pd.Series(ridge_reg.coef_, index=X_train.columns)\n",
    "  ridge_coef_sort = ridge_coef.sort_values(ascending=False)\n",
    "  column = 'alpha : ' + str(alpha)\n",
    "  coef_df[column] = ridge_coef_sort\n",
    "\n",
    "coef_df "
   ]
  },
  {
   "cell_type": "markdown",
   "metadata": {},
   "source": [
    "- 라쏘 회귀"
   ]
  },
  {
   "cell_type": "code",
   "execution_count": 108,
   "metadata": {
    "id": "3vqJATzHP0MS"
   },
   "outputs": [
    {
     "data": {
      "text/html": [
       "<div>\n",
       "<style scoped>\n",
       "    .dataframe tbody tr th:only-of-type {\n",
       "        vertical-align: middle;\n",
       "    }\n",
       "\n",
       "    .dataframe tbody tr th {\n",
       "        vertical-align: top;\n",
       "    }\n",
       "\n",
       "    .dataframe thead th {\n",
       "        text-align: right;\n",
       "    }\n",
       "</style>\n",
       "<table border=\"1\" class=\"dataframe\">\n",
       "  <thead>\n",
       "    <tr style=\"text-align: right;\">\n",
       "      <th></th>\n",
       "      <th>alpha : 0.05</th>\n",
       "      <th>alpha : 0.1</th>\n",
       "      <th>alpha : 0.2</th>\n",
       "      <th>alpha : 0.5</th>\n",
       "      <th>alpha : 1</th>\n",
       "    </tr>\n",
       "  </thead>\n",
       "  <tbody>\n",
       "    <tr>\n",
       "      <th>RM</th>\n",
       "      <td>4.443676</td>\n",
       "      <td>4.311687</td>\n",
       "      <td>4.026917</td>\n",
       "      <td>3.129886</td>\n",
       "      <td>1.630489</td>\n",
       "    </tr>\n",
       "    <tr>\n",
       "      <th>CHAS</th>\n",
       "      <td>1.704029</td>\n",
       "      <td>0.919952</td>\n",
       "      <td>0.000000</td>\n",
       "      <td>0.000000</td>\n",
       "      <td>0.000000</td>\n",
       "    </tr>\n",
       "    <tr>\n",
       "      <th>RAD</th>\n",
       "      <td>0.234443</td>\n",
       "      <td>0.239237</td>\n",
       "      <td>0.245289</td>\n",
       "      <td>0.236596</td>\n",
       "      <td>0.219654</td>\n",
       "    </tr>\n",
       "    <tr>\n",
       "      <th>ZN</th>\n",
       "      <td>0.034602</td>\n",
       "      <td>0.034893</td>\n",
       "      <td>0.034848</td>\n",
       "      <td>0.032640</td>\n",
       "      <td>0.028501</td>\n",
       "    </tr>\n",
       "    <tr>\n",
       "      <th>B</th>\n",
       "      <td>0.013035</td>\n",
       "      <td>0.013091</td>\n",
       "      <td>0.013039</td>\n",
       "      <td>0.012350</td>\n",
       "      <td>0.011181</td>\n",
       "    </tr>\n",
       "    <tr>\n",
       "      <th>TAX</th>\n",
       "      <td>-0.012599</td>\n",
       "      <td>-0.012962</td>\n",
       "      <td>-0.013317</td>\n",
       "      <td>-0.013032</td>\n",
       "      <td>-0.012286</td>\n",
       "    </tr>\n",
       "    <tr>\n",
       "      <th>AGE</th>\n",
       "      <td>-0.017338</td>\n",
       "      <td>-0.015126</td>\n",
       "      <td>-0.010294</td>\n",
       "      <td>0.000000</td>\n",
       "      <td>0.016395</td>\n",
       "    </tr>\n",
       "    <tr>\n",
       "      <th>INDUS</th>\n",
       "      <td>-0.023023</td>\n",
       "      <td>-0.016785</td>\n",
       "      <td>-0.005376</td>\n",
       "      <td>-0.000000</td>\n",
       "      <td>-0.000000</td>\n",
       "    </tr>\n",
       "    <tr>\n",
       "      <th>CRIM</th>\n",
       "      <td>-0.104256</td>\n",
       "      <td>-0.104157</td>\n",
       "      <td>-0.103020</td>\n",
       "      <td>-0.093034</td>\n",
       "      <td>-0.076609</td>\n",
       "    </tr>\n",
       "    <tr>\n",
       "      <th>NOX</th>\n",
       "      <td>-0.524613</td>\n",
       "      <td>-0.000000</td>\n",
       "      <td>-0.000000</td>\n",
       "      <td>-0.000000</td>\n",
       "      <td>-0.000000</td>\n",
       "    </tr>\n",
       "    <tr>\n",
       "      <th>LSTAT</th>\n",
       "      <td>-0.549276</td>\n",
       "      <td>-0.564674</td>\n",
       "      <td>-0.590514</td>\n",
       "      <td>-0.649984</td>\n",
       "      <td>-0.747107</td>\n",
       "    </tr>\n",
       "    <tr>\n",
       "      <th>PTRATIO</th>\n",
       "      <td>-0.729013</td>\n",
       "      <td>-0.732247</td>\n",
       "      <td>-0.741718</td>\n",
       "      <td>-0.729229</td>\n",
       "      <td>-0.708582</td>\n",
       "    </tr>\n",
       "    <tr>\n",
       "      <th>DIS</th>\n",
       "      <td>-1.183960</td>\n",
       "      <td>-1.151487</td>\n",
       "      <td>-1.094868</td>\n",
       "      <td>-0.915255</td>\n",
       "      <td>-0.630858</td>\n",
       "    </tr>\n",
       "  </tbody>\n",
       "</table>\n",
       "</div>"
      ],
      "text/plain": [
       "         alpha : 0.05  alpha : 0.1  alpha : 0.2  alpha : 0.5  alpha : 1\n",
       "RM           4.443676     4.311687     4.026917     3.129886   1.630489\n",
       "CHAS         1.704029     0.919952     0.000000     0.000000   0.000000\n",
       "RAD          0.234443     0.239237     0.245289     0.236596   0.219654\n",
       "ZN           0.034602     0.034893     0.034848     0.032640   0.028501\n",
       "B            0.013035     0.013091     0.013039     0.012350   0.011181\n",
       "TAX         -0.012599    -0.012962    -0.013317    -0.013032  -0.012286\n",
       "AGE         -0.017338    -0.015126    -0.010294     0.000000   0.016395\n",
       "INDUS       -0.023023    -0.016785    -0.005376    -0.000000  -0.000000\n",
       "CRIM        -0.104256    -0.104157    -0.103020    -0.093034  -0.076609\n",
       "NOX         -0.524613    -0.000000    -0.000000    -0.000000  -0.000000\n",
       "LSTAT       -0.549276    -0.564674    -0.590514    -0.649984  -0.747107\n",
       "PTRATIO     -0.729013    -0.732247    -0.741718    -0.729229  -0.708582\n",
       "DIS         -1.183960    -1.151487    -1.094868    -0.915255  -0.630858"
      ]
     },
     "execution_count": 108,
     "metadata": {},
     "output_type": "execute_result"
    }
   ],
   "source": [
    "alphas = [0.05, 0.1, 0.2, 0.5, 1]\n",
    "\n",
    "coef_df = pd.DataFrame()\n",
    "for alpha in alphas:\n",
    "  lasso_reg = Lasso(alpha=alpha, random_state=42)\n",
    "  lasso_reg.fit(X_train, y_train)\n",
    "\n",
    "  lasso_coef = pd.Series(lasso_reg.coef_, index=X_train.columns)\n",
    "  lasso_coef_sort = lasso_coef.sort_values(ascending=False)\n",
    "  column = 'alpha : ' + str(alpha)\n",
    "  coef_df[column] = lasso_coef_sort\n",
    "\n",
    "coef_df "
   ]
  },
  {
   "cell_type": "markdown",
   "metadata": {
    "id": "T-Pzr8PpP0MS"
   },
   "source": [
    "- 엘라스틱텟(ElasticNet)"
   ]
  },
  {
   "cell_type": "code",
   "execution_count": 109,
   "metadata": {
    "id": "GYXwUkg1P0MT"
   },
   "outputs": [
    {
     "data": {
      "text/html": [
       "<div>\n",
       "<style scoped>\n",
       "    .dataframe tbody tr th:only-of-type {\n",
       "        vertical-align: middle;\n",
       "    }\n",
       "\n",
       "    .dataframe tbody tr th {\n",
       "        vertical-align: top;\n",
       "    }\n",
       "\n",
       "    .dataframe thead th {\n",
       "        text-align: right;\n",
       "    }\n",
       "</style>\n",
       "<table border=\"1\" class=\"dataframe\">\n",
       "  <thead>\n",
       "    <tr style=\"text-align: right;\">\n",
       "      <th></th>\n",
       "      <th>alpha : 0.05</th>\n",
       "      <th>alpha : 0.1</th>\n",
       "      <th>alpha : 0.2</th>\n",
       "      <th>alpha : 0.5</th>\n",
       "      <th>alpha : 1</th>\n",
       "    </tr>\n",
       "  </thead>\n",
       "  <tbody>\n",
       "    <tr>\n",
       "      <th>RM</th>\n",
       "      <td>4.134773</td>\n",
       "      <td>3.764341</td>\n",
       "      <td>3.160552</td>\n",
       "      <td>2.051658</td>\n",
       "      <td>1.162996</td>\n",
       "    </tr>\n",
       "    <tr>\n",
       "      <th>CHAS</th>\n",
       "      <td>1.521003</td>\n",
       "      <td>0.977221</td>\n",
       "      <td>0.404020</td>\n",
       "      <td>0.000000</td>\n",
       "      <td>0.000000</td>\n",
       "    </tr>\n",
       "    <tr>\n",
       "      <th>RAD</th>\n",
       "      <td>0.247966</td>\n",
       "      <td>0.258443</td>\n",
       "      <td>0.273963</td>\n",
       "      <td>0.287364</td>\n",
       "      <td>0.275980</td>\n",
       "    </tr>\n",
       "    <tr>\n",
       "      <th>ZN</th>\n",
       "      <td>0.035809</td>\n",
       "      <td>0.037015</td>\n",
       "      <td>0.038071</td>\n",
       "      <td>0.037961</td>\n",
       "      <td>0.035571</td>\n",
       "    </tr>\n",
       "    <tr>\n",
       "      <th>B</th>\n",
       "      <td>0.012867</td>\n",
       "      <td>0.012746</td>\n",
       "      <td>0.012439</td>\n",
       "      <td>0.011721</td>\n",
       "      <td>0.011013</td>\n",
       "    </tr>\n",
       "    <tr>\n",
       "      <th>TAX</th>\n",
       "      <td>-0.012941</td>\n",
       "      <td>-0.013479</td>\n",
       "      <td>-0.014028</td>\n",
       "      <td>-0.014505</td>\n",
       "      <td>-0.014273</td>\n",
       "    </tr>\n",
       "    <tr>\n",
       "      <th>AGE</th>\n",
       "      <td>-0.014885</td>\n",
       "      <td>-0.011703</td>\n",
       "      <td>-0.005211</td>\n",
       "      <td>0.006508</td>\n",
       "      <td>0.018591</td>\n",
       "    </tr>\n",
       "    <tr>\n",
       "      <th>INDUS</th>\n",
       "      <td>-0.027025</td>\n",
       "      <td>-0.030900</td>\n",
       "      <td>-0.031594</td>\n",
       "      <td>-0.030560</td>\n",
       "      <td>-0.020130</td>\n",
       "    </tr>\n",
       "    <tr>\n",
       "      <th>CRIM</th>\n",
       "      <td>-0.106450</td>\n",
       "      <td>-0.106853</td>\n",
       "      <td>-0.107092</td>\n",
       "      <td>-0.103047</td>\n",
       "      <td>-0.093299</td>\n",
       "    </tr>\n",
       "    <tr>\n",
       "      <th>LSTAT</th>\n",
       "      <td>-0.569848</td>\n",
       "      <td>-0.600051</td>\n",
       "      <td>-0.644219</td>\n",
       "      <td>-0.719262</td>\n",
       "      <td>-0.775576</td>\n",
       "    </tr>\n",
       "    <tr>\n",
       "      <th>PTRATIO</th>\n",
       "      <td>-0.753753</td>\n",
       "      <td>-0.761627</td>\n",
       "      <td>-0.783677</td>\n",
       "      <td>-0.794361</td>\n",
       "      <td>-0.752705</td>\n",
       "    </tr>\n",
       "    <tr>\n",
       "      <th>NOX</th>\n",
       "      <td>-0.959210</td>\n",
       "      <td>-0.019932</td>\n",
       "      <td>-0.000000</td>\n",
       "      <td>-0.000000</td>\n",
       "      <td>-0.000000</td>\n",
       "    </tr>\n",
       "    <tr>\n",
       "      <th>DIS</th>\n",
       "      <td>-1.205832</td>\n",
       "      <td>-1.176020</td>\n",
       "      <td>-1.132253</td>\n",
       "      <td>-0.987340</td>\n",
       "      <td>-0.755423</td>\n",
       "    </tr>\n",
       "  </tbody>\n",
       "</table>\n",
       "</div>"
      ],
      "text/plain": [
       "         alpha : 0.05  alpha : 0.1  alpha : 0.2  alpha : 0.5  alpha : 1\n",
       "RM           4.134773     3.764341     3.160552     2.051658   1.162996\n",
       "CHAS         1.521003     0.977221     0.404020     0.000000   0.000000\n",
       "RAD          0.247966     0.258443     0.273963     0.287364   0.275980\n",
       "ZN           0.035809     0.037015     0.038071     0.037961   0.035571\n",
       "B            0.012867     0.012746     0.012439     0.011721   0.011013\n",
       "TAX         -0.012941    -0.013479    -0.014028    -0.014505  -0.014273\n",
       "AGE         -0.014885    -0.011703    -0.005211     0.006508   0.018591\n",
       "INDUS       -0.027025    -0.030900    -0.031594    -0.030560  -0.020130\n",
       "CRIM        -0.106450    -0.106853    -0.107092    -0.103047  -0.093299\n",
       "LSTAT       -0.569848    -0.600051    -0.644219    -0.719262  -0.775576\n",
       "PTRATIO     -0.753753    -0.761627    -0.783677    -0.794361  -0.752705\n",
       "NOX         -0.959210    -0.019932    -0.000000    -0.000000  -0.000000\n",
       "DIS         -1.205832    -1.176020    -1.132253    -0.987340  -0.755423"
      ]
     },
     "execution_count": 109,
     "metadata": {},
     "output_type": "execute_result"
    }
   ],
   "source": [
    "alphas = [0.05, 0.1, 0.2, 0.5, 1]\n",
    "\n",
    "coef_df = pd.DataFrame()\n",
    "for alpha in alphas:\n",
    "  elastic_reg = ElasticNet(alpha=alpha, random_state=42)\n",
    "  elastic_reg.fit(X_train, y_train)\n",
    "\n",
    "  elastic_coef = pd.Series(elastic_reg.coef_, index=X_train.columns)\n",
    "  elastic_coef_sort = elastic_coef.sort_values(ascending=False)\n",
    "  column = 'alpha : ' + str(alpha)\n",
    "  coef_df[column] = elastic_coef_sort\n",
    "\n",
    "coef_df "
   ]
  }
 ],
 "metadata": {
  "colab": {
   "provenance": [],
   "toc_visible": true
  },
  "kernelspec": {
   "display_name": "Python 3 (ipykernel)",
   "language": "python",
   "name": "python3"
  },
  "language_info": {
   "codemirror_mode": {
    "name": "ipython",
    "version": 3
   },
   "file_extension": ".py",
   "mimetype": "text/x-python",
   "name": "python",
   "nbconvert_exporter": "python",
   "pygments_lexer": "ipython3",
   "version": "3.9.12"
  }
 },
 "nbformat": 4,
 "nbformat_minor": 1
}
