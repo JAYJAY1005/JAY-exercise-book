{
 "cells": [
  {
   "cell_type": "markdown",
   "id": "853ac2ee",
   "metadata": {},
   "source": [
    "# 기초 사용법"
   ]
  },
  {
   "cell_type": "markdown",
   "id": "bd265b70",
   "metadata": {},
   "source": [
    "opencv tutorial : https://docs.opencv.org/4.6.0/d6/d00/tutorial_py_root.html"
   ]
  },
  {
   "cell_type": "code",
   "execution_count": 1,
   "id": "d9bb548c",
   "metadata": {},
   "outputs": [],
   "source": [
    "import cv2"
   ]
  },
  {
   "cell_type": "code",
   "execution_count": null,
   "id": "9f752ded",
   "metadata": {},
   "outputs": [],
   "source": [
    "cv2.__version__"
   ]
  },
  {
   "cell_type": "markdown",
   "id": "c72c1be7",
   "metadata": {},
   "source": [
    "## Hello World"
   ]
  },
  {
   "cell_type": "code",
   "execution_count": null,
   "id": "9e366be0",
   "metadata": {},
   "outputs": [],
   "source": [
    "img = cv2.imread('./data/lenna.bmp')\n",
    "\n",
    "print(type(img), img.shape)\n",
    "\n",
    "cv2.namedWindow('image') # 생략가능\n",
    "cv2.imshow('image', img)\n",
    "\n",
    "cv2.waitKey()\n",
    "cv2.destroyAllWindows()"
   ]
  },
  {
   "cell_type": "code",
   "execution_count": null,
   "id": "dfc946a3",
   "metadata": {},
   "outputs": [],
   "source": [
    "img.min(), img.max()"
   ]
  },
  {
   "cell_type": "code",
   "execution_count": null,
   "id": "96c8537f",
   "metadata": {},
   "outputs": [],
   "source": [
    "img[0][0]"
   ]
  },
  {
   "cell_type": "markdown",
   "id": "e0988206",
   "metadata": {},
   "source": [
    "## 영상 파일 읽고 화면에 표시하기"
   ]
  },
  {
   "cell_type": "code",
   "execution_count": null,
   "id": "ad4fb038",
   "metadata": {},
   "outputs": [],
   "source": [
    "# Color Mode로 이미지 읽기\n",
    "imgColor = cv2.imread('./data/lenna.bmp', cv2.IMREAD_COLOR) \n",
    "\n",
    "# GrayScale Mode로 이미지 읽기\n",
    "imgGray = cv2.imread('./data/lenna.bmp', cv2.IMREAD_GRAYSCALE) \n",
    "\n",
    "# type, shape 출력\n",
    "print(type(imgColor), imgColor.shape)\n",
    "print(type(imgGray), imgGray.shape)\n",
    "\n",
    "# 윈도우에 보여주기\n",
    "cv2.imshow('img color', imgColor)\n",
    "cv2.imshow('img gray', imgGray)\n",
    "\n",
    "# 창닫기\n",
    "cv2.waitKey()\n",
    "cv2.destroyAllWindows()"
   ]
  },
  {
   "cell_type": "markdown",
   "id": "9d7e604f",
   "metadata": {},
   "source": [
    "## 영상 파일 읽고 저장하기"
   ]
  },
  {
   "cell_type": "code",
   "execution_count": null,
   "id": "b49694ba",
   "metadata": {},
   "outputs": [],
   "source": [
    "# Color Mode로 이미지 읽기\n",
    "\n",
    "imgColor = cv2.imread('./data/lena.jpg', cv2.IMREAD_COLOR)\n",
    "print(type(imgColor), imgColor.shape)\n",
    "\n",
    "cv2.imwrite('./out/lena.bmp', imgColor)\n",
    "cv2.imwrite('./out/lena.png', imgColor)\n",
    "\n",
    "cv2.imwrite('./out/lena2.png', imgColor, [cv2.IMWRITE_PNG_COMPRESSION, 9]) # 0~9\n",
    "cv2.imwrite('./out/lena2.jpg', imgColor, [cv2.IMWRITE_JPEG_QUALITY, 90]) # 0~100\n",
    "\n",
    "cv2.imshow('img color', imgColor)\n",
    "cv2.waitKey()\n",
    "cv2.destroyAllWindows()"
   ]
  },
  {
   "cell_type": "markdown",
   "id": "ac476709",
   "metadata": {},
   "source": [
    "## matplotlib으로 컬러 영상 표시"
   ]
  },
  {
   "cell_type": "code",
   "execution_count": null,
   "id": "33d92021",
   "metadata": {},
   "outputs": [],
   "source": [
    "import matplotlib.pyplot as plt"
   ]
  },
  {
   "cell_type": "code",
   "execution_count": null,
   "id": "f7eb90d2",
   "metadata": {
    "scrolled": true
   },
   "outputs": [],
   "source": [
    "# matplotlib으로 이미지 읽고 보여주기\n",
    "img_m = plt.imread('./data/lena.jpg')\n",
    "plt.imshow(img_m)"
   ]
  },
  {
   "cell_type": "code",
   "execution_count": null,
   "id": "78f3a199",
   "metadata": {},
   "outputs": [],
   "source": [
    "img_c = cv2.imread('./data/lena.jpg')\n",
    "plt.imshow(img_c)"
   ]
  },
  {
   "cell_type": "code",
   "execution_count": null,
   "id": "d290cc68",
   "metadata": {},
   "outputs": [],
   "source": [
    "img_m[0][0], img_c[0][0] # cv2가 이미지를 읽는 순서는 B->G->R, matplotlib은 R->G->B"
   ]
  },
  {
   "cell_type": "code",
   "execution_count": null,
   "id": "d47f71c4",
   "metadata": {},
   "outputs": [],
   "source": [
    "# cv2로 읽은것을 cv2로 보여주는데는 문제가 없음\n",
    "img_c = cv2.imread('./data/lena.jpg')\n",
    "cv2.imshow('img color', img_c)\n",
    "cv2.waitKey()\n",
    "cv2.destroyAllWindows()"
   ]
  },
  {
   "cell_type": "markdown",
   "id": "fff52e33",
   "metadata": {},
   "source": [
    "* (1) cvtColor 함수를 컬러 채널을 변경후 표시"
   ]
  },
  {
   "cell_type": "code",
   "execution_count": null,
   "id": "6d1a5386",
   "metadata": {},
   "outputs": [],
   "source": [
    "img_bgr = cv2.imread('./data/lena.jpg') # img_bgr에는 BGR의 순서로 데이터가 준비가 되어 있음\n",
    "\n",
    "# 현재 채널공간(channel space)이 BGR인데 RGB로 바꿈\n",
    "img_rgb = cv2.cvtColor(img_bgr, cv2.COLOR_BGR2RGB)\n",
    "plt.imshow(img_rgb)"
   ]
  },
  {
   "cell_type": "markdown",
   "id": "aa7a49a7",
   "metadata": {},
   "source": [
    "* (2) numpy ndarray의 색인 문법으로 컬러 채널 순서를 변경"
   ]
  },
  {
   "cell_type": "code",
   "execution_count": null,
   "id": "f9d7c9b4",
   "metadata": {},
   "outputs": [],
   "source": [
    "img_bgr = cv2.imread('./data/lena.jpg') # img_bgr에는 BGR의 순서로 데이터가 준비가 되어 있음\n",
    "\n",
    "# 현재 채널공간(channel space)이 BGR인데 RGB로 바꿈\n",
    "# option 1\n",
    "img_rgb = img_bgr.copy()\n",
    "img_rgb[:, :, [0, 2]] = img_bgr[:, :, [2, 0]]\n",
    "\n",
    "plt.imshow(img_rgb)"
   ]
  },
  {
   "cell_type": "code",
   "execution_count": null,
   "id": "81603041",
   "metadata": {},
   "outputs": [],
   "source": [
    "img_bgr = cv2.imread('./data/lena.jpg') # img_bgr에는 BGR의 순서로 데이터가 준비가 되어 있음\n",
    "\n",
    "# 현재 채널공간(channel space)이 BGR인데 RGB로 바꿈\n",
    "# option 2\n",
    "img_rgb = img_bgr.copy()\n",
    "img_rgb[:, :, 0] = img_bgr[:, :, 2]\n",
    "img_rgb[:, :, 2] = img_bgr[:, :, 0]\n",
    "\n",
    "plt.imshow(img_rgb)"
   ]
  },
  {
   "cell_type": "code",
   "execution_count": null,
   "id": "7e00472a",
   "metadata": {},
   "outputs": [],
   "source": [
    "img_bgr = cv2.imread('./data/lena.jpg') # img_bgr에는 BGR의 순서로 데이터가 준비가 되어 있음\n",
    "\n",
    "# 현재 채널공간(channel space)이 BGR인데 RGB로 바꿈\n",
    "# option 3\n",
    "img_rgb = img_bgr.copy()\n",
    "img_rgb = img_bgr[:, :, -1::-1]\n",
    "\n",
    "plt.imshow(img_rgb)"
   ]
  },
  {
   "cell_type": "markdown",
   "id": "4abfa0d0",
   "metadata": {},
   "source": [
    "# 동영상 파일 다루기"
   ]
  },
  {
   "cell_type": "markdown",
   "id": "47a7f608",
   "metadata": {},
   "source": [
    "```\n",
    "객체 = 비디오객체 생성\n",
    "\n",
    "while True:\n",
    "    배열 = 객체.read() #배열 한장이 이미지 한장 (shape: w, h, c)\n",
    "    배열 보여주기 (재생)\n",
    "    배열 저장하기 (녹화)\n",
    "    \n",
    "    키를 기다리다가 조건에 맞으면\n",
    "        break;\n",
    "창닫기        \n",
    "```"
   ]
  },
  {
   "cell_type": "code",
   "execution_count": null,
   "id": "b4e7c1ae",
   "metadata": {},
   "outputs": [],
   "source": [
    "# cap = cv2.VideoCapture(device) # 카메라 디바이스\n",
    "# cap = cv2.VideoCapture(filepath) # 동영상 파일\n",
    "# cap = cv2.VideoCapture(url) # 스트리밍 주소"
   ]
  },
  {
   "cell_type": "markdown",
   "id": "b3308796",
   "metadata": {},
   "source": [
    "## 카메라 입력"
   ]
  },
  {
   "cell_type": "code",
   "execution_count": 3,
   "id": "1b0836fa",
   "metadata": {},
   "outputs": [],
   "source": [
    "import sys"
   ]
  },
  {
   "cell_type": "code",
   "execution_count": 22,
   "id": "de4b7b8b",
   "metadata": {},
   "outputs": [
    {
     "name": "stdout",
     "output_type": "stream",
     "text": [
      "640.0 480.0\n",
      "cap release!\n"
     ]
    }
   ],
   "source": [
    "cap = cv2.VideoCapture(0) # 0 : 메인 카메라\n",
    "\n",
    "if not cap.isOpened():\n",
    "    print(\"Camera open failed!\")\n",
    "    sys.exit()\n",
    "\n",
    "w = cap.get(cv2.CAP_PROP_FRAME_WIDTH)    \n",
    "h = cap.get(cv2.CAP_PROP_FRAME_HEIGHT)  \n",
    "print(w, h)\n",
    "while True:\n",
    "    ret, frame = cap.read() # frame은 이미지 한장\n",
    "    \n",
    "    if not ret:\n",
    "        print(\"frame read error\")\n",
    "        break\n",
    "        \n",
    "    cv2.imshow('camera', frame)\n",
    "  \n",
    "    key = cv2.waitKey(10) # ESC Key (27), 10ms 기다리기 (sleep 효과)\n",
    "    if key == 27 :\n",
    "        break;\n",
    "        \n",
    "if cap.isOpened():\n",
    "    print('cap release!')\n",
    "    cap.release()\n",
    "        \n",
    "cv2.destroyAllWindows()   \n",
    "# cv2.waitKey(1)  # MAC에서 window 안닫힐 때\n",
    "# https://stackoverflow.com/questions/6116564/destroywindow-does-not-close-window-on-mac-using-python-and-opencv"
   ]
  },
  {
   "cell_type": "markdown",
   "id": "87f99393",
   "metadata": {},
   "source": [
    "## 동영상 파일"
   ]
  },
  {
   "cell_type": "code",
   "execution_count": 20,
   "id": "8853c961",
   "metadata": {},
   "outputs": [
    {
     "name": "stdout",
     "output_type": "stream",
     "text": [
      "33\n",
      "frame read error\n",
      "cap release!\n"
     ]
    }
   ],
   "source": [
    "cap = cv2.VideoCapture('./data/stopwatch.avi') # 동영상 파일\n",
    "\n",
    "if not cap.isOpened():\n",
    "    print(\"Camera open failed!\")\n",
    "    sys.exit()\n",
    "    \n",
    "w = cap.get(cv2.CAP_PROP_FRAME_WIDTH)    \n",
    "h = cap.get(cv2.CAP_PROP_FRAME_HEIGHT)    \n",
    "fps = cap.get(cv2.CAP_PROP_FPS)   # frame per second\n",
    "delay = round(1000/fps) # 1000/30 \n",
    "print(delay)\n",
    "    \n",
    "while True:\n",
    "    ret, frame = cap.read() # frame은 이미지 한장\n",
    "    \n",
    "    if not ret:\n",
    "        print(\"frame read error\")\n",
    "        break\n",
    "        \n",
    "    cv2.imshow('camera', frame)\n",
    "  \n",
    "    key = cv2.waitKey(delay) # ESC Key (27), 10ms 기다리기 (sleep 효과)\n",
    "    if key == 27 :\n",
    "        break;\n",
    "        \n",
    "if cap.isOpened():\n",
    "    print('cap release!')\n",
    "    cap.release()\n",
    "        \n",
    "cv2.destroyAllWindows()   "
   ]
  },
  {
   "cell_type": "markdown",
   "id": "1cd32d27",
   "metadata": {},
   "source": [
    "## 동영상 저장"
   ]
  },
  {
   "cell_type": "code",
   "execution_count": 24,
   "id": "d417cbaf",
   "metadata": {},
   "outputs": [
    {
     "name": "stdout",
     "output_type": "stream",
     "text": [
      "frame read error\n",
      "cap release!\n"
     ]
    }
   ],
   "source": [
    "cap = cv2.VideoCapture('./data/stopwatch.avi') # 동영상 파일\n",
    "\n",
    "if not cap.isOpened():\n",
    "    print(\"Camera open failed!\")\n",
    "    sys.exit()\n",
    "    \n",
    "w = int(cap.get(cv2.CAP_PROP_FRAME_WIDTH))\n",
    "h = int(cap.get(cv2.CAP_PROP_FRAME_HEIGHT))\n",
    "fps = cap.get(cv2.CAP_PROP_FPS)   # frame per second\n",
    "delay = round(1000/fps) # 1000/30 \n",
    "\n",
    "fourcc = cv2.VideoWriter_fourcc('D', 'I', 'V', 'X') #DivX Mpeg-4 코덱\n",
    "#fourcc = cv2.VideoWriter_fourcc(*'DIVX')\n",
    "\n",
    "# 저장을 위한 객체 = cv2.VideoWriter(파일명, 코덱, FPS, 해상도)\n",
    "outputVideo = cv2.VideoWriter('./out/output.avi', fourcc, fps, (w, h))\n",
    "\n",
    "while True:\n",
    "    ret, frame = cap.read() # frame은 이미지 한장\n",
    "    \n",
    "    if not ret:\n",
    "        print(\"frame read error\")\n",
    "        break\n",
    "        \n",
    "    cv2.imshow('camera', frame) # 재생\n",
    "    outputVideo.write(frame)    # 녹화\n",
    "  \n",
    "    key = cv2.waitKey(delay) # ESC Key (27), 10ms 기다리기 (sleep 효과)\n",
    "    if key == 27 :\n",
    "        break;\n",
    "        \n",
    "if cap.isOpened():\n",
    "    print('cap release!')\n",
    "    cap.release()\n",
    "        \n",
    "cv2.destroyAllWindows()   "
   ]
  },
  {
   "cell_type": "markdown",
   "id": "9cc805a7",
   "metadata": {},
   "source": [
    "## 드로이드캠 영상"
   ]
  },
  {
   "cell_type": "markdown",
   "id": "bf74c0a0",
   "metadata": {},
   "source": [
    "안드로이드 스마트폰 앱 중 DroidCam을 이용하면 스마트폰 카메라에서 촬영한 영상을 소켓 통신을 통해 보내고 받을 수 있다.\n",
    "- 사용 순서\n",
    "1. 플레이스토어에서 DroidCam 설치\n",
    "2. 스마트폰에서 DroidCam 앱을 실행하고 와이파이 IP, 포트 번호, 'mjpegfeed'를 사용해 VideoCapture 객체 cap을 생성(http://IP:port/mjpegfeed')\n",
    "3. 와이파이 IP, 포트 번호는 스마트폰 및 와이파이 환경에 따라 다르고, 'mjpegfeed' 문자열은 앱에 따라 다를 수 있음."
   ]
  },
  {
   "cell_type": "code",
   "execution_count": 25,
   "id": "e5279990",
   "metadata": {},
   "outputs": [
    {
     "name": "stdout",
     "output_type": "stream",
     "text": [
      "40\n",
      "cap release!\n"
     ]
    }
   ],
   "source": [
    "cap = cv2.VideoCapture('http://192.168.80.234:4747/mjpegfeed') #  드로이드캠 연결 IP\n",
    "#cap = cv2.VideoCapture('http://192.168.80.234:4747/video') # (아이폰의 경우)\n",
    "\n",
    "if not cap.isOpened():\n",
    "    print(\"Camera open failed!\")\n",
    "    sys.exit()\n",
    "    \n",
    "w = cap.get(cv2.CAP_PROP_FRAME_WIDTH)    \n",
    "h = cap.get(cv2.CAP_PROP_FRAME_HEIGHT)    \n",
    "fps = cap.get(cv2.CAP_PROP_FPS)   # frame per second\n",
    "delay = round(1000/fps) # 1000/30 \n",
    "print(delay)\n",
    "    \n",
    "while True:\n",
    "    ret, frame = cap.read() # frame은 이미지 한장\n",
    "    \n",
    "    if not ret:\n",
    "        print(\"frame read error\")\n",
    "        break\n",
    "        \n",
    "    cv2.imshow('camera', frame)\n",
    "  \n",
    "    key = cv2.waitKey(delay) # ESC Key (27), 10ms 기다리기 (sleep 효과)\n",
    "    if key == 27 :\n",
    "        break;\n",
    "        \n",
    "if cap.isOpened():\n",
    "    print('cap release!')\n",
    "    cap.release()\n",
    "        \n",
    "cv2.destroyAllWindows()   "
   ]
  },
  {
   "cell_type": "markdown",
   "id": "a2a458b4",
   "metadata": {},
   "source": [
    "## 유튜브 영상"
   ]
  },
  {
   "cell_type": "markdown",
   "id": "c33e021f",
   "metadata": {},
   "source": [
    "- pafy : 비디오에서 메타데이터 획득, 비디오/오디오를 다운로드 하는 패키지\n",
    "- youtube_dl : patfy의 backend에서 유튜브 동영상을 다운로드\n",
    "\n",
    "**설치방법**\n",
    "- pip install pafy\n",
    "- pip install youtube_dl"
   ]
  },
  {
   "cell_type": "code",
   "execution_count": 2,
   "id": "9bc3fc49",
   "metadata": {},
   "outputs": [],
   "source": [
    "import pafy\n",
    "import youtube_dl"
   ]
  },
  {
   "cell_type": "code",
   "execution_count": 3,
   "id": "e244f319",
   "metadata": {},
   "outputs": [],
   "source": [
    "url = 'https://www.youtube.com/watch?v=9SmQOZWNyWE&list=RD9SmQOZWNyWE&index=2'\n",
    "video = pafy.new(url)\n",
    "\n",
    "print('title : ' video.title)\n",
    "print('rating : ', video.rating)\n",
    "print('duration : ', video.duration)\n",
    "\n",
    "best = video.getbest()\n",
    "print('download url : ', best.url)\n",
    "print('resolution : ', best.resolution)"
   ]
  },
  {
   "cell_type": "code",
   "execution_count": 11,
   "id": "057cf342",
   "metadata": {},
   "outputs": [
    {
     "name": "stdout",
     "output_type": "stream",
     "text": [
      "33\n",
      "cap release!\n"
     ]
    }
   ],
   "source": [
    "cap = cv2.VideoCapture(best.url) #  유튜브 다운로드 URL\n",
    "\n",
    "if not cap.isOpened():\n",
    "    print(\"Camera open failed!\")\n",
    "    sys.exit()\n",
    "    \n",
    "w = cap.get(cv2.CAP_PROP_FRAME_WIDTH)    \n",
    "h = cap.get(cv2.CAP_PROP_FRAME_HEIGHT)    \n",
    "fps = cap.get(cv2.CAP_PROP_FPS)   # frame per second\n",
    "delay = round(1000/fps) # 1000/30 \n",
    "print(delay)\n",
    "    \n",
    "while True:\n",
    "    ret, frame = cap.read() # frame은 이미지 한장\n",
    "    \n",
    "    if not ret:\n",
    "        print(\"frame read error\")\n",
    "        break\n",
    "        \n",
    "    cv2.imshow('origial', frame)\n",
    "    cv2.imshow('inverse', 255 - frame)\n",
    "    \n",
    "    edge = cv2.Canny(frame, 100, 200)\n",
    "    cv2.imshow('edge', edge)\n",
    "    \n",
    "  \n",
    "    key = cv2.waitKey(delay) # ESC Key (27), 10ms 기다리기 (sleep 효과)\n",
    "    if key == 27 :\n",
    "        break;\n",
    "        \n",
    "if cap.isOpened():\n",
    "    print('cap release!')\n",
    "    cap.release()\n",
    "        \n",
    "cv2.destroyAllWindows()   "
   ]
  },
  {
   "cell_type": "markdown",
   "id": "c5ba699a",
   "metadata": {},
   "source": [
    "# 다양한 그리기 함수"
   ]
  },
  {
   "cell_type": "code",
   "execution_count": 2,
   "id": "ea6395ba",
   "metadata": {},
   "outputs": [],
   "source": [
    "import numpy as np"
   ]
  },
  {
   "cell_type": "markdown",
   "id": "3f75fb02",
   "metadata": {},
   "source": [
    "```\n",
    "# numpy ndarray로 색인할 때는 행(수직방향)을 색인->열(수평방향)을 색인\n",
    "img[100, 50]     \n",
    "# openCV 함수에서 좌표를 찾아갈 때는 x좌표(수평방향) -> y좌표(수직방향)\n",
    "pt1 = (50, 100)  # x좌표 50, y좌표 100\n",
    "```"
   ]
  },
  {
   "cell_type": "markdown",
   "id": "cefc2fc1",
   "metadata": {},
   "source": [
    "## 직선 그리기"
   ]
  },
  {
   "cell_type": "code",
   "execution_count": 21,
   "id": "b9ef6a6f",
   "metadata": {},
   "outputs": [],
   "source": [
    "#np.full(사이즈, 초기값, 데이터타입)\n",
    "img = np.full((400, 400, 3), 255, np.uint8)\n",
    "\n",
    "# 수평선\n",
    "pt1 = (50, 100) # x좌표, y좌표\n",
    "pt2 = (150, 100) # x좌표, y좌표\n",
    "\n",
    "# cv2.line(도화지, 시작점, 끝점, 색깔, 굵기....)\n",
    "cv2.line(img, pt1, pt2, (0, 0, 255), 2)\n",
    "\n",
    "# 대각선\n",
    "pt3 = (200, 100)\n",
    "pt4 = (300, 250)\n",
    "cv2.line(img, pt3, pt4, (0, 0, 255), 2, cv2.LINE_AA)\n",
    "\n",
    "cv2.imshow('img', img)\n",
    "cv2.waitKey()\n",
    "cv2.destroyAllWindows()"
   ]
  },
  {
   "cell_type": "markdown",
   "id": "faa87771",
   "metadata": {},
   "source": [
    "## 도형 그리기"
   ]
  },
  {
   "cell_type": "code",
   "execution_count": 25,
   "id": "c476d44a",
   "metadata": {},
   "outputs": [
    {
     "data": {
      "text/plain": [
       "-1"
      ]
     },
     "execution_count": 25,
     "metadata": {},
     "output_type": "execute_result"
    }
   ],
   "source": [
    "cv2.FILLED"
   ]
  },
  {
   "cell_type": "code",
   "execution_count": 44,
   "id": "aa34df8f",
   "metadata": {},
   "outputs": [],
   "source": [
    "img = np.full((400, 400, 3), 255, np.uint8)\n",
    "\n",
    "# rectangle\n",
    "# cv2.rectangle(도화지, 시작점, 끝점, 색깔, 굵기...) # 시작점 끝점은 대각방향으로 마주보는 점\n",
    "cv2.rectangle(img, (50, 50), (150, 100), (0, 0, 255), 3)\n",
    "cv2.rectangle(img, (50, 150), (150, 200), (0, 0, 255), cv2.FILLED) # 굵기 자리에 -1을 지정하면 내부 채워짐\n",
    "\n",
    "# circle\n",
    "# cv2.circle(도화지, 중심점, 반지름, 색깔, 굵기...)\n",
    "cv2.circle(img, (300, 120), 30, (255, 255, 0), 2)\n",
    "cv2.circle(img, (300, 200), 30, (255, 255, 0), cv2.FILLED)\n",
    "\n",
    "# ellipse\n",
    "# cv2.ellipse(도화지, 중심점, 반지름쌍, 기울기, 시작각도, 끝각도, 색깔, 굵기..)\n",
    "cv2.ellipse(img, (100, 300), (60, 30), 0, 0, 360, (255, 0, 0), 3)\n",
    "\n",
    "# polylines\n",
    "# cv2.polylines(도화지, [다각형을 이룰 점들], 다각형을 닫을지 여부, 색깔, 굵기...)\n",
    "pts = np.array([[250, 250], [300, 250], [300, 300], [350, 300], [350, 350], [250, 350]])\n",
    "cv2.polylines(img, [pts], True, (255, 0, 255), 2)\n",
    "\n",
    "cv2.imshow('img', img)\n",
    "cv2.waitKey()\n",
    "cv2.destroyAllWindows()\n"
   ]
  },
  {
   "cell_type": "markdown",
   "id": "8728d0f7",
   "metadata": {},
   "source": [
    "## 문자열 출력하기"
   ]
  },
  {
   "cell_type": "code",
   "execution_count": 45,
   "id": "03151b38",
   "metadata": {},
   "outputs": [],
   "source": [
    "img = np.full((400, 400, 3), 255, np.uint8)\n",
    "\n",
    "# text\n",
    "# cv2.putText(도화지, 텍스트, 텍스트의 좌하단 좌표, 폰트, 스케일, 색깔, 굵기...)\n",
    "cv2.putText(img, 'Hello', (20, 50), cv2.FONT_HERSHEY_SIMPLEX, 1, (255, 255, 0), 3)\n",
    "\n",
    "cv2.imshow('text', img)\n",
    "cv2.waitKey()\n",
    "cv2.destroyAllWindows()"
   ]
  },
  {
   "cell_type": "code",
   "execution_count": null,
   "id": "c04eed1a",
   "metadata": {},
   "outputs": [],
   "source": [
    "# Hello, OpenCV 를 출력하되, 감싸는 사각형을 그리고, 좌하단에 동그라미 그리기"
   ]
  },
  {
   "cell_type": "code",
   "execution_count": 19,
   "id": "4cb1ae08",
   "metadata": {},
   "outputs": [
    {
     "name": "stdout",
     "output_type": "stream",
     "text": [
      "(451, 43)\n",
      "(200, 640, 3)\n"
     ]
    }
   ],
   "source": [
    "img = np.full((200, 640, 3), 255, np.uint8)\n",
    "\n",
    "text = 'Hello, OpenCV'\n",
    "\n",
    "fontFace = cv2.FONT_HERSHEY_DUPLEX\n",
    "fontScale = 2\n",
    "thickness = 1\n",
    "\n",
    "size_Text, retVal = cv2.getTextSize(text, fontFace, fontScale, thickness)\n",
    "\n",
    "print(size_Text)\n",
    "print(img.shape)\n",
    "\n",
    "org_x = (img.shape[1] - size_Text[0]) // 2\n",
    "org_y = (img.shape[0] + size_Text[1]) // 2\n",
    "org_x, org_y\n",
    "\n",
    "cv2.putText(img, text, (org_x, org_y), fontFace, fontScale, (255, 0, 0), thickness)\n",
    "cv2.rectangle(img, (org_x, org_y), (org_x+size_Text[0], org_y-size_Text[1]), (0, 255, 0), 2)\n",
    "cv2.circle(img, (org_x, org_y), 5, (0, 0, 255))\n",
    "\n",
    "cv2.imshow('hello opencv', img)\n",
    "cv2.waitKey()\n",
    "cv2.destroyAllWindows()"
   ]
  },
  {
   "cell_type": "markdown",
   "id": "4220bbe8",
   "metadata": {},
   "source": [
    "## 실습 : 카운트 다운 영상 만들기"
   ]
  },
  {
   "cell_type": "code",
   "execution_count": 12,
   "id": "91960f4b",
   "metadata": {},
   "outputs": [],
   "source": [
    "## 재영F ##\n",
    "img = np.full((400, 400, 3), 255, np.uint8)\n",
    "for i in range(5, 0, -1):\n",
    "    cv2.putText(img, str(i), (170, 210), cv2.FONT_HERSHEY_SCRIPT_COMPLEX, 3, (200, 100, 50), 3)\n",
    "    cv2.circle(img, (200, 180), i*30, (150, 40, 100), 2)\n",
    "    cv2.imshow('countdown', img)\n",
    "    cv2.waitKey(1000)\n",
    "    img = np.full((400, 400, 3), 255, np.uint8)\n",
    "cv2.destroyAllWindows()"
   ]
  },
  {
   "cell_type": "code",
   "execution_count": 10,
   "id": "f069753d",
   "metadata": {},
   "outputs": [],
   "source": [
    "## 강사님 ##\n",
    "img = np.full((512, 512, 3), 255, np.uint8)\n",
    "cx, cy = img.shape[0]//2, img.shape[1]//2\n",
    "fontFace = cv2.FONT_HERSHEY_TRIPLEX\n",
    "fontScale = 5\n",
    "thickness = 2\n",
    "\n",
    "fourcc = cv2.VideoWriter_fourcc(\"D\", \"I\", \"V\", \"X\")\n",
    "frame_size = img.shape[0], img.shape[1]\n",
    "fps = 1\n",
    "coutdown_writer = cv2.VideoWriter(\"./out/countdown0.mp4\", fourcc, fps, frame_size)\n",
    "\n",
    "for count in range(5, 0, -1):\n",
    "    text = str(count)\n",
    "    sizeText, _ = cv2.getTextSize(text, fontFace, fontScale, thickness)\n",
    "    org = (img.shape[1] - sizeText[0])//2, (img.shape[0] + sizeText[1])//2\n",
    "    cv2.putText(img, text, org, fontFace, fontScale, (255, 0, 0), 3)\n",
    "    cv2.circle(img, (cx, cy), int(np.max(sizeText) * count * 0.5), (255, 255, 0), 4)\n",
    "    coutdown_writer.write(img)\n",
    "    \n",
    "    cv2.imshow(\"img\", img)\n",
    "    cv2.waitKey(1000)\n",
    "    img = np.full((512, 512, 3), 255, np.uint8)\n",
    "\n",
    "coutdown_writer.release()\n",
    "cv2.destroyAllWindows()"
   ]
  },
  {
   "cell_type": "code",
   "execution_count": null,
   "id": "2d06f30f",
   "metadata": {},
   "outputs": [],
   "source": []
  }
 ],
 "metadata": {
  "kernelspec": {
   "display_name": "Python 3 (ipykernel)",
   "language": "python",
   "name": "python3"
  },
  "language_info": {
   "codemirror_mode": {
    "name": "ipython",
    "version": 3
   },
   "file_extension": ".py",
   "mimetype": "text/x-python",
   "name": "python",
   "nbconvert_exporter": "python",
   "pygments_lexer": "ipython3",
   "version": "3.9.12"
  }
 },
 "nbformat": 4,
 "nbformat_minor": 5
}
