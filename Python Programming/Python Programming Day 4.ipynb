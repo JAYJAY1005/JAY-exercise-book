{
 "cells": [
  {
   "cell_type": "markdown",
   "id": "d0cfcd5d",
   "metadata": {},
   "source": [
    "# 딕셔너리 응용하기"
   ]
  },
  {
   "cell_type": "markdown",
   "id": "6a3d40f2",
   "metadata": {},
   "source": [
    "- setdefault : 키-값 쌍 추가\n",
    "- update : 키의 값 수정, 키가 없으면 키-값 쌍 추가"
   ]
  },
  {
   "cell_type": "code",
   "execution_count": 1,
   "id": "bf783f39",
   "metadata": {},
   "outputs": [
    {
     "data": {
      "text/plain": [
       "dict"
      ]
     },
     "execution_count": 1,
     "metadata": {},
     "output_type": "execute_result"
    }
   ],
   "source": [
    "x = {'a':10, 'b':20, 'c':30, 'd':40}\n",
    "type(x)"
   ]
  },
  {
   "cell_type": "code",
   "execution_count": 2,
   "id": "49ac8207",
   "metadata": {},
   "outputs": [
    {
     "data": {
      "text/plain": [
       "{'a': 10, 'b': 20, 'c': 30, 'd': 40, 'e': 50}"
      ]
     },
     "execution_count": 2,
     "metadata": {},
     "output_type": "execute_result"
    }
   ],
   "source": [
    "x.setdefault('e', 50)\n",
    "x"
   ]
  },
  {
   "cell_type": "code",
   "execution_count": 3,
   "id": "740024ce",
   "metadata": {},
   "outputs": [
    {
     "data": {
      "text/plain": [
       "{'a': 10, 'b': 20, 'c': 30, 'd': 40, 'e': 50, 'f': None}"
      ]
     },
     "execution_count": 3,
     "metadata": {},
     "output_type": "execute_result"
    }
   ],
   "source": [
    "x.setdefault('f')\n",
    "x."
   ]
  },
  {
   "cell_type": "code",
   "execution_count": 5,
   "id": "26433b09",
   "metadata": {},
   "outputs": [
    {
     "data": {
      "text/plain": [
       "{'a': 100, 'b': 200, 'c': 30, 'd': 40, 'e': 50, 'f': None}"
      ]
     },
     "execution_count": 5,
     "metadata": {},
     "output_type": "execute_result"
    }
   ],
   "source": [
    "x.update({'a':100, 'b':200})\n",
    "x"
   ]
  },
  {
   "cell_type": "code",
   "execution_count": 6,
   "id": "dd414aa1",
   "metadata": {},
   "outputs": [
    {
     "data": {
      "text/plain": [
       "{'a': 1000, 'b': 2000, 'c': 30, 'd': 40, 'e': 50, 'f': None, 'g': 1000}"
      ]
     },
     "execution_count": 6,
     "metadata": {},
     "output_type": "execute_result"
    }
   ],
   "source": [
    "x.update({'a':1000, 'b':2000, 'g':1000})\n",
    "x"
   ]
  },
  {
   "cell_type": "markdown",
   "id": "863b18c3",
   "metadata": {},
   "source": [
    "- pop(키) : 특정 키-값 쌍을 삭제한 뒤, 삭제한 값을 반환\n",
    "- pop(키, 기본값) : 키가 없을 때 기본갑을 반환\n",
    "- clear() : 딕셔너리의 모든 키-값 쌍을 삭제"
   ]
  },
  {
   "cell_type": "code",
   "execution_count": 7,
   "id": "b23d91e0",
   "metadata": {},
   "outputs": [
    {
     "data": {
      "text/plain": [
       "{'a': 1000, 'b': 2000, 'c': 30, 'd': 40, 'e': 50, 'f': None, 'g': 1000}"
      ]
     },
     "execution_count": 7,
     "metadata": {},
     "output_type": "execute_result"
    }
   ],
   "source": [
    "x"
   ]
  },
  {
   "cell_type": "code",
   "execution_count": 8,
   "id": "31f52145",
   "metadata": {},
   "outputs": [
    {
     "data": {
      "text/plain": [
       "1000"
      ]
     },
     "execution_count": 8,
     "metadata": {},
     "output_type": "execute_result"
    }
   ],
   "source": [
    "result = x.pop('a')\n",
    "result"
   ]
  },
  {
   "cell_type": "code",
   "execution_count": 9,
   "id": "3dcc8cb4",
   "metadata": {},
   "outputs": [
    {
     "data": {
      "text/plain": [
       "{'b': 2000, 'c': 30, 'd': 40, 'e': 50, 'f': None, 'g': 1000}"
      ]
     },
     "execution_count": 9,
     "metadata": {},
     "output_type": "execute_result"
    }
   ],
   "source": [
    "x"
   ]
  },
  {
   "cell_type": "code",
   "execution_count": 10,
   "id": "6df98282",
   "metadata": {},
   "outputs": [
    {
     "data": {
      "text/plain": [
       "0"
      ]
     },
     "execution_count": 10,
     "metadata": {},
     "output_type": "execute_result"
    }
   ],
   "source": [
    "result = x.pop('a', 0)\n",
    "result"
   ]
  },
  {
   "cell_type": "code",
   "execution_count": 11,
   "id": "be4da858",
   "metadata": {},
   "outputs": [
    {
     "data": {
      "text/plain": [
       "2000"
      ]
     },
     "execution_count": 11,
     "metadata": {},
     "output_type": "execute_result"
    }
   ],
   "source": [
    "result = x.pop('b', 0)\n",
    "result"
   ]
  },
  {
   "cell_type": "code",
   "execution_count": 12,
   "id": "8f69ac0c",
   "metadata": {},
   "outputs": [
    {
     "data": {
      "text/plain": [
       "{'c': 30, 'd': 40, 'e': 50, 'f': None, 'g': 1000}"
      ]
     },
     "execution_count": 12,
     "metadata": {},
     "output_type": "execute_result"
    }
   ],
   "source": [
    "x"
   ]
  },
  {
   "cell_type": "markdown",
   "id": "2fd54d0d",
   "metadata": {},
   "source": [
    "- get(키) : 특정 키의 값을 가져옴\n",
    "- get(키, 기본값) : 키가 없을 때 기본값을 반환"
   ]
  },
  {
   "cell_type": "code",
   "execution_count": 13,
   "id": "85a3a276",
   "metadata": {},
   "outputs": [
    {
     "data": {
      "text/plain": [
       "{'c': 30, 'd': 40, 'e': 50, 'f': None, 'g': 1000}"
      ]
     },
     "execution_count": 13,
     "metadata": {},
     "output_type": "execute_result"
    }
   ],
   "source": [
    "x"
   ]
  },
  {
   "cell_type": "code",
   "execution_count": 14,
   "id": "d13c6efb",
   "metadata": {},
   "outputs": [
    {
     "data": {
      "text/plain": [
       "30"
      ]
     },
     "execution_count": 14,
     "metadata": {},
     "output_type": "execute_result"
    }
   ],
   "source": [
    "result = x.get('c')\n",
    "result"
   ]
  },
  {
   "cell_type": "code",
   "execution_count": 15,
   "id": "37494666",
   "metadata": {},
   "outputs": [
    {
     "data": {
      "text/plain": [
       "{'c': 30, 'd': 40, 'e': 50, 'f': None, 'g': 1000}"
      ]
     },
     "execution_count": 15,
     "metadata": {},
     "output_type": "execute_result"
    }
   ],
   "source": [
    "x"
   ]
  },
  {
   "cell_type": "code",
   "execution_count": 16,
   "id": "f35049a4",
   "metadata": {},
   "outputs": [
    {
     "data": {
      "text/plain": [
       "0"
      ]
     },
     "execution_count": 16,
     "metadata": {},
     "output_type": "execute_result"
    }
   ],
   "source": [
    "result = x.get('z', 0)\n",
    "result"
   ]
  },
  {
   "cell_type": "code",
   "execution_count": 17,
   "id": "3f07b780",
   "metadata": {},
   "outputs": [
    {
     "data": {
      "text/plain": [
       "{'c': 30, 'd': 40, 'e': 50, 'f': None, 'g': 1000}"
      ]
     },
     "execution_count": 17,
     "metadata": {},
     "output_type": "execute_result"
    }
   ],
   "source": [
    "x"
   ]
  },
  {
   "cell_type": "markdown",
   "id": "f387c184",
   "metadata": {},
   "source": [
    "- items() : 키-값 쌍을 모두 가져옴\n",
    "- keys() : 키를 모두 가져옴\n",
    "- values() : 값을 모두 가져옴"
   ]
  },
  {
   "cell_type": "code",
   "execution_count": 18,
   "id": "03751893",
   "metadata": {},
   "outputs": [
    {
     "data": {
      "text/plain": [
       "{'c': 30, 'd': 40, 'e': 50, 'f': None, 'g': 1000}"
      ]
     },
     "execution_count": 18,
     "metadata": {},
     "output_type": "execute_result"
    }
   ],
   "source": [
    "x"
   ]
  },
  {
   "cell_type": "code",
   "execution_count": 19,
   "id": "ba127190",
   "metadata": {},
   "outputs": [
    {
     "data": {
      "text/plain": [
       "dict_items([('c', 30), ('d', 40), ('e', 50), ('f', None), ('g', 1000)])"
      ]
     },
     "execution_count": 19,
     "metadata": {},
     "output_type": "execute_result"
    }
   ],
   "source": [
    "x.items()"
   ]
  },
  {
   "cell_type": "code",
   "execution_count": 20,
   "id": "bda448f2",
   "metadata": {},
   "outputs": [
    {
     "data": {
      "text/plain": [
       "dict_keys(['c', 'd', 'e', 'f', 'g'])"
      ]
     },
     "execution_count": 20,
     "metadata": {},
     "output_type": "execute_result"
    }
   ],
   "source": [
    "x.keys()"
   ]
  },
  {
   "cell_type": "code",
   "execution_count": 21,
   "id": "4f860fb2",
   "metadata": {},
   "outputs": [
    {
     "data": {
      "text/plain": [
       "dict_values([30, 40, 50, None, 1000])"
      ]
     },
     "execution_count": 21,
     "metadata": {},
     "output_type": "execute_result"
    }
   ],
   "source": [
    "x.values()"
   ]
  },
  {
   "cell_type": "markdown",
   "id": "802d7568",
   "metadata": {},
   "source": [
    "- for 키, 값 in 딕셔너리.items():"
   ]
  },
  {
   "cell_type": "code",
   "execution_count": 23,
   "id": "d532cfd4",
   "metadata": {},
   "outputs": [
    {
     "name": "stdout",
     "output_type": "stream",
     "text": [
      "c 30\n",
      "d 40\n",
      "e 50\n",
      "f None\n",
      "g 1000\n"
     ]
    }
   ],
   "source": [
    "for k, v in x.items():\n",
    "    print(k, v)"
   ]
  },
  {
   "cell_type": "code",
   "execution_count": 24,
   "id": "a14565c0",
   "metadata": {},
   "outputs": [
    {
     "name": "stdout",
     "output_type": "stream",
     "text": [
      "c\n",
      "d\n",
      "e\n",
      "f\n",
      "g\n"
     ]
    }
   ],
   "source": [
    "for k in x.keys():\n",
    "    print(k)"
   ]
  },
  {
   "cell_type": "code",
   "execution_count": 25,
   "id": "0a673da5",
   "metadata": {},
   "outputs": [
    {
     "name": "stdout",
     "output_type": "stream",
     "text": [
      "30\n",
      "40\n",
      "50\n",
      "None\n",
      "1000\n"
     ]
    }
   ],
   "source": [
    "for v in x.values():\n",
    "    print(v)"
   ]
  },
  {
   "cell_type": "markdown",
   "id": "4fad7b32",
   "metadata": {},
   "source": [
    "# 세트"
   ]
  },
  {
   "cell_type": "markdown",
   "id": "0c8fc6f4",
   "metadata": {},
   "source": [
    "- 세트 = {값1, 값2, 값3,....}"
   ]
  },
  {
   "cell_type": "code",
   "execution_count": 26,
   "id": "0ee1f80f",
   "metadata": {},
   "outputs": [
    {
     "data": {
      "text/plain": [
       "set"
      ]
     },
     "execution_count": 26,
     "metadata": {},
     "output_type": "execute_result"
    }
   ],
   "source": [
    "fruits = {'strawberry', 'grape', 'orange', 'pineapple', 'cherry'}\n",
    "type(fruits)"
   ]
  },
  {
   "cell_type": "code",
   "execution_count": 27,
   "id": "5acc101a",
   "metadata": {},
   "outputs": [
    {
     "data": {
      "text/plain": [
       "{'cherry', 'grape', 'orange', 'pineapple', 'strawberry'}"
      ]
     },
     "execution_count": 27,
     "metadata": {},
     "output_type": "execute_result"
    }
   ],
   "source": [
    "# 세트는 중복이 없고(유일한 값만 사용), 순서도 없음\n",
    "\n",
    "fruits = {'strawberry', 'strawberry', 'strawberry', 'grape', 'orange', 'pineapple', 'cherry'}\n",
    "fruits"
   ]
  },
  {
   "cell_type": "code",
   "execution_count": 28,
   "id": "19bda05c",
   "metadata": {},
   "outputs": [],
   "source": [
    "x = {'a', 'a', 'b'}\n",
    "y = {'a', 'b', 'a'}\n",
    "z = {'b', 'a'}"
   ]
  },
  {
   "cell_type": "code",
   "execution_count": 29,
   "id": "8780e0e4",
   "metadata": {},
   "outputs": [
    {
     "data": {
      "text/plain": [
       "True"
      ]
     },
     "execution_count": 29,
     "metadata": {},
     "output_type": "execute_result"
    }
   ],
   "source": [
    "x == y"
   ]
  },
  {
   "cell_type": "code",
   "execution_count": 30,
   "id": "7077bcdc",
   "metadata": {},
   "outputs": [
    {
     "data": {
      "text/plain": [
       "True"
      ]
     },
     "execution_count": 30,
     "metadata": {},
     "output_type": "execute_result"
    }
   ],
   "source": [
    "y == z"
   ]
  },
  {
   "cell_type": "code",
   "execution_count": 31,
   "id": "34b8c2c7",
   "metadata": {},
   "outputs": [
    {
     "data": {
      "text/plain": [
       "True"
      ]
     },
     "execution_count": 31,
     "metadata": {},
     "output_type": "execute_result"
    }
   ],
   "source": [
    "x == z"
   ]
  },
  {
   "cell_type": "code",
   "execution_count": 33,
   "id": "f4df0350",
   "metadata": {},
   "outputs": [
    {
     "data": {
      "text/plain": [
       "set"
      ]
     },
     "execution_count": 33,
     "metadata": {},
     "output_type": "execute_result"
    }
   ],
   "source": [
    "l = [] # l = list()\n",
    "t = () # t = tuple()\n",
    "d = {} # d = dict()\n",
    "\n",
    "# 빈 세트 만드는법\n",
    "s = set()\n",
    "type(s)"
   ]
  },
  {
   "cell_type": "markdown",
   "id": "40f11032",
   "metadata": {},
   "source": [
    "# Workshop"
   ]
  },
  {
   "cell_type": "markdown",
   "id": "074d6aa4",
   "metadata": {},
   "source": [
    "**리스트와 반복문**\n",
    "- 아래에 주어진 리스트 l1의 요소 중에서 l2의 요소와 값이 같은 경우 삭제하는 파이썬 코드 작성하기"
   ]
  },
  {
   "cell_type": "markdown",
   "id": "ac382865",
   "metadata": {},
   "source": [
    "```\n",
    "l1 = ['a', 'b', 'c', 'd', 'a', 'b', 'a', 'b']\n",
    "l2 = ['b', 'a']\n",
    "\n",
    "결과 l1\n",
    "['c', 'd']\n",
    "\n",
    "```"
   ]
  },
  {
   "cell_type": "code",
   "execution_count": 49,
   "id": "fd735008",
   "metadata": {},
   "outputs": [
    {
     "data": {
      "text/plain": [
       "['c', 'd']"
      ]
     },
     "execution_count": 49,
     "metadata": {},
     "output_type": "execute_result"
    }
   ],
   "source": [
    "l1 = ['a', 'b', 'c', 'd', 'a', 'b', 'a', 'b']\n",
    "l2 = ['b', 'a']\n",
    "\n",
    "for c2 in l2: # b -> a\n",
    "    while c2 in l1:\n",
    "        l1.remove(c2)\n",
    "l1"
   ]
  },
  {
   "cell_type": "code",
   "execution_count": 64,
   "id": "5c3a1f68",
   "metadata": {},
   "outputs": [
    {
     "data": {
      "text/plain": [
       "['d', 'c']"
      ]
     },
     "execution_count": 64,
     "metadata": {},
     "output_type": "execute_result"
    }
   ],
   "source": [
    "# 참고\n",
    "l1 = ['a', 'b', 'c', 'd', 'a', 'b', 'a', 'b']\n",
    "l2 = ['b', 'a']\n",
    "\n",
    "list(set(l1) - set(l2))"
   ]
  },
  {
   "cell_type": "code",
   "execution_count": null,
   "id": "98c52947",
   "metadata": {},
   "outputs": [],
   "source": []
  },
  {
   "cell_type": "markdown",
   "id": "139c6df8",
   "metadata": {},
   "source": [
    "**'the'의 개수 출력하기**\n",
    "- 아래 문자열에서 'the'의 개수를 출력하는 프로그램을 만드세요. 단 , 모든 문자가 소문자인 'the'만 찾으면 되며 'them', 'there', 'their' 등은 포함되지 않아야 합니다."
   ]
  },
  {
   "cell_type": "code",
   "execution_count": 50,
   "id": "ae0e0f91",
   "metadata": {},
   "outputs": [],
   "source": [
    "paragraph = '''\n",
    "the grown-ups' response, this time, was to advise me to lay aside my drawings of boa constrictors, whether from the inside or the outside, and devote myself instead to geography, history, arithmetic, and grammar. That is why, at the, age of six, I gave up what might have been a magnificent career as a painter. I had been disheartened by the failure of my Drawing Number One and my Drawing Number Two. Grown-ups never understand anything by themselves, and it is tiresome for children to be always and forever explaining things to the.\n",
    "'''"
   ]
  },
  {
   "cell_type": "code",
   "execution_count": 51,
   "id": "aa154bdf",
   "metadata": {},
   "outputs": [
    {
     "data": {
      "text/plain": [
       "8"
      ]
     },
     "execution_count": 51,
     "metadata": {},
     "output_type": "execute_result"
    }
   ],
   "source": [
    "# paragraph.count('the') # their, them 이런 단어까지 모두 count하므로 사용 불가"
   ]
  },
  {
   "cell_type": "code",
   "execution_count": 59,
   "id": "295dea8e",
   "metadata": {},
   "outputs": [
    {
     "data": {
      "text/plain": [
       "6"
      ]
     },
     "execution_count": 59,
     "metadata": {},
     "output_type": "execute_result"
    }
   ],
   "source": [
    "word_list = paragraph.split()\n",
    "count = 0\n",
    "for word in word_list:\n",
    "    if word.strip(',.') == 'the':        \n",
    "        count = count + 1 # count += 1\n",
    "count        "
   ]
  },
  {
   "cell_type": "markdown",
   "id": "21f5a64f",
   "metadata": {},
   "source": [
    "**평균 점수 구하기**\n",
    "- 다음 소스 코드를 완성하여 평균 점수가 출력되게 만드세요"
   ]
  },
  {
   "cell_type": "code",
   "execution_count": 60,
   "id": "e846efe2",
   "metadata": {},
   "outputs": [],
   "source": [
    "maria = {'korean' : 94, 'english': 91, 'mathmatics': 89, 'science': 83 }"
   ]
  },
  {
   "cell_type": "code",
   "execution_count": 61,
   "id": "8a4a0843",
   "metadata": {},
   "outputs": [
    {
     "data": {
      "text/plain": [
       "dict_values([94, 91, 89, 83])"
      ]
     },
     "execution_count": 61,
     "metadata": {},
     "output_type": "execute_result"
    }
   ],
   "source": [
    "maria.values()"
   ]
  },
  {
   "cell_type": "code",
   "execution_count": 67,
   "id": "d6f1e552",
   "metadata": {},
   "outputs": [
    {
     "data": {
      "text/plain": [
       "89.25"
      ]
     },
     "execution_count": 67,
     "metadata": {},
     "output_type": "execute_result"
    }
   ],
   "source": [
    "# option 1\n",
    "total_v  = 0\n",
    "for v in maria.values():\n",
    "    total_v = total_v + v\n",
    "total_v/len(maria)    "
   ]
  },
  {
   "cell_type": "code",
   "execution_count": 69,
   "id": "f1100ba5",
   "metadata": {},
   "outputs": [
    {
     "data": {
      "text/plain": [
       "89.25"
      ]
     },
     "execution_count": 69,
     "metadata": {},
     "output_type": "execute_result"
    }
   ],
   "source": [
    "# option 2\n",
    "sum(maria.values())/len(maria)"
   ]
  },
  {
   "cell_type": "markdown",
   "id": "5491ba90",
   "metadata": {},
   "source": [
    "**딕셔너리에서 특정값 삭제하기**\n",
    "- 표준 입력으로 문자열 여러개와 숫자 여러개가 두 줄로 입력되고, 첫 번째 줄은 키, 두번째 줄은 값으로 하여 딕셔너리를 생성합니다. 다음 코드를 완성하여 딕셔너리에서 키가 'delta'인 키-값 쌍과 값이 30인 키-값 쌍을 삭제하도록 만드세요.\n",
    "```\n",
    "입력\n",
    "alpha bravo charlie delta\n",
    "10 20 30 40\n",
    "결과\n",
    "{'alpha':10, 'bravo':20}\n",
    "```"
   ]
  },
  {
   "cell_type": "markdown",
   "id": "5f9f9f12",
   "metadata": {},
   "source": [
    "- (1) 인풋"
   ]
  },
  {
   "cell_type": "code",
   "execution_count": 99,
   "id": "fd966452",
   "metadata": {},
   "outputs": [
    {
     "name": "stdout",
     "output_type": "stream",
     "text": [
      "key : alpha bravo charlie delta\n",
      "value : 10 20 30 40\n"
     ]
    }
   ],
   "source": [
    "keys = input(\"key : \").split()\n",
    "values = list(map(int, input(\"value : \").split()))"
   ]
  },
  {
   "cell_type": "code",
   "execution_count": 103,
   "id": "93ef9f9a",
   "metadata": {},
   "outputs": [
    {
     "data": {
      "text/plain": [
       "['alpha', 'bravo', 'charlie', 'delta']"
      ]
     },
     "execution_count": 103,
     "metadata": {},
     "output_type": "execute_result"
    }
   ],
   "source": [
    "keys"
   ]
  },
  {
   "cell_type": "code",
   "execution_count": 104,
   "id": "81d9bc54",
   "metadata": {},
   "outputs": [
    {
     "data": {
      "text/plain": [
       "[10, 20, 30, 40]"
      ]
     },
     "execution_count": 104,
     "metadata": {},
     "output_type": "execute_result"
    }
   ],
   "source": [
    "values"
   ]
  },
  {
   "cell_type": "markdown",
   "id": "27fde146",
   "metadata": {},
   "source": [
    "- (2) 딕셔너리 구성"
   ]
  },
  {
   "cell_type": "code",
   "execution_count": 113,
   "id": "c6cf8ade",
   "metadata": {},
   "outputs": [
    {
     "data": {
      "text/plain": [
       "{'alpha': 10, 'bravo': 20, 'charlie': 30, 'delta': 40}"
      ]
     },
     "execution_count": 113,
     "metadata": {},
     "output_type": "execute_result"
    }
   ],
   "source": [
    "d = dict(zip(keys, values))\n",
    "d"
   ]
  },
  {
   "cell_type": "markdown",
   "id": "2e88d229",
   "metadata": {},
   "source": [
    "- (3) delta 키 삭제"
   ]
  },
  {
   "cell_type": "code",
   "execution_count": 106,
   "id": "64b254a9",
   "metadata": {},
   "outputs": [
    {
     "data": {
      "text/plain": [
       "{'alpha': 10, 'bravo': 20, 'charlie': 30}"
      ]
     },
     "execution_count": 106,
     "metadata": {},
     "output_type": "execute_result"
    }
   ],
   "source": [
    "# del d['delta']\n",
    "d.pop('delta')\n",
    "d"
   ]
  },
  {
   "cell_type": "markdown",
   "id": "f7b4d788",
   "metadata": {},
   "source": [
    "- (4) 30 값 삭제"
   ]
  },
  {
   "cell_type": "code",
   "execution_count": 110,
   "id": "af716ea2",
   "metadata": {},
   "outputs": [
    {
     "data": {
      "text/plain": [
       "{'alpha': 10, 'bravo': 20}"
      ]
     },
     "execution_count": 110,
     "metadata": {},
     "output_type": "execute_result"
    }
   ],
   "source": [
    "# option 1\n",
    "n = {}\n",
    "for k, v in d.items():\n",
    "    if v != 30:\n",
    "        n.setdefault(k, v)\n",
    "n"
   ]
  },
  {
   "cell_type": "markdown",
   "id": "f8dc2251",
   "metadata": {},
   "source": [
    "```\n",
    "# 리스트 표현식\n",
    "[식 for 변수 in 리스트 if 조건식]\n",
    "\n",
    "# 딕셔너리 표현식\n",
    "{키:값 for 변수 in 리스트 if 조건식}\n",
    "```"
   ]
  },
  {
   "cell_type": "code",
   "execution_count": 112,
   "id": "e48f5192",
   "metadata": {},
   "outputs": [
    {
     "data": {
      "text/plain": [
       "{'alpha': 10, 'bravo': 20}"
      ]
     },
     "execution_count": 112,
     "metadata": {},
     "output_type": "execute_result"
    }
   ],
   "source": [
    "# option 2\n",
    "{k : v for k, v in d.items() if v != 30}"
   ]
  },
  {
   "cell_type": "code",
   "execution_count": 115,
   "id": "ce481a7b",
   "metadata": {},
   "outputs": [
    {
     "data": {
      "text/plain": [
       "{'alpha': 10, 'bravo': 20}"
      ]
     },
     "execution_count": 115,
     "metadata": {},
     "output_type": "execute_result"
    }
   ],
   "source": [
    "# 최종 (3) + (4)\n",
    "result = {k : v for k, v in d.items() if k !='delta' and v != 30}\n",
    "result"
   ]
  },
  {
   "cell_type": "markdown",
   "id": "9884b7c9",
   "metadata": {},
   "source": [
    "# 파일 사용하기"
   ]
  },
  {
   "cell_type": "markdown",
   "id": "b4ddbfc0",
   "metadata": {},
   "source": [
    "- 파일객체 = open(\"파일이름\", \"파일모드\")\n",
    "- 파일객체.write(\"문자열\")\n",
    "- 파일객체.close()"
   ]
  },
  {
   "cell_type": "code",
   "execution_count": 116,
   "id": "b6690ab0",
   "metadata": {},
   "outputs": [],
   "source": [
    "fd = open(\"hello.txt\", \"w\")\n",
    "fd.write(\"hello world!\")\n",
    "fd.close()"
   ]
  },
  {
   "cell_type": "code",
   "execution_count": 117,
   "id": "19d2874f",
   "metadata": {},
   "outputs": [
    {
     "name": "stdout",
     "output_type": "stream",
     "text": [
      " C 드라이브의 볼륨: 로컬 디스크\n",
      " 볼륨 일련 번호: 541B-F497\n",
      "\n",
      " C:\\Users\\Playdata\\Documents\\인공지능 25기\\Python Programming 디렉터리\n",
      "\n",
      "2022-10-20  오후 12:12    <DIR>          .\n",
      "2022-10-20  오후 12:12    <DIR>          ..\n",
      "2022-10-20  오전 10:29    <DIR>          .ipynb_checkpoints\n",
      "2022-10-17  오전 11:19                20 hello.py\n",
      "2022-10-20  오후 12:12                12 hello.txt\n",
      "2022-10-17  오후 05:09           233,750 Python Programming Day 1.ipynb\n",
      "2022-10-18  오후 05:31            78,638 Python Programming Day 2.ipynb\n",
      "2022-10-20  오전 09:22            65,800 Python Programming Day 3.ipynb\n",
      "2022-10-20  오후 12:12            24,048 Python Programming Day 4.ipynb\n",
      "2022-10-17  오전 11:28            51,122 Python-logo-notext.svg.png\n",
      "2022-10-20  오전 11:57            10,067 Untitled.ipynb\n",
      "               8개 파일             463,457 바이트\n",
      "               3개 디렉터리  176,088,530,944 바이트 남음\n"
     ]
    }
   ],
   "source": [
    "!dir"
   ]
  },
  {
   "cell_type": "markdown",
   "id": "d35e0d76",
   "metadata": {},
   "source": [
    "- 파일객체 = open(\"파일이름\", \"파일모드\")\n",
    "- 변수 = 파일객체.read()\n",
    "- 파일객체.close()"
   ]
  },
  {
   "cell_type": "code",
   "execution_count": 118,
   "id": "c60c5d37",
   "metadata": {},
   "outputs": [
    {
     "name": "stdout",
     "output_type": "stream",
     "text": [
      "hello world!\n"
     ]
    }
   ],
   "source": [
    "fd = open('hello.txt', 'r')\n",
    "s = fd.read() # 전체 데이터를 가져옴\n",
    "print(s)\n",
    "fd.close()"
   ]
  },
  {
   "cell_type": "markdown",
   "id": "6c581b5e",
   "metadata": {},
   "source": [
    "```\n",
    "with open(\"파일이름\", \"파일모드\") as fd:\n",
    "    코드\n",
    "```"
   ]
  },
  {
   "cell_type": "code",
   "execution_count": 119,
   "id": "2ef04fab",
   "metadata": {},
   "outputs": [
    {
     "name": "stdout",
     "output_type": "stream",
     "text": [
      "hello world!\n"
     ]
    }
   ],
   "source": [
    "with open('hello.txt', 'r') as fd:\n",
    "    s = fd.read() # 전체 데이터를 가져옴\n",
    "    \n",
    "print(s)"
   ]
  },
  {
   "cell_type": "code",
   "execution_count": 127,
   "id": "c49578e7",
   "metadata": {},
   "outputs": [],
   "source": [
    "with open('hello.txt', 'w') as fd:\n",
    "    for i in range(3):\n",
    "        fd.write('Hello World!!! {} \\n'.format(i))"
   ]
  },
  {
   "cell_type": "code",
   "execution_count": 132,
   "id": "d22e8904",
   "metadata": {},
   "outputs": [],
   "source": [
    "line_list = [\"여기는\\n\", \"플레이데이터입니다\\n\", \"오늘도\\n\", \"화이팅\\n\"]\n",
    "with open('play.txt', 'w') as fd:\n",
    "    fd.writelines(line_list) # writelines 는 여러 라인을 출력할 수 있음"
   ]
  },
  {
   "cell_type": "code",
   "execution_count": 133,
   "id": "93e54979",
   "metadata": {},
   "outputs": [],
   "source": [
    "with open('play.txt', 'r') as fd:\n",
    "    lines = fd.readlines()"
   ]
  },
  {
   "cell_type": "code",
   "execution_count": 134,
   "id": "6fd4ce1d",
   "metadata": {},
   "outputs": [
    {
     "data": {
      "text/plain": [
       "['여기는\\n', '플레이데이터입니다\\n', '오늘도\\n', '화이팅\\n']"
      ]
     },
     "execution_count": 134,
     "metadata": {},
     "output_type": "execute_result"
    }
   ],
   "source": [
    "lines"
   ]
  },
  {
   "cell_type": "code",
   "execution_count": null,
   "id": "45f71a8d",
   "metadata": {},
   "outputs": [],
   "source": [
    "# fd.read() : 파일에 있는 모든 데이터를 읽음\n",
    "# fd.readline() : 한줄로 읽은 문자열을 반환\n",
    "# fd.readlines() : 라인별로 읽은 문자열들을 리스트 형태로 반환"
   ]
  },
  {
   "cell_type": "code",
   "execution_count": null,
   "id": "bb005fee",
   "metadata": {},
   "outputs": [],
   "source": [
    "# fd.write(문자열) : 파일에 문자열을 씀\n",
    "# fd.writelines(리스트) : 리스트에 있는 여러 문자열을 한라인씩 씀"
   ]
  },
  {
   "cell_type": "code",
   "execution_count": 135,
   "id": "7251e993",
   "metadata": {},
   "outputs": [
    {
     "data": {
      "text/plain": [
       "'여기는\\n'"
      ]
     },
     "execution_count": 135,
     "metadata": {},
     "output_type": "execute_result"
    }
   ],
   "source": [
    "with open('play.txt', 'r') as fd:\n",
    "    line = fd.readline()\n",
    "line    "
   ]
  },
  {
   "cell_type": "code",
   "execution_count": 137,
   "id": "0b134716",
   "metadata": {},
   "outputs": [
    {
     "name": "stdout",
     "output_type": "stream",
     "text": [
      "여기는\n",
      "플레이데이터입니다\n",
      "오늘도\n",
      "화이팅\n",
      "\n"
     ]
    }
   ],
   "source": [
    "with open('play.txt', 'r') as fd:\n",
    "    line = None\n",
    "    while line != '':\n",
    "        line = fd.readline()\n",
    "        print(line.strip('\\n'))"
   ]
  },
  {
   "attachments": {
    "image.png": {
     "image/png": "[encoded data removed]"
    }
   },
   "cell_type": "markdown",
   "id": "37044ab8",
   "metadata": {},
   "source": [
    "![image.png](attachment:image.png)"
   ]
  },
  {
   "cell_type": "code",
   "execution_count": 141,
   "id": "ddf964b6",
   "metadata": {},
   "outputs": [],
   "source": [
    "import pickle"
   ]
  },
  {
   "cell_type": "code",
   "execution_count": 144,
   "id": "e0ad6891",
   "metadata": {},
   "outputs": [],
   "source": [
    "name = \"James\" # 파이썬 문자열 객체\n",
    "age = 17        # 파이썬 정수 객체\n",
    "scores = {'korean':90, 'english':80} # 파이썬 딕셔너리 객체"
   ]
  },
  {
   "cell_type": "code",
   "execution_count": 145,
   "id": "5d38c18b",
   "metadata": {},
   "outputs": [],
   "source": [
    "with open(\"student.pkl\", \"wb\") as fd:\n",
    "    pickle.dump(name, fd)\n",
    "    pickle.dump(age, fd)\n",
    "    pickle.dump(scores, fd)"
   ]
  },
  {
   "cell_type": "markdown",
   "id": "2a05da55",
   "metadata": {},
   "source": [
    "...."
   ]
  },
  {
   "cell_type": "code",
   "execution_count": 146,
   "id": "0a773bae",
   "metadata": {},
   "outputs": [],
   "source": [
    "with open(\"student.pkl\", \"rb\") as fd:\n",
    "    loaded_name = pickle.load(fd)\n",
    "    loaded_age = pickle.load(fd)\n",
    "    loaded_scores = pickle.load(fd)"
   ]
  },
  {
   "cell_type": "code",
   "execution_count": 147,
   "id": "5ba11f88",
   "metadata": {},
   "outputs": [
    {
     "data": {
      "text/plain": [
       "'James'"
      ]
     },
     "execution_count": 147,
     "metadata": {},
     "output_type": "execute_result"
    }
   ],
   "source": [
    "loaded_name"
   ]
  },
  {
   "cell_type": "code",
   "execution_count": 148,
   "id": "5840fadf",
   "metadata": {},
   "outputs": [
    {
     "data": {
      "text/plain": [
       "17"
      ]
     },
     "execution_count": 148,
     "metadata": {},
     "output_type": "execute_result"
    }
   ],
   "source": [
    "loaded_age"
   ]
  },
  {
   "cell_type": "code",
   "execution_count": 149,
   "id": "3c74723d",
   "metadata": {},
   "outputs": [
    {
     "data": {
      "text/plain": [
       "{'korean': 90, 'english': 80}"
      ]
     },
     "execution_count": 149,
     "metadata": {},
     "output_type": "execute_result"
    }
   ],
   "source": [
    "loaded_scores"
   ]
  },
  {
   "cell_type": "markdown",
   "id": "73534260",
   "metadata": {},
   "source": [
    "# Workshop"
   ]
  },
  {
   "cell_type": "markdown",
   "id": "669327b9",
   "metadata": {},
   "source": [
    "**파일에서 10자 이하인 단어 개수 세기**\n",
    "- 단어가 줄 단위로 저장된 words.txt 파일이 주어집니다. 10자 이하인 단어의 개수가 출력되게 만드세요."
   ]
  },
  {
   "cell_type": "code",
   "execution_count": 153,
   "id": "8632ee64",
   "metadata": {},
   "outputs": [
    {
     "data": {
      "text/plain": [
       "2"
      ]
     },
     "execution_count": 153,
     "metadata": {},
     "output_type": "execute_result"
    }
   ],
   "source": [
    "with open('words.txt', 'r') as fd:\n",
    "    word_list = fd.readlines()\n",
    "    count = 0\n",
    "    for word in word_list:\n",
    "        if len(word.rstrip('\\n')) <= 10:\n",
    "            count += 1\n",
    "count            "
   ]
  },
  {
   "cell_type": "markdown",
   "id": "f3e56c64",
   "metadata": {},
   "source": [
    "**특정 문자가 들어 있는 단어 찾기**\n",
    "- 문자열이 저장된 words2.txt 파일이 주어집니다(문자열은 한 줄로 저장되어 있습니다). words2.txt 파일에서 문자 c가 포함된 단어를 각 줄에 출력하는 프로그램을 만드세요. 단어를 출력할 때는 등장한 순서대로 출력해야 하며 ,(콤마)와 .(점)은 출력하지 않아야 합니다."
   ]
  },
  {
   "cell_type": "code",
   "execution_count": 158,
   "id": "2c27d27a",
   "metadata": {},
   "outputs": [
    {
     "name": "stdout",
     "output_type": "stream",
     "text": [
      "dictator\n",
      "subjects\n",
      "change\n",
      "costume\n",
      "elegance\n",
      "accepted\n"
     ]
    }
   ],
   "source": [
    "with open('words2.txt', 'r') as fd:\n",
    "    paragraph = fd.read()\n",
    "    word_list = paragraph.split()\n",
    "    for word in word_list:\n",
    "        if 'c' in word:\n",
    "            print(word.strip(',.'))"
   ]
  },
  {
   "cell_type": "markdown",
   "id": "0976dfcf",
   "metadata": {},
   "source": [
    "# 함수"
   ]
  },
  {
   "cell_type": "markdown",
   "id": "2a408371",
   "metadata": {},
   "source": [
    "- 코드의 용도 구분\n",
    "- 코드를 재사용\n",
    "- 실수를 줄일 수 있음"
   ]
  },
  {
   "cell_type": "markdown",
   "id": "60864291",
   "metadata": {},
   "source": [
    "```\n",
    "def 함수이름():\n",
    "    코드\n",
    "```    "
   ]
  },
  {
   "cell_type": "code",
   "execution_count": 159,
   "id": "05fb3e46",
   "metadata": {},
   "outputs": [],
   "source": [
    "def hello():\n",
    "    print(\"Hello World!\")"
   ]
  },
  {
   "cell_type": "code",
   "execution_count": 160,
   "id": "65200cd2",
   "metadata": {},
   "outputs": [
    {
     "name": "stdout",
     "output_type": "stream",
     "text": [
      "Hello World!\n"
     ]
    }
   ],
   "source": [
    "hello()"
   ]
  },
  {
   "cell_type": "code",
   "execution_count": 161,
   "id": "adae3ff1",
   "metadata": {},
   "outputs": [
    {
     "name": "stdout",
     "output_type": "stream",
     "text": [
      "Hello World!\n"
     ]
    }
   ],
   "source": [
    "hello()"
   ]
  },
  {
   "cell_type": "markdown",
   "id": "f296e99b",
   "metadata": {},
   "source": [
    "```\n",
    "def 함수이름(매개변수1, 매개변수2):\n",
    "    코드\n",
    "``` "
   ]
  },
  {
   "cell_type": "code",
   "execution_count": 176,
   "id": "3ff9f873",
   "metadata": {},
   "outputs": [],
   "source": [
    "def add(a, b):\n",
    "    c = a + b\n",
    "    print(c)"
   ]
  },
  {
   "cell_type": "code",
   "execution_count": 177,
   "id": "f1a00c62",
   "metadata": {},
   "outputs": [
    {
     "name": "stdout",
     "output_type": "stream",
     "text": [
      "3\n"
     ]
    }
   ],
   "source": [
    "add(1, 2)"
   ]
  },
  {
   "cell_type": "code",
   "execution_count": 165,
   "id": "fe4d49cb",
   "metadata": {},
   "outputs": [
    {
     "name": "stdout",
     "output_type": "stream",
     "text": [
      "7\n"
     ]
    }
   ],
   "source": [
    "add(3, 4)"
   ]
  },
  {
   "cell_type": "code",
   "execution_count": 166,
   "id": "2bae923a",
   "metadata": {},
   "outputs": [
    {
     "name": "stdout",
     "output_type": "stream",
     "text": [
      "12\n"
     ]
    }
   ],
   "source": [
    "add(5, 7)"
   ]
  },
  {
   "cell_type": "markdown",
   "id": "bc5872e8",
   "metadata": {},
   "source": [
    "```\n",
    "def 함수이름(매개변수1, 매개변수2):\n",
    "    코드\n",
    "    return 반환값\n",
    "``` "
   ]
  },
  {
   "cell_type": "code",
   "execution_count": 178,
   "id": "ae384246",
   "metadata": {},
   "outputs": [],
   "source": [
    "def add(a, b):\n",
    "    c = a + b\n",
    "    return c"
   ]
  },
  {
   "cell_type": "code",
   "execution_count": 179,
   "id": "7ec67356",
   "metadata": {},
   "outputs": [
    {
     "data": {
      "text/plain": [
       "3"
      ]
     },
     "execution_count": 179,
     "metadata": {},
     "output_type": "execute_result"
    }
   ],
   "source": [
    "result = add(1, 2)\n",
    "result"
   ]
  },
  {
   "cell_type": "markdown",
   "id": "cc38dfe5",
   "metadata": {},
   "source": [
    "```\n",
    "def 함수이름(매개변수1, 매개변수2):\n",
    "    코드\n",
    "    return 반환값1, 반환값2\n",
    "``` "
   ]
  },
  {
   "cell_type": "code",
   "execution_count": 180,
   "id": "1241a358",
   "metadata": {},
   "outputs": [],
   "source": [
    "def add_sub(a, b):\n",
    "    return a+b, a-b"
   ]
  },
  {
   "cell_type": "code",
   "execution_count": 181,
   "id": "d1e69bb9",
   "metadata": {},
   "outputs": [
    {
     "data": {
      "text/plain": [
       "(30, -10)"
      ]
     },
     "execution_count": 181,
     "metadata": {},
     "output_type": "execute_result"
    }
   ],
   "source": [
    "x, y = add_sub(10, 20)\n",
    "x, y"
   ]
  },
  {
   "cell_type": "markdown",
   "id": "60c6946b",
   "metadata": {},
   "source": [
    "# Workshop"
   ]
  },
  {
   "cell_type": "markdown",
   "id": "0d1d014b",
   "metadata": {},
   "source": [
    "**I have a dream 연설문 단어 빈도수 계산**\n",
    "- WordCount 함수에서 ihaveadream.txt 파일을 열어 전체 내용 중 단어를 키로, 빈도를 값으로 매핑한 사전형 자료를 반환하세요.\n",
    "- 단 stopwords.txt에 있는 단어는 제외시킵니다.\n",
    "- WordCount 함수의 결과를 result.txt로 저장하세요.\n",
    "\n",
    "- majorityCnt 함수에서 사전형 자료를 인수로 받아 값을 기준으로 내림차순으로 정렬하여 값이 가장 큰 키를 반환하세요."
   ]
  },
  {
   "cell_type": "code",
   "execution_count": 185,
   "id": "3c201f9f",
   "metadata": {},
   "outputs": [],
   "source": [
    "with open('ihaveadream.txt', 'r') as fd1:\n",
    "    speech = fd1.read()\n",
    "with open('stopwords.txt', 'r') as fd2:\n",
    "    stopwords = fd2.read()"
   ]
  },
  {
   "cell_type": "code",
   "execution_count": 190,
   "id": "fae58698",
   "metadata": {},
   "outputs": [],
   "source": [
    "word_list = speech.lower().split()\n",
    "stop_list = stopwords.lower().split()"
   ]
  },
  {
   "cell_type": "code",
   "execution_count": 193,
   "id": "122ba5b6",
   "metadata": {
    "collapsed": true
   },
   "outputs": [
    {
     "data": {
      "text/plain": [
       "{'am': 2,\n",
       " 'happy': 1,\n",
       " 'join': 3,\n",
       " 'history': 2,\n",
       " 'demonstration': 1,\n",
       " 'freedom': 19,\n",
       " 'nation.': 2,\n",
       " 'five': 1,\n",
       " 'score': 1,\n",
       " 'ago,': 1,\n",
       " 'american,': 1,\n",
       " 'symbolic': 1,\n",
       " 'shadow': 1,\n",
       " 'stand': 3,\n",
       " 'today,': 3,\n",
       " 'signed': 1,\n",
       " 'emancipation': 1,\n",
       " 'proclamation.': 1,\n",
       " 'momentous': 1,\n",
       " 'decree': 1,\n",
       " 'beacon': 1,\n",
       " 'light': 1,\n",
       " 'hope': 2,\n",
       " 'millions': 1,\n",
       " 'negro': 13,\n",
       " 'slaves': 2,\n",
       " 'seared': 1,\n",
       " 'flames': 1,\n",
       " 'withering': 1,\n",
       " 'injustice.': 1,\n",
       " 'joyous': 1,\n",
       " 'daybreak': 1,\n",
       " 'night': 1,\n",
       " 'captivity.': 1,\n",
       " 'hundred': 4,\n",
       " 'later,': 4,\n",
       " 'free.': 1,\n",
       " 'life': 1,\n",
       " 'sadly': 1,\n",
       " 'crippled': 1,\n",
       " 'manacles': 1,\n",
       " 'segregation': 2,\n",
       " 'chains': 1,\n",
       " 'discrimination.': 1,\n",
       " 'lives': 1,\n",
       " 'lonely': 1,\n",
       " 'island': 1,\n",
       " 'poverty': 1,\n",
       " 'midst': 1,\n",
       " 'vast': 1,\n",
       " 'ocean': 1,\n",
       " 'material': 1,\n",
       " 'prosperity.': 1,\n",
       " 'languished': 1,\n",
       " 'corners': 1,\n",
       " 'american': 3,\n",
       " 'society': 1,\n",
       " 'exile': 1,\n",
       " 'own': 1,\n",
       " 'land.': 1,\n",
       " \"we've\": 3,\n",
       " 'dramatize': 1,\n",
       " 'shameful': 1,\n",
       " 'condition.': 1,\n",
       " 'sense': 1,\n",
       " \"nation's\": 1,\n",
       " 'capital': 1,\n",
       " 'cash': 2,\n",
       " 'check.': 1,\n",
       " 'architects': 1,\n",
       " 'republic': 1,\n",
       " 'wrote': 1,\n",
       " 'magnificent': 1,\n",
       " 'words': 3,\n",
       " 'constitution': 1,\n",
       " 'declaration': 1,\n",
       " 'independence,': 1,\n",
       " 'signing': 1,\n",
       " 'promissory': 2,\n",
       " 'note': 2,\n",
       " 'fall': 1,\n",
       " 'heir.': 1,\n",
       " 'promise': 1,\n",
       " 'men,': 3,\n",
       " 'yes,': 1,\n",
       " 'black': 4,\n",
       " 'white': 6,\n",
       " 'guaranteed': 1,\n",
       " '\"unalienable': 1,\n",
       " 'rights\"': 1,\n",
       " '\"life,': 1,\n",
       " 'liberty': 1,\n",
       " 'pursuit': 1,\n",
       " 'happiness.\"': 1,\n",
       " 'obvious': 1,\n",
       " 'america': 5,\n",
       " 'defaulted': 1,\n",
       " 'note,': 1,\n",
       " 'insofar': 1,\n",
       " 'citizens': 1,\n",
       " 'color': 2,\n",
       " 'concerned.': 1,\n",
       " 'instead': 1,\n",
       " 'honoring': 1,\n",
       " 'sacred': 1,\n",
       " 'obligation,': 1,\n",
       " 'people': 1,\n",
       " 'bad': 1,\n",
       " 'check,': 2,\n",
       " 'check': 2,\n",
       " 'marked': 1,\n",
       " '\"insufficient': 1,\n",
       " 'funds.\"': 1,\n",
       " 'refuse': 2,\n",
       " 'believe': 2,\n",
       " 'bank': 1,\n",
       " 'justice': 3,\n",
       " 'bankrupt.': 1,\n",
       " 'insufficient': 1,\n",
       " 'funds': 1,\n",
       " 'vaults': 1,\n",
       " 'opportunity': 1,\n",
       " 'so,': 1,\n",
       " 'demand': 1,\n",
       " 'riches': 1,\n",
       " 'security': 1,\n",
       " 'justice.': 3,\n",
       " 'hallowed': 1,\n",
       " 'spot': 1,\n",
       " 'remind': 1,\n",
       " 'fierce': 1,\n",
       " 'urgency': 2,\n",
       " 'now.': 1,\n",
       " 'time': 5,\n",
       " 'engage': 1,\n",
       " 'luxury': 1,\n",
       " 'cooling': 1,\n",
       " 'tranquilizing': 1,\n",
       " 'drug': 1,\n",
       " 'gradualism.': 1,\n",
       " 'real': 1,\n",
       " 'promises': 1,\n",
       " 'democracy.': 1,\n",
       " 'rise': 3,\n",
       " 'dark': 1,\n",
       " 'desolate': 1,\n",
       " 'valley': 3,\n",
       " 'sunlit': 1,\n",
       " 'path': 1,\n",
       " 'racial': 2,\n",
       " 'lift': 1,\n",
       " 'nation': 7,\n",
       " 'quicksands': 1,\n",
       " 'injustice': 1,\n",
       " 'solid': 1,\n",
       " 'rock': 1,\n",
       " 'brotherhood.': 3,\n",
       " 'reality': 1,\n",
       " \"god's\": 3,\n",
       " 'children.': 1,\n",
       " 'fatal': 1,\n",
       " 'overlook': 1,\n",
       " 'moment.': 1,\n",
       " 'sweltering': 3,\n",
       " 'summer': 1,\n",
       " \"negro's\": 2,\n",
       " 'legitimate': 1,\n",
       " 'discontent': 1,\n",
       " 'pass': 1,\n",
       " 'invigorating': 1,\n",
       " 'autumn': 1,\n",
       " 'equality.': 1,\n",
       " 'nineteen': 1,\n",
       " 'sixty-three': 1,\n",
       " 'end,': 1,\n",
       " 'beginning.': 1,\n",
       " 'blow': 1,\n",
       " 'steam': 1,\n",
       " 'content': 2,\n",
       " 'rude': 1,\n",
       " 'awakening': 1,\n",
       " 'returns': 1,\n",
       " 'business': 1,\n",
       " 'usual.': 1,\n",
       " 'neither': 1,\n",
       " 'rest': 1,\n",
       " 'nor': 1,\n",
       " 'tranquility': 1,\n",
       " 'granted': 1,\n",
       " 'citizenship': 1,\n",
       " 'rights.': 1,\n",
       " 'whirlwinds': 1,\n",
       " 'revolt': 1,\n",
       " 'continue': 2,\n",
       " 'shake': 1,\n",
       " 'foundations': 1,\n",
       " 'bright': 1,\n",
       " 'day': 10,\n",
       " 'emerges.': 1,\n",
       " 'people,': 2,\n",
       " 'warm': 1,\n",
       " 'threshold': 1,\n",
       " 'leads': 1,\n",
       " 'palace': 1,\n",
       " 'justice:': 1,\n",
       " 'process': 1,\n",
       " 'gaining': 1,\n",
       " 'rightful': 1,\n",
       " 'place,': 1,\n",
       " 'guilty': 1,\n",
       " 'wrongful': 1,\n",
       " 'deeds.': 1,\n",
       " 'seek': 1,\n",
       " 'satisfy': 1,\n",
       " 'thirst': 1,\n",
       " 'drinking': 1,\n",
       " 'cup': 1,\n",
       " 'bitterness': 1,\n",
       " 'hatred.': 1,\n",
       " 'forever': 1,\n",
       " 'conduct': 1,\n",
       " 'struggle': 2,\n",
       " 'plane': 1,\n",
       " 'dignity': 2,\n",
       " 'discipline.': 1,\n",
       " 'allow': 2,\n",
       " 'creative': 2,\n",
       " 'protest': 1,\n",
       " 'degenerate': 1,\n",
       " 'physical': 2,\n",
       " 'violence.': 1,\n",
       " 'again,': 1,\n",
       " 'majestic': 1,\n",
       " 'heights': 1,\n",
       " 'meeting': 1,\n",
       " 'force': 1,\n",
       " 'soul': 1,\n",
       " 'force.': 1,\n",
       " 'marvelous': 1,\n",
       " 'militancy': 1,\n",
       " 'engulfed': 1,\n",
       " 'community': 1,\n",
       " 'lead': 1,\n",
       " 'distrust': 1,\n",
       " 'brothers,': 1,\n",
       " 'evidenced': 1,\n",
       " 'presence': 1,\n",
       " 'realize': 2,\n",
       " 'destiny': 1,\n",
       " 'tied': 1,\n",
       " 'destiny.': 1,\n",
       " 'inextricably': 1,\n",
       " 'bound': 1,\n",
       " 'freedom.': 1,\n",
       " 'walk': 1,\n",
       " 'alone.': 1,\n",
       " 'walk,': 1,\n",
       " 'pledge': 1,\n",
       " 'march': 1,\n",
       " 'ahead.': 1,\n",
       " 'back.': 1,\n",
       " 'devotees': 1,\n",
       " 'civil': 1,\n",
       " 'rights,': 1,\n",
       " '\"when': 1,\n",
       " 'satisfied?\"': 1,\n",
       " 'satisfied': 6,\n",
       " 'victim': 1,\n",
       " 'unspeakable': 1,\n",
       " 'horrors': 1,\n",
       " 'police': 2,\n",
       " 'brutality.': 2,\n",
       " 'bodies,': 1,\n",
       " 'heavy': 1,\n",
       " 'fatigue': 1,\n",
       " 'travel,': 1,\n",
       " 'gain': 1,\n",
       " 'lodging': 1,\n",
       " 'motels': 1,\n",
       " 'highways': 1,\n",
       " 'hotels': 1,\n",
       " 'cities.': 1,\n",
       " '*we': 1,\n",
       " 'basic': 1,\n",
       " 'mobility': 1,\n",
       " 'ghetto': 1,\n",
       " 'larger': 1,\n",
       " 'one.': 1,\n",
       " 'children': 3,\n",
       " 'stripped': 1,\n",
       " 'self-hood': 1,\n",
       " 'robbed': 1,\n",
       " 'signs': 1,\n",
       " 'stating:': 1,\n",
       " '\"for': 1,\n",
       " 'whites': 1,\n",
       " 'only.\"*': 1,\n",
       " 'mississippi': 1,\n",
       " 'vote': 1,\n",
       " 'york': 1,\n",
       " 'believes': 1,\n",
       " 'vote.': 1,\n",
       " 'no,': 2,\n",
       " 'satisfied,': 1,\n",
       " '\"justice': 1,\n",
       " 'rolls': 1,\n",
       " 'waters,': 1,\n",
       " 'righteousness': 1,\n",
       " 'mighty': 2,\n",
       " 'stream.\"1': 1,\n",
       " 'unmindful': 1,\n",
       " 'trials': 1,\n",
       " 'tribulations.': 1,\n",
       " 'fresh': 1,\n",
       " 'narrow': 1,\n",
       " 'jail': 2,\n",
       " 'cells.': 1,\n",
       " 'quest': 2,\n",
       " '--': 3,\n",
       " 'left': 1,\n",
       " 'battered': 1,\n",
       " 'storms': 1,\n",
       " 'persecution': 1,\n",
       " 'staggered': 1,\n",
       " 'winds': 1,\n",
       " 'veterans': 1,\n",
       " 'suffering.': 1,\n",
       " 'faith': 2,\n",
       " 'unearned': 1,\n",
       " 'suffering': 1,\n",
       " 'redemptive.': 1,\n",
       " 'mississippi,': 2,\n",
       " 'alabama,': 2,\n",
       " 'south': 2,\n",
       " 'carolina,': 1,\n",
       " 'georgia,': 2,\n",
       " 'louisiana,': 1,\n",
       " 'slums': 1,\n",
       " 'ghettos': 1,\n",
       " 'northern': 1,\n",
       " 'cities,': 1,\n",
       " 'knowing': 2,\n",
       " 'somehow': 1,\n",
       " 'situation': 1,\n",
       " 'changed.': 1,\n",
       " 'wallow': 1,\n",
       " 'despair,': 1,\n",
       " 'friends.': 1,\n",
       " 'difficulties': 1,\n",
       " 'tomorrow,': 1,\n",
       " 'dream.': 2,\n",
       " 'dream': 9,\n",
       " 'deeply': 1,\n",
       " 'rooted': 1,\n",
       " 'live': 2,\n",
       " 'true': 1,\n",
       " 'meaning': 1,\n",
       " 'creed:': 1,\n",
       " '\"we': 1,\n",
       " 'hold': 1,\n",
       " 'truths': 1,\n",
       " 'self-evident,': 1,\n",
       " 'created': 1,\n",
       " 'equal.\"': 1,\n",
       " 'red': 1,\n",
       " 'hills': 1,\n",
       " 'sons': 2,\n",
       " 'former': 2,\n",
       " 'slave': 1,\n",
       " 'owners': 1,\n",
       " 'able': 8,\n",
       " 'sit': 1,\n",
       " 'table': 1,\n",
       " 'heat': 2,\n",
       " 'injustice,': 1,\n",
       " 'oppression,': 1,\n",
       " 'transformed': 1,\n",
       " 'oasis': 1,\n",
       " 'little': 3,\n",
       " 'judged': 1,\n",
       " 'skin': 1,\n",
       " 'character.': 1,\n",
       " 'today!': 2,\n",
       " 'day,': 1,\n",
       " 'vicious': 1,\n",
       " 'racists,': 1,\n",
       " 'governor': 1,\n",
       " 'lips': 1,\n",
       " 'dripping': 1,\n",
       " '\"interposition\"': 1,\n",
       " '\"nullification\"': 1,\n",
       " 'alabama': 1,\n",
       " 'boys': 2,\n",
       " 'girls': 2,\n",
       " 'hands': 2,\n",
       " 'sisters': 1,\n",
       " 'brothers.': 1,\n",
       " 'exalted,': 1,\n",
       " 'hill': 2,\n",
       " 'mountain': 4,\n",
       " 'low,': 1,\n",
       " 'rough': 1,\n",
       " 'plain,': 1,\n",
       " 'crooked': 1,\n",
       " 'straight;': 1,\n",
       " '\"and': 1,\n",
       " 'glory': 1,\n",
       " 'lord': 1,\n",
       " 'revealed': 1,\n",
       " 'flesh': 1,\n",
       " 'together.\"2': 1,\n",
       " 'hope,': 1,\n",
       " 'with.': 1,\n",
       " 'faith,': 3,\n",
       " 'hew': 1,\n",
       " 'despair': 1,\n",
       " 'stone': 2,\n",
       " 'hope.': 1,\n",
       " 'transform': 1,\n",
       " 'jangling': 1,\n",
       " 'discords': 1,\n",
       " 'beautiful': 1,\n",
       " 'symphony': 1,\n",
       " 'together,': 5,\n",
       " 'pray': 1,\n",
       " 'free': 4,\n",
       " 'day.': 1,\n",
       " 'sing': 2,\n",
       " 'meaning:': 1,\n",
       " 'country': 1,\n",
       " \"'tis\": 1,\n",
       " 'thee,': 1,\n",
       " 'sweet': 1,\n",
       " 'land': 3,\n",
       " 'liberty,': 1,\n",
       " 'thee': 1,\n",
       " 'sing.': 1,\n",
       " 'fathers': 1,\n",
       " 'died,': 1,\n",
       " \"pilgrim's\": 1,\n",
       " 'pride,': 1,\n",
       " 'mountainside,': 2,\n",
       " 'ring!': 1,\n",
       " 'nation,': 1,\n",
       " 'true.': 1,\n",
       " 'ring': 9,\n",
       " 'prodigious': 1,\n",
       " 'hilltops': 1,\n",
       " 'hampshire.': 1,\n",
       " 'mountains': 1,\n",
       " 'york.': 1,\n",
       " 'heightening': 1,\n",
       " 'alleghenies': 1,\n",
       " 'pennsylvania.': 1,\n",
       " 'snow-capped': 1,\n",
       " 'rockies': 1,\n",
       " 'colorado.': 1,\n",
       " 'curvaceous': 1,\n",
       " 'slopes': 1,\n",
       " 'california.': 1,\n",
       " 'that:': 1,\n",
       " 'georgia.': 1,\n",
       " 'lookout': 1,\n",
       " 'tennessee.': 1,\n",
       " 'molehill': 1,\n",
       " 'mississippi.': 1,\n",
       " 'ring.': 1,\n",
       " 'happens,': 1,\n",
       " 'ring,': 1,\n",
       " 'village': 1,\n",
       " 'hamlet,': 1,\n",
       " 'city,': 1,\n",
       " 'speed': 1,\n",
       " 'children,': 1,\n",
       " 'jews': 1,\n",
       " 'gentiles,': 1,\n",
       " 'protestants': 1,\n",
       " 'catholics,': 1,\n",
       " 'spiritual:': 1,\n",
       " 'last!': 3,\n",
       " 'thank': 1,\n",
       " 'god': 1,\n",
       " 'almighty,': 1}"
      ]
     },
     "execution_count": 193,
     "metadata": {},
     "output_type": "execute_result"
    }
   ],
   "source": [
    "# option 1\n",
    "d = {}\n",
    "for word in word_list: # word : i -> am -> happy -> ....\n",
    "    if word in stop_list:\n",
    "        continue\n",
    "    if word not in d:\n",
    "        d[word] = 1 # 이 단어가 처음 등장해서 최초로 카운트\n",
    "    else:\n",
    "        d[word] += 1 # 이미 단어가 등록된 경우에는 카운트 누적     "
   ]
  },
  {
   "cell_type": "code",
   "execution_count": 196,
   "id": "de9d8946",
   "metadata": {
    "collapsed": true
   },
   "outputs": [
    {
     "data": {
      "text/plain": [
       "{'am': 2,\n",
       " 'happy': 1,\n",
       " 'join': 3,\n",
       " 'history': 2,\n",
       " 'demonstration': 1,\n",
       " 'freedom': 19,\n",
       " 'nation.': 2,\n",
       " 'five': 1,\n",
       " 'score': 1,\n",
       " 'ago,': 1,\n",
       " 'american,': 1,\n",
       " 'symbolic': 1,\n",
       " 'shadow': 1,\n",
       " 'stand': 3,\n",
       " 'today,': 3,\n",
       " 'signed': 1,\n",
       " 'emancipation': 1,\n",
       " 'proclamation.': 1,\n",
       " 'momentous': 1,\n",
       " 'decree': 1,\n",
       " 'beacon': 1,\n",
       " 'light': 1,\n",
       " 'hope': 2,\n",
       " 'millions': 1,\n",
       " 'negro': 13,\n",
       " 'slaves': 2,\n",
       " 'seared': 1,\n",
       " 'flames': 1,\n",
       " 'withering': 1,\n",
       " 'injustice.': 1,\n",
       " 'joyous': 1,\n",
       " 'daybreak': 1,\n",
       " 'night': 1,\n",
       " 'captivity.': 1,\n",
       " 'hundred': 4,\n",
       " 'later,': 4,\n",
       " 'free.': 1,\n",
       " 'life': 1,\n",
       " 'sadly': 1,\n",
       " 'crippled': 1,\n",
       " 'manacles': 1,\n",
       " 'segregation': 2,\n",
       " 'chains': 1,\n",
       " 'discrimination.': 1,\n",
       " 'lives': 1,\n",
       " 'lonely': 1,\n",
       " 'island': 1,\n",
       " 'poverty': 1,\n",
       " 'midst': 1,\n",
       " 'vast': 1,\n",
       " 'ocean': 1,\n",
       " 'material': 1,\n",
       " 'prosperity.': 1,\n",
       " 'languished': 1,\n",
       " 'corners': 1,\n",
       " 'american': 3,\n",
       " 'society': 1,\n",
       " 'exile': 1,\n",
       " 'own': 1,\n",
       " 'land.': 1,\n",
       " \"we've\": 3,\n",
       " 'dramatize': 1,\n",
       " 'shameful': 1,\n",
       " 'condition.': 1,\n",
       " 'sense': 1,\n",
       " \"nation's\": 1,\n",
       " 'capital': 1,\n",
       " 'cash': 2,\n",
       " 'check.': 1,\n",
       " 'architects': 1,\n",
       " 'republic': 1,\n",
       " 'wrote': 1,\n",
       " 'magnificent': 1,\n",
       " 'words': 3,\n",
       " 'constitution': 1,\n",
       " 'declaration': 1,\n",
       " 'independence,': 1,\n",
       " 'signing': 1,\n",
       " 'promissory': 2,\n",
       " 'note': 2,\n",
       " 'fall': 1,\n",
       " 'heir.': 1,\n",
       " 'promise': 1,\n",
       " 'men,': 3,\n",
       " 'yes,': 1,\n",
       " 'black': 4,\n",
       " 'white': 6,\n",
       " 'guaranteed': 1,\n",
       " '\"unalienable': 1,\n",
       " 'rights\"': 1,\n",
       " '\"life,': 1,\n",
       " 'liberty': 1,\n",
       " 'pursuit': 1,\n",
       " 'happiness.\"': 1,\n",
       " 'obvious': 1,\n",
       " 'america': 5,\n",
       " 'defaulted': 1,\n",
       " 'note,': 1,\n",
       " 'insofar': 1,\n",
       " 'citizens': 1,\n",
       " 'color': 2,\n",
       " 'concerned.': 1,\n",
       " 'instead': 1,\n",
       " 'honoring': 1,\n",
       " 'sacred': 1,\n",
       " 'obligation,': 1,\n",
       " 'people': 1,\n",
       " 'bad': 1,\n",
       " 'check,': 2,\n",
       " 'check': 2,\n",
       " 'marked': 1,\n",
       " '\"insufficient': 1,\n",
       " 'funds.\"': 1,\n",
       " 'refuse': 2,\n",
       " 'believe': 2,\n",
       " 'bank': 1,\n",
       " 'justice': 3,\n",
       " 'bankrupt.': 1,\n",
       " 'insufficient': 1,\n",
       " 'funds': 1,\n",
       " 'vaults': 1,\n",
       " 'opportunity': 1,\n",
       " 'so,': 1,\n",
       " 'demand': 1,\n",
       " 'riches': 1,\n",
       " 'security': 1,\n",
       " 'justice.': 3,\n",
       " 'hallowed': 1,\n",
       " 'spot': 1,\n",
       " 'remind': 1,\n",
       " 'fierce': 1,\n",
       " 'urgency': 2,\n",
       " 'now.': 1,\n",
       " 'time': 5,\n",
       " 'engage': 1,\n",
       " 'luxury': 1,\n",
       " 'cooling': 1,\n",
       " 'tranquilizing': 1,\n",
       " 'drug': 1,\n",
       " 'gradualism.': 1,\n",
       " 'real': 1,\n",
       " 'promises': 1,\n",
       " 'democracy.': 1,\n",
       " 'rise': 3,\n",
       " 'dark': 1,\n",
       " 'desolate': 1,\n",
       " 'valley': 3,\n",
       " 'sunlit': 1,\n",
       " 'path': 1,\n",
       " 'racial': 2,\n",
       " 'lift': 1,\n",
       " 'nation': 7,\n",
       " 'quicksands': 1,\n",
       " 'injustice': 1,\n",
       " 'solid': 1,\n",
       " 'rock': 1,\n",
       " 'brotherhood.': 3,\n",
       " 'reality': 1,\n",
       " \"god's\": 3,\n",
       " 'children.': 1,\n",
       " 'fatal': 1,\n",
       " 'overlook': 1,\n",
       " 'moment.': 1,\n",
       " 'sweltering': 3,\n",
       " 'summer': 1,\n",
       " \"negro's\": 2,\n",
       " 'legitimate': 1,\n",
       " 'discontent': 1,\n",
       " 'pass': 1,\n",
       " 'invigorating': 1,\n",
       " 'autumn': 1,\n",
       " 'equality.': 1,\n",
       " 'nineteen': 1,\n",
       " 'sixty-three': 1,\n",
       " 'end,': 1,\n",
       " 'beginning.': 1,\n",
       " 'blow': 1,\n",
       " 'steam': 1,\n",
       " 'content': 2,\n",
       " 'rude': 1,\n",
       " 'awakening': 1,\n",
       " 'returns': 1,\n",
       " 'business': 1,\n",
       " 'usual.': 1,\n",
       " 'neither': 1,\n",
       " 'rest': 1,\n",
       " 'nor': 1,\n",
       " 'tranquility': 1,\n",
       " 'granted': 1,\n",
       " 'citizenship': 1,\n",
       " 'rights.': 1,\n",
       " 'whirlwinds': 1,\n",
       " 'revolt': 1,\n",
       " 'continue': 2,\n",
       " 'shake': 1,\n",
       " 'foundations': 1,\n",
       " 'bright': 1,\n",
       " 'day': 10,\n",
       " 'emerges.': 1,\n",
       " 'people,': 2,\n",
       " 'warm': 1,\n",
       " 'threshold': 1,\n",
       " 'leads': 1,\n",
       " 'palace': 1,\n",
       " 'justice:': 1,\n",
       " 'process': 1,\n",
       " 'gaining': 1,\n",
       " 'rightful': 1,\n",
       " 'place,': 1,\n",
       " 'guilty': 1,\n",
       " 'wrongful': 1,\n",
       " 'deeds.': 1,\n",
       " 'seek': 1,\n",
       " 'satisfy': 1,\n",
       " 'thirst': 1,\n",
       " 'drinking': 1,\n",
       " 'cup': 1,\n",
       " 'bitterness': 1,\n",
       " 'hatred.': 1,\n",
       " 'forever': 1,\n",
       " 'conduct': 1,\n",
       " 'struggle': 2,\n",
       " 'plane': 1,\n",
       " 'dignity': 2,\n",
       " 'discipline.': 1,\n",
       " 'allow': 2,\n",
       " 'creative': 2,\n",
       " 'protest': 1,\n",
       " 'degenerate': 1,\n",
       " 'physical': 2,\n",
       " 'violence.': 1,\n",
       " 'again,': 1,\n",
       " 'majestic': 1,\n",
       " 'heights': 1,\n",
       " 'meeting': 1,\n",
       " 'force': 1,\n",
       " 'soul': 1,\n",
       " 'force.': 1,\n",
       " 'marvelous': 1,\n",
       " 'militancy': 1,\n",
       " 'engulfed': 1,\n",
       " 'community': 1,\n",
       " 'lead': 1,\n",
       " 'distrust': 1,\n",
       " 'brothers,': 1,\n",
       " 'evidenced': 1,\n",
       " 'presence': 1,\n",
       " 'realize': 2,\n",
       " 'destiny': 1,\n",
       " 'tied': 1,\n",
       " 'destiny.': 1,\n",
       " 'inextricably': 1,\n",
       " 'bound': 1,\n",
       " 'freedom.': 1,\n",
       " 'walk': 1,\n",
       " 'alone.': 1,\n",
       " 'walk,': 1,\n",
       " 'pledge': 1,\n",
       " 'march': 1,\n",
       " 'ahead.': 1,\n",
       " 'back.': 1,\n",
       " 'devotees': 1,\n",
       " 'civil': 1,\n",
       " 'rights,': 1,\n",
       " '\"when': 1,\n",
       " 'satisfied?\"': 1,\n",
       " 'satisfied': 6,\n",
       " 'victim': 1,\n",
       " 'unspeakable': 1,\n",
       " 'horrors': 1,\n",
       " 'police': 2,\n",
       " 'brutality.': 2,\n",
       " 'bodies,': 1,\n",
       " 'heavy': 1,\n",
       " 'fatigue': 1,\n",
       " 'travel,': 1,\n",
       " 'gain': 1,\n",
       " 'lodging': 1,\n",
       " 'motels': 1,\n",
       " 'highways': 1,\n",
       " 'hotels': 1,\n",
       " 'cities.': 1,\n",
       " '*we': 1,\n",
       " 'basic': 1,\n",
       " 'mobility': 1,\n",
       " 'ghetto': 1,\n",
       " 'larger': 1,\n",
       " 'one.': 1,\n",
       " 'children': 3,\n",
       " 'stripped': 1,\n",
       " 'self-hood': 1,\n",
       " 'robbed': 1,\n",
       " 'signs': 1,\n",
       " 'stating:': 1,\n",
       " '\"for': 1,\n",
       " 'whites': 1,\n",
       " 'only.\"*': 1,\n",
       " 'mississippi': 1,\n",
       " 'vote': 1,\n",
       " 'york': 1,\n",
       " 'believes': 1,\n",
       " 'vote.': 1,\n",
       " 'no,': 2,\n",
       " 'satisfied,': 1,\n",
       " '\"justice': 1,\n",
       " 'rolls': 1,\n",
       " 'waters,': 1,\n",
       " 'righteousness': 1,\n",
       " 'mighty': 2,\n",
       " 'stream.\"1': 1,\n",
       " 'unmindful': 1,\n",
       " 'trials': 1,\n",
       " 'tribulations.': 1,\n",
       " 'fresh': 1,\n",
       " 'narrow': 1,\n",
       " 'jail': 2,\n",
       " 'cells.': 1,\n",
       " 'quest': 2,\n",
       " '--': 3,\n",
       " 'left': 1,\n",
       " 'battered': 1,\n",
       " 'storms': 1,\n",
       " 'persecution': 1,\n",
       " 'staggered': 1,\n",
       " 'winds': 1,\n",
       " 'veterans': 1,\n",
       " 'suffering.': 1,\n",
       " 'faith': 2,\n",
       " 'unearned': 1,\n",
       " 'suffering': 1,\n",
       " 'redemptive.': 1,\n",
       " 'mississippi,': 2,\n",
       " 'alabama,': 2,\n",
       " 'south': 2,\n",
       " 'carolina,': 1,\n",
       " 'georgia,': 2,\n",
       " 'louisiana,': 1,\n",
       " 'slums': 1,\n",
       " 'ghettos': 1,\n",
       " 'northern': 1,\n",
       " 'cities,': 1,\n",
       " 'knowing': 2,\n",
       " 'somehow': 1,\n",
       " 'situation': 1,\n",
       " 'changed.': 1,\n",
       " 'wallow': 1,\n",
       " 'despair,': 1,\n",
       " 'friends.': 1,\n",
       " 'difficulties': 1,\n",
       " 'tomorrow,': 1,\n",
       " 'dream.': 2,\n",
       " 'dream': 9,\n",
       " 'deeply': 1,\n",
       " 'rooted': 1,\n",
       " 'live': 2,\n",
       " 'true': 1,\n",
       " 'meaning': 1,\n",
       " 'creed:': 1,\n",
       " '\"we': 1,\n",
       " 'hold': 1,\n",
       " 'truths': 1,\n",
       " 'self-evident,': 1,\n",
       " 'created': 1,\n",
       " 'equal.\"': 1,\n",
       " 'red': 1,\n",
       " 'hills': 1,\n",
       " 'sons': 2,\n",
       " 'former': 2,\n",
       " 'slave': 1,\n",
       " 'owners': 1,\n",
       " 'able': 8,\n",
       " 'sit': 1,\n",
       " 'table': 1,\n",
       " 'heat': 2,\n",
       " 'injustice,': 1,\n",
       " 'oppression,': 1,\n",
       " 'transformed': 1,\n",
       " 'oasis': 1,\n",
       " 'little': 3,\n",
       " 'judged': 1,\n",
       " 'skin': 1,\n",
       " 'character.': 1,\n",
       " 'today!': 2,\n",
       " 'day,': 1,\n",
       " 'vicious': 1,\n",
       " 'racists,': 1,\n",
       " 'governor': 1,\n",
       " 'lips': 1,\n",
       " 'dripping': 1,\n",
       " '\"interposition\"': 1,\n",
       " '\"nullification\"': 1,\n",
       " 'alabama': 1,\n",
       " 'boys': 2,\n",
       " 'girls': 2,\n",
       " 'hands': 2,\n",
       " 'sisters': 1,\n",
       " 'brothers.': 1,\n",
       " 'exalted,': 1,\n",
       " 'hill': 2,\n",
       " 'mountain': 4,\n",
       " 'low,': 1,\n",
       " 'rough': 1,\n",
       " 'plain,': 1,\n",
       " 'crooked': 1,\n",
       " 'straight;': 1,\n",
       " '\"and': 1,\n",
       " 'glory': 1,\n",
       " 'lord': 1,\n",
       " 'revealed': 1,\n",
       " 'flesh': 1,\n",
       " 'together.\"2': 1,\n",
       " 'hope,': 1,\n",
       " 'with.': 1,\n",
       " 'faith,': 3,\n",
       " 'hew': 1,\n",
       " 'despair': 1,\n",
       " 'stone': 2,\n",
       " 'hope.': 1,\n",
       " 'transform': 1,\n",
       " 'jangling': 1,\n",
       " 'discords': 1,\n",
       " 'beautiful': 1,\n",
       " 'symphony': 1,\n",
       " 'together,': 5,\n",
       " 'pray': 1,\n",
       " 'free': 4,\n",
       " 'day.': 1,\n",
       " 'sing': 2,\n",
       " 'meaning:': 1,\n",
       " 'country': 1,\n",
       " \"'tis\": 1,\n",
       " 'thee,': 1,\n",
       " 'sweet': 1,\n",
       " 'land': 3,\n",
       " 'liberty,': 1,\n",
       " 'thee': 1,\n",
       " 'sing.': 1,\n",
       " 'fathers': 1,\n",
       " 'died,': 1,\n",
       " \"pilgrim's\": 1,\n",
       " 'pride,': 1,\n",
       " 'mountainside,': 2,\n",
       " 'ring!': 1,\n",
       " 'nation,': 1,\n",
       " 'true.': 1,\n",
       " 'ring': 9,\n",
       " 'prodigious': 1,\n",
       " 'hilltops': 1,\n",
       " 'hampshire.': 1,\n",
       " 'mountains': 1,\n",
       " 'york.': 1,\n",
       " 'heightening': 1,\n",
       " 'alleghenies': 1,\n",
       " 'pennsylvania.': 1,\n",
       " 'snow-capped': 1,\n",
       " 'rockies': 1,\n",
       " 'colorado.': 1,\n",
       " 'curvaceous': 1,\n",
       " 'slopes': 1,\n",
       " 'california.': 1,\n",
       " 'that:': 1,\n",
       " 'georgia.': 1,\n",
       " 'lookout': 1,\n",
       " 'tennessee.': 1,\n",
       " 'molehill': 1,\n",
       " 'mississippi.': 1,\n",
       " 'ring.': 1,\n",
       " 'happens,': 1,\n",
       " 'ring,': 1,\n",
       " 'village': 1,\n",
       " 'hamlet,': 1,\n",
       " 'city,': 1,\n",
       " 'speed': 1,\n",
       " 'children,': 1,\n",
       " 'jews': 1,\n",
       " 'gentiles,': 1,\n",
       " 'protestants': 1,\n",
       " 'catholics,': 1,\n",
       " 'spiritual:': 1,\n",
       " 'last!': 3,\n",
       " 'thank': 1,\n",
       " 'god': 1,\n",
       " 'almighty,': 1}"
      ]
     },
     "execution_count": 196,
     "metadata": {},
     "output_type": "execute_result"
    }
   ],
   "source": [
    "# option 2\n",
    "d = {}\n",
    "for word in word_list: # word : i -> am -> happy -> ....\n",
    "    if word in stop_list:\n",
    "        continue\n",
    "    d[word] = d.get(word, 0) + 1 # 이미 단어가 사전에 있는 경우, 없는 경우 모두 값을 가져온다."
   ]
  },
  {
   "cell_type": "code",
   "execution_count": 198,
   "id": "c2240190",
   "metadata": {},
   "outputs": [],
   "source": [
    "def WordCount():\n",
    "    d = {}\n",
    "    for word in word_list: # word : i -> am -> happy -> ....\n",
    "        if word in stop_list:\n",
    "            continue\n",
    "        d[word] = d.get(word, 0) + 1 # 이미 단어가 사전에 있는 경우, 없는 경우 모두 값을 가져온다.\n",
    "    return d"
   ]
  },
  {
   "cell_type": "code",
   "execution_count": 199,
   "id": "002ffd62",
   "metadata": {},
   "outputs": [],
   "source": [
    "d = WordCount()\n",
    "with open('result.txt', 'w') as fd3:\n",
    "    fd3.write(str(d))"
   ]
  },
  {
   "cell_type": "markdown",
   "id": "80320c1f",
   "metadata": {},
   "source": [
    "**(참고) 정렬**"
   ]
  },
  {
   "cell_type": "code",
   "execution_count": 200,
   "id": "2e62f1a8",
   "metadata": {},
   "outputs": [],
   "source": [
    "l = [1, 4, 5, 6, -1, -10]\n",
    "l.sort() # 리스트에서 제공하는 sort() 메서드를 사용"
   ]
  },
  {
   "cell_type": "code",
   "execution_count": 201,
   "id": "925bc52c",
   "metadata": {},
   "outputs": [
    {
     "data": {
      "text/plain": [
       "[-10, -1, 1, 4, 5, 6]"
      ]
     },
     "execution_count": 201,
     "metadata": {},
     "output_type": "execute_result"
    }
   ],
   "source": [
    "l # 오름차순 정렬된것이 l에 반영"
   ]
  },
  {
   "cell_type": "code",
   "execution_count": 202,
   "id": "c1df23da",
   "metadata": {},
   "outputs": [
    {
     "data": {
      "text/plain": [
       "[-10, -1, 1, 4, 5, 6]"
      ]
     },
     "execution_count": 202,
     "metadata": {},
     "output_type": "execute_result"
    }
   ],
   "source": [
    "l = [1, 4, 5, 6, -1, -10]\n",
    "result = sorted(l) # sorted () 함수는 다른 시퀀스 객체에서도 사용할 수 있음\n",
    "result # 정렬의 결과물이 반환되고, l은 원본 그대로"
   ]
  },
  {
   "cell_type": "code",
   "execution_count": 203,
   "id": "e918c983",
   "metadata": {},
   "outputs": [
    {
     "data": {
      "text/plain": [
       "[1, 4, 5, 6, -1, -10]"
      ]
     },
     "execution_count": 203,
     "metadata": {},
     "output_type": "execute_result"
    }
   ],
   "source": [
    "l"
   ]
  },
  {
   "cell_type": "code",
   "execution_count": 205,
   "id": "37424db8",
   "metadata": {},
   "outputs": [],
   "source": [
    "# 단어의 리스트가 준비\n",
    "words = [\"abc\", \"defgh\", \"i\", \"jklm\", \"nm\"]"
   ]
  },
  {
   "cell_type": "code",
   "execution_count": 206,
   "id": "3a0e585a",
   "metadata": {},
   "outputs": [
    {
     "data": {
      "text/plain": [
       "[3, 5, 1, 4, 2]"
      ]
     },
     "execution_count": 206,
     "metadata": {},
     "output_type": "execute_result"
    }
   ],
   "source": [
    "list(map(len, words)) # 각 단어의 길이 값이 나옴"
   ]
  },
  {
   "cell_type": "code",
   "execution_count": 208,
   "id": "b59e5740",
   "metadata": {},
   "outputs": [
    {
     "data": {
      "text/plain": [
       "['i', 'nm', 'abc', 'jklm', 'defgh']"
      ]
     },
     "execution_count": 208,
     "metadata": {},
     "output_type": "execute_result"
    }
   ],
   "source": [
    "sorted(words, key=len) # key 매개변수에 적당한 함수를 제공해주면, 그에 맞게 정렬"
   ]
  },
  {
   "cell_type": "code",
   "execution_count": 209,
   "id": "ffe7bf73",
   "metadata": {},
   "outputs": [],
   "source": [
    "# 딕셔너리 정렬 (점수 순으로 정렬)\n",
    "scores = {\"James\":90, \"Selly\":80, \"Jun\":100}"
   ]
  },
  {
   "cell_type": "code",
   "execution_count": 210,
   "id": "8dc5e2ac",
   "metadata": {},
   "outputs": [
    {
     "data": {
      "text/plain": [
       "dict_items([('James', 90), ('Selly', 80), ('Jun', 100)])"
      ]
     },
     "execution_count": 210,
     "metadata": {},
     "output_type": "execute_result"
    }
   ],
   "source": [
    "scores.items()"
   ]
  },
  {
   "cell_type": "code",
   "execution_count": 213,
   "id": "ad32c593",
   "metadata": {},
   "outputs": [],
   "source": [
    "# option 1\n",
    "def ret_score(x):\n",
    "    # print(x)\n",
    "    return x[1]    \n",
    "sorted(scores.items(), key= ret_score, reverse=True)"
   ]
  },
  {
   "cell_type": "code",
   "execution_count": 220,
   "id": "66f0a6c0",
   "metadata": {},
   "outputs": [
    {
     "data": {
      "text/plain": [
       "[('Jun', 100), ('James', 90), ('Selly', 80)]"
      ]
     },
     "execution_count": 220,
     "metadata": {},
     "output_type": "execute_result"
    }
   ],
   "source": [
    "# option 2\n",
    "sorted(scores.items(), key= lambda x:x[1], reverse=True)"
   ]
  },
  {
   "cell_type": "markdown",
   "id": "c0930e79",
   "metadata": {},
   "source": [
    "---"
   ]
  },
  {
   "cell_type": "code",
   "execution_count": 221,
   "id": "c05e48ea",
   "metadata": {},
   "outputs": [],
   "source": [
    "def majorityCnt(d):\n",
    "    #result = sorted(d.items(), key= ret_score, reverse=True)\n",
    "    result = sorted(d.items(), key= lambda x:x[1], reverse=True)\n",
    "    return result[0]"
   ]
  },
  {
   "cell_type": "code",
   "execution_count": 222,
   "id": "55526520",
   "metadata": {},
   "outputs": [
    {
     "name": "stdout",
     "output_type": "stream",
     "text": [
      "('freedom', 19)\n"
     ]
    }
   ],
   "source": [
    "most_freq_word = majorityCnt(d)\n",
    "print(most_freq_word)"
   ]
  },
  {
   "cell_type": "markdown",
   "id": "0d1b0b14",
   "metadata": {},
   "source": [
    "**참고** 단어 리스트에서 개별 단어들 strip 하려면.."
   ]
  },
  {
   "cell_type": "code",
   "execution_count": 225,
   "id": "321fee1f",
   "metadata": {},
   "outputs": [
    {
     "data": {
      "text/plain": [
       "['abc', 'def']"
      ]
     },
     "execution_count": 225,
     "metadata": {},
     "output_type": "execute_result"
    }
   ],
   "source": [
    "a = [\"abc.\", \"def,\"]\n",
    "\n",
    "[word.strip(',.') for word in a] # 리스트 표현식 이용"
   ]
  },
  {
   "cell_type": "code",
   "execution_count": 228,
   "id": "7012c324",
   "metadata": {},
   "outputs": [
    {
     "data": {
      "text/plain": [
       "['abc', 'def']"
      ]
     },
     "execution_count": 228,
     "metadata": {},
     "output_type": "execute_result"
    }
   ],
   "source": [
    "list(map(lambda x:x.strip(',.'), a)) # map과 lambda 함수 이용"
   ]
  },
  {
   "cell_type": "markdown",
   "id": "105bae1b",
   "metadata": {},
   "source": [
    "---"
   ]
  },
  {
   "cell_type": "code",
   "execution_count": null,
   "id": "67164b51",
   "metadata": {},
   "outputs": [],
   "source": []
  }
 ],
 "metadata": {
  "kernelspec": {
   "display_name": "Python 3 (ipykernel)",
   "language": "python",
   "name": "python3"
  },
  "language_info": {
   "codemirror_mode": {
    "name": "ipython",
    "version": 3
   },
   "file_extension": ".py",
   "mimetype": "text/x-python",
   "name": "python",
   "nbconvert_exporter": "python",
   "pygments_lexer": "ipython3",
   "version": "3.9.12"
  }
 },
 "nbformat": 4,
 "nbformat_minor": 5
}
