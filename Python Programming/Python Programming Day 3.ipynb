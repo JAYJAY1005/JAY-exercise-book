{
 "cells": [
  {
   "cell_type": "markdown",
   "id": "24b1b9a5",
   "metadata": {},
   "source": [
    "# for와 range 사용하기"
   ]
  },
  {
   "cell_type": "markdown",
   "id": "4ccbf435",
   "metadata": {},
   "source": [
    "```\n",
    "for 변수 in range(횟수):\n",
    "    반복할 코드\n",
    "```    "
   ]
  },
  {
   "cell_type": "code",
   "execution_count": 5,
   "id": "560a9278",
   "metadata": {},
   "outputs": [
    {
     "name": "stdout",
     "output_type": "stream",
     "text": [
      "Hello World! 0\n",
      "Hello World! 1\n",
      "Hello World! 2\n",
      "Hello World! 3\n",
      "Hello World! 4\n",
      "Hello World! 5\n",
      "Hello World! 6\n",
      "Hello World! 7\n",
      "Hello World! 8\n",
      "Hello World! 9\n"
     ]
    }
   ],
   "source": [
    "for i in range(10):\n",
    "    print(\"Hello World!\", i)"
   ]
  },
  {
   "cell_type": "markdown",
   "id": "2b58a5db",
   "metadata": {},
   "source": [
    "```\n",
    "for 변수 in range(시작, 끝, 증가폭):\n",
    "    반복할 코드\n",
    "```    "
   ]
  },
  {
   "cell_type": "code",
   "execution_count": 6,
   "id": "f893c0c0",
   "metadata": {},
   "outputs": [
    {
     "name": "stdout",
     "output_type": "stream",
     "text": [
      "Hello World! 0\n",
      "Hello World! 2\n",
      "Hello World! 4\n",
      "Hello World! 6\n",
      "Hello World! 8\n"
     ]
    }
   ],
   "source": [
    "for i in range(0, 10, 2):\n",
    "    print(\"Hello World!\", i)"
   ]
  },
  {
   "cell_type": "code",
   "execution_count": 7,
   "id": "07628f73",
   "metadata": {},
   "outputs": [
    {
     "name": "stdout",
     "output_type": "stream",
     "text": [
      "Hello World! 10\n",
      "Hello World! 9\n",
      "Hello World! 8\n",
      "Hello World! 7\n",
      "Hello World! 6\n",
      "Hello World! 5\n",
      "Hello World! 4\n",
      "Hello World! 3\n",
      "Hello World! 2\n",
      "Hello World! 1\n"
     ]
    }
   ],
   "source": [
    "for i in range(10, 0, -1):\n",
    "    print('Hello World!', i)"
   ]
  },
  {
   "cell_type": "code",
   "execution_count": 8,
   "id": "9e359946",
   "metadata": {},
   "outputs": [
    {
     "name": "stdout",
     "output_type": "stream",
     "text": [
      "Hello World 0 0\n",
      "Hello World 1 2\n",
      "Hello World 2 4\n",
      "Hello World 3 6\n",
      "Hello World 4 8\n"
     ]
    }
   ],
   "source": [
    "# 참고. enumerate는 시퀀스 객체의 값뿐만 아니라 인덱스까지 반환해줌\n",
    "for i, v in enumerate(range(0, 10, 2)):\n",
    "    print(\"Hello World\", i, v)"
   ]
  },
  {
   "cell_type": "markdown",
   "id": "28c00d3f",
   "metadata": {},
   "source": [
    "```\n",
    "for 변수 in 시퀀스 객체:\n",
    "    반복할 코드\n",
    "```    "
   ]
  },
  {
   "cell_type": "code",
   "execution_count": 9,
   "id": "08ff5d1e",
   "metadata": {},
   "outputs": [
    {
     "name": "stdout",
     "output_type": "stream",
     "text": [
      "H\n",
      "e\n",
      "l\n",
      "l\n",
      "o\n"
     ]
    }
   ],
   "source": [
    "for i in \"Hello\":\n",
    "    print(i)"
   ]
  },
  {
   "cell_type": "code",
   "execution_count": 10,
   "id": "72f51359",
   "metadata": {},
   "outputs": [
    {
     "name": "stdout",
     "output_type": "stream",
     "text": [
      "1\n",
      "2\n",
      "3\n"
     ]
    }
   ],
   "source": [
    "for i in [1, 2, 3]:\n",
    "    print(i)"
   ]
  },
  {
   "cell_type": "code",
   "execution_count": 11,
   "id": "2c6c3156",
   "metadata": {},
   "outputs": [
    {
     "name": "stdout",
     "output_type": "stream",
     "text": [
      "1\n",
      "2\n",
      "3\n"
     ]
    }
   ],
   "source": [
    "for i in (1, 2, 3):\n",
    "    print(i)"
   ]
  },
  {
   "cell_type": "markdown",
   "id": "4a49a103",
   "metadata": {},
   "source": [
    "```\n",
    "for i in enumerate(시퀀스객체):\n",
    "    반복할 코드\n",
    "```    "
   ]
  },
  {
   "cell_type": "code",
   "execution_count": 12,
   "id": "f7c73913",
   "metadata": {},
   "outputs": [
    {
     "name": "stdout",
     "output_type": "stream",
     "text": [
      "0 H\n",
      "1 e\n",
      "2 l\n",
      "3 l\n",
      "4 o\n"
     ]
    }
   ],
   "source": [
    "for i, v in enumerate(\"Hello\"):\n",
    "    print(i, v)"
   ]
  },
  {
   "cell_type": "markdown",
   "id": "bc6a510a",
   "metadata": {},
   "source": [
    "```\n",
    "for i in reversed(시퀀스객체):\n",
    "    반복할 코드\n",
    "```"
   ]
  },
  {
   "cell_type": "code",
   "execution_count": 13,
   "id": "08e85260",
   "metadata": {},
   "outputs": [
    {
     "name": "stdout",
     "output_type": "stream",
     "text": [
      "3\n",
      "2\n",
      "1\n"
     ]
    }
   ],
   "source": [
    "for i in reversed((1, 2, 3)):\n",
    "    print(i)"
   ]
  },
  {
   "cell_type": "code",
   "execution_count": 14,
   "id": "78f0458c",
   "metadata": {},
   "outputs": [
    {
     "name": "stdout",
     "output_type": "stream",
     "text": [
      "n\n",
      "o\n",
      "h\n",
      "t\n",
      "y\n",
      "P\n"
     ]
    }
   ],
   "source": [
    "for i in reversed(\"Python\"):\n",
    "    print(i)"
   ]
  },
  {
   "cell_type": "markdown",
   "id": "9db1a278",
   "metadata": {},
   "source": [
    "# Workshop"
   ]
  },
  {
   "cell_type": "markdown",
   "id": "97d30920",
   "metadata": {},
   "source": [
    "**구구단 출력 프로그램**\n",
    "- 표준 입력으로 정수가 입력됩니다. 입력된 정수의 구구단을 출력하는 프로그램을 만드세요(input에서 안내 문자열은 출력하지 않아야 합니다). 출력형식은 숫자 * 숫자 = 숫자 처럼 만들고 숫자와 *, = 사이는 공백을 한칸 띄웁니다.\n",
    "\n",
    "```\n",
    "입력 예\n",
    "2\n",
    "\n",
    "결과\n",
    "2 * 1 = 2\n",
    "2 * 2 = 4\n",
    "2 * 3 = 6\n",
    "2 * 4 = 8\n",
    "2 * 5 = 10\n",
    "2 * 6 = 12\n",
    "2 * 7 = 14\n",
    "2 * 8 = 16\n",
    "2 * 9 = 18\n",
    "```"
   ]
  },
  {
   "cell_type": "code",
   "execution_count": 19,
   "id": "0ed60eec",
   "metadata": {},
   "outputs": [
    {
     "name": "stdout",
     "output_type": "stream",
     "text": [
      "9\n",
      "9 * 1 = 9\n",
      "9 * 2 = 18\n",
      "9 * 3 = 27\n",
      "9 * 4 = 36\n",
      "9 * 5 = 45\n",
      "9 * 6 = 54\n",
      "9 * 7 = 63\n",
      "9 * 8 = 72\n",
      "9 * 9 = 81\n"
     ]
    }
   ],
   "source": [
    "x = int(input()) # 몇단\n",
    "\n",
    "for y in range(1, 10):\n",
    "    print(x, '*', y, '=', x*y)"
   ]
  },
  {
   "cell_type": "code",
   "execution_count": 31,
   "id": "f9ce752a",
   "metadata": {},
   "outputs": [
    {
     "name": "stdout",
     "output_type": "stream",
     "text": [
      "5\n",
      "5 * 1 = 5\n",
      "5 * 2 = 10\n",
      "5 * 3 = 15\n",
      "5 * 4 = 20\n",
      "5 * 5 = 25\n",
      "5 * 6 = 30\n",
      "5 * 7 = 35\n",
      "5 * 8 = 40\n",
      "5 * 9 = 45\n"
     ]
    }
   ],
   "source": [
    "# option 1. (format 함수 이용)\n",
    "x = int(input()) # 몇단\n",
    "\n",
    "for y in range(1, 10):\n",
    "    print(\"{0} * {1} = {2}\".format(x, y, x*y))"
   ]
  },
  {
   "cell_type": "code",
   "execution_count": 24,
   "id": "fc722fc4",
   "metadata": {},
   "outputs": [
    {
     "name": "stdout",
     "output_type": "stream",
     "text": [
      "5\n",
      "5 * 1 = 5\n",
      "5 * 2 = 10\n",
      "5 * 3 = 15\n",
      "5 * 4 = 20\n",
      "5 * 5 = 25\n",
      "5 * 6 = 30\n",
      "5 * 7 = 35\n",
      "5 * 8 = 40\n",
      "5 * 9 = 45\n"
     ]
    }
   ],
   "source": [
    "# option 2. (서식 지정자 %)\n",
    "x = int(input()) # 몇단\n",
    "\n",
    "for y in range(1, 10):\n",
    "    print(\"%d * %d = %d\" % (x, y, x*y))"
   ]
  },
  {
   "cell_type": "code",
   "execution_count": 32,
   "id": "8ea8c8ab",
   "metadata": {},
   "outputs": [
    {
     "name": "stdout",
     "output_type": "stream",
     "text": [
      "6\n",
      "6 * 1 = 6\n",
      "6 * 2 = 12\n",
      "6 * 3 = 18\n",
      "6 * 4 = 24\n",
      "6 * 5 = 30\n",
      "6 * 6 = 36\n",
      "6 * 7 = 42\n",
      "6 * 8 = 48\n",
      "6 * 9 = 54\n"
     ]
    }
   ],
   "source": [
    "# option 3. (문자열 포매팅(formatting) f를 붙이는 방법)\n",
    "x = int(input()) # 몇단\n",
    "\n",
    "for y in range(1, 10):\n",
    "    print(f\"{x} * {y} = {x*y}\")"
   ]
  },
  {
   "cell_type": "markdown",
   "id": "d6c68149",
   "metadata": {},
   "source": [
    "# while 반복문 사용하기"
   ]
  },
  {
   "cell_type": "markdown",
   "id": "14e8a4d5",
   "metadata": {},
   "source": [
    "```\n",
    "초기식\n",
    "while 조건식:\n",
    "    반복할 코드\n",
    "    변화식\n",
    "```    "
   ]
  },
  {
   "cell_type": "code",
   "execution_count": 35,
   "id": "31d02d72",
   "metadata": {},
   "outputs": [
    {
     "name": "stdout",
     "output_type": "stream",
     "text": [
      "Hello world! 10\n",
      "Hello world! 9\n",
      "Hello world! 8\n",
      "Hello world! 7\n",
      "Hello world! 6\n",
      "Hello world! 5\n",
      "Hello world! 4\n",
      "Hello world! 3\n",
      "Hello world! 2\n",
      "Hello world! 1\n"
     ]
    }
   ],
   "source": [
    "# hello world 를 10번 출력\n",
    "i = 10\n",
    "while i > 0 :\n",
    "    print(\"Hello world!\", i)\n",
    "    i -= 1"
   ]
  },
  {
   "cell_type": "markdown",
   "id": "35e7d18a",
   "metadata": {},
   "source": [
    "# Workshop"
   ]
  },
  {
   "cell_type": "markdown",
   "id": "69c896d5",
   "metadata": {},
   "source": [
    "- 주사위 던지고 눈을 출력하는 동작을 계속 반복하다가\n",
    "- \"3\"이 나왔을때 멈추기"
   ]
  },
  {
   "cell_type": "code",
   "execution_count": 36,
   "id": "93885371",
   "metadata": {},
   "outputs": [],
   "source": [
    "import random"
   ]
  },
  {
   "cell_type": "code",
   "execution_count": 42,
   "id": "36a851a7",
   "metadata": {},
   "outputs": [
    {
     "data": {
      "text/plain": [
       "3"
      ]
     },
     "execution_count": 42,
     "metadata": {},
     "output_type": "execute_result"
    }
   ],
   "source": [
    "x = random.randint(1, 6) # 1에서 6사이의 무작위수를 추출"
   ]
  },
  {
   "cell_type": "code",
   "execution_count": 45,
   "id": "e1ee11c0",
   "metadata": {},
   "outputs": [
    {
     "name": "stdout",
     "output_type": "stream",
     "text": [
      "2\n",
      "4\n",
      "2\n",
      "6\n",
      "4\n",
      "5\n",
      "3\n"
     ]
    }
   ],
   "source": [
    "x = 0\n",
    "while x != 3 :\n",
    "    x = random.randint(1, 6) # 반복할 코드 + 변화식\n",
    "    print(x)"
   ]
  },
  {
   "cell_type": "markdown",
   "id": "c70f2afe",
   "metadata": {},
   "source": [
    "**교통카드 잔액 출력하기**\n",
    "- 표준입력으로 금액(정수)이 입력됩니다. 1회당 요금은 1,350이고, 교통카드를 사용했을 때마다의 잔액을 각 줄에 출력하는 프로그램을 만드세요(input에서 안내 문자열은 출력하지 않아야 합니다). 단, 최초 금액은 출력하지 않아야 합니다. 그리고 잔액은 음수가 될 수 없으며 잔액이 부족하면 출력을 끝냅니다."
   ]
  },
  {
   "cell_type": "code",
   "execution_count": 53,
   "id": "eb6f6b88",
   "metadata": {},
   "outputs": [
    {
     "name": "stdout",
     "output_type": "stream",
     "text": [
      "30000\n",
      "28650\n",
      "27300\n",
      "25950\n",
      "24600\n",
      "23250\n",
      "21900\n",
      "20550\n",
      "19200\n",
      "17850\n",
      "16500\n",
      "15150\n",
      "13800\n",
      "12450\n",
      "11100\n",
      "9750\n",
      "8400\n",
      "7050\n",
      "5700\n",
      "4350\n",
      "3000\n",
      "1650\n",
      "300\n"
     ]
    }
   ],
   "source": [
    "balance = int(input())\n",
    "\n",
    "while balance >= 1350:   \n",
    "    balance -= 1350\n",
    "    print(balance) "
   ]
  },
  {
   "cell_type": "markdown",
   "id": "ed06c536",
   "metadata": {},
   "source": [
    "**3으로 끝나는 숫자만 출력하기**\n",
    "- 0과 73 사이의 숫자 중 3으로 끝나는 숫자만 출력되게 만드세요.\n",
    "```\n",
    "출력예\n",
    "3 13 23 33 43 53 63 73 \n",
    "```"
   ]
  },
  {
   "cell_type": "code",
   "execution_count": 59,
   "id": "4ffd74f5",
   "metadata": {},
   "outputs": [
    {
     "name": "stdout",
     "output_type": "stream",
     "text": [
      "3 13 23 33 43 53 63 73 "
     ]
    }
   ],
   "source": [
    "for i in range(74):\n",
    "    if (i % 10) == 3:\n",
    "        print(i, end=\" \")"
   ]
  },
  {
   "cell_type": "code",
   "execution_count": 62,
   "id": "a73a2c3a",
   "metadata": {},
   "outputs": [
    {
     "name": "stdout",
     "output_type": "stream",
     "text": [
      "0\n",
      "1\n",
      "2\n",
      "3\n",
      "4\n",
      "5\n",
      "6\n",
      "7\n",
      "8\n",
      "9\n"
     ]
    }
   ],
   "source": [
    "# break 문 사용법\n",
    "i = 0\n",
    "while True:\n",
    "    print(i)\n",
    "    i += 1\n",
    "    if i == 10:\n",
    "        break"
   ]
  },
  {
   "cell_type": "code",
   "execution_count": 64,
   "id": "35712e04",
   "metadata": {},
   "outputs": [
    {
     "name": "stdout",
     "output_type": "stream",
     "text": [
      "3 13 23 33 43 53 63 73 "
     ]
    }
   ],
   "source": [
    "# continue\n",
    "for i in range(74):\n",
    "    if (i % 10) != 3:\n",
    "        continue\n",
    "    else:\n",
    "        print(i, end=\" \")"
   ]
  },
  {
   "cell_type": "code",
   "execution_count": 68,
   "id": "69c91ed1",
   "metadata": {},
   "outputs": [
    {
     "name": "stdout",
     "output_type": "stream",
     "text": [
      "3 13 23 33 43 53 63 73 "
     ]
    }
   ],
   "source": [
    "i = 0\n",
    "while True:\n",
    "    if i % 10 != 3:\n",
    "        i += 1\n",
    "        continue\n",
    "        \n",
    "    if i > 73:\n",
    "        break\n",
    "    print(i, end= \" \")\n",
    "    i += 1"
   ]
  },
  {
   "cell_type": "markdown",
   "id": "9fc0ba9a",
   "metadata": {},
   "source": [
    "**알파벳별 빈도 사전 등록**\n",
    "- 다음의 주어진 문자열 s에서 알파벳 별 빈도를 사전형인 d에 등록하는 파이썬 코드블럭을 작성하시오. \n",
    "\n",
    "```\n",
    "s = ‘life is short, so python is easy.’ \n",
    "punct = ‘,. ’ \n",
    "d = {} \n",
    "\n",
    "결과 print(d) (순서는 상관 없음)\n",
    "{'a': 1, 'e': 2, 'f': 1, 'i': 3, 'h': 2, 'l': 1, 'o': 3, 'n': 1, 'p': 1, 's': 5, 'r': 1, 't': 2, 'y': 2}\n",
    "\n",
    "```"
   ]
  },
  {
   "cell_type": "code",
   "execution_count": 81,
   "id": "dc45de9a",
   "metadata": {},
   "outputs": [],
   "source": [
    "s = 'life is short, so python is easy.'\n",
    "punct = ',. '\n",
    "d = {}\n",
    "\n",
    "for c in s:\n",
    "    # print(c)\n",
    "    if c in punct:\n",
    "        continue\n",
    "    if c not in d: # dictionary에 알파벳이 한번도 등록된 경우\n",
    "        d[c] = 1 # d['l'] = 1, d['i'] = 1, .....\n",
    "    else:          # dicionary에 알파벳이 이미 등록된 경우\n",
    "        d[c] += 1 # d['i'] = 2\n",
    "        "
   ]
  },
  {
   "cell_type": "code",
   "execution_count": 82,
   "id": "66293e8a",
   "metadata": {},
   "outputs": [
    {
     "data": {
      "text/plain": [
       "{'l': 1,\n",
       " 'i': 3,\n",
       " 'f': 1,\n",
       " 'e': 2,\n",
       " 's': 5,\n",
       " 'h': 2,\n",
       " 'o': 3,\n",
       " 'r': 1,\n",
       " 't': 2,\n",
       " 'p': 1,\n",
       " 'y': 2,\n",
       " 'n': 1,\n",
       " 'a': 1}"
      ]
     },
     "execution_count": 82,
     "metadata": {},
     "output_type": "execute_result"
    }
   ],
   "source": [
    "d"
   ]
  },
  {
   "cell_type": "markdown",
   "id": "0c9a29ca",
   "metadata": {},
   "source": [
    "# 중첩 루프 사용하기"
   ]
  },
  {
   "cell_type": "code",
   "execution_count": 87,
   "id": "a4f72dc6",
   "metadata": {},
   "outputs": [
    {
     "name": "stdout",
     "output_type": "stream",
     "text": [
      "* * * * * \n",
      "* * * * * \n",
      "* * * * * \n",
      "* * * * * \n",
      "* * * * * \n",
      "* * * * * \n",
      "* * * * * \n",
      "* * * * * \n",
      "* * * * * \n",
      "* * * * * \n"
     ]
    }
   ],
   "source": [
    "for j in range(10):\n",
    "    for i in range(5):\n",
    "        print('*', end=\" \")\n",
    "    print()"
   ]
  },
  {
   "cell_type": "markdown",
   "id": "276c0335",
   "metadata": {},
   "source": [
    "```\n",
    "# 계단식으로 별 출력하기 (1)\n",
    "*\n",
    "**\n",
    "***\n",
    "****\n",
    "*****\n",
    "```"
   ]
  },
  {
   "cell_type": "code",
   "execution_count": 90,
   "id": "9fab5afc",
   "metadata": {},
   "outputs": [
    {
     "name": "stdout",
     "output_type": "stream",
     "text": [
      "*\n",
      "**\n",
      "***\n",
      "****\n",
      "*****\n"
     ]
    }
   ],
   "source": [
    "for i in range(5): # i : 0->1->2->3->4\n",
    "    for j in range(i+1):\n",
    "        print('*', end='') # 첫번째 행에서는 별한개, 두번째행에서는 별두개.....\n",
    "    print()"
   ]
  },
  {
   "cell_type": "markdown",
   "id": "1230bc56",
   "metadata": {},
   "source": [
    "```\n",
    "# 계단식으로 별 출력하기 (2)\n",
    "*****\n",
    " ****\n",
    "  ***\n",
    "   **\n",
    "    *\n",
    "```   "
   ]
  },
  {
   "cell_type": "code",
   "execution_count": 97,
   "id": "72a2f360",
   "metadata": {},
   "outputs": [
    {
     "name": "stdout",
     "output_type": "stream",
     "text": [
      "*****\n",
      " ****\n",
      "  ***\n",
      "   **\n",
      "    *\n"
     ]
    }
   ],
   "source": [
    "for i in range(5): # i : 0->1->2->3->4\n",
    "    # 1. 공백\n",
    "    for j in range(i): # j : 0->1->2->3->4\n",
    "        print(\" \", end='') \n",
    "    \n",
    "    # 2. 별\n",
    "    for k in range(5-i): # k : 5->4->3->2->1\n",
    "        print(\"*\", end='')    \n",
    "    print()"
   ]
  },
  {
   "cell_type": "markdown",
   "id": "be98f9f2",
   "metadata": {},
   "source": [
    "```\n",
    "# 별로 산만들기\n",
    "    *    \n",
    "   ***   \n",
    "  *****  \n",
    " ******* \n",
    "*********\n",
    "```"
   ]
  },
  {
   "cell_type": "code",
   "execution_count": 101,
   "id": "1f9df8cd",
   "metadata": {},
   "outputs": [
    {
     "name": "stdout",
     "output_type": "stream",
     "text": [
      "    *\n",
      "   ***\n",
      "  *****\n",
      " *******\n",
      "*********\n"
     ]
    }
   ],
   "source": [
    "for i in range(5): # i : 0->1->2->3->4\n",
    "    # 1. 공백\n",
    "    for j in range(4-i):# j : 4->3->2->1->0\n",
    "        print(\" \", end=\"\")\n",
    "\n",
    "    # 2. 별\n",
    "    for k in range(2*i+1): # k : 1->3->5->7->9\n",
    "        print(\"*\", end=\"\")\n",
    "    print()"
   ]
  },
  {
   "cell_type": "code",
   "execution_count": 115,
   "id": "cf16b62a",
   "metadata": {},
   "outputs": [
    {
     "name": "stdout",
     "output_type": "stream",
     "text": [
      "*****\n",
      " ****\n",
      "  ***\n",
      "   **\n",
      "    *\n"
     ]
    }
   ],
   "source": [
    "for i in range(5): # i : 0->1->2->3->4\n",
    "    # 1. 공백\n",
    "    for j in range(i): # j : 0->1->2->3->4\n",
    "        print(\" \", end='') \n",
    "    \n",
    "    # 2. 별\n",
    "    for k in range(5-i): # k : 5->4->3->2->1\n",
    "        print(\"*\", end='')    \n",
    "    print()"
   ]
  },
  {
   "cell_type": "markdown",
   "id": "c2965f89",
   "metadata": {},
   "source": [
    "**FizzBuzz 문제**\n",
    "\n",
    "- 1에서 100까지 출력\n",
    "- 3의 배수는 Fizz 출력\n",
    "- 5의 배수는 Buzz 출력\n",
    "- 3과 5의 공배수는 FizzBuzz 출력"
   ]
  },
  {
   "cell_type": "code",
   "execution_count": 108,
   "id": "35963eea",
   "metadata": {
    "collapsed": true
   },
   "outputs": [
    {
     "name": "stdout",
     "output_type": "stream",
     "text": [
      "1\n",
      "2\n",
      "Fizz\n",
      "4\n",
      "Buzz\n",
      "Fizz\n",
      "7\n",
      "8\n",
      "Fizz\n",
      "Buzz\n",
      "11\n",
      "Fizz\n",
      "13\n",
      "14\n",
      "FizzBuzz\n",
      "16\n",
      "17\n",
      "Fizz\n",
      "19\n",
      "Buzz\n",
      "Fizz\n",
      "22\n",
      "23\n",
      "Fizz\n",
      "Buzz\n",
      "26\n",
      "Fizz\n",
      "28\n",
      "29\n",
      "FizzBuzz\n",
      "31\n",
      "32\n",
      "Fizz\n",
      "34\n",
      "Buzz\n",
      "Fizz\n",
      "37\n",
      "38\n",
      "Fizz\n",
      "Buzz\n",
      "41\n",
      "Fizz\n",
      "43\n",
      "44\n",
      "FizzBuzz\n",
      "46\n",
      "47\n",
      "Fizz\n",
      "49\n",
      "Buzz\n",
      "Fizz\n",
      "52\n",
      "53\n",
      "Fizz\n",
      "Buzz\n",
      "56\n",
      "Fizz\n",
      "58\n",
      "59\n",
      "FizzBuzz\n",
      "61\n",
      "62\n",
      "Fizz\n",
      "64\n",
      "Buzz\n",
      "Fizz\n",
      "67\n",
      "68\n",
      "Fizz\n",
      "Buzz\n",
      "71\n",
      "Fizz\n",
      "73\n",
      "74\n",
      "FizzBuzz\n",
      "76\n",
      "77\n",
      "Fizz\n",
      "79\n",
      "Buzz\n",
      "Fizz\n",
      "82\n",
      "83\n",
      "Fizz\n",
      "Buzz\n",
      "86\n",
      "Fizz\n",
      "88\n",
      "89\n",
      "FizzBuzz\n",
      "91\n",
      "92\n",
      "Fizz\n",
      "94\n",
      "Buzz\n",
      "Fizz\n",
      "97\n",
      "98\n",
      "Fizz\n",
      "Buzz\n"
     ]
    }
   ],
   "source": [
    "for i in range(1, 101):\n",
    "    if (i % 3)==0 and (i % 5)==0:\n",
    "        print('FizzBuzz')\n",
    "    elif (i % 3) == 0: # 3의 배수\n",
    "        print('Fizz')\n",
    "    elif (i % 5) == 0: # 5의 배수\n",
    "        print('Buzz')\n",
    "    else:\n",
    "        print(i)    "
   ]
  },
  {
   "cell_type": "markdown",
   "id": "ae5018fa",
   "metadata": {},
   "source": [
    "# 리스트 응용하기"
   ]
  },
  {
   "cell_type": "markdown",
   "id": "d7477017",
   "metadata": {},
   "source": [
    "- append : 요소 하나를 추가\n",
    "- extend : 리스트를 연결하여 확장\n",
    "- insert : 특정 인덱스에 요소 추가"
   ]
  },
  {
   "cell_type": "code",
   "execution_count": 121,
   "id": "43efaaf2",
   "metadata": {},
   "outputs": [],
   "source": [
    "a = [10, 20, 30]"
   ]
  },
  {
   "cell_type": "code",
   "execution_count": 122,
   "id": "a24f8ea2",
   "metadata": {},
   "outputs": [],
   "source": [
    "a.append(500)"
   ]
  },
  {
   "cell_type": "code",
   "execution_count": 123,
   "id": "a75912b3",
   "metadata": {},
   "outputs": [
    {
     "data": {
      "text/plain": [
       "[10, 20, 30, 500]"
      ]
     },
     "execution_count": 123,
     "metadata": {},
     "output_type": "execute_result"
    }
   ],
   "source": [
    "a"
   ]
  },
  {
   "cell_type": "code",
   "execution_count": 124,
   "id": "d0fb7b17",
   "metadata": {},
   "outputs": [
    {
     "data": {
      "text/plain": [
       "[10]"
      ]
     },
     "execution_count": 124,
     "metadata": {},
     "output_type": "execute_result"
    }
   ],
   "source": [
    "a = []\n",
    "a.append(10)\n",
    "a"
   ]
  },
  {
   "cell_type": "code",
   "execution_count": 131,
   "id": "abefca36",
   "metadata": {},
   "outputs": [
    {
     "data": {
      "text/plain": [
       "[10, 20, 30, 40, 50, 60]"
      ]
     },
     "execution_count": 131,
     "metadata": {},
     "output_type": "execute_result"
    }
   ],
   "source": [
    "a = [10, 20, 30]\n",
    "b = [40, 50, 60]\n",
    "a.extend(b)\n",
    "a"
   ]
  },
  {
   "cell_type": "code",
   "execution_count": 133,
   "id": "e7a2259f",
   "metadata": {},
   "outputs": [
    {
     "data": {
      "text/plain": [
       "[10, 20, 30, 40, 50, 60]"
      ]
     },
     "execution_count": 133,
     "metadata": {},
     "output_type": "execute_result"
    }
   ],
   "source": [
    "# 참고 (+ 연산은 extend와 다르게 원본이 그대로 유지)\n",
    "a = [10, 20, 30]\n",
    "b = [40, 50, 60]\n",
    "a+b"
   ]
  },
  {
   "cell_type": "code",
   "execution_count": 134,
   "id": "78629fa5",
   "metadata": {},
   "outputs": [
    {
     "data": {
      "text/plain": [
       "[10, 20, 30]"
      ]
     },
     "execution_count": 134,
     "metadata": {},
     "output_type": "execute_result"
    }
   ],
   "source": [
    "a"
   ]
  },
  {
   "cell_type": "code",
   "execution_count": 135,
   "id": "f2598a28",
   "metadata": {},
   "outputs": [
    {
     "data": {
      "text/plain": [
       "[40, 50, 60]"
      ]
     },
     "execution_count": 135,
     "metadata": {},
     "output_type": "execute_result"
    }
   ],
   "source": [
    "b"
   ]
  },
  {
   "cell_type": "code",
   "execution_count": 136,
   "id": "d0cc38bb",
   "metadata": {},
   "outputs": [
    {
     "data": {
      "text/plain": [
       "[10, 500, 20, 30]"
      ]
     },
     "execution_count": 136,
     "metadata": {},
     "output_type": "execute_result"
    }
   ],
   "source": [
    "a.insert(1, 500)\n",
    "a"
   ]
  },
  {
   "cell_type": "markdown",
   "id": "247b4156",
   "metadata": {},
   "source": [
    "- insert(0, 요소) : 리스트의 맨 처음에 요소를 추가 \n",
    "- insert(len(리스트), 요소) : 리스트의 맨 끝에 요소를 추가"
   ]
  },
  {
   "cell_type": "code",
   "execution_count": 137,
   "id": "9944f4a7",
   "metadata": {},
   "outputs": [
    {
     "data": {
      "text/plain": [
       "[100, 10, 20, 30]"
      ]
     },
     "execution_count": 137,
     "metadata": {},
     "output_type": "execute_result"
    }
   ],
   "source": [
    "a = [10, 20, 30]\n",
    "a.insert(0, 100)\n",
    "a"
   ]
  },
  {
   "cell_type": "code",
   "execution_count": 138,
   "id": "346da3ab",
   "metadata": {},
   "outputs": [
    {
     "data": {
      "text/plain": [
       "4"
      ]
     },
     "execution_count": 138,
     "metadata": {},
     "output_type": "execute_result"
    }
   ],
   "source": [
    "len(a)"
   ]
  },
  {
   "cell_type": "code",
   "execution_count": 139,
   "id": "be77bfc8",
   "metadata": {},
   "outputs": [
    {
     "data": {
      "text/plain": [
       "[100, 10, 20, 30, 1000]"
      ]
     },
     "execution_count": 139,
     "metadata": {},
     "output_type": "execute_result"
    }
   ],
   "source": [
    "a.insert(len(a), 1000)\n",
    "a"
   ]
  },
  {
   "cell_type": "code",
   "execution_count": 140,
   "id": "965e06a4",
   "metadata": {},
   "outputs": [
    {
     "data": {
      "text/plain": [
       "[100, 10, 20, 30, 2000, 1000]"
      ]
     },
     "execution_count": 140,
     "metadata": {},
     "output_type": "execute_result"
    }
   ],
   "source": [
    "a.insert(-1, 2000)\n",
    "a"
   ]
  },
  {
   "cell_type": "markdown",
   "id": "b771bfde",
   "metadata": {},
   "source": [
    "- pop : 마지막 요소 또는 특정 인덱스의 요소를 삭제\n",
    "- remove : 특정 값을 찾아서 삭제"
   ]
  },
  {
   "cell_type": "code",
   "execution_count": 142,
   "id": "c3ff4808",
   "metadata": {},
   "outputs": [
    {
     "data": {
      "text/plain": [
       "30"
      ]
     },
     "execution_count": 142,
     "metadata": {},
     "output_type": "execute_result"
    }
   ],
   "source": [
    "a = [10, 20, 30]\n",
    "x = a.pop()\n",
    "x"
   ]
  },
  {
   "cell_type": "code",
   "execution_count": 143,
   "id": "58724f40",
   "metadata": {},
   "outputs": [
    {
     "data": {
      "text/plain": [
       "[10, 20]"
      ]
     },
     "execution_count": 143,
     "metadata": {},
     "output_type": "execute_result"
    }
   ],
   "source": [
    "a"
   ]
  },
  {
   "cell_type": "code",
   "execution_count": 144,
   "id": "6df79711",
   "metadata": {},
   "outputs": [
    {
     "data": {
      "text/plain": [
       "20"
      ]
     },
     "execution_count": 144,
     "metadata": {},
     "output_type": "execute_result"
    }
   ],
   "source": [
    "a = [10, 20, 30]\n",
    "x = a.pop(1)\n",
    "x"
   ]
  },
  {
   "cell_type": "code",
   "execution_count": 145,
   "id": "32dbcf4d",
   "metadata": {},
   "outputs": [
    {
     "data": {
      "text/plain": [
       "[10, 30]"
      ]
     },
     "execution_count": 145,
     "metadata": {},
     "output_type": "execute_result"
    }
   ],
   "source": [
    "a"
   ]
  },
  {
   "cell_type": "code",
   "execution_count": 146,
   "id": "2181e7b7",
   "metadata": {},
   "outputs": [],
   "source": [
    "a = [10, 20, 30]\n",
    "a.remove(30)"
   ]
  },
  {
   "cell_type": "code",
   "execution_count": 147,
   "id": "c4c99ac3",
   "metadata": {},
   "outputs": [
    {
     "data": {
      "text/plain": [
       "[10, 20]"
      ]
     },
     "execution_count": 147,
     "metadata": {},
     "output_type": "execute_result"
    }
   ],
   "source": [
    "a"
   ]
  },
  {
   "cell_type": "markdown",
   "id": "345f320e",
   "metadata": {},
   "source": [
    "- index(값) : 리스트에서 특정 값의 인덱스 구함\n",
    "- count(값) : 리스트에서 특정 값의 개수를 구함"
   ]
  },
  {
   "cell_type": "code",
   "execution_count": 148,
   "id": "a3a8d958",
   "metadata": {},
   "outputs": [
    {
     "data": {
      "text/plain": [
       "1"
      ]
     },
     "execution_count": 148,
     "metadata": {},
     "output_type": "execute_result"
    }
   ],
   "source": [
    "a = [10, 20, 30]\n",
    "a.index(20)"
   ]
  },
  {
   "cell_type": "code",
   "execution_count": 149,
   "id": "f2ca475c",
   "metadata": {},
   "outputs": [
    {
     "ename": "ValueError",
     "evalue": "40 is not in list",
     "output_type": "error",
     "traceback": [
      "\u001b[1;31m---------------------------------------------------------------------------\u001b[0m",
      "\u001b[1;31mValueError\u001b[0m                                Traceback (most recent call last)",
      "Input \u001b[1;32mIn [149]\u001b[0m, in \u001b[0;36m<cell line: 1>\u001b[1;34m()\u001b[0m\n\u001b[1;32m----> 1\u001b[0m \u001b[43ma\u001b[49m\u001b[38;5;241;43m.\u001b[39;49m\u001b[43mindex\u001b[49m\u001b[43m(\u001b[49m\u001b[38;5;241;43m40\u001b[39;49m\u001b[43m)\u001b[49m\n",
      "\u001b[1;31mValueError\u001b[0m: 40 is not in list"
     ]
    }
   ],
   "source": [
    "a.index(40)"
   ]
  },
  {
   "cell_type": "code",
   "execution_count": 150,
   "id": "21e035c8",
   "metadata": {},
   "outputs": [
    {
     "data": {
      "text/plain": [
       "3"
      ]
     },
     "execution_count": 150,
     "metadata": {},
     "output_type": "execute_result"
    }
   ],
   "source": [
    "a = [10, 10, 20, 30, 30, 30]\n",
    "a.count(30)"
   ]
  },
  {
   "cell_type": "markdown",
   "id": "446d8c14",
   "metadata": {},
   "source": [
    "- reverse() : 리스트에서 요소의 순서를 반대로 뒤집음\n",
    "- sort() : 리스트의 요소를 정렬함(오름차순 기본값)\n",
    "- clear() : 리스트의 모든 요소를 삭제함"
   ]
  },
  {
   "cell_type": "code",
   "execution_count": 151,
   "id": "77fac083",
   "metadata": {},
   "outputs": [],
   "source": [
    "a = [10, 20, 30]\n",
    "a.reverse()"
   ]
  },
  {
   "cell_type": "code",
   "execution_count": 152,
   "id": "c6a95615",
   "metadata": {},
   "outputs": [
    {
     "data": {
      "text/plain": [
       "[30, 20, 10]"
      ]
     },
     "execution_count": 152,
     "metadata": {},
     "output_type": "execute_result"
    }
   ],
   "source": [
    "a"
   ]
  },
  {
   "cell_type": "code",
   "execution_count": 153,
   "id": "4a49e662",
   "metadata": {},
   "outputs": [
    {
     "data": {
      "text/plain": [
       "[10, 20, 30]"
      ]
     },
     "execution_count": 153,
     "metadata": {},
     "output_type": "execute_result"
    }
   ],
   "source": [
    "# 참고 : 슬라이스로 순서를 바꿈\n",
    "a[-1::-1]"
   ]
  },
  {
   "cell_type": "code",
   "execution_count": 157,
   "id": "18ae02f8",
   "metadata": {},
   "outputs": [
    {
     "data": {
      "text/plain": [
       "[10000, 50, 10, 4, 0, -1]"
      ]
     },
     "execution_count": 157,
     "metadata": {},
     "output_type": "execute_result"
    }
   ],
   "source": [
    "a = [10, 50, -1, 0, 4, 10000]\n",
    "a.sort(reverse=True) # 기본값은 reverse=False\n",
    "a"
   ]
  },
  {
   "cell_type": "markdown",
   "id": "67a7b722",
   "metadata": {},
   "source": [
    "- =\n",
    "- copy()"
   ]
  },
  {
   "cell_type": "code",
   "execution_count": 158,
   "id": "7fa5636c",
   "metadata": {},
   "outputs": [],
   "source": [
    "a = [0, 0, 0, 0]\n",
    "b = a"
   ]
  },
  {
   "cell_type": "code",
   "execution_count": 159,
   "id": "6fd4534c",
   "metadata": {},
   "outputs": [
    {
     "data": {
      "text/plain": [
       "True"
      ]
     },
     "execution_count": 159,
     "metadata": {},
     "output_type": "execute_result"
    }
   ],
   "source": [
    "a is b"
   ]
  },
  {
   "cell_type": "code",
   "execution_count": 160,
   "id": "37021caf",
   "metadata": {},
   "outputs": [
    {
     "data": {
      "text/plain": [
       "[0, 1000, 0, 0]"
      ]
     },
     "execution_count": 160,
     "metadata": {},
     "output_type": "execute_result"
    }
   ],
   "source": [
    "b[1] = 1000\n",
    "b"
   ]
  },
  {
   "cell_type": "code",
   "execution_count": 161,
   "id": "50fce5db",
   "metadata": {},
   "outputs": [
    {
     "data": {
      "text/plain": [
       "[0, 1000, 0, 0]"
      ]
     },
     "execution_count": 161,
     "metadata": {},
     "output_type": "execute_result"
    }
   ],
   "source": [
    "a"
   ]
  },
  {
   "cell_type": "code",
   "execution_count": 162,
   "id": "44ea3601",
   "metadata": {},
   "outputs": [],
   "source": [
    "a = [0, 0, 0, 0]\n",
    "b = a.copy()"
   ]
  },
  {
   "cell_type": "code",
   "execution_count": 163,
   "id": "7087d761",
   "metadata": {},
   "outputs": [
    {
     "data": {
      "text/plain": [
       "False"
      ]
     },
     "execution_count": 163,
     "metadata": {},
     "output_type": "execute_result"
    }
   ],
   "source": [
    "a is b"
   ]
  },
  {
   "cell_type": "code",
   "execution_count": 164,
   "id": "32a98eb9",
   "metadata": {},
   "outputs": [
    {
     "data": {
      "text/plain": [
       "[0, 1000, 0, 0]"
      ]
     },
     "execution_count": 164,
     "metadata": {},
     "output_type": "execute_result"
    }
   ],
   "source": [
    "b[1] = 1000\n",
    "b"
   ]
  },
  {
   "cell_type": "code",
   "execution_count": 165,
   "id": "b9d2730d",
   "metadata": {},
   "outputs": [
    {
     "data": {
      "text/plain": [
       "[0, 0, 0, 0]"
      ]
     },
     "execution_count": 165,
     "metadata": {},
     "output_type": "execute_result"
    }
   ],
   "source": [
    "a"
   ]
  },
  {
   "cell_type": "markdown",
   "id": "872f5647",
   "metadata": {},
   "source": [
    "- copy()와 deepcopy()"
   ]
  },
  {
   "cell_type": "code",
   "execution_count": 166,
   "id": "0bdb955f",
   "metadata": {},
   "outputs": [],
   "source": [
    "a = [[10, 20], [30, 40]] # 2차원 리스트\n",
    "b = a"
   ]
  },
  {
   "cell_type": "code",
   "execution_count": 167,
   "id": "b1abb944",
   "metadata": {},
   "outputs": [
    {
     "data": {
      "text/plain": [
       "[[10, 20], [30, 40]]"
      ]
     },
     "execution_count": 167,
     "metadata": {},
     "output_type": "execute_result"
    }
   ],
   "source": [
    "a"
   ]
  },
  {
   "cell_type": "code",
   "execution_count": 168,
   "id": "9414c631",
   "metadata": {},
   "outputs": [
    {
     "data": {
      "text/plain": [
       "[[10, 20], [30, 40]]"
      ]
     },
     "execution_count": 168,
     "metadata": {},
     "output_type": "execute_result"
    }
   ],
   "source": [
    "b"
   ]
  },
  {
   "cell_type": "code",
   "execution_count": 170,
   "id": "8e211208",
   "metadata": {},
   "outputs": [],
   "source": [
    "b[0][0] = 1000 # 2차원 리스트를 2번 색인해서 원소값에 접근"
   ]
  },
  {
   "cell_type": "code",
   "execution_count": 171,
   "id": "2a893019",
   "metadata": {},
   "outputs": [
    {
     "data": {
      "text/plain": [
       "[[1000, 20], [30, 40]]"
      ]
     },
     "execution_count": 171,
     "metadata": {},
     "output_type": "execute_result"
    }
   ],
   "source": [
    "b"
   ]
  },
  {
   "cell_type": "code",
   "execution_count": 172,
   "id": "cf1f37d3",
   "metadata": {},
   "outputs": [
    {
     "data": {
      "text/plain": [
       "[[1000, 20], [30, 40]]"
      ]
     },
     "execution_count": 172,
     "metadata": {},
     "output_type": "execute_result"
    }
   ],
   "source": [
    "a"
   ]
  },
  {
   "cell_type": "code",
   "execution_count": 173,
   "id": "a62b00b3",
   "metadata": {},
   "outputs": [],
   "source": [
    "a = [[10, 20], [30, 40]] # 2차원 리스트\n",
    "b = a.copy()"
   ]
  },
  {
   "cell_type": "code",
   "execution_count": 174,
   "id": "8b52908c",
   "metadata": {},
   "outputs": [
    {
     "data": {
      "text/plain": [
       "[[1000, 20], [30, 40]]"
      ]
     },
     "execution_count": 174,
     "metadata": {},
     "output_type": "execute_result"
    }
   ],
   "source": [
    "b[0][0] = 1000\n",
    "b"
   ]
  },
  {
   "cell_type": "code",
   "execution_count": 175,
   "id": "680182d8",
   "metadata": {},
   "outputs": [
    {
     "data": {
      "text/plain": [
       "[[1000, 20], [30, 40]]"
      ]
     },
     "execution_count": 175,
     "metadata": {},
     "output_type": "execute_result"
    }
   ],
   "source": [
    "a"
   ]
  },
  {
   "cell_type": "code",
   "execution_count": 176,
   "id": "5b9fa22c",
   "metadata": {},
   "outputs": [],
   "source": [
    "import copy"
   ]
  },
  {
   "cell_type": "code",
   "execution_count": 177,
   "id": "9620a2df",
   "metadata": {},
   "outputs": [],
   "source": [
    "a = [[10, 20], [30, 40]] # 2차원 리스트\n",
    "b = copy.deepcopy(a)"
   ]
  },
  {
   "cell_type": "code",
   "execution_count": 178,
   "id": "8c7686fc",
   "metadata": {},
   "outputs": [
    {
     "data": {
      "text/plain": [
       "[[10, 20], [30, 40]]"
      ]
     },
     "execution_count": 178,
     "metadata": {},
     "output_type": "execute_result"
    }
   ],
   "source": [
    "a"
   ]
  },
  {
   "cell_type": "code",
   "execution_count": 179,
   "id": "f861668e",
   "metadata": {},
   "outputs": [
    {
     "data": {
      "text/plain": [
       "[[10, 20], [30, 40]]"
      ]
     },
     "execution_count": 179,
     "metadata": {},
     "output_type": "execute_result"
    }
   ],
   "source": [
    "b"
   ]
  },
  {
   "cell_type": "code",
   "execution_count": 180,
   "id": "17708ed1",
   "metadata": {},
   "outputs": [
    {
     "data": {
      "text/plain": [
       "[[1000, 20], [30, 40]]"
      ]
     },
     "execution_count": 180,
     "metadata": {},
     "output_type": "execute_result"
    }
   ],
   "source": [
    "b[0][0] = 1000\n",
    "b"
   ]
  },
  {
   "cell_type": "code",
   "execution_count": 181,
   "id": "50597343",
   "metadata": {},
   "outputs": [
    {
     "data": {
      "text/plain": [
       "[[10, 20], [30, 40]]"
      ]
     },
     "execution_count": 181,
     "metadata": {},
     "output_type": "execute_result"
    }
   ],
   "source": [
    "a"
   ]
  },
  {
   "cell_type": "markdown",
   "id": "c7ed1dff",
   "metadata": {},
   "source": [
    "**반복문으로 리스트 요소 출력하기**"
   ]
  },
  {
   "cell_type": "markdown",
   "id": "db4200dd",
   "metadata": {},
   "source": [
    "- for 요소 in 리스트:"
   ]
  },
  {
   "cell_type": "code",
   "execution_count": 182,
   "id": "7f5ce7da",
   "metadata": {},
   "outputs": [
    {
     "name": "stdout",
     "output_type": "stream",
     "text": [
      "10\n",
      "20\n",
      "30\n"
     ]
    }
   ],
   "source": [
    "a = [10, 20, 30]\n",
    "for v in a:\n",
    "    print(v)"
   ]
  },
  {
   "cell_type": "code",
   "execution_count": 184,
   "id": "1f39dff6",
   "metadata": {},
   "outputs": [
    {
     "name": "stdout",
     "output_type": "stream",
     "text": [
      "10\n",
      "20\n",
      "30\n"
     ]
    }
   ],
   "source": [
    "for i in range(len(a)):\n",
    "    print(a[i])"
   ]
  },
  {
   "cell_type": "markdown",
   "id": "885edc72",
   "metadata": {},
   "source": [
    "- for 인덱스, 요소 in enumerate(리스트):"
   ]
  },
  {
   "cell_type": "code",
   "execution_count": 185,
   "id": "0f6f9f84",
   "metadata": {},
   "outputs": [
    {
     "name": "stdout",
     "output_type": "stream",
     "text": [
      "0 10\n",
      "1 20\n",
      "2 30\n"
     ]
    }
   ],
   "source": [
    "a = [10, 20, 30]\n",
    "for i, v in enumerate(a):\n",
    "    print(i, v)"
   ]
  },
  {
   "cell_type": "code",
   "execution_count": 186,
   "id": "589707a2",
   "metadata": {},
   "outputs": [
    {
     "name": "stdout",
     "output_type": "stream",
     "text": [
      "1 10\n",
      "2 20\n",
      "3 30\n"
     ]
    }
   ],
   "source": [
    "a = [10, 20, 30]\n",
    "for i, v in enumerate(a, start=1):\n",
    "    print(i, v)"
   ]
  },
  {
   "cell_type": "markdown",
   "id": "4df67be3",
   "metadata": {},
   "source": [
    "**리스트의 가장 작은 수, 가장 큰수, 합계**"
   ]
  },
  {
   "cell_type": "code",
   "execution_count": 187,
   "id": "687ab4b6",
   "metadata": {},
   "outputs": [],
   "source": [
    "a = [10, 20, 30]"
   ]
  },
  {
   "cell_type": "code",
   "execution_count": 188,
   "id": "00f274ea",
   "metadata": {},
   "outputs": [
    {
     "data": {
      "text/plain": [
       "10"
      ]
     },
     "execution_count": 188,
     "metadata": {},
     "output_type": "execute_result"
    }
   ],
   "source": [
    "min(a)"
   ]
  },
  {
   "cell_type": "code",
   "execution_count": 189,
   "id": "4b1ab161",
   "metadata": {},
   "outputs": [
    {
     "data": {
      "text/plain": [
       "30"
      ]
     },
     "execution_count": 189,
     "metadata": {},
     "output_type": "execute_result"
    }
   ],
   "source": [
    "max(a)"
   ]
  },
  {
   "cell_type": "code",
   "execution_count": 190,
   "id": "2ac675b9",
   "metadata": {},
   "outputs": [
    {
     "data": {
      "text/plain": [
       "60"
      ]
     },
     "execution_count": 190,
     "metadata": {},
     "output_type": "execute_result"
    }
   ],
   "source": [
    "sum(a)"
   ]
  },
  {
   "cell_type": "code",
   "execution_count": 191,
   "id": "b6c7c281",
   "metadata": {},
   "outputs": [
    {
     "data": {
      "text/plain": [
       "20.0"
      ]
     },
     "execution_count": 191,
     "metadata": {},
     "output_type": "execute_result"
    }
   ],
   "source": [
    "sum(a)/len(a) # 평균"
   ]
  },
  {
   "cell_type": "markdown",
   "id": "a07a3b71",
   "metadata": {},
   "source": [
    "**리스트 표현식(List Comprehension)**"
   ]
  },
  {
   "cell_type": "markdown",
   "id": "daeb29c7",
   "metadata": {},
   "source": [
    "- [식 for 변수 in 리스트]"
   ]
  },
  {
   "cell_type": "code",
   "execution_count": 195,
   "id": "7571331d",
   "metadata": {},
   "outputs": [
    {
     "data": {
      "text/plain": [
       "[0, 1, 2, 3, 4, 5, 6, 7, 8, 9]"
      ]
     },
     "execution_count": 195,
     "metadata": {},
     "output_type": "execute_result"
    }
   ],
   "source": [
    "list(range(10))"
   ]
  },
  {
   "cell_type": "code",
   "execution_count": 197,
   "id": "55b9def5",
   "metadata": {
    "scrolled": true
   },
   "outputs": [
    {
     "data": {
      "text/plain": [
       "[0, 2, 4, 6, 8, 10, 12, 14, 16, 18]"
      ]
     },
     "execution_count": 197,
     "metadata": {},
     "output_type": "execute_result"
    }
   ],
   "source": [
    "# 1. for문 이용, list의 append()함수 이용\n",
    "l = []\n",
    "for i in range(10):\n",
    "    l.append(i*2)\n",
    "l    "
   ]
  },
  {
   "cell_type": "code",
   "execution_count": 203,
   "id": "df3ea6fe",
   "metadata": {},
   "outputs": [
    {
     "data": {
      "text/plain": [
       "[0, 2, 4, 6, 8, 10, 12, 14, 16, 18]"
      ]
     },
     "execution_count": 203,
     "metadata": {},
     "output_type": "execute_result"
    }
   ],
   "source": [
    "# 2. 리스트 표현식\n",
    "[i*2 for i in range(10)]"
   ]
  },
  {
   "cell_type": "code",
   "execution_count": null,
   "id": "53d2fcb0",
   "metadata": {},
   "outputs": [],
   "source": [
    "# 단어의 길이를 리스트로 구하기\n",
    "word_list = [\"python\", \"is\", \"easy\"]"
   ]
  },
  {
   "cell_type": "code",
   "execution_count": null,
   "id": "3f495e4d",
   "metadata": {},
   "outputs": [],
   "source": [
    "# 1. for문 이용, list의 append()함수 이용"
   ]
  },
  {
   "cell_type": "code",
   "execution_count": 204,
   "id": "7dbed459",
   "metadata": {},
   "outputs": [
    {
     "data": {
      "text/plain": [
       "[6, 2, 4]"
      ]
     },
     "execution_count": 204,
     "metadata": {},
     "output_type": "execute_result"
    }
   ],
   "source": [
    "word_count = []\n",
    "word_list = [\"python\", \"is\", \"easy\"]\n",
    "for word in word_list:\n",
    "    word_count.append(len(word))\n",
    "word_count    "
   ]
  },
  {
   "cell_type": "code",
   "execution_count": null,
   "id": "0136769f",
   "metadata": {},
   "outputs": [],
   "source": [
    "# 2. 리스트 표현식"
   ]
  },
  {
   "cell_type": "code",
   "execution_count": 205,
   "id": "1ab4fc76",
   "metadata": {},
   "outputs": [
    {
     "data": {
      "text/plain": [
       "[6, 2, 4]"
      ]
     },
     "execution_count": 205,
     "metadata": {},
     "output_type": "execute_result"
    }
   ],
   "source": [
    "[len(word) for word in word_list]"
   ]
  },
  {
   "cell_type": "markdown",
   "id": "f4698e9a",
   "metadata": {},
   "source": [
    "- [식 for 변수 in 리스트 if 조건식]"
   ]
  },
  {
   "cell_type": "code",
   "execution_count": 207,
   "id": "3ae57c5c",
   "metadata": {},
   "outputs": [
    {
     "data": {
      "text/plain": [
       "[0, 2, 4, 6, 8]"
      ]
     },
     "execution_count": 207,
     "metadata": {},
     "output_type": "execute_result"
    }
   ],
   "source": [
    "[i for i in range(10) if i % 2 == 0]"
   ]
  },
  {
   "cell_type": "code",
   "execution_count": 208,
   "id": "dafcc64f",
   "metadata": {},
   "outputs": [
    {
     "data": {
      "text/plain": [
       "[0, 2, 4, 6, 8]"
      ]
     },
     "execution_count": 208,
     "metadata": {},
     "output_type": "execute_result"
    }
   ],
   "source": [
    "l = []\n",
    "for i in range(10):\n",
    "    if i % 2 == 0:\n",
    "        l.append(i)\n",
    "l        "
   ]
  },
  {
   "cell_type": "markdown",
   "id": "71b5ddf2",
   "metadata": {},
   "source": [
    "# Workshop"
   ]
  },
  {
   "cell_type": "markdown",
   "id": "56aea7e4",
   "metadata": {},
   "source": [
    "**리스트에서 특정 요소만 뽑아내기**\n",
    "- 리스트 a에 들어있는 문자열 중에서 길이가 5인 것들만 리스트 형태로 출력되게 만드세요"
   ]
  },
  {
   "cell_type": "code",
   "execution_count": 210,
   "id": "e5a0fe2e",
   "metadata": {},
   "outputs": [],
   "source": [
    "a = ['alpha', 'bravo', 'charlie', 'delta', 'echo', 'foxtrot', 'golf', 'hotel', 'india']"
   ]
  },
  {
   "cell_type": "code",
   "execution_count": 212,
   "id": "65b9b453",
   "metadata": {},
   "outputs": [
    {
     "data": {
      "text/plain": [
       "['alpha', 'bravo', 'delta', 'hotel', 'india']"
      ]
     },
     "execution_count": 212,
     "metadata": {},
     "output_type": "execute_result"
    }
   ],
   "source": [
    "l = []\n",
    "for i in a: # 9번 순회\n",
    "    if len(i) == 5:\n",
    "        l.append(i)\n",
    "l       "
   ]
  },
  {
   "cell_type": "code",
   "execution_count": 214,
   "id": "5ca75b3c",
   "metadata": {},
   "outputs": [
    {
     "name": "stdout",
     "output_type": "stream",
     "text": [
      "['alpha', 'bravo', 'delta', 'hotel', 'india']\n"
     ]
    }
   ],
   "source": [
    "result = [i for i in a if len(i) == 5]\n",
    "print(result)"
   ]
  },
  {
   "cell_type": "markdown",
   "id": "d3acde7b",
   "metadata": {},
   "source": [
    "**리스트에서 map 사용하기**"
   ]
  },
  {
   "cell_type": "code",
   "execution_count": 215,
   "id": "225c96b5",
   "metadata": {},
   "outputs": [
    {
     "data": {
      "text/plain": [
       "[1, 2, 3, 4]"
      ]
     },
     "execution_count": 215,
     "metadata": {},
     "output_type": "execute_result"
    }
   ],
   "source": [
    "a = [1.2, 2.5, 3.7, 4.6]\n",
    "l = []\n",
    "for i in a:\n",
    "    l.append(int(i))\n",
    "l    "
   ]
  },
  {
   "cell_type": "code",
   "execution_count": 217,
   "id": "37cad875",
   "metadata": {},
   "outputs": [
    {
     "data": {
      "text/plain": [
       "[1, 2, 3, 4]"
      ]
     },
     "execution_count": 217,
     "metadata": {},
     "output_type": "execute_result"
    }
   ],
   "source": [
    "# 위의 코드와 동일한 결과\n",
    "# 그러나 for문을 사용하지 않고 \n",
    "# map을 사용해서일과 적용\n",
    "list(map(int, a))"
   ]
  },
  {
   "cell_type": "markdown",
   "id": "3b46b6a4",
   "metadata": {},
   "source": [
    "# 튜플 응용하기"
   ]
  },
  {
   "cell_type": "markdown",
   "id": "cf228b51",
   "metadata": {},
   "source": [
    "- index(값) : 특정값의 인덱스 구하기"
   ]
  },
  {
   "cell_type": "code",
   "execution_count": 219,
   "id": "90e3c62a",
   "metadata": {},
   "outputs": [
    {
     "data": {
      "text/plain": [
       "2"
      ]
     },
     "execution_count": 219,
     "metadata": {},
     "output_type": "execute_result"
    }
   ],
   "source": [
    "a = (10, 20, 30)\n",
    "a.index(30)"
   ]
  },
  {
   "cell_type": "markdown",
   "id": "8bc45279",
   "metadata": {},
   "source": [
    "- count(값) : 특정값의 개수 구하기"
   ]
  },
  {
   "cell_type": "code",
   "execution_count": 220,
   "id": "9093238d",
   "metadata": {},
   "outputs": [
    {
     "data": {
      "text/plain": [
       "3"
      ]
     },
     "execution_count": 220,
     "metadata": {},
     "output_type": "execute_result"
    }
   ],
   "source": [
    "a = (10, 10, 10, 20, 20, 30)\n",
    "a.count(10)"
   ]
  },
  {
   "cell_type": "markdown",
   "id": "ac3422c6",
   "metadata": {},
   "source": [
    "# Workshop"
   ]
  },
  {
   "cell_type": "markdown",
   "id": "6cdeb8e3",
   "metadata": {},
   "source": [
    "**자동 로또 번호 생성기**\n",
    "- 1~45 숫자 중에서 6개를 고르는 로또 번호를 자동으로 만들어 주는 프로그램 작성하기\n",
    "- 사용자가 입력한 개수만큼 번호 쌍을 생성하기(예: 5를 입력하면 5 세트의 번호가 생성되도록 하기)\n",
    "- 한번 뽑힌것은 뽑히지 않도록 하고, 최종 출력은 오름차순 정렬해서 보여주기"
   ]
  },
  {
   "cell_type": "code",
   "execution_count": 237,
   "id": "a180e6e2",
   "metadata": {},
   "outputs": [
    {
     "name": "stdout",
     "output_type": "stream",
     "text": [
      "로또 몇회 뽑으시겠습니까? : 6\n"
     ]
    },
    {
     "data": {
      "text/plain": [
       "[[5, 27, 35, 36, 43, 45],\n",
       " [6, 7, 19, 21, 44, 45],\n",
       " [11, 30, 32, 33, 37, 40],\n",
       " [2, 3, 4, 5, 38, 45],\n",
       " [21, 24, 27, 28, 30, 33],\n",
       " [11, 15, 18, 28, 36, 43]]"
      ]
     },
     "execution_count": 237,
     "metadata": {},
     "output_type": "execute_result"
    }
   ],
   "source": [
    "import random\n",
    "\n",
    "count = int(input(\"로또 몇회 뽑으시겠습니까? : \"))\n",
    "\n",
    "total = []\n",
    "for i in range(count):\n",
    "    lotto = []\n",
    "    while True:\n",
    "        pick = random.randint(1, 45)\n",
    "        if pick not in lotto:\n",
    "            lotto.append(pick)\n",
    "\n",
    "        if len(lotto) >= 6:        \n",
    "            break\n",
    "    lotto.sort()    \n",
    "    total.append(lotto)\n",
    "total      "
   ]
  },
  {
   "cell_type": "code",
   "execution_count": 238,
   "id": "b3f45113",
   "metadata": {},
   "outputs": [
    {
     "name": "stdout",
     "output_type": "stream",
     "text": [
      "로또 몇회 뽑으시겠습니까? : 5\n"
     ]
    },
    {
     "data": {
      "text/plain": [
       "[[13, 15, 16, 18, 27, 42],\n",
       " [1, 8, 10, 23, 30, 33],\n",
       " [2, 5, 6, 15, 26, 32],\n",
       " [6, 7, 12, 13, 21, 29],\n",
       " [11, 17, 20, 24, 30, 32]]"
      ]
     },
     "execution_count": 238,
     "metadata": {},
     "output_type": "execute_result"
    }
   ],
   "source": [
    "import random\n",
    "\n",
    "count = int(input(\"로또 몇회 뽑으시겠습니까? : \"))\n",
    "\n",
    "total = []\n",
    "for i in range(count):\n",
    "    lotto = random.sample(range(1, 46), 6)        \n",
    "    lotto.sort()    \n",
    "    total.append(lotto)\n",
    "total  "
   ]
  },
  {
   "cell_type": "markdown",
   "id": "a29fc37a",
   "metadata": {},
   "source": [
    "# 문자열 응용하기"
   ]
  },
  {
   "cell_type": "markdown",
   "id": "ed6a8fce",
   "metadata": {},
   "source": [
    "- replace('바꿀문자열', '새문자열') : 문자열 바꾸기"
   ]
  },
  {
   "cell_type": "code",
   "execution_count": 240,
   "id": "1b37fa9d",
   "metadata": {},
   "outputs": [
    {
     "data": {
      "text/plain": [
       "'Hello, Python!'"
      ]
     },
     "execution_count": 240,
     "metadata": {},
     "output_type": "execute_result"
    }
   ],
   "source": [
    "s = \"Hello, World!\"\n",
    "result = s.replace('World!', 'Python!')\n",
    "result"
   ]
  },
  {
   "cell_type": "code",
   "execution_count": 241,
   "id": "bac59b78",
   "metadata": {},
   "outputs": [
    {
     "data": {
      "text/plain": [
       "'Hello, World!'"
      ]
     },
     "execution_count": 241,
     "metadata": {},
     "output_type": "execute_result"
    }
   ],
   "source": [
    "s"
   ]
  },
  {
   "cell_type": "markdown",
   "id": "5b566bd1",
   "metadata": {},
   "source": [
    "- split('기준문자열') : 문자열 분리하기"
   ]
  },
  {
   "cell_type": "code",
   "execution_count": 243,
   "id": "82d40e4f",
   "metadata": {},
   "outputs": [
    {
     "data": {
      "text/plain": [
       "['apple', 'pear', 'grape', 'pineapple', 'orange']"
      ]
     },
     "execution_count": 243,
     "metadata": {},
     "output_type": "execute_result"
    }
   ],
   "source": [
    "s = 'apple pear grape pineapple orange'\n",
    "result = s.split()\n",
    "result"
   ]
  },
  {
   "cell_type": "code",
   "execution_count": 244,
   "id": "85e6fd65",
   "metadata": {},
   "outputs": [
    {
     "data": {
      "text/plain": [
       "['apple', 'pear', 'grape', 'pineapple', 'orange']"
      ]
     },
     "execution_count": 244,
     "metadata": {},
     "output_type": "execute_result"
    }
   ],
   "source": [
    "s = 'apple.pear.grape.pineapple.orange'\n",
    "result = s.split('.')\n",
    "result"
   ]
  },
  {
   "cell_type": "markdown",
   "id": "1e0733f6",
   "metadata": {},
   "source": [
    "- '구분자'.join(리스트)"
   ]
  },
  {
   "cell_type": "code",
   "execution_count": 248,
   "id": "12cde5ec",
   "metadata": {},
   "outputs": [
    {
     "data": {
      "text/plain": [
       "'apple-pear-grape-pineapple-orange'"
      ]
     },
     "execution_count": 248,
     "metadata": {},
     "output_type": "execute_result"
    }
   ],
   "source": [
    "'-'.join(result)"
   ]
  },
  {
   "cell_type": "markdown",
   "id": "340352e9",
   "metadata": {},
   "source": [
    "- upper() : 대문자로 바꿈\n",
    "- lower() : 소문자로 바꿈\n",
    "- strip() : 문자열 양쪽에 있는 연속된 모든 공백을 삭제\n",
    "- lstrip() : 문자열 왼쪽에 있는 연속된 모든 공백을 삭제\n",
    "- rstrip() : 문자열 오른쪽에 있는 연속된 모든 공백을 삭제"
   ]
  },
  {
   "cell_type": "code",
   "execution_count": 249,
   "id": "1ec88eea",
   "metadata": {},
   "outputs": [
    {
     "data": {
      "text/plain": [
       "'PYTHON'"
      ]
     },
     "execution_count": 249,
     "metadata": {},
     "output_type": "execute_result"
    }
   ],
   "source": [
    "'python'.upper()"
   ]
  },
  {
   "cell_type": "code",
   "execution_count": 250,
   "id": "6458c4f9",
   "metadata": {},
   "outputs": [
    {
     "data": {
      "text/plain": [
       "'python'"
      ]
     },
     "execution_count": 250,
     "metadata": {},
     "output_type": "execute_result"
    }
   ],
   "source": [
    "'PYTHON'.lower()"
   ]
  },
  {
   "cell_type": "code",
   "execution_count": 251,
   "id": "0d66e782",
   "metadata": {},
   "outputs": [
    {
     "data": {
      "text/plain": [
       "'Python'"
      ]
     },
     "execution_count": 251,
     "metadata": {},
     "output_type": "execute_result"
    }
   ],
   "source": [
    "'     Python     '.strip()"
   ]
  },
  {
   "cell_type": "code",
   "execution_count": 252,
   "id": "991ba102",
   "metadata": {},
   "outputs": [
    {
     "data": {
      "text/plain": [
       "'Python     '"
      ]
     },
     "execution_count": 252,
     "metadata": {},
     "output_type": "execute_result"
    }
   ],
   "source": [
    "'     Python     '.lstrip()"
   ]
  },
  {
   "cell_type": "code",
   "execution_count": 253,
   "id": "308187a4",
   "metadata": {},
   "outputs": [
    {
     "data": {
      "text/plain": [
       "'     Python'"
      ]
     },
     "execution_count": 253,
     "metadata": {},
     "output_type": "execute_result"
    }
   ],
   "source": [
    "'     Python     '.rstrip()"
   ]
  },
  {
   "cell_type": "code",
   "execution_count": 254,
   "id": "602a1a04",
   "metadata": {},
   "outputs": [
    {
     "data": {
      "text/plain": [
       "'Python'"
      ]
     },
     "execution_count": 254,
     "metadata": {},
     "output_type": "execute_result"
    }
   ],
   "source": [
    "'   ,...  Python  ,.,.   '.strip(',. ')"
   ]
  },
  {
   "cell_type": "code",
   "execution_count": 255,
   "id": "83293ab4",
   "metadata": {},
   "outputs": [
    {
     "data": {
      "text/plain": [
       "'       python       '"
      ]
     },
     "execution_count": 255,
     "metadata": {},
     "output_type": "execute_result"
    }
   ],
   "source": [
    "'python'.center(20) # 20(길이)만큼의 전체 사이즈를 확보하고 문자열을 중간에 배치"
   ]
  },
  {
   "cell_type": "markdown",
   "id": "e0236163",
   "metadata": {},
   "source": [
    "- index('찾을문자열') : 문자열에서 특정문자열을 찾아서 인덱스를 반환하고, 없으면 에러\n",
    "- find('찾을문자열') : 문자열에서 특정문자열을 찾아서 인덱스를 반환하고, 없으면 -1 반환"
   ]
  },
  {
   "cell_type": "code",
   "execution_count": 256,
   "id": "283da59f",
   "metadata": {},
   "outputs": [
    {
     "data": {
      "text/plain": [
       "2"
      ]
     },
     "execution_count": 256,
     "metadata": {},
     "output_type": "execute_result"
    }
   ],
   "source": [
    "s = 'apple pear grape pineapple orange'\n",
    "s.index('pl') # 왼쪽부터 찾음"
   ]
  },
  {
   "cell_type": "code",
   "execution_count": 257,
   "id": "1d5d0e70",
   "metadata": {},
   "outputs": [
    {
     "data": {
      "text/plain": [
       "23"
      ]
     },
     "execution_count": 257,
     "metadata": {},
     "output_type": "execute_result"
    }
   ],
   "source": [
    "s.rindex('pl') # 오른쪽부터 찾음"
   ]
  },
  {
   "cell_type": "code",
   "execution_count": 258,
   "id": "eeaf9f57",
   "metadata": {},
   "outputs": [
    {
     "ename": "ValueError",
     "evalue": "substring not found",
     "output_type": "error",
     "traceback": [
      "\u001b[1;31m---------------------------------------------------------------------------\u001b[0m",
      "\u001b[1;31mValueError\u001b[0m                                Traceback (most recent call last)",
      "Input \u001b[1;32mIn [258]\u001b[0m, in \u001b[0;36m<cell line: 1>\u001b[1;34m()\u001b[0m\n\u001b[1;32m----> 1\u001b[0m \u001b[43ms\u001b[49m\u001b[38;5;241;43m.\u001b[39;49m\u001b[43mindex\u001b[49m\u001b[43m(\u001b[49m\u001b[38;5;124;43m'\u001b[39;49m\u001b[38;5;124;43mpppp\u001b[39;49m\u001b[38;5;124;43m'\u001b[39;49m\u001b[43m)\u001b[49m\n",
      "\u001b[1;31mValueError\u001b[0m: substring not found"
     ]
    }
   ],
   "source": [
    "s.index('pppp')"
   ]
  },
  {
   "cell_type": "code",
   "execution_count": 259,
   "id": "08d36361",
   "metadata": {},
   "outputs": [
    {
     "data": {
      "text/plain": [
       "-1"
      ]
     },
     "execution_count": 259,
     "metadata": {},
     "output_type": "execute_result"
    }
   ],
   "source": [
    "s.find('pppp')"
   ]
  },
  {
   "cell_type": "code",
   "execution_count": 260,
   "id": "fa90516e",
   "metadata": {},
   "outputs": [
    {
     "data": {
      "text/plain": [
       "2"
      ]
     },
     "execution_count": 260,
     "metadata": {},
     "output_type": "execute_result"
    }
   ],
   "source": [
    "s.find('pl') # 왼쪽부터 찾음"
   ]
  },
  {
   "cell_type": "code",
   "execution_count": 261,
   "id": "37b95b19",
   "metadata": {},
   "outputs": [
    {
     "data": {
      "text/plain": [
       "23"
      ]
     },
     "execution_count": 261,
     "metadata": {},
     "output_type": "execute_result"
    }
   ],
   "source": [
    "s.rfind('pl') # 오른쪽부터 찾음"
   ]
  },
  {
   "cell_type": "markdown",
   "id": "93487bbf",
   "metadata": {},
   "source": [
    "- count('문자열') : 현재 문자열에서 특정 문자열이 몇번 나오는지 알아냄"
   ]
  },
  {
   "cell_type": "code",
   "execution_count": 262,
   "id": "1620671e",
   "metadata": {},
   "outputs": [
    {
     "data": {
      "text/plain": [
       "2"
      ]
     },
     "execution_count": 262,
     "metadata": {},
     "output_type": "execute_result"
    }
   ],
   "source": [
    "s.count('pl')"
   ]
  },
  {
   "cell_type": "markdown",
   "id": "052dad88",
   "metadata": {},
   "source": [
    "**서식 지정자**"
   ]
  },
  {
   "cell_type": "code",
   "execution_count": 267,
   "id": "dea722c4",
   "metadata": {},
   "outputs": [
    {
     "data": {
      "text/plain": [
       "'나는 장경희 입니다.'"
      ]
     },
     "execution_count": 267,
     "metadata": {},
     "output_type": "execute_result"
    }
   ],
   "source": [
    "name = '장경희'\n",
    "\"나는 %s 입니다.\" % name"
   ]
  },
  {
   "cell_type": "code",
   "execution_count": 272,
   "id": "db1a26d3",
   "metadata": {},
   "outputs": [
    {
     "data": {
      "text/plain": [
       "'나이는 31살 입니다'"
      ]
     },
     "execution_count": 272,
     "metadata": {},
     "output_type": "execute_result"
    }
   ],
   "source": [
    "age = 31\n",
    "\"나이는 %d살 입니다.\" % age"
   ]
  },
  {
   "cell_type": "code",
   "execution_count": 278,
   "id": "7ca20283",
   "metadata": {},
   "outputs": [
    {
     "data": {
      "text/plain": [
       "'내 학점은 4.20 입니다.'"
      ]
     },
     "execution_count": 278,
     "metadata": {},
     "output_type": "execute_result"
    }
   ],
   "source": [
    "score = 4.2\n",
    "\"내 학점은 %.2f 입니다.\" % score"
   ]
  },
  {
   "cell_type": "code",
   "execution_count": 281,
   "id": "66f080c3",
   "metadata": {},
   "outputs": [
    {
     "data": {
      "text/plain": [
       "'나는 장경희 입니다. 나이는 31살 입니다. 내 학점은 4.20 입니다.'"
      ]
     },
     "execution_count": 281,
     "metadata": {},
     "output_type": "execute_result"
    }
   ],
   "source": [
    "name = '장경희'\n",
    "age = 31\n",
    "score = 4.2\n",
    "\"나는 %s 입니다. 나이는 %d살 입니다. 내 학점은 %.2f 입니다.\" % (name, age, score)"
   ]
  },
  {
   "cell_type": "markdown",
   "id": "ba08a76e",
   "metadata": {},
   "source": [
    "**format 함수**"
   ]
  },
  {
   "cell_type": "code",
   "execution_count": 282,
   "id": "b24ebedf",
   "metadata": {},
   "outputs": [
    {
     "data": {
      "text/plain": [
       "'나는 장경희 입니다.'"
      ]
     },
     "execution_count": 282,
     "metadata": {},
     "output_type": "execute_result"
    }
   ],
   "source": [
    "name = '장경희'\n",
    "\"나는 {} 입니다.\".format(name)"
   ]
  },
  {
   "cell_type": "code",
   "execution_count": null,
   "id": "f12cabab",
   "metadata": {},
   "outputs": [],
   "source": []
  },
  {
   "cell_type": "markdown",
   "id": "0b6270d2",
   "metadata": {},
   "source": [
    "**f 포매팅**"
   ]
  },
  {
   "cell_type": "code",
   "execution_count": null,
   "id": "70c8931a",
   "metadata": {},
   "outputs": [],
   "source": []
  },
  {
   "cell_type": "code",
   "execution_count": null,
   "id": "e263569c",
   "metadata": {},
   "outputs": [],
   "source": []
  }
 ],
 "metadata": {
  "kernelspec": {
   "display_name": "Python 3 (ipykernel)",
   "language": "python",
   "name": "python3"
  },
  "language_info": {
   "codemirror_mode": {
    "name": "ipython",
    "version": 3
   },
   "file_extension": ".py",
   "mimetype": "text/x-python",
   "name": "python",
   "nbconvert_exporter": "python",
   "pygments_lexer": "ipython3",
   "version": "3.9.12"
  }
 },
 "nbformat": 4,
 "nbformat_minor": 5
}
