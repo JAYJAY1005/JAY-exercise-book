{
 "cells": [
  {
   "cell_type": "markdown",
   "id": "5be91eee",
   "metadata": {},
   "source": [
    "# 논리 연산자"
   ]
  },
  {
   "cell_type": "markdown",
   "id": "c03e5515",
   "metadata": {},
   "source": [
    "- a and b\n",
    "- a or b\n",
    "- not a"
   ]
  },
  {
   "cell_type": "code",
   "execution_count": 1,
   "id": "da4afc88",
   "metadata": {},
   "outputs": [
    {
     "data": {
      "text/plain": [
       "True"
      ]
     },
     "execution_count": 1,
     "metadata": {},
     "output_type": "execute_result"
    }
   ],
   "source": [
    "True and True"
   ]
  },
  {
   "cell_type": "code",
   "execution_count": 2,
   "id": "84812523",
   "metadata": {},
   "outputs": [
    {
     "data": {
      "text/plain": [
       "False"
      ]
     },
     "execution_count": 2,
     "metadata": {},
     "output_type": "execute_result"
    }
   ],
   "source": [
    "True and False"
   ]
  },
  {
   "cell_type": "code",
   "execution_count": 3,
   "id": "ca88114a",
   "metadata": {},
   "outputs": [
    {
     "data": {
      "text/plain": [
       "True"
      ]
     },
     "execution_count": 3,
     "metadata": {},
     "output_type": "execute_result"
    }
   ],
   "source": [
    "True or False"
   ]
  },
  {
   "cell_type": "code",
   "execution_count": 4,
   "id": "3fb5f6b5",
   "metadata": {},
   "outputs": [
    {
     "data": {
      "text/plain": [
       "True"
      ]
     },
     "execution_count": 4,
     "metadata": {},
     "output_type": "execute_result"
    }
   ],
   "source": [
    "False or True"
   ]
  },
  {
   "cell_type": "code",
   "execution_count": 5,
   "id": "0844903c",
   "metadata": {},
   "outputs": [
    {
     "data": {
      "text/plain": [
       "False"
      ]
     },
     "execution_count": 5,
     "metadata": {},
     "output_type": "execute_result"
    }
   ],
   "source": [
    "not True"
   ]
  },
  {
   "cell_type": "markdown",
   "id": "72992185",
   "metadata": {},
   "source": [
    "# 비교 연산자와 논리 연산자를 함께 사용"
   ]
  },
  {
   "cell_type": "code",
   "execution_count": 6,
   "id": "4e90426c",
   "metadata": {},
   "outputs": [
    {
     "data": {
      "text/plain": [
       "True"
      ]
     },
     "execution_count": 6,
     "metadata": {},
     "output_type": "execute_result"
    }
   ],
   "source": [
    "10 == 10 # 비교 연산 1"
   ]
  },
  {
   "cell_type": "code",
   "execution_count": 7,
   "id": "cebe36be",
   "metadata": {},
   "outputs": [
    {
     "data": {
      "text/plain": [
       "True"
      ]
     },
     "execution_count": 7,
     "metadata": {},
     "output_type": "execute_result"
    }
   ],
   "source": [
    "10 != 5 # 비교 연산 2"
   ]
  },
  {
   "cell_type": "code",
   "execution_count": 8,
   "id": "64ebcc1b",
   "metadata": {},
   "outputs": [
    {
     "data": {
      "text/plain": [
       "True"
      ]
     },
     "execution_count": 8,
     "metadata": {},
     "output_type": "execute_result"
    }
   ],
   "source": [
    "10 == 10 and 10 != 5"
   ]
  },
  {
   "cell_type": "code",
   "execution_count": 9,
   "id": "f0598d4c",
   "metadata": {},
   "outputs": [
    {
     "data": {
      "text/plain": [
       "False"
      ]
     },
     "execution_count": 9,
     "metadata": {},
     "output_type": "execute_result"
    }
   ],
   "source": [
    "10 == 10 and 10 == 5"
   ]
  },
  {
   "cell_type": "code",
   "execution_count": 12,
   "id": "0b3ea743",
   "metadata": {},
   "outputs": [
    {
     "data": {
      "text/plain": [
       "'1'"
      ]
     },
     "execution_count": 12,
     "metadata": {},
     "output_type": "execute_result"
    }
   ],
   "source": [
    "# 자료형 변환\n",
    "# int(1.5)\n",
    "# float(1)\n",
    "# str(1)"
   ]
  },
  {
   "cell_type": "code",
   "execution_count": 13,
   "id": "11726294",
   "metadata": {},
   "outputs": [
    {
     "data": {
      "text/plain": [
       "True"
      ]
     },
     "execution_count": 13,
     "metadata": {},
     "output_type": "execute_result"
    }
   ],
   "source": [
    "bool(1)"
   ]
  },
  {
   "cell_type": "code",
   "execution_count": 14,
   "id": "7f987352",
   "metadata": {},
   "outputs": [
    {
     "data": {
      "text/plain": [
       "False"
      ]
     },
     "execution_count": 14,
     "metadata": {},
     "output_type": "execute_result"
    }
   ],
   "source": [
    "bool(0)"
   ]
  },
  {
   "cell_type": "markdown",
   "id": "425591cf",
   "metadata": {},
   "source": [
    "# Workshop"
   ]
  },
  {
   "cell_type": "markdown",
   "id": "c9b98b1e",
   "metadata": {},
   "source": [
    "**합격 여부 출력하기**\n",
    "- 국어, 영어, 수학, 과학 점수가 있을 때 한 과목이라도 50점 미만이면 불합격\n",
    "이라고 정했습니다. 다음 소스 코드를 완성하여 합격이면 True, 불합격이\n",
    "면 False가 출력되게 만드세요."
   ]
  },
  {
   "cell_type": "code",
   "execution_count": 15,
   "id": "9b17dd55",
   "metadata": {},
   "outputs": [],
   "source": [
    "korean = 92 \n",
    "english = 47 \n",
    "mathmatics = 86 \n",
    "science = 81 "
   ]
  },
  {
   "cell_type": "code",
   "execution_count": 17,
   "id": "5788a9e9",
   "metadata": {},
   "outputs": [
    {
     "name": "stdout",
     "output_type": "stream",
     "text": [
      "False\n"
     ]
    }
   ],
   "source": [
    "print(korean >= 50 and english >= 50 and mathmatics >= 50 and science >= 50)"
   ]
  },
  {
   "cell_type": "code",
   "execution_count": 19,
   "id": "59562179",
   "metadata": {},
   "outputs": [
    {
     "data": {
      "text/plain": [
       "False"
      ]
     },
     "execution_count": 19,
     "metadata": {},
     "output_type": "execute_result"
    }
   ],
   "source": [
    "not(korean < 50 or english < 50 or mathmatics < 50 or science < 50)"
   ]
  },
  {
   "cell_type": "markdown",
   "id": "459668fb",
   "metadata": {},
   "source": [
    "* all(), any()"
   ]
  },
  {
   "cell_type": "code",
   "execution_count": 22,
   "id": "39f8795a",
   "metadata": {},
   "outputs": [],
   "source": [
    "is_pass = [korean>=50, english>=50, mathmatics>=50, science>=50]"
   ]
  },
  {
   "cell_type": "code",
   "execution_count": 23,
   "id": "9117a55c",
   "metadata": {},
   "outputs": [
    {
     "data": {
      "text/plain": [
       "False"
      ]
     },
     "execution_count": 23,
     "metadata": {},
     "output_type": "execute_result"
    }
   ],
   "source": [
    "all(is_pass)"
   ]
  },
  {
   "cell_type": "code",
   "execution_count": 24,
   "id": "76e13356",
   "metadata": {},
   "outputs": [
    {
     "data": {
      "text/plain": [
       "[False, True, False, False]"
      ]
     },
     "execution_count": 24,
     "metadata": {},
     "output_type": "execute_result"
    }
   ],
   "source": [
    "is_fail = [korean<50, english<50, mathmatics<50, science<50]\n",
    "is_fail"
   ]
  },
  {
   "cell_type": "code",
   "execution_count": 26,
   "id": "bccf2f2c",
   "metadata": {},
   "outputs": [
    {
     "data": {
      "text/plain": [
       "False"
      ]
     },
     "execution_count": 26,
     "metadata": {},
     "output_type": "execute_result"
    }
   ],
   "source": [
    "not(any(is_fail))"
   ]
  },
  {
   "cell_type": "markdown",
   "id": "eded4b46",
   "metadata": {},
   "source": [
    "# 문자열 사용하기"
   ]
  },
  {
   "cell_type": "code",
   "execution_count": 31,
   "id": "e3e2c6f9",
   "metadata": {},
   "outputs": [
    {
     "data": {
      "text/plain": [
       "str"
      ]
     },
     "execution_count": 31,
     "metadata": {},
     "output_type": "execute_result"
    }
   ],
   "source": [
    "s1 = 'hello'\n",
    "s2 = \"hello\"\n",
    "s3 = '''hello'''\n",
    "s4 = \"\"\"hello\"\"\""
   ]
  },
  {
   "cell_type": "code",
   "execution_count": 32,
   "id": "076b4f35",
   "metadata": {},
   "outputs": [
    {
     "name": "stdout",
     "output_type": "stream",
     "text": [
      "hello hello hello hello\n"
     ]
    }
   ],
   "source": [
    "print(s1, s2, s3, s4)"
   ]
  },
  {
   "cell_type": "markdown",
   "id": "4101908c",
   "metadata": {},
   "source": [
    "hello \"python\""
   ]
  },
  {
   "cell_type": "code",
   "execution_count": 33,
   "id": "4c8b2c01",
   "metadata": {},
   "outputs": [
    {
     "data": {
      "text/plain": [
       "str"
      ]
     },
     "execution_count": 33,
     "metadata": {},
     "output_type": "execute_result"
    }
   ],
   "source": [
    "s1 = 'hello \"python\"'\n",
    "type(s1)"
   ]
  },
  {
   "cell_type": "code",
   "execution_count": 35,
   "id": "f56361f8",
   "metadata": {},
   "outputs": [
    {
     "name": "stdout",
     "output_type": "stream",
     "text": [
      "hello \"python\"\n"
     ]
    }
   ],
   "source": [
    "print(s1)"
   ]
  },
  {
   "cell_type": "markdown",
   "id": "bb3f8156",
   "metadata": {},
   "source": [
    "hello 'python'"
   ]
  },
  {
   "cell_type": "code",
   "execution_count": 36,
   "id": "0216c3ba",
   "metadata": {},
   "outputs": [
    {
     "name": "stdout",
     "output_type": "stream",
     "text": [
      "hello 'python'\n"
     ]
    }
   ],
   "source": [
    "s2 = \"hello 'python'\"\n",
    "print(s2)"
   ]
  },
  {
   "cell_type": "code",
   "execution_count": 38,
   "id": "6a3da014",
   "metadata": {},
   "outputs": [
    {
     "name": "stdout",
     "output_type": "stream",
     "text": [
      "hello \"python\" \n"
     ]
    }
   ],
   "source": [
    "s3 = \"\"\"hello \"python\" \"\"\"\n",
    "print(s3)"
   ]
  },
  {
   "cell_type": "code",
   "execution_count": 42,
   "id": "1350c3cd",
   "metadata": {},
   "outputs": [
    {
     "name": "stdout",
     "output_type": "stream",
     "text": [
      "hello 'python' \n"
     ]
    }
   ],
   "source": [
    "s4 = '''hello 'python' '''\n",
    "print(s4)"
   ]
  },
  {
   "cell_type": "markdown",
   "id": "e98584f1",
   "metadata": {},
   "source": [
    "here is\n",
    "python world\n",
    "it is\n",
    "real!!!"
   ]
  },
  {
   "cell_type": "code",
   "execution_count": 43,
   "id": "30584ca1",
   "metadata": {},
   "outputs": [
    {
     "name": "stdout",
     "output_type": "stream",
     "text": [
      "here is\n",
      "python world\n",
      "it is\n",
      "real!!!\n"
     ]
    }
   ],
   "source": [
    "s5 = '''here is\n",
    "python world\n",
    "it is\n",
    "real!!!'''\n",
    "print(s5)"
   ]
  },
  {
   "cell_type": "code",
   "execution_count": 44,
   "id": "39338a91",
   "metadata": {},
   "outputs": [
    {
     "name": "stdout",
     "output_type": "stream",
     "text": [
      "here is\n",
      "python world\n",
      "it is\n",
      "real!!!\n"
     ]
    }
   ],
   "source": [
    "s6 = \"\"\"here is\n",
    "python world\n",
    "it is\n",
    "real!!!\"\"\"\n",
    "print(s6)"
   ]
  },
  {
   "cell_type": "code",
   "execution_count": 50,
   "id": "380e2c90",
   "metadata": {},
   "outputs": [
    {
     "data": {
      "text/plain": [
       "3"
      ]
     },
     "execution_count": 50,
     "metadata": {},
     "output_type": "execute_result"
    }
   ],
   "source": [
    "s6.count('\\n')"
   ]
  },
  {
   "cell_type": "markdown",
   "id": "bd4ccbb3",
   "metadata": {},
   "source": [
    "hello 'python'"
   ]
  },
  {
   "cell_type": "code",
   "execution_count": 51,
   "id": "7caf3513",
   "metadata": {},
   "outputs": [
    {
     "name": "stdout",
     "output_type": "stream",
     "text": [
      "hello 'python'\n"
     ]
    }
   ],
   "source": [
    "s7 = 'hello \\'python\\''\n",
    "print(s7)"
   ]
  },
  {
   "cell_type": "markdown",
   "id": "07c6fcdc",
   "metadata": {},
   "source": [
    "# Workshop"
   ]
  },
  {
   "cell_type": "markdown",
   "id": "927dfd39",
   "metadata": {},
   "source": [
    "'Python' is a \"programming language\"\n",
    "that lets you work quicky\n",
    "and\n",
    "integrate systems more effectively."
   ]
  },
  {
   "cell_type": "code",
   "execution_count": 52,
   "id": "56a58c8a",
   "metadata": {},
   "outputs": [
    {
     "name": "stdout",
     "output_type": "stream",
     "text": [
      "'Python' is a \"programming language\"\n",
      "that lets you work quicky\n",
      "and\n",
      "integrate systems more effectively.\n"
     ]
    }
   ],
   "source": [
    "s = \"\"\"'Python' is a \"programming language\"\n",
    "that lets you work quicky\n",
    "and\n",
    "integrate systems more effectively.\"\"\"\n",
    "\n",
    "print(s)"
   ]
  },
  {
   "cell_type": "markdown",
   "id": "54455c1e",
   "metadata": {},
   "source": [
    "# 리스트와 튜플"
   ]
  },
  {
   "cell_type": "markdown",
   "id": "f8e0a9e5",
   "metadata": {},
   "source": [
    "- 리스트 = [값, 값, 값, ....]"
   ]
  },
  {
   "cell_type": "code",
   "execution_count": 53,
   "id": "8d26f7a0",
   "metadata": {},
   "outputs": [
    {
     "data": {
      "text/plain": [
       "[90, 95, 100, 80, 70, 100]"
      ]
     },
     "execution_count": 53,
     "metadata": {},
     "output_type": "execute_result"
    }
   ],
   "source": [
    "scores = [90, 95, 100, 80, 70, 100]\n",
    "scores"
   ]
  },
  {
   "cell_type": "code",
   "execution_count": 54,
   "id": "4b95ad94",
   "metadata": {},
   "outputs": [
    {
     "data": {
      "text/plain": [
       "list"
      ]
     },
     "execution_count": 54,
     "metadata": {},
     "output_type": "execute_result"
    }
   ],
   "source": [
    "type(scores)"
   ]
  },
  {
   "cell_type": "code",
   "execution_count": 55,
   "id": "bba5b878",
   "metadata": {},
   "outputs": [
    {
     "data": {
      "text/plain": [
       "['James', 17, 175.3, True]"
      ]
     },
     "execution_count": 55,
     "metadata": {},
     "output_type": "execute_result"
    }
   ],
   "source": [
    "person = [\"James\", 17, 175.3, True]\n",
    "person"
   ]
  },
  {
   "cell_type": "markdown",
   "id": "2a3172b5",
   "metadata": {},
   "source": [
    "**빈 리스트 만들기**\n",
    "- 리스트 = []\n",
    "- 리스트 = list()\n"
   ]
  },
  {
   "cell_type": "code",
   "execution_count": 57,
   "id": "6a0e2a40",
   "metadata": {},
   "outputs": [
    {
     "data": {
      "text/plain": [
       "[]"
      ]
     },
     "execution_count": 57,
     "metadata": {},
     "output_type": "execute_result"
    }
   ],
   "source": [
    "empty_list1 = []\n",
    "empty_list1"
   ]
  },
  {
   "cell_type": "code",
   "execution_count": 58,
   "id": "dfd9dff8",
   "metadata": {},
   "outputs": [
    {
     "data": {
      "text/plain": [
       "[]"
      ]
     },
     "execution_count": 58,
     "metadata": {},
     "output_type": "execute_result"
    }
   ],
   "source": [
    "empty_list2 = list()\n",
    "empty_list2"
   ]
  },
  {
   "cell_type": "markdown",
   "id": "405a8e04",
   "metadata": {},
   "source": [
    "- range(횟수)"
   ]
  },
  {
   "cell_type": "code",
   "execution_count": 59,
   "id": "186d98a7",
   "metadata": {},
   "outputs": [
    {
     "data": {
      "text/plain": [
       "range(0, 10)"
      ]
     },
     "execution_count": 59,
     "metadata": {},
     "output_type": "execute_result"
    }
   ],
   "source": [
    "range(10)"
   ]
  },
  {
   "cell_type": "markdown",
   "id": "2d775a36",
   "metadata": {},
   "source": [
    "- 리스트 = list(range(횟수))"
   ]
  },
  {
   "cell_type": "code",
   "execution_count": 63,
   "id": "b593ac17",
   "metadata": {},
   "outputs": [
    {
     "data": {
      "text/plain": [
       "[0, 1, 2, 3, 4, 5, 6, 7, 8, 9]"
      ]
     },
     "execution_count": 63,
     "metadata": {},
     "output_type": "execute_result"
    }
   ],
   "source": [
    "a = list(range(10))\n",
    "a"
   ]
  },
  {
   "cell_type": "markdown",
   "id": "42928201",
   "metadata": {},
   "source": [
    "- 리스트 = list(range(시작, 끝))"
   ]
  },
  {
   "cell_type": "code",
   "execution_count": 64,
   "id": "edc88813",
   "metadata": {},
   "outputs": [
    {
     "data": {
      "text/plain": [
       "[5, 6, 7, 8, 9]"
      ]
     },
     "execution_count": 64,
     "metadata": {},
     "output_type": "execute_result"
    }
   ],
   "source": [
    "b = list(range(5, 10))\n",
    "b"
   ]
  },
  {
   "cell_type": "markdown",
   "id": "c1846979",
   "metadata": {},
   "source": [
    "- 리스트 = list(range(시작, 끝, 증가폭))"
   ]
  },
  {
   "cell_type": "code",
   "execution_count": 65,
   "id": "c3b537eb",
   "metadata": {},
   "outputs": [
    {
     "data": {
      "text/plain": [
       "[0, 2, 4, 6, 8]"
      ]
     },
     "execution_count": 65,
     "metadata": {},
     "output_type": "execute_result"
    }
   ],
   "source": [
    "c = list(range(0, 10, 2))\n",
    "c"
   ]
  },
  {
   "cell_type": "code",
   "execution_count": 66,
   "id": "50e86114",
   "metadata": {},
   "outputs": [
    {
     "data": {
      "text/plain": [
       "[10, 9, 8, 7, 6, 5, 4, 3, 2, 1]"
      ]
     },
     "execution_count": 66,
     "metadata": {},
     "output_type": "execute_result"
    }
   ],
   "source": [
    "d = list(range(10, 0, -1))\n",
    "d"
   ]
  },
  {
   "cell_type": "markdown",
   "id": "2b3bf993",
   "metadata": {},
   "source": [
    "- 튜플 = (값, 값, 값, ....)\n",
    "- 튜플 = 값, 값, 값, ...."
   ]
  },
  {
   "cell_type": "code",
   "execution_count": 67,
   "id": "820163ed",
   "metadata": {},
   "outputs": [
    {
     "data": {
      "text/plain": [
       "(1, 2, 3, 4)"
      ]
     },
     "execution_count": 67,
     "metadata": {},
     "output_type": "execute_result"
    }
   ],
   "source": [
    "a = (1, 2, 3, 4)\n",
    "a"
   ]
  },
  {
   "cell_type": "code",
   "execution_count": 68,
   "id": "198c9a1c",
   "metadata": {},
   "outputs": [
    {
     "data": {
      "text/plain": [
       "tuple"
      ]
     },
     "execution_count": 68,
     "metadata": {},
     "output_type": "execute_result"
    }
   ],
   "source": [
    "type(a)"
   ]
  },
  {
   "cell_type": "code",
   "execution_count": 69,
   "id": "a6dd47a9",
   "metadata": {},
   "outputs": [
    {
     "data": {
      "text/plain": [
       "(1, 2, 3, 4)"
      ]
     },
     "execution_count": 69,
     "metadata": {},
     "output_type": "execute_result"
    }
   ],
   "source": [
    "b = 1, 2, 3, 4\n",
    "b"
   ]
  },
  {
   "cell_type": "code",
   "execution_count": 70,
   "id": "d137ea6b",
   "metadata": {},
   "outputs": [
    {
     "data": {
      "text/plain": [
       "tuple"
      ]
     },
     "execution_count": 70,
     "metadata": {},
     "output_type": "execute_result"
    }
   ],
   "source": [
    "type(b)"
   ]
  },
  {
   "cell_type": "code",
   "execution_count": 72,
   "id": "1b320a37",
   "metadata": {},
   "outputs": [
    {
     "data": {
      "text/plain": [
       "tuple"
      ]
     },
     "execution_count": 72,
     "metadata": {},
     "output_type": "execute_result"
    }
   ],
   "source": [
    "c = (1,)\n",
    "type(c)"
   ]
  },
  {
   "cell_type": "markdown",
   "id": "f3ac7837",
   "metadata": {},
   "source": [
    "- 튜플 = tuple(range(횟수))"
   ]
  },
  {
   "cell_type": "code",
   "execution_count": 73,
   "id": "f29de0e0",
   "metadata": {},
   "outputs": [],
   "source": [
    "a = tuple(range(10))"
   ]
  },
  {
   "cell_type": "code",
   "execution_count": 74,
   "id": "3a9d941a",
   "metadata": {},
   "outputs": [
    {
     "data": {
      "text/plain": [
       "(0, 1, 2, 3, 4, 5, 6, 7, 8, 9)"
      ]
     },
     "execution_count": 74,
     "metadata": {},
     "output_type": "execute_result"
    }
   ],
   "source": [
    "a"
   ]
  },
  {
   "cell_type": "markdown",
   "id": "82310cf0",
   "metadata": {},
   "source": [
    "- 튜플 = tuple(range(시작, 끝))"
   ]
  },
  {
   "cell_type": "code",
   "execution_count": 75,
   "id": "83ac7469",
   "metadata": {},
   "outputs": [
    {
     "data": {
      "text/plain": [
       "(5, 6, 7, 8, 9, 10, 11)"
      ]
     },
     "execution_count": 75,
     "metadata": {},
     "output_type": "execute_result"
    }
   ],
   "source": [
    "b = tuple(range(5, 12))\n",
    "b"
   ]
  },
  {
   "cell_type": "markdown",
   "id": "6173a19f",
   "metadata": {},
   "source": [
    "- 튜플 = tuple(range(시작, 끝, 증가폭))"
   ]
  },
  {
   "cell_type": "code",
   "execution_count": 76,
   "id": "8298c064",
   "metadata": {},
   "outputs": [
    {
     "data": {
      "text/plain": [
       "(5, 8, 11)"
      ]
     },
     "execution_count": 76,
     "metadata": {},
     "output_type": "execute_result"
    }
   ],
   "source": [
    "c = tuple(range(5, 12, 3))\n",
    "c"
   ]
  },
  {
   "cell_type": "code",
   "execution_count": 79,
   "id": "b77933bd",
   "metadata": {},
   "outputs": [
    {
     "data": {
      "text/plain": [
       "(1, 2, 3)"
      ]
     },
     "execution_count": 79,
     "metadata": {},
     "output_type": "execute_result"
    }
   ],
   "source": [
    "# 리스트를 튜플로\n",
    "a = [1, 2, 3]\n",
    "tuple_a = tuple(a)\n",
    "tuple_a"
   ]
  },
  {
   "cell_type": "code",
   "execution_count": 80,
   "id": "8271a042",
   "metadata": {},
   "outputs": [
    {
     "data": {
      "text/plain": [
       "[1, 2, 3]"
      ]
     },
     "execution_count": 80,
     "metadata": {},
     "output_type": "execute_result"
    }
   ],
   "source": [
    "# 튜플을 리스트로\n",
    "b = (1, 2, 3)\n",
    "list_b = list(b)\n",
    "list_b"
   ]
  },
  {
   "cell_type": "markdown",
   "id": "d87b95b4",
   "metadata": {},
   "source": [
    "# Workshop"
   ]
  },
  {
   "cell_type": "markdown",
   "id": "37dcea49",
   "metadata": {},
   "source": [
    "**range로 리스트 만들기**\n",
    "- [5, 3, 1, -1, -3, -5, -7, -9]가 출력되게 만드세요"
   ]
  },
  {
   "cell_type": "code",
   "execution_count": 81,
   "id": "80b529a2",
   "metadata": {},
   "outputs": [
    {
     "name": "stdout",
     "output_type": "stream",
     "text": [
      "[5, 3, 1, -1, -3, -5, -7, -9]\n"
     ]
    }
   ],
   "source": [
    "a = list(range(5, -10, -2))\n",
    "print(a)"
   ]
  },
  {
   "cell_type": "markdown",
   "id": "cae4f2c5",
   "metadata": {},
   "source": [
    "**range로 튜플 만들기**\n",
    "- 표준입력으로 정수가 입력됩니다. range의 시작하는 숫자는 -10, 끝나는 숫자는 10이며 입력된 정수만큼 증가하는 숫자가 들어가도록 튜플을 만들고, 해당 튜플을 출력하는 프로그램을 만드세요(input에서 안내 문자열은 출력하지 않아야 합니다.)\n",
    "- 입력 : 2, 출력: (-10, -8, -6, -4, -2, 0, 2, 4, 6, 8)"
   ]
  },
  {
   "cell_type": "code",
   "execution_count": 82,
   "id": "57264c2b",
   "metadata": {},
   "outputs": [
    {
     "name": "stdout",
     "output_type": "stream",
     "text": [
      "2\n",
      "(-10, -8, -6, -4, -2, 0, 2, 4, 6, 8)\n"
     ]
    }
   ],
   "source": [
    "step = int(input())\n",
    "print(tuple(range(-10, 10, step)))"
   ]
  },
  {
   "cell_type": "markdown",
   "id": "71e5ec46",
   "metadata": {},
   "source": [
    "# 시퀀스 자료형 활용하기"
   ]
  },
  {
   "cell_type": "markdown",
   "id": "5f325810",
   "metadata": {},
   "source": [
    "- 시퀀스 자료형 : list, tuple, range, str"
   ]
  },
  {
   "cell_type": "markdown",
   "id": "b2b1cdef",
   "metadata": {},
   "source": [
    "- 값 in 시퀀스 객체"
   ]
  },
  {
   "cell_type": "code",
   "execution_count": 83,
   "id": "dec86579",
   "metadata": {},
   "outputs": [
    {
     "data": {
      "text/plain": [
       "True"
      ]
     },
     "execution_count": 83,
     "metadata": {},
     "output_type": "execute_result"
    }
   ],
   "source": [
    "a = [1, 2, 3, 4, 5]\n",
    "1 in a"
   ]
  },
  {
   "cell_type": "code",
   "execution_count": 84,
   "id": "11577b90",
   "metadata": {},
   "outputs": [
    {
     "data": {
      "text/plain": [
       "False"
      ]
     },
     "execution_count": 84,
     "metadata": {},
     "output_type": "execute_result"
    }
   ],
   "source": [
    "10 in a"
   ]
  },
  {
   "cell_type": "code",
   "execution_count": 85,
   "id": "0053e8f4",
   "metadata": {},
   "outputs": [
    {
     "data": {
      "text/plain": [
       "True"
      ]
     },
     "execution_count": 85,
     "metadata": {},
     "output_type": "execute_result"
    }
   ],
   "source": [
    "10 not in a"
   ]
  },
  {
   "cell_type": "code",
   "execution_count": 86,
   "id": "71cb7b71",
   "metadata": {},
   "outputs": [
    {
     "data": {
      "text/plain": [
       "False"
      ]
     },
     "execution_count": 86,
     "metadata": {},
     "output_type": "execute_result"
    }
   ],
   "source": [
    "b = (1, 2, 3, 4, 5)\n",
    "10 in b"
   ]
  },
  {
   "cell_type": "code",
   "execution_count": 87,
   "id": "d596b191",
   "metadata": {},
   "outputs": [
    {
     "data": {
      "text/plain": [
       "True"
      ]
     },
     "execution_count": 87,
     "metadata": {},
     "output_type": "execute_result"
    }
   ],
   "source": [
    "c = \"Hello\"\n",
    "'H' in c"
   ]
  },
  {
   "cell_type": "code",
   "execution_count": 88,
   "id": "42138208",
   "metadata": {},
   "outputs": [
    {
     "data": {
      "text/plain": [
       "False"
      ]
     },
     "execution_count": 88,
     "metadata": {},
     "output_type": "execute_result"
    }
   ],
   "source": [
    "'h' in c"
   ]
  },
  {
   "cell_type": "code",
   "execution_count": 90,
   "id": "c48105a9",
   "metadata": {},
   "outputs": [
    {
     "data": {
      "text/plain": [
       "True"
      ]
     },
     "execution_count": 90,
     "metadata": {},
     "output_type": "execute_result"
    }
   ],
   "source": [
    "1 in range(10)"
   ]
  },
  {
   "cell_type": "code",
   "execution_count": 91,
   "id": "000d6064",
   "metadata": {},
   "outputs": [
    {
     "data": {
      "text/plain": [
       "False"
      ]
     },
     "execution_count": 91,
     "metadata": {},
     "output_type": "execute_result"
    }
   ],
   "source": [
    "10 in range(10)"
   ]
  },
  {
   "cell_type": "markdown",
   "id": "a03e2c09",
   "metadata": {},
   "source": [
    "- 시퀀스 객체1 + 시퀀스 객체2"
   ]
  },
  {
   "cell_type": "code",
   "execution_count": 92,
   "id": "0486b83e",
   "metadata": {},
   "outputs": [],
   "source": [
    "a = [1, 2, 3, 4, 5]\n",
    "b = [6, 7, 8, 9, 10]"
   ]
  },
  {
   "cell_type": "code",
   "execution_count": 93,
   "id": "1a12ad99",
   "metadata": {},
   "outputs": [
    {
     "data": {
      "text/plain": [
       "[1, 2, 3, 4, 5, 6, 7, 8, 9, 10]"
      ]
     },
     "execution_count": 93,
     "metadata": {},
     "output_type": "execute_result"
    }
   ],
   "source": [
    "a + b"
   ]
  },
  {
   "cell_type": "code",
   "execution_count": 94,
   "id": "88bfc42a",
   "metadata": {},
   "outputs": [],
   "source": [
    "c = (1, 2, 3, 4, 5)\n",
    "d = (6, 7, 8, 9, 10)"
   ]
  },
  {
   "cell_type": "code",
   "execution_count": 95,
   "id": "43402ec2",
   "metadata": {},
   "outputs": [
    {
     "data": {
      "text/plain": [
       "(1, 2, 3, 4, 5, 6, 7, 8, 9, 10)"
      ]
     },
     "execution_count": 95,
     "metadata": {},
     "output_type": "execute_result"
    }
   ],
   "source": [
    "c + d"
   ]
  },
  {
   "cell_type": "code",
   "execution_count": 96,
   "id": "a573c7b5",
   "metadata": {},
   "outputs": [
    {
     "ename": "TypeError",
     "evalue": "unsupported operand type(s) for +: 'range' and 'range'",
     "output_type": "error",
     "traceback": [
      "\u001b[1;31m---------------------------------------------------------------------------\u001b[0m",
      "\u001b[1;31mTypeError\u001b[0m                                 Traceback (most recent call last)",
      "Input \u001b[1;32mIn [96]\u001b[0m, in \u001b[0;36m<cell line: 1>\u001b[1;34m()\u001b[0m\n\u001b[1;32m----> 1\u001b[0m \u001b[38;5;28;43mrange\u001b[39;49m\u001b[43m(\u001b[49m\u001b[38;5;241;43m5\u001b[39;49m\u001b[43m)\u001b[49m\u001b[43m \u001b[49m\u001b[38;5;241;43m+\u001b[39;49m\u001b[43m \u001b[49m\u001b[38;5;28;43mrange\u001b[39;49m\u001b[43m(\u001b[49m\u001b[38;5;241;43m5\u001b[39;49m\u001b[43m)\u001b[49m\n",
      "\u001b[1;31mTypeError\u001b[0m: unsupported operand type(s) for +: 'range' and 'range'"
     ]
    }
   ],
   "source": [
    "range(5) + range(5)"
   ]
  },
  {
   "cell_type": "code",
   "execution_count": 97,
   "id": "0a9d4788",
   "metadata": {},
   "outputs": [
    {
     "data": {
      "text/plain": [
       "[0, 1, 2, 3, 4, 0, 1, 2, 3, 4]"
      ]
     },
     "execution_count": 97,
     "metadata": {},
     "output_type": "execute_result"
    }
   ],
   "source": [
    "list(range(5)) + list(range(5))"
   ]
  },
  {
   "cell_type": "code",
   "execution_count": 100,
   "id": "0604112b",
   "metadata": {},
   "outputs": [],
   "source": [
    "s1 = \"Hello \"\n",
    "s2 = \"World!\""
   ]
  },
  {
   "cell_type": "code",
   "execution_count": 101,
   "id": "f98729b5",
   "metadata": {},
   "outputs": [
    {
     "data": {
      "text/plain": [
       "'Hello World!'"
      ]
     },
     "execution_count": 101,
     "metadata": {},
     "output_type": "execute_result"
    }
   ],
   "source": [
    "s1 + s2"
   ]
  },
  {
   "cell_type": "markdown",
   "id": "b68e4af2",
   "metadata": {},
   "source": [
    "- 시퀀스 객체 * 정수\n",
    "- 정수 * 시퀀스 객체"
   ]
  },
  {
   "cell_type": "code",
   "execution_count": 102,
   "id": "2d337af3",
   "metadata": {},
   "outputs": [
    {
     "data": {
      "text/plain": [
       "[1, 2, 3, 1, 2, 3, 1, 2, 3]"
      ]
     },
     "execution_count": 102,
     "metadata": {},
     "output_type": "execute_result"
    }
   ],
   "source": [
    "[1, 2, 3] * 3"
   ]
  },
  {
   "cell_type": "code",
   "execution_count": 103,
   "id": "46f694a2",
   "metadata": {},
   "outputs": [
    {
     "data": {
      "text/plain": [
       "[1, 2, 3, 1, 2, 3, 1, 2, 3]"
      ]
     },
     "execution_count": 103,
     "metadata": {},
     "output_type": "execute_result"
    }
   ],
   "source": [
    "3 * [1, 2, 3]"
   ]
  },
  {
   "cell_type": "code",
   "execution_count": 108,
   "id": "18dc3303",
   "metadata": {},
   "outputs": [
    {
     "data": {
      "text/plain": [
       "(1, 2, 3, 1, 2, 3, 1, 2, 3)"
      ]
     },
     "execution_count": 108,
     "metadata": {},
     "output_type": "execute_result"
    }
   ],
   "source": [
    "(1, 2, 3) * 3"
   ]
  },
  {
   "cell_type": "code",
   "execution_count": 109,
   "id": "5976df36",
   "metadata": {},
   "outputs": [
    {
     "data": {
      "text/plain": [
       "(1, 2, 3, 1, 2, 3, 1, 2, 3)"
      ]
     },
     "execution_count": 109,
     "metadata": {},
     "output_type": "execute_result"
    }
   ],
   "source": [
    "3 * (1, 2, 3)"
   ]
  },
  {
   "cell_type": "code",
   "execution_count": 104,
   "id": "67ddaf8a",
   "metadata": {},
   "outputs": [
    {
     "ename": "TypeError",
     "evalue": "unsupported operand type(s) for *: 'range' and 'int'",
     "output_type": "error",
     "traceback": [
      "\u001b[1;31m---------------------------------------------------------------------------\u001b[0m",
      "\u001b[1;31mTypeError\u001b[0m                                 Traceback (most recent call last)",
      "Input \u001b[1;32mIn [104]\u001b[0m, in \u001b[0;36m<cell line: 1>\u001b[1;34m()\u001b[0m\n\u001b[1;32m----> 1\u001b[0m \u001b[38;5;28;43mrange\u001b[39;49m\u001b[43m(\u001b[49m\u001b[38;5;241;43m5\u001b[39;49m\u001b[43m)\u001b[49m\u001b[43m \u001b[49m\u001b[38;5;241;43m*\u001b[39;49m\u001b[43m \u001b[49m\u001b[38;5;241;43m2\u001b[39;49m\n",
      "\u001b[1;31mTypeError\u001b[0m: unsupported operand type(s) for *: 'range' and 'int'"
     ]
    }
   ],
   "source": [
    "range(5) * 2"
   ]
  },
  {
   "cell_type": "code",
   "execution_count": 105,
   "id": "2cb885ec",
   "metadata": {},
   "outputs": [
    {
     "data": {
      "text/plain": [
       "[0, 1, 2, 3, 4, 0, 1, 2, 3, 4]"
      ]
     },
     "execution_count": 105,
     "metadata": {},
     "output_type": "execute_result"
    }
   ],
   "source": [
    "list(range(5)) * 2"
   ]
  },
  {
   "cell_type": "code",
   "execution_count": 106,
   "id": "c5b3c6c9",
   "metadata": {},
   "outputs": [
    {
     "data": {
      "text/plain": [
       "'Hello Hello Hello '"
      ]
     },
     "execution_count": 106,
     "metadata": {},
     "output_type": "execute_result"
    }
   ],
   "source": [
    "\"Hello \" * 3"
   ]
  },
  {
   "cell_type": "code",
   "execution_count": 107,
   "id": "2087c815",
   "metadata": {},
   "outputs": [
    {
     "data": {
      "text/plain": [
       "'Hello Hello Hello '"
      ]
     },
     "execution_count": 107,
     "metadata": {},
     "output_type": "execute_result"
    }
   ],
   "source": [
    "3 * \"Hello \""
   ]
  },
  {
   "cell_type": "markdown",
   "id": "46e6ec0a",
   "metadata": {},
   "source": [
    "- len(시퀀스 객체)"
   ]
  },
  {
   "cell_type": "code",
   "execution_count": 110,
   "id": "ab1f586c",
   "metadata": {},
   "outputs": [],
   "source": [
    "a = [1, 2, 3]"
   ]
  },
  {
   "cell_type": "code",
   "execution_count": 111,
   "id": "d07e8235",
   "metadata": {},
   "outputs": [
    {
     "data": {
      "text/plain": [
       "3"
      ]
     },
     "execution_count": 111,
     "metadata": {},
     "output_type": "execute_result"
    }
   ],
   "source": [
    "len(a)"
   ]
  },
  {
   "cell_type": "code",
   "execution_count": 112,
   "id": "15e8cd2e",
   "metadata": {},
   "outputs": [],
   "source": [
    "b = (1, 2, 3, 4, 5)"
   ]
  },
  {
   "cell_type": "code",
   "execution_count": 113,
   "id": "e581f04c",
   "metadata": {},
   "outputs": [
    {
     "data": {
      "text/plain": [
       "5"
      ]
     },
     "execution_count": 113,
     "metadata": {},
     "output_type": "execute_result"
    }
   ],
   "source": [
    "len(b)"
   ]
  },
  {
   "cell_type": "code",
   "execution_count": 114,
   "id": "73d60ddd",
   "metadata": {},
   "outputs": [
    {
     "data": {
      "text/plain": [
       "10"
      ]
     },
     "execution_count": 114,
     "metadata": {},
     "output_type": "execute_result"
    }
   ],
   "source": [
    "len(range(10))"
   ]
  },
  {
   "cell_type": "code",
   "execution_count": 115,
   "id": "67a5a486",
   "metadata": {},
   "outputs": [
    {
     "data": {
      "text/plain": [
       "5"
      ]
     },
     "execution_count": 115,
     "metadata": {},
     "output_type": "execute_result"
    }
   ],
   "source": [
    "len(\"Hello\")"
   ]
  },
  {
   "cell_type": "markdown",
   "id": "5271f8ea",
   "metadata": {},
   "source": [
    "- 시퀀스[인덱스]"
   ]
  },
  {
   "cell_type": "code",
   "execution_count": 116,
   "id": "83ff7293",
   "metadata": {},
   "outputs": [],
   "source": [
    "scores = [90, 80, 100, 90] # 2번째에 있는 영어 점수만 알고 싶을 때"
   ]
  },
  {
   "cell_type": "code",
   "execution_count": 117,
   "id": "1e8c5008",
   "metadata": {},
   "outputs": [
    {
     "data": {
      "text/plain": [
       "80"
      ]
     },
     "execution_count": 117,
     "metadata": {},
     "output_type": "execute_result"
    }
   ],
   "source": [
    "scores[1] # 인덱스 0부터 시작을하므로 scores 리스트에서 두번 째 요소를 가져옴"
   ]
  },
  {
   "cell_type": "code",
   "execution_count": 125,
   "id": "7fdc1454",
   "metadata": {},
   "outputs": [
    {
     "data": {
      "text/plain": [
       "90"
      ]
     },
     "execution_count": 125,
     "metadata": {},
     "output_type": "execute_result"
    }
   ],
   "source": [
    "scores[3] # 마지막 원소"
   ]
  },
  {
   "cell_type": "code",
   "execution_count": 126,
   "id": "bd61aa48",
   "metadata": {},
   "outputs": [
    {
     "data": {
      "text/plain": [
       "90"
      ]
     },
     "execution_count": 126,
     "metadata": {},
     "output_type": "execute_result"
    }
   ],
   "source": [
    "scores[-1] # 음수 인덱스 (마지막 원소를 가져올 때 편리)"
   ]
  },
  {
   "cell_type": "code",
   "execution_count": 128,
   "id": "2700ac15",
   "metadata": {},
   "outputs": [
    {
     "data": {
      "text/plain": [
       "3"
      ]
     },
     "execution_count": 128,
     "metadata": {},
     "output_type": "execute_result"
    }
   ],
   "source": [
    "len(scores) - 1"
   ]
  },
  {
   "cell_type": "code",
   "execution_count": 129,
   "id": "85822f1f",
   "metadata": {},
   "outputs": [
    {
     "data": {
      "text/plain": [
       "90"
      ]
     },
     "execution_count": 129,
     "metadata": {},
     "output_type": "execute_result"
    }
   ],
   "source": [
    "scores[len(scores) - 1]"
   ]
  },
  {
   "cell_type": "code",
   "execution_count": 130,
   "id": "35ba4cc3",
   "metadata": {},
   "outputs": [],
   "source": [
    "b = (1, 2, 3)"
   ]
  },
  {
   "cell_type": "code",
   "execution_count": 131,
   "id": "a7a54066",
   "metadata": {},
   "outputs": [
    {
     "ename": "IndexError",
     "evalue": "tuple index out of range",
     "output_type": "error",
     "traceback": [
      "\u001b[1;31m---------------------------------------------------------------------------\u001b[0m",
      "\u001b[1;31mIndexError\u001b[0m                                Traceback (most recent call last)",
      "Input \u001b[1;32mIn [131]\u001b[0m, in \u001b[0;36m<cell line: 1>\u001b[1;34m()\u001b[0m\n\u001b[1;32m----> 1\u001b[0m \u001b[43mb\u001b[49m\u001b[43m[\u001b[49m\u001b[38;5;241;43m4\u001b[39;49m\u001b[43m]\u001b[49m\n",
      "\u001b[1;31mIndexError\u001b[0m: tuple index out of range"
     ]
    }
   ],
   "source": [
    "b[4]"
   ]
  },
  {
   "cell_type": "code",
   "execution_count": 135,
   "id": "87b9ccb0",
   "metadata": {},
   "outputs": [
    {
     "data": {
      "text/plain": [
       "[10, 20, 30, 40, 50, 60, 70, 80, 90]"
      ]
     },
     "execution_count": 135,
     "metadata": {},
     "output_type": "execute_result"
    }
   ],
   "source": [
    "list(range(10, 100, 10))"
   ]
  },
  {
   "cell_type": "code",
   "execution_count": 137,
   "id": "00c61048",
   "metadata": {},
   "outputs": [
    {
     "data": {
      "text/plain": [
       "30"
      ]
     },
     "execution_count": 137,
     "metadata": {},
     "output_type": "execute_result"
    }
   ],
   "source": [
    "range(10, 100, 10)[2]"
   ]
  },
  {
   "cell_type": "code",
   "execution_count": 138,
   "id": "5f2b451c",
   "metadata": {},
   "outputs": [
    {
     "data": {
      "text/plain": [
       "90"
      ]
     },
     "execution_count": 138,
     "metadata": {},
     "output_type": "execute_result"
    }
   ],
   "source": [
    "range(10, 100, 10)[len(range(10, 100, 10))-1]"
   ]
  },
  {
   "cell_type": "code",
   "execution_count": 139,
   "id": "24d1432d",
   "metadata": {},
   "outputs": [
    {
     "data": {
      "text/plain": [
       "90"
      ]
     },
     "execution_count": 139,
     "metadata": {},
     "output_type": "execute_result"
    }
   ],
   "source": [
    "range(10, 100, 10)[-1]"
   ]
  },
  {
   "cell_type": "code",
   "execution_count": 140,
   "id": "3d0694c4",
   "metadata": {},
   "outputs": [],
   "source": [
    "s = \"Hello\""
   ]
  },
  {
   "cell_type": "code",
   "execution_count": 141,
   "id": "6453996c",
   "metadata": {},
   "outputs": [
    {
     "data": {
      "text/plain": [
       "'H'"
      ]
     },
     "execution_count": 141,
     "metadata": {},
     "output_type": "execute_result"
    }
   ],
   "source": [
    "s[0]"
   ]
  },
  {
   "cell_type": "code",
   "execution_count": 142,
   "id": "83a7e518",
   "metadata": {},
   "outputs": [
    {
     "data": {
      "text/plain": [
       "'o'"
      ]
     },
     "execution_count": 142,
     "metadata": {},
     "output_type": "execute_result"
    }
   ],
   "source": [
    "s[4]"
   ]
  },
  {
   "cell_type": "code",
   "execution_count": 143,
   "id": "a5bb0496",
   "metadata": {},
   "outputs": [
    {
     "data": {
      "text/plain": [
       "'o'"
      ]
     },
     "execution_count": 143,
     "metadata": {},
     "output_type": "execute_result"
    }
   ],
   "source": [
    "s[-1] # 마지막 요소에 접근할 때는 음수 인덱스를 사용하면 편리"
   ]
  },
  {
   "cell_type": "code",
   "execution_count": 144,
   "id": "145c9f5f",
   "metadata": {},
   "outputs": [
    {
     "data": {
      "text/plain": [
       "'l'"
      ]
     },
     "execution_count": 144,
     "metadata": {},
     "output_type": "execute_result"
    }
   ],
   "source": [
    "s[3]"
   ]
  },
  {
   "cell_type": "code",
   "execution_count": 145,
   "id": "04e6c9d4",
   "metadata": {},
   "outputs": [
    {
     "data": {
      "text/plain": [
       "'l'"
      ]
     },
     "execution_count": 145,
     "metadata": {},
     "output_type": "execute_result"
    }
   ],
   "source": [
    "s[-2] # 뒤에서 두번째"
   ]
  },
  {
   "cell_type": "markdown",
   "id": "7483469b",
   "metadata": {},
   "source": [
    "- 시퀀스 객체[인덱스] = 값\n",
    "- 위의 문법은 list 객체에서만 유효. tuple, range, str 에서는 요소 값을 변경할 수 없음"
   ]
  },
  {
   "cell_type": "code",
   "execution_count": 146,
   "id": "487bf825",
   "metadata": {},
   "outputs": [],
   "source": [
    "scores = [90, 100, 100, 70]"
   ]
  },
  {
   "cell_type": "code",
   "execution_count": 147,
   "id": "e7b5acad",
   "metadata": {},
   "outputs": [],
   "source": [
    "scores[0] = 95"
   ]
  },
  {
   "cell_type": "code",
   "execution_count": 148,
   "id": "3230cde0",
   "metadata": {},
   "outputs": [
    {
     "data": {
      "text/plain": [
       "[95, 100, 100, 70]"
      ]
     },
     "execution_count": 148,
     "metadata": {},
     "output_type": "execute_result"
    }
   ],
   "source": [
    "scores"
   ]
  },
  {
   "cell_type": "code",
   "execution_count": 149,
   "id": "126b7017",
   "metadata": {},
   "outputs": [
    {
     "ename": "TypeError",
     "evalue": "'tuple' object does not support item assignment",
     "output_type": "error",
     "traceback": [
      "\u001b[1;31m---------------------------------------------------------------------------\u001b[0m",
      "\u001b[1;31mTypeError\u001b[0m                                 Traceback (most recent call last)",
      "Input \u001b[1;32mIn [149]\u001b[0m, in \u001b[0;36m<cell line: 2>\u001b[1;34m()\u001b[0m\n\u001b[0;32m      1\u001b[0m shape \u001b[38;5;241m=\u001b[39m (\u001b[38;5;241m1200\u001b[39m, \u001b[38;5;241m900\u001b[39m)\n\u001b[1;32m----> 2\u001b[0m shape[\u001b[38;5;241m0\u001b[39m] \u001b[38;5;241m=\u001b[39m \u001b[38;5;241m1000\u001b[39m\n",
      "\u001b[1;31mTypeError\u001b[0m: 'tuple' object does not support item assignment"
     ]
    }
   ],
   "source": [
    "shape = (1200, 900)\n",
    "shape[0] = 1000"
   ]
  },
  {
   "cell_type": "code",
   "execution_count": 150,
   "id": "423d006b",
   "metadata": {},
   "outputs": [
    {
     "ename": "TypeError",
     "evalue": "'range' object does not support item assignment",
     "output_type": "error",
     "traceback": [
      "\u001b[1;31m---------------------------------------------------------------------------\u001b[0m",
      "\u001b[1;31mTypeError\u001b[0m                                 Traceback (most recent call last)",
      "Input \u001b[1;32mIn [150]\u001b[0m, in \u001b[0;36m<cell line: 1>\u001b[1;34m()\u001b[0m\n\u001b[1;32m----> 1\u001b[0m \u001b[38;5;28mrange\u001b[39m(\u001b[38;5;241m10\u001b[39m)[\u001b[38;5;241m0\u001b[39m] \u001b[38;5;241m=\u001b[39m \u001b[38;5;241m100\u001b[39m\n",
      "\u001b[1;31mTypeError\u001b[0m: 'range' object does not support item assignment"
     ]
    }
   ],
   "source": [
    "range(10)[0] = 100"
   ]
  },
  {
   "cell_type": "code",
   "execution_count": 151,
   "id": "743668f9",
   "metadata": {},
   "outputs": [
    {
     "ename": "TypeError",
     "evalue": "'str' object does not support item assignment",
     "output_type": "error",
     "traceback": [
      "\u001b[1;31m---------------------------------------------------------------------------\u001b[0m",
      "\u001b[1;31mTypeError\u001b[0m                                 Traceback (most recent call last)",
      "Input \u001b[1;32mIn [151]\u001b[0m, in \u001b[0;36m<cell line: 2>\u001b[1;34m()\u001b[0m\n\u001b[0;32m      1\u001b[0m s \u001b[38;5;241m=\u001b[39m \u001b[38;5;124m\"\u001b[39m\u001b[38;5;124mHello World!\u001b[39m\u001b[38;5;124m\"\u001b[39m\n\u001b[1;32m----> 2\u001b[0m s[\u001b[38;5;241m0\u001b[39m] \u001b[38;5;241m=\u001b[39m \u001b[38;5;124m'\u001b[39m\u001b[38;5;124mh\u001b[39m\u001b[38;5;124m'\u001b[39m\n",
      "\u001b[1;31mTypeError\u001b[0m: 'str' object does not support item assignment"
     ]
    }
   ],
   "source": [
    "s = \"Hello World!\"\n",
    "s[0] = 'h'"
   ]
  },
  {
   "cell_type": "markdown",
   "id": "7da979a3",
   "metadata": {},
   "source": [
    "- del 시퀀스객체[인덱스]\n",
    "- 위의 문법은 list 객체에서만 유효. tuple, range, str 에서는 요소 값을 변경할 수 없음"
   ]
  },
  {
   "cell_type": "code",
   "execution_count": 152,
   "id": "30fd1f6c",
   "metadata": {},
   "outputs": [],
   "source": [
    "a = [1, 2, 3, 4]"
   ]
  },
  {
   "cell_type": "code",
   "execution_count": 153,
   "id": "79bae79f",
   "metadata": {},
   "outputs": [],
   "source": [
    "del a[2]"
   ]
  },
  {
   "cell_type": "code",
   "execution_count": 154,
   "id": "d3babc40",
   "metadata": {},
   "outputs": [
    {
     "data": {
      "text/plain": [
       "[1, 2, 4]"
      ]
     },
     "execution_count": 154,
     "metadata": {},
     "output_type": "execute_result"
    }
   ],
   "source": [
    "a"
   ]
  },
  {
   "cell_type": "code",
   "execution_count": 155,
   "id": "4d9fb808",
   "metadata": {},
   "outputs": [
    {
     "ename": "TypeError",
     "evalue": "'tuple' object doesn't support item deletion",
     "output_type": "error",
     "traceback": [
      "\u001b[1;31m---------------------------------------------------------------------------\u001b[0m",
      "\u001b[1;31mTypeError\u001b[0m                                 Traceback (most recent call last)",
      "Input \u001b[1;32mIn [155]\u001b[0m, in \u001b[0;36m<cell line: 2>\u001b[1;34m()\u001b[0m\n\u001b[0;32m      1\u001b[0m b \u001b[38;5;241m=\u001b[39m (\u001b[38;5;241m1\u001b[39m, \u001b[38;5;241m2\u001b[39m, \u001b[38;5;241m3\u001b[39m, \u001b[38;5;241m4\u001b[39m)\n\u001b[1;32m----> 2\u001b[0m \u001b[38;5;28;01mdel\u001b[39;00m b[\u001b[38;5;241m2\u001b[39m]\n",
      "\u001b[1;31mTypeError\u001b[0m: 'tuple' object doesn't support item deletion"
     ]
    }
   ],
   "source": [
    "b = (1, 2, 3, 4)\n",
    "del b[2]"
   ]
  },
  {
   "cell_type": "code",
   "execution_count": 156,
   "id": "3aa2b7c5",
   "metadata": {},
   "outputs": [
    {
     "ename": "TypeError",
     "evalue": "'str' object doesn't support item deletion",
     "output_type": "error",
     "traceback": [
      "\u001b[1;31m---------------------------------------------------------------------------\u001b[0m",
      "\u001b[1;31mTypeError\u001b[0m                                 Traceback (most recent call last)",
      "Input \u001b[1;32mIn [156]\u001b[0m, in \u001b[0;36m<cell line: 2>\u001b[1;34m()\u001b[0m\n\u001b[0;32m      1\u001b[0m s \u001b[38;5;241m=\u001b[39m \u001b[38;5;124m\"\u001b[39m\u001b[38;5;124mHello\u001b[39m\u001b[38;5;124m\"\u001b[39m\n\u001b[1;32m----> 2\u001b[0m \u001b[38;5;28;01mdel\u001b[39;00m s[\u001b[38;5;241m1\u001b[39m]\n",
      "\u001b[1;31mTypeError\u001b[0m: 'str' object doesn't support item deletion"
     ]
    }
   ],
   "source": [
    "s = \"Hello\"\n",
    "del s[1]"
   ]
  },
  {
   "cell_type": "markdown",
   "id": "abcd3881",
   "metadata": {},
   "source": [
    "- 시퀀스객체[시작인덱스:끝인덱스]"
   ]
  },
  {
   "cell_type": "code",
   "execution_count": 157,
   "id": "e189255d",
   "metadata": {},
   "outputs": [
    {
     "data": {
      "text/plain": [
       "[10, 20, 30]"
      ]
     },
     "execution_count": 157,
     "metadata": {},
     "output_type": "execute_result"
    }
   ],
   "source": [
    "a = [10, 20, 30, 40, 50]\n",
    "a[0:3] # 3번째는 포함 안됨 (0~2번째까지 가져오는 문법)"
   ]
  },
  {
   "cell_type": "code",
   "execution_count": 158,
   "id": "a22b50af",
   "metadata": {},
   "outputs": [
    {
     "data": {
      "text/plain": [
       "[10, 20, 30]"
      ]
     },
     "execution_count": 158,
     "metadata": {},
     "output_type": "execute_result"
    }
   ],
   "source": [
    "a[:3] # 0번째는 생략 가능"
   ]
  },
  {
   "cell_type": "code",
   "execution_count": 159,
   "id": "41fe006a",
   "metadata": {},
   "outputs": [
    {
     "data": {
      "text/plain": [
       "[30, 40, 50]"
      ]
     },
     "execution_count": 159,
     "metadata": {},
     "output_type": "execute_result"
    }
   ],
   "source": [
    "a[2:5]"
   ]
  },
  {
   "cell_type": "code",
   "execution_count": 160,
   "id": "f2eda2ea",
   "metadata": {},
   "outputs": [
    {
     "data": {
      "text/plain": [
       "[30, 40, 50]"
      ]
     },
     "execution_count": 160,
     "metadata": {},
     "output_type": "execute_result"
    }
   ],
   "source": [
    "a[2:] # 마지막번째도 생략 가능"
   ]
  },
  {
   "cell_type": "code",
   "execution_count": 161,
   "id": "abeef1da",
   "metadata": {},
   "outputs": [
    {
     "data": {
      "text/plain": [
       "[10, 20, 30, 40, 50]"
      ]
     },
     "execution_count": 161,
     "metadata": {},
     "output_type": "execute_result"
    }
   ],
   "source": [
    "a[:] # 시작인덱스와 끝인덱스를 모두 생략하면 처음부터 끝까지 가져옴"
   ]
  },
  {
   "cell_type": "code",
   "execution_count": 162,
   "id": "5fc6ca22",
   "metadata": {},
   "outputs": [
    {
     "data": {
      "text/plain": [
       "[40]"
      ]
     },
     "execution_count": 162,
     "metadata": {},
     "output_type": "execute_result"
    }
   ],
   "source": [
    "a[3:-1]"
   ]
  },
  {
   "cell_type": "markdown",
   "id": "d5dcf106",
   "metadata": {},
   "source": [
    "- 시퀀스객체[시작인덱스:끝인덱스:증가폭]"
   ]
  },
  {
   "cell_type": "code",
   "execution_count": 163,
   "id": "c36e2058",
   "metadata": {},
   "outputs": [
    {
     "data": {
      "text/plain": [
       "[0, 10, 20, 30, 40, 50, 60, 70, 80, 90]"
      ]
     },
     "execution_count": 163,
     "metadata": {},
     "output_type": "execute_result"
    }
   ],
   "source": [
    "a = list(range(0, 100, 10))\n",
    "a"
   ]
  },
  {
   "cell_type": "code",
   "execution_count": 164,
   "id": "f9557a48",
   "metadata": {},
   "outputs": [
    {
     "data": {
      "text/plain": [
       "[0, 10, 20, 30, 40]"
      ]
     },
     "execution_count": 164,
     "metadata": {},
     "output_type": "execute_result"
    }
   ],
   "source": [
    "a[0:5]"
   ]
  },
  {
   "cell_type": "code",
   "execution_count": 165,
   "id": "db45ce89",
   "metadata": {},
   "outputs": [
    {
     "data": {
      "text/plain": [
       "[0, 20, 40]"
      ]
     },
     "execution_count": 165,
     "metadata": {},
     "output_type": "execute_result"
    }
   ],
   "source": [
    "a[0:5:2]"
   ]
  },
  {
   "cell_type": "code",
   "execution_count": 166,
   "id": "2c4e8d7b",
   "metadata": {},
   "outputs": [
    {
     "data": {
      "text/plain": [
       "[90, 80, 70, 60, 50, 40, 30, 20, 10, 0]"
      ]
     },
     "execution_count": 166,
     "metadata": {},
     "output_type": "execute_result"
    }
   ],
   "source": [
    "a[-1::-1]"
   ]
  },
  {
   "cell_type": "code",
   "execution_count": 167,
   "id": "5e2137e2",
   "metadata": {},
   "outputs": [
    {
     "data": {
      "text/plain": [
       "[0, 10, 20, 30, 40, 50, 60, 70, 80, 90]"
      ]
     },
     "execution_count": 167,
     "metadata": {},
     "output_type": "execute_result"
    }
   ],
   "source": [
    "a"
   ]
  },
  {
   "cell_type": "markdown",
   "id": "dcbdbaf8",
   "metadata": {},
   "source": [
    "- del 시퀀스객체[시작:끝]"
   ]
  },
  {
   "cell_type": "markdown",
   "id": "ecfe0efe",
   "metadata": {},
   "source": [
    "# Workshop"
   ]
  },
  {
   "cell_type": "markdown",
   "id": "87c3eaf6",
   "metadata": {},
   "source": [
    "**최근 3년간 인구 출력하기**\n",
    "- 리스트 year에 연도, population에 서울시 인구수가 저장되어 있습니다. \n",
    "- 아래 소스 코드를 완성하여 최근 3년간 연도와 인구수를 각각 리스트로 출력되게 만드세요."
   ]
  },
  {
   "cell_type": "code",
   "execution_count": 168,
   "id": "2d15163f",
   "metadata": {},
   "outputs": [],
   "source": [
    "year = [2011, 2012, 2013, 2014, 2015, 2016, 2017, 2018]\n",
    "population = [10249679, 10195318, 10143645, 10103233, 10022181, 9930616, 9857426, 9838892]"
   ]
  },
  {
   "cell_type": "code",
   "execution_count": 173,
   "id": "75577661",
   "metadata": {},
   "outputs": [
    {
     "name": "stdout",
     "output_type": "stream",
     "text": [
      "[2016, 2017, 2018]\n",
      "[9930616, 9857426, 9838892]\n"
     ]
    }
   ],
   "source": [
    "print(year[-3:])\n",
    "print(population[-3:])"
   ]
  },
  {
   "cell_type": "code",
   "execution_count": 178,
   "id": "f8fa4f2c",
   "metadata": {},
   "outputs": [
    {
     "data": {
      "text/plain": [
       "[(2016, 9930616), (2017, 9857426), (2018, 9838892)]"
      ]
     },
     "execution_count": 178,
     "metadata": {},
     "output_type": "execute_result"
    }
   ],
   "source": [
    "# year와 population을 연결지어서 한꺼번에 출력할 수 있음\n",
    "list(zip(year[-3:], population[-3:]))"
   ]
  },
  {
   "cell_type": "code",
   "execution_count": 179,
   "id": "32d4921e",
   "metadata": {},
   "outputs": [
    {
     "data": {
      "text/plain": [
       "{2016: 9930616, 2017: 9857426, 2018: 9838892}"
      ]
     },
     "execution_count": 179,
     "metadata": {},
     "output_type": "execute_result"
    }
   ],
   "source": [
    "dict(zip(year[-3:], population[-3:]))"
   ]
  },
  {
   "cell_type": "markdown",
   "id": "04547f81",
   "metadata": {},
   "source": [
    "**인덱스가 홀수인 요소 출력하기**\n",
    "- 다음 소스 코드를 완성하여 튜플 n에서 인덱스가 홀수인 요소들이 출력되게 만드세요."
   ]
  },
  {
   "cell_type": "code",
   "execution_count": 180,
   "id": "52a985d9",
   "metadata": {},
   "outputs": [],
   "source": [
    "n = -32, 75, 97, -10, 9, 32, 4, -15, 0, 76, 14, 2"
   ]
  },
  {
   "cell_type": "code",
   "execution_count": 182,
   "id": "257d6ce7",
   "metadata": {},
   "outputs": [
    {
     "data": {
      "text/plain": [
       "(75, -10, 32, -15, 76, 2)"
      ]
     },
     "execution_count": 182,
     "metadata": {},
     "output_type": "execute_result"
    }
   ],
   "source": [
    "n[1:len(n):2]"
   ]
  },
  {
   "cell_type": "code",
   "execution_count": 183,
   "id": "95d78170",
   "metadata": {},
   "outputs": [
    {
     "data": {
      "text/plain": [
       "(75, -10, 32, -15, 76, 2)"
      ]
     },
     "execution_count": 183,
     "metadata": {},
     "output_type": "execute_result"
    }
   ],
   "source": [
    "n[1::2]"
   ]
  },
  {
   "cell_type": "markdown",
   "id": "62e1959e",
   "metadata": {},
   "source": [
    "**리스트의 마지막 요소 5개 삭제하기**\n",
    "- 표준 입력으로 숫자 또는 문자열 여러개가 입력되어 리스트 x에 저장됩니다(입력되는 숫자 또는 문자열의 개수는 정해져 있지 않음). \n",
    "- 리스트 x의 마지막 요소 5개를 삭제한 뒤 튜플로 출력되게 만드세요."
   ]
  },
  {
   "cell_type": "code",
   "execution_count": 193,
   "id": "503320e1",
   "metadata": {},
   "outputs": [
    {
     "name": "stdout",
     "output_type": "stream",
     "text": [
      "a c d e f g\n",
      "('a',)\n"
     ]
    }
   ],
   "source": [
    "x = input().split()\n",
    "del x[-5:]\n",
    "print(tuple(x))"
   ]
  },
  {
   "cell_type": "markdown",
   "id": "f7493205",
   "metadata": {},
   "source": [
    "# Workshop"
   ]
  },
  {
   "cell_type": "markdown",
   "id": "70f04a4b",
   "metadata": {},
   "source": [
    "**주민번호로 성별 구분하기**\n",
    "- 아래와 같은 홍길동씨의 주민번호를 대쉬(-) 기호 전후로 쪼개보자. 성별이 남자면 'male', 여자면 'female'을 출력하세요."
   ]
  },
  {
   "cell_type": "code",
   "execution_count": 194,
   "id": "c57929da",
   "metadata": {},
   "outputs": [],
   "source": [
    "pin= '881204-1068234' # 1일 경우 남자, 2일 경우 여자"
   ]
  },
  {
   "cell_type": "code",
   "execution_count": 196,
   "id": "0db90f1c",
   "metadata": {},
   "outputs": [],
   "source": [
    "pin_list = pin.split('-')"
   ]
  },
  {
   "cell_type": "code",
   "execution_count": 198,
   "id": "4fff686f",
   "metadata": {},
   "outputs": [],
   "source": [
    "# first = pin_list[0]\n",
    "second = pin_list[1]"
   ]
  },
  {
   "cell_type": "code",
   "execution_count": 199,
   "id": "0ebf44e8",
   "metadata": {},
   "outputs": [
    {
     "data": {
      "text/plain": [
       "'1068234'"
      ]
     },
     "execution_count": 199,
     "metadata": {},
     "output_type": "execute_result"
    }
   ],
   "source": [
    "second"
   ]
  },
  {
   "cell_type": "code",
   "execution_count": 200,
   "id": "edc243bc",
   "metadata": {},
   "outputs": [
    {
     "data": {
      "text/plain": [
       "'1'"
      ]
     },
     "execution_count": 200,
     "metadata": {},
     "output_type": "execute_result"
    }
   ],
   "source": [
    "second[0]"
   ]
  },
  {
   "cell_type": "code",
   "execution_count": 201,
   "id": "8f9f7daa",
   "metadata": {},
   "outputs": [
    {
     "name": "stdout",
     "output_type": "stream",
     "text": [
      "male\n"
     ]
    }
   ],
   "source": [
    "if second[0] == '1':\n",
    "    print('male')\n",
    "else:\n",
    "    print('female')"
   ]
  },
  {
   "cell_type": "code",
   "execution_count": 203,
   "id": "8f2c2dea",
   "metadata": {},
   "outputs": [
    {
     "name": "stdout",
     "output_type": "stream",
     "text": [
      "male\n"
     ]
    }
   ],
   "source": [
    "# 최종코드\n",
    "if pin.split('-')[1][0] == '1':\n",
    "    print('male')\n",
    "else:\n",
    "    print('female')"
   ]
  },
  {
   "cell_type": "markdown",
   "id": "a9b1e747",
   "metadata": {},
   "source": [
    "**핸드폰 번호 가리기**\n",
    "- 전화번호가 문자열 phone_number로 주어졌을 때, 전화번호의 뒷 4자리를 제외한 나머지 숫자를 전부 *으로 가린 문자열을 출력하세요.\n",
    "\n",
    "- 제한 조건\n",
    "- s는 길이 4 이상, 20이하인 문자열입니다.\n",
    "- 입출력 예\n",
    "```\n",
    "phone_number 출력 문자열\n",
    "\"01033334444\" \"*******4444\"\n",
    "\"027778888\" \"*****8888\"\n",
    "```"
   ]
  },
  {
   "cell_type": "code",
   "execution_count": 209,
   "id": "2db9dfa3",
   "metadata": {},
   "outputs": [
    {
     "name": "stdout",
     "output_type": "stream",
     "text": [
      "01033334444\n"
     ]
    }
   ],
   "source": [
    "phone_number = input()"
   ]
  },
  {
   "cell_type": "code",
   "execution_count": 210,
   "id": "71da45b2",
   "metadata": {},
   "outputs": [
    {
     "data": {
      "text/plain": [
       "'01033334444'"
      ]
     },
     "execution_count": 210,
     "metadata": {},
     "output_type": "execute_result"
    }
   ],
   "source": [
    "phone_number"
   ]
  },
  {
   "cell_type": "code",
   "execution_count": 211,
   "id": "ca7963e5",
   "metadata": {},
   "outputs": [
    {
     "data": {
      "text/plain": [
       "'0103333'"
      ]
     },
     "execution_count": 211,
     "metadata": {},
     "output_type": "execute_result"
    }
   ],
   "source": [
    "phone_number[:-4]"
   ]
  },
  {
   "cell_type": "code",
   "execution_count": 212,
   "id": "f642a638",
   "metadata": {},
   "outputs": [
    {
     "data": {
      "text/plain": [
       "7"
      ]
     },
     "execution_count": 212,
     "metadata": {},
     "output_type": "execute_result"
    }
   ],
   "source": [
    "len(phone_number[:-4])"
   ]
  },
  {
   "cell_type": "code",
   "execution_count": 217,
   "id": "5ff6f0ca",
   "metadata": {},
   "outputs": [
    {
     "name": "stdout",
     "output_type": "stream",
     "text": [
      "*******\n",
      "4444\n"
     ]
    }
   ],
   "source": [
    "s1 = '*' * len(phone_number[:-4])\n",
    "print(s1)\n",
    "s2 = phone_number[-4:]\n",
    "print(s2)"
   ]
  },
  {
   "cell_type": "code",
   "execution_count": 219,
   "id": "8d350ebf",
   "metadata": {},
   "outputs": [
    {
     "name": "stdout",
     "output_type": "stream",
     "text": [
      "01023456789\n"
     ]
    },
    {
     "data": {
      "text/plain": [
       "'*******6789'"
      ]
     },
     "execution_count": 219,
     "metadata": {},
     "output_type": "execute_result"
    }
   ],
   "source": [
    "# 최종코드\n",
    "phone_number = input()\n",
    "s1 = '*' * len(phone_number[:-4])\n",
    "s2 = phone_number[-4:]\n",
    "s1 + s2"
   ]
  },
  {
   "cell_type": "markdown",
   "id": "00694166",
   "metadata": {},
   "source": [
    "# 딕셔너리"
   ]
  },
  {
   "cell_type": "markdown",
   "id": "d068ae15",
   "metadata": {},
   "source": [
    "- 딕셔너리 = {키1:값1, 키2:값2, 키3:값3, ...}"
   ]
  },
  {
   "cell_type": "code",
   "execution_count": 220,
   "id": "5abc9db4",
   "metadata": {},
   "outputs": [],
   "source": [
    "year_pop = {2016: 9930616, 2017: 9857426, 2018: 9838892}"
   ]
  },
  {
   "cell_type": "code",
   "execution_count": 221,
   "id": "dbe124ca",
   "metadata": {},
   "outputs": [
    {
     "data": {
      "text/plain": [
       "dict"
      ]
     },
     "execution_count": 221,
     "metadata": {},
     "output_type": "execute_result"
    }
   ],
   "source": [
    "type(year_pop)"
   ]
  },
  {
   "cell_type": "code",
   "execution_count": null,
   "id": "004c4fb9",
   "metadata": {},
   "outputs": [],
   "source": [
    "# 딕셔너리에서는 어떤 값을 찾아가기 위한 유일한 수단이 '키'가 됨\n",
    "# (Note.) 리스트, 튜플, 문자열 등에서는 어떤 값을 찾아기 위해 원소의 위치를 직접 계산을 했었음"
   ]
  },
  {
   "cell_type": "code",
   "execution_count": 222,
   "id": "80439720",
   "metadata": {},
   "outputs": [
    {
     "data": {
      "text/plain": [
       "9930616"
      ]
     },
     "execution_count": 222,
     "metadata": {},
     "output_type": "execute_result"
    }
   ],
   "source": [
    "# 2016년도의 population을 알고 싶다면\n",
    "year_pop[2016]"
   ]
  },
  {
   "cell_type": "code",
   "execution_count": null,
   "id": "ee82635f",
   "metadata": {},
   "outputs": [],
   "source": [
    "# 딕셔너리에서는 어떤 값을 찾아가기 위한 유일한 수단 '키'이므로\n",
    "# '키'는 중복이 되어서는 안됨"
   ]
  },
  {
   "cell_type": "code",
   "execution_count": 223,
   "id": "910457d8",
   "metadata": {},
   "outputs": [],
   "source": [
    "# 아래와 같이 키 값을 중복(2016)해서 사용해도 문법적으로 오류가 안나지만,\n",
    "# 실제로 중복된 키(2016)로 색인했을 때 올바른 값을 얻어낼 수 없음\n",
    "# 중복값중 뒤에 있는 값이 조회가 됨\n",
    "year_pop = {2016:10000000, 2016: 9930616, 2017: 9857426, 2018: 9838892}"
   ]
  },
  {
   "cell_type": "code",
   "execution_count": 224,
   "id": "dcb43fd4",
   "metadata": {},
   "outputs": [
    {
     "data": {
      "text/plain": [
       "9930616"
      ]
     },
     "execution_count": 224,
     "metadata": {},
     "output_type": "execute_result"
    }
   ],
   "source": [
    "year_pop[2016]"
   ]
  },
  {
   "cell_type": "code",
   "execution_count": 225,
   "id": "60106e1c",
   "metadata": {},
   "outputs": [
    {
     "data": {
      "text/plain": [
       "{2016: 9930616, 2017: 9857426, 2018: 9838892}"
      ]
     },
     "execution_count": 225,
     "metadata": {},
     "output_type": "execute_result"
    }
   ],
   "source": [
    "# 딕셔너리는 순서가 있는 자료형이 아님\n",
    "year_pop = {2016: 9930616, 2017: 9857426, 2018: 9838892}\n",
    "year_pop"
   ]
  },
  {
   "cell_type": "code",
   "execution_count": null,
   "id": "2bab0022",
   "metadata": {},
   "outputs": [],
   "source": [
    "# 딕셔너리의 키 : 문자열, 실수, 불, 튜플 등은 사용할 수 있음\n",
    "# 딕셔너리의 값 : 리스르, 딕셔너리 포함에서 모든 자료형을 사용할 수 있음"
   ]
  },
  {
   "cell_type": "code",
   "execution_count": null,
   "id": "c752945a",
   "metadata": {},
   "outputs": [],
   "source": [
    "# 딕셔너리의 키 값으로는 일기가 가능한 자료형이 와야 함(리스트, 딕셔너리 올 수 없음)"
   ]
  },
  {
   "cell_type": "code",
   "execution_count": 226,
   "id": "5308141c",
   "metadata": {},
   "outputs": [
    {
     "data": {
      "text/plain": [
       "dict"
      ]
     },
     "execution_count": 226,
     "metadata": {},
     "output_type": "execute_result"
    }
   ],
   "source": [
    "lux = {'heath' : 490, 'melee':500, 'armor':18.72}\n",
    "type(lux)"
   ]
  },
  {
   "cell_type": "code",
   "execution_count": 227,
   "id": "29a9fb0a",
   "metadata": {},
   "outputs": [
    {
     "ename": "TypeError",
     "evalue": "unhashable type: 'list'",
     "output_type": "error",
     "traceback": [
      "\u001b[1;31m---------------------------------------------------------------------------\u001b[0m",
      "\u001b[1;31mTypeError\u001b[0m                                 Traceback (most recent call last)",
      "Input \u001b[1;32mIn [227]\u001b[0m, in \u001b[0;36m<cell line: 1>\u001b[1;34m()\u001b[0m\n\u001b[1;32m----> 1\u001b[0m lux \u001b[38;5;241m=\u001b[39m {[\u001b[38;5;241m1\u001b[39m, \u001b[38;5;241m2\u001b[39m, \u001b[38;5;241m3\u001b[39m] : \u001b[38;5;241m490\u001b[39m, \u001b[38;5;124m'\u001b[39m\u001b[38;5;124mmelee\u001b[39m\u001b[38;5;124m'\u001b[39m:\u001b[38;5;241m500\u001b[39m, \u001b[38;5;124m'\u001b[39m\u001b[38;5;124marmor\u001b[39m\u001b[38;5;124m'\u001b[39m:\u001b[38;5;241m18.72\u001b[39m}\n",
      "\u001b[1;31mTypeError\u001b[0m: unhashable type: 'list'"
     ]
    }
   ],
   "source": [
    "lux = {[1, 2, 3] : 490, 'melee':500, 'armor':18.72} # 딕셔너리의 키에 리스트가 들어간 경우"
   ]
  },
  {
   "cell_type": "code",
   "execution_count": 228,
   "id": "b2e500c7",
   "metadata": {},
   "outputs": [
    {
     "ename": "TypeError",
     "evalue": "unhashable type: 'dict'",
     "output_type": "error",
     "traceback": [
      "\u001b[1;31m---------------------------------------------------------------------------\u001b[0m",
      "\u001b[1;31mTypeError\u001b[0m                                 Traceback (most recent call last)",
      "Input \u001b[1;32mIn [228]\u001b[0m, in \u001b[0;36m<cell line: 1>\u001b[1;34m()\u001b[0m\n\u001b[1;32m----> 1\u001b[0m lux \u001b[38;5;241m=\u001b[39m {{\u001b[38;5;124m'\u001b[39m\u001b[38;5;124mk\u001b[39m\u001b[38;5;124m'\u001b[39m:\u001b[38;5;124m'\u001b[39m\u001b[38;5;124mv\u001b[39m\u001b[38;5;124m'\u001b[39m} : \u001b[38;5;241m490\u001b[39m, \u001b[38;5;124m'\u001b[39m\u001b[38;5;124mmelee\u001b[39m\u001b[38;5;124m'\u001b[39m:\u001b[38;5;241m500\u001b[39m, \u001b[38;5;124m'\u001b[39m\u001b[38;5;124marmor\u001b[39m\u001b[38;5;124m'\u001b[39m:\u001b[38;5;241m18.72\u001b[39m}\n",
      "\u001b[1;31mTypeError\u001b[0m: unhashable type: 'dict'"
     ]
    }
   ],
   "source": [
    "lux = {{'k':'v'} : 490, 'melee':500, 'armor':18.72} # 딕셔너리의 키에 딕셔너리가 들어간 경우"
   ]
  },
  {
   "cell_type": "code",
   "execution_count": 229,
   "id": "4f530947",
   "metadata": {},
   "outputs": [],
   "source": [
    "lux = {(1, 2) : 490, 'melee':500, 'armor':18.72} # # 딕셔너리의 키에 튜플이 들어간 경우 (ok)"
   ]
  },
  {
   "cell_type": "markdown",
   "id": "a415f5f6",
   "metadata": {},
   "source": [
    "**빈 딕셔너리 만들기**\n",
    "- 딕셔너리 = {}\n",
    "- 딕셔너리 = dict()"
   ]
  },
  {
   "cell_type": "code",
   "execution_count": 230,
   "id": "0457d26b",
   "metadata": {},
   "outputs": [
    {
     "data": {
      "text/plain": [
       "dict"
      ]
     },
     "execution_count": 230,
     "metadata": {},
     "output_type": "execute_result"
    }
   ],
   "source": [
    "x = {}\n",
    "type(x)"
   ]
  },
  {
   "cell_type": "code",
   "execution_count": 231,
   "id": "39795fd4",
   "metadata": {},
   "outputs": [
    {
     "data": {
      "text/plain": [
       "dict"
      ]
     },
     "execution_count": 231,
     "metadata": {},
     "output_type": "execute_result"
    }
   ],
   "source": [
    "x = dict()\n",
    "type(x)"
   ]
  },
  {
   "cell_type": "markdown",
   "id": "9cf77819",
   "metadata": {},
   "source": [
    "**dict() 로 딕셔너리 만들기\n",
    "- 딕셔너리 = dict(zip(키1, 키2], [값1, 값2])\n",
    "- 딕셔너리 = dict([(키1, 값1), (키2, 값2)])"
   ]
  },
  {
   "cell_type": "code",
   "execution_count": 234,
   "id": "9b2f8ec3",
   "metadata": {},
   "outputs": [
    {
     "data": {
      "text/plain": [
       "{'health': 490, 'melee': 500, 'armor': 18.72}"
      ]
     },
     "execution_count": 234,
     "metadata": {},
     "output_type": "execute_result"
    }
   ],
   "source": [
    "dict(zip(['health', 'melee', 'armor'], [490, 500, 18.72]))"
   ]
  },
  {
   "cell_type": "code",
   "execution_count": 235,
   "id": "f6684812",
   "metadata": {},
   "outputs": [
    {
     "data": {
      "text/plain": [
       "{'health': 490, 'melee': 500, 'armor': 18.72}"
      ]
     },
     "execution_count": 235,
     "metadata": {},
     "output_type": "execute_result"
    }
   ],
   "source": [
    "dict([('health', 490),('melee', 500) ,('armor', 18.72)])"
   ]
  },
  {
   "cell_type": "markdown",
   "id": "251105e1",
   "metadata": {},
   "source": [
    "**딕셔너리의 키로 값 조회하기**\n",
    "- 딕셔너리[키]"
   ]
  },
  {
   "cell_type": "code",
   "execution_count": 236,
   "id": "311e06ac",
   "metadata": {},
   "outputs": [
    {
     "data": {
      "text/plain": [
       "9930616"
      ]
     },
     "execution_count": 236,
     "metadata": {},
     "output_type": "execute_result"
    }
   ],
   "source": [
    "year_pop[2016]"
   ]
  },
  {
   "cell_type": "code",
   "execution_count": 238,
   "id": "7fb7ed4f",
   "metadata": {},
   "outputs": [
    {
     "data": {
      "text/plain": [
       "18.72"
      ]
     },
     "execution_count": 238,
     "metadata": {},
     "output_type": "execute_result"
    }
   ],
   "source": [
    "lux['armor']"
   ]
  },
  {
   "cell_type": "markdown",
   "id": "b4591b39",
   "metadata": {},
   "source": [
    "**딕셔너리의 값 변경하기**\n",
    "- 딕셔너리[키] = 값"
   ]
  },
  {
   "cell_type": "code",
   "execution_count": 239,
   "id": "0ff7e20b",
   "metadata": {},
   "outputs": [
    {
     "data": {
      "text/plain": [
       "{(1, 2): 490, 'melee': 500, 'armor': 18.72}"
      ]
     },
     "execution_count": 239,
     "metadata": {},
     "output_type": "execute_result"
    }
   ],
   "source": [
    "lux"
   ]
  },
  {
   "cell_type": "code",
   "execution_count": 240,
   "id": "f6f5e3a1",
   "metadata": {},
   "outputs": [
    {
     "data": {
      "text/plain": [
       "{(1, 2): 490, 'melee': 1000, 'armor': 18.72}"
      ]
     },
     "execution_count": 240,
     "metadata": {},
     "output_type": "execute_result"
    }
   ],
   "source": [
    "lux['melee'] = 1000\n",
    "lux"
   ]
  },
  {
   "cell_type": "code",
   "execution_count": 241,
   "id": "d12d778f",
   "metadata": {},
   "outputs": [
    {
     "data": {
      "text/plain": [
       "{(1, 2): 490, 'melee': 1000, 'armor': 18.72, 'attack_speed': 500}"
      ]
     },
     "execution_count": 241,
     "metadata": {},
     "output_type": "execute_result"
    }
   ],
   "source": [
    "lux['attack_speed'] = 500\n",
    "lux"
   ]
  },
  {
   "cell_type": "code",
   "execution_count": 242,
   "id": "0f8b7524",
   "metadata": {},
   "outputs": [
    {
     "ename": "KeyError",
     "evalue": "'power'",
     "output_type": "error",
     "traceback": [
      "\u001b[1;31m---------------------------------------------------------------------------\u001b[0m",
      "\u001b[1;31mKeyError\u001b[0m                                  Traceback (most recent call last)",
      "Input \u001b[1;32mIn [242]\u001b[0m, in \u001b[0;36m<cell line: 1>\u001b[1;34m()\u001b[0m\n\u001b[1;32m----> 1\u001b[0m \u001b[43mlux\u001b[49m\u001b[43m[\u001b[49m\u001b[38;5;124;43m'\u001b[39;49m\u001b[38;5;124;43mpower\u001b[39;49m\u001b[38;5;124;43m'\u001b[39;49m\u001b[43m]\u001b[49m\n",
      "\u001b[1;31mKeyError\u001b[0m: 'power'"
     ]
    }
   ],
   "source": [
    "lux['power'] # 없는 키로 조회했을 경우 에러"
   ]
  },
  {
   "cell_type": "markdown",
   "id": "99f9df73",
   "metadata": {},
   "source": [
    "**딕셔너리에 키가 있는지 확인하기**\n",
    "- 키 in 딕셔너리"
   ]
  },
  {
   "cell_type": "code",
   "execution_count": 243,
   "id": "0cf1d538",
   "metadata": {},
   "outputs": [
    {
     "data": {
      "text/plain": [
       "True"
      ]
     },
     "execution_count": 243,
     "metadata": {},
     "output_type": "execute_result"
    }
   ],
   "source": [
    "a = [1, 2, 3]\n",
    "1 in a"
   ]
  },
  {
   "cell_type": "code",
   "execution_count": 244,
   "id": "dbe14972",
   "metadata": {},
   "outputs": [
    {
     "data": {
      "text/plain": [
       "True"
      ]
     },
     "execution_count": 244,
     "metadata": {},
     "output_type": "execute_result"
    }
   ],
   "source": [
    "'melee' in lux"
   ]
  },
  {
   "cell_type": "code",
   "execution_count": 245,
   "id": "80948da0",
   "metadata": {},
   "outputs": [
    {
     "data": {
      "text/plain": [
       "False"
      ]
     },
     "execution_count": 245,
     "metadata": {},
     "output_type": "execute_result"
    }
   ],
   "source": [
    "'power' in lux"
   ]
  },
  {
   "cell_type": "markdown",
   "id": "13fa82dc",
   "metadata": {},
   "source": [
    "**딕셔너리 키 개수 구하기**\n",
    "- len(딕셔너리)"
   ]
  },
  {
   "cell_type": "code",
   "execution_count": 246,
   "id": "2b53ae7e",
   "metadata": {},
   "outputs": [
    {
     "data": {
      "text/plain": [
       "{(1, 2): 490, 'melee': 1000, 'armor': 18.72, 'attack_speed': 500}"
      ]
     },
     "execution_count": 246,
     "metadata": {},
     "output_type": "execute_result"
    }
   ],
   "source": [
    "lux"
   ]
  },
  {
   "cell_type": "code",
   "execution_count": 247,
   "id": "3aac55a0",
   "metadata": {},
   "outputs": [
    {
     "data": {
      "text/plain": [
       "4"
      ]
     },
     "execution_count": 247,
     "metadata": {},
     "output_type": "execute_result"
    }
   ],
   "source": [
    "len(lux)"
   ]
  },
  {
   "cell_type": "markdown",
   "id": "966ebcd0",
   "metadata": {},
   "source": [
    "# Workshop"
   ]
  },
  {
   "cell_type": "markdown",
   "id": "5c0d87ed",
   "metadata": {},
   "source": [
    "**게임 캐릭터 능력 저장**\n",
    "- 표준 입력으로 문자열 여러 개와 숫자(실수) 여러 개가 두 줄로 입력됩니다. 입력된 첫 번째 줄은 키, 두 번째 줄은 값으로 하여 딕셔너리를 생성한 뒤 딕셔너리를 출력하는 프로그램을 만드세요. input().split()의 결과를 변수 한개에 저장하면 리스트로 저장됩니다.\n",
    "\n",
    "```\n",
    "(입력예)\n",
    "health health_regen mana mana_regen\n",
    "575.6 1.7 338.8 1.63\n",
    "\n",
    "(결과)\n",
    "{'health':575.6, 'health_regen':1.7, 'mana':338.8, 'mana_regen':1.63}\n",
    "```\n"
   ]
  },
  {
   "cell_type": "code",
   "execution_count": 248,
   "id": "89a74517",
   "metadata": {},
   "outputs": [
    {
     "name": "stdout",
     "output_type": "stream",
     "text": [
      "health health_regen mana mana_regen\n",
      "576.6 1.7 338.8 1.63\n"
     ]
    }
   ],
   "source": [
    "key_list = input().split()\n",
    "val_list = input().split()\n",
    "\n",
    "dict(zip(key_list, val_list))"
   ]
  },
  {
   "cell_type": "markdown",
   "id": "d416b7dd",
   "metadata": {},
   "source": [
    "**교통 카드 시스템 만들기**\n",
    "\n",
    "표준 입력으로 나이(만 나이)가 입력됩니다(입력 값은 7 이상 입력됨). 교통카드 시스템에서 시내버스 요금은 다음과 같으며 각 나이에 맞게 요금을 차감한 뒤 잔액이 출력되게 만드세요(if, elif 사용). 현재 교통카드에는 9,000원이 들어있습니다. \n",
    "\n",
    "- 어린이(초등학생, 만 7세 이상 12세 이하): 650원 \n",
    "- 청소년(중∙고등학생, 만 13세 이상 18세 이하): 1,050원 \n",
    "- 어른(일반, 만 19세 이상): 1,250원\n",
    "\n",
    "```\n",
    "age = int(input()) \n",
    "balance = 9000 # 교통카드 잔액 \n",
    "________________ \n",
    "________________ \n",
    "________________ \n",
    "print(balance)\n",
    "```"
   ]
  },
  {
   "cell_type": "code",
   "execution_count": 253,
   "id": "cc221b7c",
   "metadata": {},
   "outputs": [
    {
     "name": "stdout",
     "output_type": "stream",
     "text": [
      "5\n",
      "오류입니다.\n",
      "9000\n"
     ]
    }
   ],
   "source": [
    "age = int(input())\n",
    "balance = 9000\n",
    "\n",
    "if 7 <= age <= 12: # 어린이\n",
    "    balance -= 650\n",
    "elif 13 <= age <= 18: # 청소년\n",
    "    balance -= 1050\n",
    "elif age >= 19: # 어른\n",
    "    balance -= 1250\n",
    "else:\n",
    "    print('오류입니다.')\n",
    "print(balance)      "
   ]
  },
  {
   "cell_type": "code",
   "execution_count": null,
   "id": "1cdfc9db",
   "metadata": {},
   "outputs": [],
   "source": []
  }
 ],
 "metadata": {
  "kernelspec": {
   "display_name": "Python 3 (ipykernel)",
   "language": "python",
   "name": "python3"
  },
  "language_info": {
   "codemirror_mode": {
    "name": "ipython",
    "version": 3
   },
   "file_extension": ".py",
   "mimetype": "text/x-python",
   "name": "python",
   "nbconvert_exporter": "python",
   "pygments_lexer": "ipython3",
   "version": "3.9.12"
  }
 },
 "nbformat": 4,
 "nbformat_minor": 5
}
