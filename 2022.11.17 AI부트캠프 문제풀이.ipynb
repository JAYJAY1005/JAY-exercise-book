{
 "cells": [
  {
   "cell_type": "markdown",
   "id": "226e8343",
   "metadata": {},
   "source": [
    "- 1~45개의 번호 중 무작위로 6개씩 생성되는 번호 세트를 총 10개 출력하기"
   ]
  },
  {
   "cell_type": "code",
   "execution_count": 41,
   "id": "7681f163",
   "metadata": {},
   "outputs": [],
   "source": [
    "import numpy as np"
   ]
  },
  {
   "cell_type": "code",
   "execution_count": 15,
   "id": "8e43ffc3",
   "metadata": {},
   "outputs": [
    {
     "name": "stdout",
     "output_type": "stream",
     "text": [
      "[40 42 36  1 22 25]\n",
      "[18  5 38 30 12 45]\n",
      "[24 26 13  3  7 23]\n",
      "[34 39 18 41 36 16]\n",
      "[37  8 28 31 13 40]\n",
      "[17 34 10 41 44  9]\n",
      "[32 13  8 20  9 16]\n",
      "[29 38 10 24 33  1]\n",
      "[34 10 32 26 44 31]\n",
      "[23 12  6 27 20 33]\n"
     ]
    }
   ],
   "source": [
    "for i in range(10):\n",
    "    arr = np.arange(46)\n",
    "    num = np.random.permutation(arr)\n",
    "    print(num[:6])\n"
   ]
  },
  {
   "cell_type": "markdown",
   "id": "dbe0ffe1",
   "metadata": {},
   "source": [
    "계단 오르 내리기\n",
    "\n",
    "- 동전을 던졌을 때 앞이 나오면 계단 1칸 올라가기\n",
    "- 동전을 던졌을 때 뒤가 나오면 계단 1칸 내려가기\n",
    "- 현재 위치 position = 0\n",
    "- 1000번 동전을 던졌을 때의 위치의 히스토리 : walk 리스트"
   ]
  },
  {
   "cell_type": "code",
   "execution_count": 38,
   "id": "35405162",
   "metadata": {},
   "outputs": [],
   "source": [
    "import random as rd\n",
    "\n",
    "walk = [] # 미리 만들어 놓은 리스트\n",
    "step = 0\n",
    "\n",
    "for i in range(1000):\n",
    "    coin = rd.randint(0,1)\n",
    "    if coin == 1: \n",
    "        step=step + 1\n",
    "    else:\n",
    "        step=step - 1\n",
    "        \n",
    "    walk.append(step) # 미리 만들어 놓은 리스트에 결과값 step을 추가해야함 안그러면 마지막 값을 조회 할 수 없음\n",
    "    "
   ]
  },
  {
   "cell_type": "code",
   "execution_count": 39,
   "id": "d99e49a4",
   "metadata": {},
   "outputs": [
    {
     "data": {
      "text/plain": [
       "-46"
      ]
     },
     "execution_count": 39,
     "metadata": {},
     "output_type": "execute_result"
    }
   ],
   "source": [
    "walk[-1] # 인덱스로 마지막 값을 뽑아냄"
   ]
  },
  {
   "cell_type": "markdown",
   "id": "43b96558",
   "metadata": {},
   "source": [
    "- np.random.randint() : 동전의 앞뒤 결정\n",
    "- np.where() : 동전의 앞뒤 조건에 따른 step 결정\n",
    "- np.cumsum() : 현재 위치의 히스토리"
   ]
  },
  {
   "cell_type": "code",
   "execution_count": 55,
   "id": "df6e2c50",
   "metadata": {},
   "outputs": [
    {
     "data": {
      "text/plain": [
       "array([ -1,  -2,  -3,  -2,  -3,  -4,  -3,  -2,  -3,  -4,  -5,  -4,  -5,\n",
       "        -6,  -7,  -6,  -7,  -8,  -9,  -8,  -9,  -8,  -9, -10, -11, -12,\n",
       "       -13, -14, -13, -12, -13, -12, -13, -14, -13, -14, -15, -14, -13,\n",
       "       -14, -15, -16, -17, -16, -15, -14, -13, -14, -13, -14, -13, -12,\n",
       "       -11, -10,  -9, -10, -11, -10, -11, -10,  -9,  -8,  -7,  -8,  -9,\n",
       "       -10,  -9,  -8,  -7,  -8,  -7,  -6,  -7,  -8,  -7,  -8,  -7,  -6,\n",
       "        -5,  -6,  -5,  -4,  -5,  -4,  -5,  -6,  -7,  -6,  -7,  -8,  -7,\n",
       "        -6,  -5,  -6,  -7,  -6,  -7,  -8,  -7,  -8,  -7,  -6,  -5,  -4,\n",
       "        -3,  -2,  -1,   0,  -1,   0,   1,   0,  -1,  -2,  -3,  -4,  -3,\n",
       "        -4,  -3,  -4,  -3,  -2,  -3,  -4,  -5,  -4,  -3,  -4,  -3,  -2,\n",
       "        -3,  -2,  -1,  -2,  -3,  -2,  -3,  -4,  -3,  -4,  -3,  -2,  -3,\n",
       "        -2,  -1,  -2,  -1,  -2,  -1,  -2,  -3,  -4,  -3,  -2,  -1,  -2,\n",
       "        -1,   0,   1,   2,   1,   2,   3,   4,   5,   4,   3,   2,   3,\n",
       "         2,   1,   0,   1,   0,   1,   0,   1,   2,   1,   2,   1,   2,\n",
       "         1,   0,  -1,   0,  -1,  -2,  -3,  -2,  -3,  -4,  -5,  -6,  -7,\n",
       "        -6,  -7,  -8,  -7,  -8,  -7,  -6,  -7,  -8,  -7,  -8,  -7,  -6,\n",
       "        -5,  -4,  -3,  -2,  -3,  -2,  -3,  -4,  -5,  -6,  -5,  -6,  -7,\n",
       "        -8,  -7,  -8,  -7,  -6,  -5,  -6,  -5,  -4,  -5,  -4,  -5,  -6,\n",
       "        -7,  -6,  -5,  -4,  -5,  -6,  -7,  -6,  -7,  -6,  -5,  -6,  -5,\n",
       "        -6,  -5,  -4,  -3,  -4,  -3,  -2,  -3,  -4,  -3,  -2,  -3,  -4,\n",
       "        -3,  -4,  -5,  -6,  -7,  -8,  -9,  -8,  -9, -10, -11, -10, -11,\n",
       "       -10, -11, -10, -11, -10, -11, -12, -13, -14, -13, -14, -15, -14,\n",
       "       -13, -14, -15, -16, -15, -14, -13, -14, -15, -14, -13, -12, -11,\n",
       "       -12, -13, -14, -15, -14, -15, -16, -17, -18, -17, -16, -15, -14,\n",
       "       -13, -12, -13, -14, -15, -14, -13, -14, -13, -14, -13, -12, -11,\n",
       "       -10, -11, -10, -11, -10,  -9, -10,  -9, -10,  -9, -10, -11, -12,\n",
       "       -11, -12, -11, -10,  -9,  -8,  -9,  -8,  -7,  -8,  -7,  -6,  -5,\n",
       "        -4,  -5,  -4,  -5,  -6,  -7,  -6,  -7,  -6,  -5,  -4,  -5,  -4,\n",
       "        -5,  -6,  -5,  -6,  -7,  -6,  -7,  -6,  -7,  -8,  -9, -10,  -9,\n",
       "        -8,  -9, -10,  -9,  -8,  -9, -10,  -9, -10,  -9, -10,  -9,  -8,\n",
       "        -7,  -6,  -7,  -8,  -9, -10,  -9, -10, -11, -10, -11, -12, -13,\n",
       "       -12, -11, -10, -11, -10, -11, -12, -13, -14, -13, -14, -13, -12,\n",
       "       -13, -12, -11, -10,  -9, -10,  -9, -10,  -9, -10,  -9,  -8,  -7,\n",
       "        -6,  -5,  -4,  -3,  -4,  -3,  -4,  -5,  -6,  -7,  -8,  -7,  -6,\n",
       "        -5,  -6,  -5,  -4,  -5,  -6,  -7,  -6,  -5,  -4,  -3,  -2,  -3,\n",
       "        -2,  -3,  -4,  -5,  -6,  -7,  -6,  -7,  -8,  -9,  -8,  -9,  -8,\n",
       "        -7,  -6,  -5,  -6,  -5,  -6,  -7,  -8,  -9, -10, -11, -10,  -9,\n",
       "       -10, -11, -12, -13, -12, -11, -12, -13, -12, -11, -10, -11, -10,\n",
       "        -9, -10,  -9,  -8,  -7,  -6,  -7,  -8,  -7,  -6,  -7,  -8,  -9,\n",
       "        -8,  -7,  -6,  -7,  -8,  -9,  -8,  -9, -10,  -9, -10,  -9,  -8,\n",
       "        -7,  -6,  -5,  -4,  -3,  -2,  -3,  -4,  -5,  -6,  -5,  -4,  -5,\n",
       "        -4,  -3,  -2,  -3,  -2,  -3,  -2,  -3,  -2,  -3,  -2,  -1,  -2,\n",
       "        -1,   0,  -1,   0,  -1,  -2,  -3,  -4,  -5,  -4,  -3,  -4,  -5,\n",
       "        -6,  -5,  -6,  -5,  -6,  -5,  -4,  -5,  -6,  -5,  -6,  -5,  -4,\n",
       "        -5,  -6,  -5,  -6,  -5,  -4,  -3,  -2,  -3,  -2,  -1,  -2,  -3,\n",
       "        -4,  -3,  -2,  -3,  -4,  -3,  -2,  -1,  -2,  -1,   0,  -1,   0,\n",
       "        -1,  -2,  -1,   0,   1,   2,   1,   0,  -1,  -2,  -3,  -4,  -3,\n",
       "        -2,  -3,  -2,  -3,  -2,  -1,   0,  -1,  -2,  -3,  -2,  -1,   0,\n",
       "        -1,  -2,  -3,  -4,  -3,  -4,  -5,  -6,  -7,  -8,  -9, -10, -11,\n",
       "       -12, -13, -12, -11, -12, -13, -14, -15, -14, -13, -12, -11, -12,\n",
       "       -11, -12, -11, -10, -11, -10,  -9,  -8,  -7,  -6,  -7,  -8,  -7,\n",
       "        -6,  -5,  -4,  -3,  -4,  -3,  -2,  -3,  -2,  -1,  -2,  -3,  -4,\n",
       "        -3,  -2,  -1,  -2,  -1,   0,  -1,  -2,  -3,  -4,  -3,  -2,  -1,\n",
       "        -2,  -1,  -2,  -1,  -2,  -1,  -2,  -3,  -2,  -1,   0,   1,   2,\n",
       "         3,   2,   3,   4,   3,   2,   1,   0,   1,   0,   1,   0,   1,\n",
       "         2,   3,   2,   1,   0,  -1,  -2,  -1,   0,  -1,  -2,  -1,  -2,\n",
       "        -1,   0,  -1,   0,  -1,  -2,  -3,  -4,  -3,  -2,  -3,  -4,  -5,\n",
       "        -6,  -7,  -6,  -5,  -4,  -5,  -6,  -5,  -4,  -3,  -4,  -3,  -4,\n",
       "        -3,  -2,  -3,  -4,  -3,  -4,  -3,  -4,  -3,  -4,  -5,  -6,  -5,\n",
       "        -4,  -5,  -4,  -5,  -6,  -5,  -4,  -5,  -6,  -5,  -6,  -5,  -6,\n",
       "        -5,  -6,  -7,  -8,  -7,  -8,  -7,  -8,  -7,  -6,  -5,  -4,  -5,\n",
       "        -6,  -5,  -6,  -5,  -6,  -5,  -6,  -7,  -6,  -5,  -4,  -3,  -2,\n",
       "        -1,   0,  -1,  -2,  -3,  -2,  -3,  -4,  -5,  -4,  -3,  -2,  -3,\n",
       "        -2,  -3,  -2,  -3,  -4,  -5,  -4,  -5,  -4,  -5,  -4,  -5,  -4,\n",
       "        -5,  -6,  -7,  -6,  -5,  -6,  -5,  -4,  -3,  -4,  -3,  -4,  -3,\n",
       "        -4,  -3,  -4,  -3,  -4,  -5,  -4,  -5,  -4,  -5,  -6,  -7,  -8,\n",
       "        -9,  -8,  -7,  -6,  -5,  -6,  -7,  -8,  -9,  -8,  -7,  -6,  -5,\n",
       "        -4,  -3,  -2,  -1,  -2,  -3,  -4,  -3,  -4,  -3,  -2,  -1,   0,\n",
       "         1,   0,   1,   0,  -1,   0,  -1,   0,  -1,  -2,  -1,   0,   1,\n",
       "         0,   1,   0,  -1,   0,   1,   2,   1,   0,   1,   0,   1,   0,\n",
       "        -1,   0,  -1,  -2,  -3,  -2,  -1,   0,  -1,   0,  -1,  -2,  -3,\n",
       "        -2,  -3,  -2,  -1,   0,  -1,  -2,  -1,   0,  -1,   0,  -1,   0,\n",
       "        -1,  -2,  -1,  -2,  -3,  -4,  -3,  -2,  -1,   0,  -1,  -2,  -1,\n",
       "        -2,  -3,  -4,  -5,  -6,  -7,  -8,  -7,  -8,  -7,  -6,  -5,  -4,\n",
       "        -3,  -2,  -1,   0,  -1,   0,   1,   2,   1,   0,   1,   0,  -1,\n",
       "         0,   1,   2,   1,   2,   3,   2,   1,   2,   3,   4,   3,   4,\n",
       "         3,   2,   3,   2,   1,   0,   1,   2,   1,   2,   1,   0],\n",
       "      dtype=int32)"
      ]
     },
     "execution_count": 55,
     "metadata": {},
     "output_type": "execute_result"
    }
   ],
   "source": [
    "coin=np.random.randint(0,2,1000)\n",
    "step=np.where(coin<=0, -1, 1)\n",
    "walk=np.cumsum(step)\n",
    "walk"
   ]
  },
  {
   "cell_type": "code",
   "execution_count": 56,
   "id": "b978fbb1",
   "metadata": {},
   "outputs": [
    {
     "data": {
      "text/plain": [
       "-18"
      ]
     },
     "execution_count": 56,
     "metadata": {},
     "output_type": "execute_result"
    }
   ],
   "source": [
    "min(walk)"
   ]
  },
  {
   "cell_type": "code",
   "execution_count": 57,
   "id": "fb329d15",
   "metadata": {},
   "outputs": [
    {
     "data": {
      "text/plain": [
       "5"
      ]
     },
     "execution_count": 57,
     "metadata": {},
     "output_type": "execute_result"
    }
   ],
   "source": [
    "max(walk)"
   ]
  },
  {
   "cell_type": "markdown",
   "id": "46f6565e",
   "metadata": {},
   "source": [
    "- 딕셔너리 -> 시리즈 변환 (index, values 출력)"
   ]
  },
  {
   "cell_type": "code",
   "execution_count": 61,
   "id": "0e298f38",
   "metadata": {},
   "outputs": [],
   "source": [
    "import pandas as pd"
   ]
  },
  {
   "cell_type": "code",
   "execution_count": 62,
   "id": "3c5f8039",
   "metadata": {},
   "outputs": [],
   "source": [
    "dict_data = {'a':1, 'b':2, 'c':3}"
   ]
  },
  {
   "cell_type": "code",
   "execution_count": 63,
   "id": "a573a97f",
   "metadata": {},
   "outputs": [
    {
     "data": {
      "text/plain": [
       "a    1\n",
       "b    2\n",
       "c    3\n",
       "dtype: int64"
      ]
     },
     "execution_count": 63,
     "metadata": {},
     "output_type": "execute_result"
    }
   ],
   "source": [
    "sr = pd.Series(dict_data)\n",
    "sr"
   ]
  },
  {
   "cell_type": "markdown",
   "id": "57536ad4",
   "metadata": {},
   "source": [
    "- 리스트 -> 시리즈 변환 (index, values 출력)"
   ]
  },
  {
   "cell_type": "code",
   "execution_count": 64,
   "id": "5209f1f2",
   "metadata": {},
   "outputs": [],
   "source": [
    "list_data = ['2019-01-02', 3.14, 'ABC', 100, True]"
   ]
  },
  {
   "cell_type": "code",
   "execution_count": 65,
   "id": "7cfd64ea",
   "metadata": {},
   "outputs": [
    {
     "data": {
      "text/plain": [
       "0    2019-01-02\n",
       "1          3.14\n",
       "2           ABC\n",
       "3           100\n",
       "4          True\n",
       "dtype: object"
      ]
     },
     "execution_count": 65,
     "metadata": {},
     "output_type": "execute_result"
    }
   ],
   "source": [
    "sr = pd.Series(list_data)\n",
    "sr"
   ]
  },
  {
   "cell_type": "markdown",
   "id": "c53f7cf7",
   "metadata": {},
   "source": [
    "- 튜플 -> 시리즈 변환 (index, values 출력"
   ]
  },
  {
   "cell_type": "code",
   "execution_count": 66,
   "id": "2a2c4051",
   "metadata": {},
   "outputs": [],
   "source": [
    "tuple_data = ('영인', '2010-05-01', '여', True)"
   ]
  },
  {
   "cell_type": "code",
   "execution_count": 67,
   "id": "238117fa",
   "metadata": {},
   "outputs": [
    {
     "data": {
      "text/plain": [
       "0            영인\n",
       "1    2010-05-01\n",
       "2             여\n",
       "3          True\n",
       "dtype: object"
      ]
     },
     "execution_count": 67,
     "metadata": {},
     "output_type": "execute_result"
    }
   ],
   "source": [
    "sr = pd.Series(tuple_data)\n",
    "sr"
   ]
  },
  {
   "cell_type": "markdown",
   "id": "4a77c051",
   "metadata": {},
   "source": [
    "- 튜플 -> 시리즈 변환 (index 설정)"
   ]
  },
  {
   "cell_type": "code",
   "execution_count": 68,
   "id": "dce914b0",
   "metadata": {},
   "outputs": [],
   "source": [
    "tuple_data = ('영인', '2010-05-01', '여', True)\n",
    "index_name = ['이름', '생년월일', '성별', '학생여부']"
   ]
  },
  {
   "cell_type": "code",
   "execution_count": 69,
   "id": "538b4fb8",
   "metadata": {},
   "outputs": [
    {
     "data": {
      "text/plain": [
       "이름              영인\n",
       "생년월일    2010-05-01\n",
       "성별               여\n",
       "학생여부          True\n",
       "dtype: object"
      ]
     },
     "execution_count": 69,
     "metadata": {},
     "output_type": "execute_result"
    }
   ],
   "source": [
    "sr = pd.Series(tuple_data,index = ['이름', '생년월일', '성별', '학생여부'])\n",
    "sr"
   ]
  },
  {
   "cell_type": "markdown",
   "id": "846f0e6f",
   "metadata": {},
   "source": [
    "- 시리즈 원소 선택"
   ]
  },
  {
   "cell_type": "code",
   "execution_count": null,
   "id": "fa3a761a",
   "metadata": {},
   "outputs": [],
   "source": [
    "# 슬라이스 색인을 통해 '2010-05-01', '여' 값이 나오도록"
   ]
  },
  {
   "cell_type": "code",
   "execution_count": 82,
   "id": "a6333455",
   "metadata": {},
   "outputs": [
    {
     "data": {
      "text/plain": [
       "생년월일    2010-05-01\n",
       "성별               여\n",
       "dtype: object"
      ]
     },
     "execution_count": 82,
     "metadata": {},
     "output_type": "execute_result"
    }
   ],
   "source": [
    "sr[1:3] # 완전히 두개만 나오게는 못하나 ???"
   ]
  },
  {
   "cell_type": "code",
   "execution_count": null,
   "id": "08bbceef",
   "metadata": {},
   "outputs": [],
   "source": [
    "# 색인을 통해 '영인'값이 나오도록"
   ]
  },
  {
   "cell_type": "code",
   "execution_count": 73,
   "id": "c66d7ca4",
   "metadata": {},
   "outputs": [
    {
     "data": {
      "text/plain": [
       "'영인'"
      ]
     },
     "execution_count": 73,
     "metadata": {},
     "output_type": "execute_result"
    }
   ],
   "source": [
    "sr[0]"
   ]
  },
  {
   "cell_type": "markdown",
   "id": "dfc0ac32",
   "metadata": {},
   "source": [
    "- 딕셔너리 -> 데이터프레임"
   ]
  },
  {
   "cell_type": "code",
   "execution_count": 86,
   "id": "fb24f8f2",
   "metadata": {},
   "outputs": [],
   "source": [
    "import pandas as pd"
   ]
  },
  {
   "cell_type": "code",
   "execution_count": 87,
   "id": "7d06e3e1",
   "metadata": {},
   "outputs": [],
   "source": [
    "dict_data = {'c0':[1,2,3], 'c1':[4,5,6], 'c2':[7,8,9], 'c3':[10,11,12], 'c4':[13,14,15]}"
   ]
  },
  {
   "cell_type": "code",
   "execution_count": 88,
   "id": "aea991ad",
   "metadata": {},
   "outputs": [
    {
     "data": {
      "text/html": [
       "<div>\n",
       "<style scoped>\n",
       "    .dataframe tbody tr th:only-of-type {\n",
       "        vertical-align: middle;\n",
       "    }\n",
       "\n",
       "    .dataframe tbody tr th {\n",
       "        vertical-align: top;\n",
       "    }\n",
       "\n",
       "    .dataframe thead th {\n",
       "        text-align: right;\n",
       "    }\n",
       "</style>\n",
       "<table border=\"1\" class=\"dataframe\">\n",
       "  <thead>\n",
       "    <tr style=\"text-align: right;\">\n",
       "      <th></th>\n",
       "      <th>c0</th>\n",
       "      <th>c1</th>\n",
       "      <th>c2</th>\n",
       "      <th>c3</th>\n",
       "      <th>c4</th>\n",
       "    </tr>\n",
       "  </thead>\n",
       "  <tbody>\n",
       "    <tr>\n",
       "      <th>0</th>\n",
       "      <td>1</td>\n",
       "      <td>4</td>\n",
       "      <td>7</td>\n",
       "      <td>10</td>\n",
       "      <td>13</td>\n",
       "    </tr>\n",
       "    <tr>\n",
       "      <th>1</th>\n",
       "      <td>2</td>\n",
       "      <td>5</td>\n",
       "      <td>8</td>\n",
       "      <td>11</td>\n",
       "      <td>14</td>\n",
       "    </tr>\n",
       "    <tr>\n",
       "      <th>2</th>\n",
       "      <td>3</td>\n",
       "      <td>6</td>\n",
       "      <td>9</td>\n",
       "      <td>12</td>\n",
       "      <td>15</td>\n",
       "    </tr>\n",
       "  </tbody>\n",
       "</table>\n",
       "</div>"
      ],
      "text/plain": [
       "   c0  c1  c2  c3  c4\n",
       "0   1   4   7  10  13\n",
       "1   2   5   8  11  14\n",
       "2   3   6   9  12  15"
      ]
     },
     "execution_count": 88,
     "metadata": {},
     "output_type": "execute_result"
    }
   ],
   "source": [
    "a = pd.DataFrame(dict_data)\n",
    "a"
   ]
  },
  {
   "cell_type": "markdown",
   "id": "965b52f5",
   "metadata": {},
   "source": [
    "- 행인덱스/열이름 설정"
   ]
  },
  {
   "cell_type": "code",
   "execution_count": 89,
   "id": "c2a04f6c",
   "metadata": {},
   "outputs": [
    {
     "data": {
      "text/html": [
       "<div>\n",
       "<style scoped>\n",
       "    .dataframe tbody tr th:only-of-type {\n",
       "        vertical-align: middle;\n",
       "    }\n",
       "\n",
       "    .dataframe tbody tr th {\n",
       "        vertical-align: top;\n",
       "    }\n",
       "\n",
       "    .dataframe thead th {\n",
       "        text-align: right;\n",
       "    }\n",
       "</style>\n",
       "<table border=\"1\" class=\"dataframe\">\n",
       "  <thead>\n",
       "    <tr style=\"text-align: right;\">\n",
       "      <th></th>\n",
       "      <th>나이</th>\n",
       "      <th>성별</th>\n",
       "      <th>학교</th>\n",
       "    </tr>\n",
       "  </thead>\n",
       "  <tbody>\n",
       "    <tr>\n",
       "      <th>준서</th>\n",
       "      <td>15</td>\n",
       "      <td>남</td>\n",
       "      <td>덕영중</td>\n",
       "    </tr>\n",
       "    <tr>\n",
       "      <th>예은</th>\n",
       "      <td>17</td>\n",
       "      <td>여</td>\n",
       "      <td>수리중</td>\n",
       "    </tr>\n",
       "  </tbody>\n",
       "</table>\n",
       "</div>"
      ],
      "text/plain": [
       "    나이 성별   학교\n",
       "준서  15  남  덕영중\n",
       "예은  17  여  수리중"
      ]
     },
     "execution_count": 89,
     "metadata": {},
     "output_type": "execute_result"
    }
   ],
   "source": [
    "df = pd.DataFrame([[15, '남', '덕영중'], [17, '여', '수리중']], \n",
    "                   index=['준서', '예은'],\n",
    "                   columns=['나이', '성별', '학교'])\n",
    "df"
   ]
  },
  {
   "cell_type": "code",
   "execution_count": null,
   "id": "7ffd608a",
   "metadata": {},
   "outputs": [],
   "source": [
    "# 준서, 예은 -> 학생1, 학생2"
   ]
  },
  {
   "cell_type": "code",
   "execution_count": 91,
   "id": "fc5c5dd2",
   "metadata": {},
   "outputs": [
    {
     "data": {
      "text/html": [
       "<div>\n",
       "<style scoped>\n",
       "    .dataframe tbody tr th:only-of-type {\n",
       "        vertical-align: middle;\n",
       "    }\n",
       "\n",
       "    .dataframe tbody tr th {\n",
       "        vertical-align: top;\n",
       "    }\n",
       "\n",
       "    .dataframe thead th {\n",
       "        text-align: right;\n",
       "    }\n",
       "</style>\n",
       "<table border=\"1\" class=\"dataframe\">\n",
       "  <thead>\n",
       "    <tr style=\"text-align: right;\">\n",
       "      <th></th>\n",
       "      <th>나이</th>\n",
       "      <th>성별</th>\n",
       "      <th>학교</th>\n",
       "    </tr>\n",
       "  </thead>\n",
       "  <tbody>\n",
       "    <tr>\n",
       "      <th>학생1</th>\n",
       "      <td>15</td>\n",
       "      <td>남</td>\n",
       "      <td>덕영중</td>\n",
       "    </tr>\n",
       "    <tr>\n",
       "      <th>학생2</th>\n",
       "      <td>17</td>\n",
       "      <td>여</td>\n",
       "      <td>수리중</td>\n",
       "    </tr>\n",
       "  </tbody>\n",
       "</table>\n",
       "</div>"
      ],
      "text/plain": [
       "     나이 성별   학교\n",
       "학생1  15  남  덕영중\n",
       "학생2  17  여  수리중"
      ]
     },
     "execution_count": 91,
     "metadata": {},
     "output_type": "execute_result"
    }
   ],
   "source": [
    "df.index=['학생1','학생2']\n",
    "df"
   ]
  },
  {
   "cell_type": "code",
   "execution_count": null,
   "id": "83b9b578",
   "metadata": {},
   "outputs": [],
   "source": [
    "# 나이, 성별, 학교 -> 연령, 남녀, 소속"
   ]
  },
  {
   "cell_type": "code",
   "execution_count": 92,
   "id": "a6016475",
   "metadata": {},
   "outputs": [
    {
     "data": {
      "text/html": [
       "<div>\n",
       "<style scoped>\n",
       "    .dataframe tbody tr th:only-of-type {\n",
       "        vertical-align: middle;\n",
       "    }\n",
       "\n",
       "    .dataframe tbody tr th {\n",
       "        vertical-align: top;\n",
       "    }\n",
       "\n",
       "    .dataframe thead th {\n",
       "        text-align: right;\n",
       "    }\n",
       "</style>\n",
       "<table border=\"1\" class=\"dataframe\">\n",
       "  <thead>\n",
       "    <tr style=\"text-align: right;\">\n",
       "      <th></th>\n",
       "      <th>연령</th>\n",
       "      <th>남녀</th>\n",
       "      <th>소속</th>\n",
       "    </tr>\n",
       "  </thead>\n",
       "  <tbody>\n",
       "    <tr>\n",
       "      <th>학생1</th>\n",
       "      <td>15</td>\n",
       "      <td>남</td>\n",
       "      <td>덕영중</td>\n",
       "    </tr>\n",
       "    <tr>\n",
       "      <th>학생2</th>\n",
       "      <td>17</td>\n",
       "      <td>여</td>\n",
       "      <td>수리중</td>\n",
       "    </tr>\n",
       "  </tbody>\n",
       "</table>\n",
       "</div>"
      ],
      "text/plain": [
       "     연령 남녀   소속\n",
       "학생1  15  남  덕영중\n",
       "학생2  17  여  수리중"
      ]
     },
     "execution_count": 92,
     "metadata": {},
     "output_type": "execute_result"
    }
   ],
   "source": [
    "df.columns = ['연령', '남녀', '소속']\n",
    "df"
   ]
  },
  {
   "cell_type": "code",
   "execution_count": null,
   "id": "5c9eaa67",
   "metadata": {},
   "outputs": [],
   "source": [
    "# 행인덱스/열이름 변경\n",
    "# rename 사용하여 변경 (부분적으로 수정하고 싶을 때)"
   ]
  },
  {
   "cell_type": "code",
   "execution_count": 101,
   "id": "49773de8",
   "metadata": {},
   "outputs": [
    {
     "data": {
      "text/html": [
       "<div>\n",
       "<style scoped>\n",
       "    .dataframe tbody tr th:only-of-type {\n",
       "        vertical-align: middle;\n",
       "    }\n",
       "\n",
       "    .dataframe tbody tr th {\n",
       "        vertical-align: top;\n",
       "    }\n",
       "\n",
       "    .dataframe thead th {\n",
       "        text-align: right;\n",
       "    }\n",
       "</style>\n",
       "<table border=\"1\" class=\"dataframe\">\n",
       "  <thead>\n",
       "    <tr style=\"text-align: right;\">\n",
       "      <th></th>\n",
       "      <th>나이</th>\n",
       "      <th>성별</th>\n",
       "      <th>학교</th>\n",
       "    </tr>\n",
       "  </thead>\n",
       "  <tbody>\n",
       "    <tr>\n",
       "      <th>준서</th>\n",
       "      <td>15</td>\n",
       "      <td>남</td>\n",
       "      <td>덕영중</td>\n",
       "    </tr>\n",
       "    <tr>\n",
       "      <th>예은</th>\n",
       "      <td>17</td>\n",
       "      <td>여</td>\n",
       "      <td>수리중</td>\n",
       "    </tr>\n",
       "  </tbody>\n",
       "</table>\n",
       "</div>"
      ],
      "text/plain": [
       "    나이 성별   학교\n",
       "준서  15  남  덕영중\n",
       "예은  17  여  수리중"
      ]
     },
     "execution_count": 101,
     "metadata": {},
     "output_type": "execute_result"
    }
   ],
   "source": [
    "df = pd.DataFrame([[15, '남', '덕영중'], [17, '여', '수리중']], \n",
    "                   index=['준서', '예은'],\n",
    "                   columns=['나이', '성별', '학교'])\n",
    "df"
   ]
  },
  {
   "cell_type": "code",
   "execution_count": 102,
   "id": "e5b974e8",
   "metadata": {},
   "outputs": [
    {
     "data": {
      "text/html": [
       "<div>\n",
       "<style scoped>\n",
       "    .dataframe tbody tr th:only-of-type {\n",
       "        vertical-align: middle;\n",
       "    }\n",
       "\n",
       "    .dataframe tbody tr th {\n",
       "        vertical-align: top;\n",
       "    }\n",
       "\n",
       "    .dataframe thead th {\n",
       "        text-align: right;\n",
       "    }\n",
       "</style>\n",
       "<table border=\"1\" class=\"dataframe\">\n",
       "  <thead>\n",
       "    <tr style=\"text-align: right;\">\n",
       "      <th></th>\n",
       "      <th>나이</th>\n",
       "      <th>성별</th>\n",
       "      <th>학교</th>\n",
       "    </tr>\n",
       "  </thead>\n",
       "  <tbody>\n",
       "    <tr>\n",
       "      <th>재영</th>\n",
       "      <td>15</td>\n",
       "      <td>남</td>\n",
       "      <td>덕영중</td>\n",
       "    </tr>\n",
       "    <tr>\n",
       "      <th>예은</th>\n",
       "      <td>17</td>\n",
       "      <td>여</td>\n",
       "      <td>수리중</td>\n",
       "    </tr>\n",
       "  </tbody>\n",
       "</table>\n",
       "</div>"
      ],
      "text/plain": [
       "    나이 성별   학교\n",
       "재영  15  남  덕영중\n",
       "예은  17  여  수리중"
      ]
     },
     "execution_count": 102,
     "metadata": {},
     "output_type": "execute_result"
    }
   ],
   "source": [
    "df.rename(index={'준서':'재영'},inplace=True)\n",
    "df"
   ]
  },
  {
   "cell_type": "code",
   "execution_count": 103,
   "id": "32fdd8a6",
   "metadata": {},
   "outputs": [
    {
     "data": {
      "text/html": [
       "<div>\n",
       "<style scoped>\n",
       "    .dataframe tbody tr th:only-of-type {\n",
       "        vertical-align: middle;\n",
       "    }\n",
       "\n",
       "    .dataframe tbody tr th {\n",
       "        vertical-align: top;\n",
       "    }\n",
       "\n",
       "    .dataframe thead th {\n",
       "        text-align: right;\n",
       "    }\n",
       "</style>\n",
       "<table border=\"1\" class=\"dataframe\">\n",
       "  <thead>\n",
       "    <tr style=\"text-align: right;\">\n",
       "      <th></th>\n",
       "      <th>레벨</th>\n",
       "      <th>성별</th>\n",
       "      <th>학교</th>\n",
       "    </tr>\n",
       "  </thead>\n",
       "  <tbody>\n",
       "    <tr>\n",
       "      <th>재영</th>\n",
       "      <td>15</td>\n",
       "      <td>남</td>\n",
       "      <td>덕영중</td>\n",
       "    </tr>\n",
       "    <tr>\n",
       "      <th>예은</th>\n",
       "      <td>17</td>\n",
       "      <td>여</td>\n",
       "      <td>수리중</td>\n",
       "    </tr>\n",
       "  </tbody>\n",
       "</table>\n",
       "</div>"
      ],
      "text/plain": [
       "    레벨 성별   학교\n",
       "재영  15  남  덕영중\n",
       "예은  17  여  수리중"
      ]
     },
     "execution_count": 103,
     "metadata": {},
     "output_type": "execute_result"
    }
   ],
   "source": [
    "df.rename(columns={'나이':'레벨'},inplace=True)\n",
    "df"
   ]
  }
 ],
 "metadata": {
  "kernelspec": {
   "display_name": "Python 3 (ipykernel)",
   "language": "python",
   "name": "python3"
  },
  "language_info": {
   "codemirror_mode": {
    "name": "ipython",
    "version": 3
   },
   "file_extension": ".py",
   "mimetype": "text/x-python",
   "name": "python",
   "nbconvert_exporter": "python",
   "pygments_lexer": "ipython3",
   "version": "3.9.12"
  }
 },
 "nbformat": 4,
 "nbformat_minor": 5
}
