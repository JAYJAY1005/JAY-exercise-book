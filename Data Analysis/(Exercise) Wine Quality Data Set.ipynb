{
 "cells": [
  {
   "cell_type": "markdown",
   "id": "5134bb36",
   "metadata": {},
   "source": [
    "## Data  개요\n",
    "**적포도주 및 백포도주 샘플의 물리화학적 특성 및 품질 등급**\n",
    "- UCI 머신러닝 저장소에 공개 : [dataset](https://archive.ics.uci.edu/ml/datasets/Wine+Quality)\n",
    "- 포르투갈 \"Vinho Verde\" 와인의 레드 및 화이트 변종 샘플에 대한 정보를 제공\n",
    "- 각 와인 샘플은 와인 전문가에 의해 품질 평가를 받았고 화학적 테스트를 거쳤음\n",
    "- 개인 정보 보호 및 물류 문제로 인해 포도 유형, 와인 브랜드, 와인 판매 가격 등에 대한 데이터가 없음"
   ]
  },
  {
   "cell_type": "markdown",
   "id": "6a144f9f",
   "metadata": {},
   "source": [
    "```\n",
    "   Input variables (based on physicochemical tests):\n",
    "   1 - fixed acidity (고정된 산도)\n",
    "   2 - volatile acidity (휘발성 산도)\n",
    "   3 - citric acid (구연산)\n",
    "   4 - residual sugar (잔여 설탕)\n",
    "   5 - chlorides (염화물)\n",
    "   6 - free sulfur dioxide (유리 이산화황)\n",
    "   7 - total sulfur dioxide (총 이산화황)\n",
    "   8 - density (밀도)\n",
    "   9 - pH (산도)\n",
    "   10 - sulphates (황산염)\n",
    "   11 - alcohol (알코올)\n",
    "   \n",
    "   Output variable (based on sensory data): \n",
    "   12 - quality (품질) (score between 0 and 10) \n",
    "```\n"
   ]
  },
  {
   "cell_type": "markdown",
   "id": "db980dab",
   "metadata": {},
   "source": [
    "## Step 1: 질문하기 (Ask questions)\n",
    "데이터가 주어진 상태에서 질문을 할 수도 있고, 질문에 답할 수 있는 데이터를 수집할 수도 있다."
   ]
  },
  {
   "cell_type": "markdown",
   "id": "6b10ff7e",
   "metadata": {},
   "source": [
    "**질문 예시**\n",
    "- 와인의 품질을 예측하는 데 가장 중요한 화학적 특성은 무엇일까?\n",
    "- 어떤 유형(white, red)의 와인이 더 좋은 평가를 받을까?\n",
    "- 알코올 도수가 높은 와인이 더 좋은 평가를 받을까?\n",
    "- 더 달콤한 와인이 더 나은 평가를 받을까?\n",
    "- 어느 정도의 산도가 와인 품질에 영향을 미칠까?"
   ]
  },
  {
   "cell_type": "markdown",
   "id": "6cc22842",
   "metadata": {},
   "source": [
    "## Step 2: 데이터 랭글링 (Wrangle data)\n",
    "- 데이터 랭글링 : 원자료(raw data)를 보다 쉽게 접근하고 분석할 수 있도록 데이터를 정리하고 통합하는 과정\n",
    "(참고. 위키피디아)\n",
    "- 세부적으로는 데이터의 수집(gather), 평가(assess), 정제(clean) 작업으로 나눌 수 있다."
   ]
  },
  {
   "cell_type": "markdown",
   "id": "fceaac4b",
   "metadata": {},
   "source": [
    "### 2.1 수집(gather)"
   ]
  },
  {
   "cell_type": "code",
   "execution_count": null,
   "id": "d12c73af",
   "metadata": {},
   "outputs": [],
   "source": []
  },
  {
   "cell_type": "code",
   "execution_count": null,
   "id": "bd523269",
   "metadata": {},
   "outputs": [],
   "source": []
  },
  {
   "cell_type": "markdown",
   "id": "d8704dbe",
   "metadata": {},
   "source": [
    "### 2.2 평가(assess)"
   ]
  },
  {
   "cell_type": "markdown",
   "id": "0b935b13",
   "metadata": {},
   "source": [
    "**샘플의 개수**, **컬럼의 개수**"
   ]
  },
  {
   "cell_type": "code",
   "execution_count": null,
   "id": "fd7744bb",
   "metadata": {},
   "outputs": [],
   "source": []
  },
  {
   "cell_type": "markdown",
   "id": "726eecd5",
   "metadata": {},
   "source": [
    "**누락 데이터 확인**"
   ]
  },
  {
   "cell_type": "code",
   "execution_count": null,
   "id": "a0c00288",
   "metadata": {},
   "outputs": [],
   "source": []
  },
  {
   "cell_type": "markdown",
   "id": "77005491",
   "metadata": {},
   "source": [
    "**중복 데이터 확인**"
   ]
  },
  {
   "cell_type": "code",
   "execution_count": null,
   "id": "329ea44c",
   "metadata": {},
   "outputs": [],
   "source": []
  },
  {
   "cell_type": "markdown",
   "id": "76d826ea",
   "metadata": {},
   "source": [
    "**quality 컬럼(특성)의 고유값과 개수**"
   ]
  },
  {
   "cell_type": "code",
   "execution_count": null,
   "id": "8cbd36da",
   "metadata": {},
   "outputs": [],
   "source": []
  },
  {
   "cell_type": "markdown",
   "id": "61c98629",
   "metadata": {},
   "source": [
    "**통계 정보 확인**"
   ]
  },
  {
   "cell_type": "code",
   "execution_count": null,
   "id": "350d1a3d",
   "metadata": {},
   "outputs": [],
   "source": []
  },
  {
   "cell_type": "markdown",
   "id": "c28f574f",
   "metadata": {},
   "source": [
    "### 2.3 정제(clean)"
   ]
  },
  {
   "cell_type": "markdown",
   "id": "1def249a",
   "metadata": {},
   "source": [
    "**중복데이터 삭제**"
   ]
  },
  {
   "cell_type": "code",
   "execution_count": null,
   "id": "247be904",
   "metadata": {},
   "outputs": [],
   "source": []
  },
  {
   "cell_type": "code",
   "execution_count": null,
   "id": "c7f7b870",
   "metadata": {},
   "outputs": [],
   "source": []
  },
  {
   "cell_type": "markdown",
   "id": "9f1927ba",
   "metadata": {},
   "source": [
    "**두 데이터 프레임 합치기**"
   ]
  },
  {
   "cell_type": "code",
   "execution_count": null,
   "id": "8a3eb542",
   "metadata": {},
   "outputs": [],
   "source": []
  },
  {
   "cell_type": "code",
   "execution_count": null,
   "id": "8203202b",
   "metadata": {},
   "outputs": [],
   "source": []
  },
  {
   "cell_type": "markdown",
   "id": "78daef3d",
   "metadata": {},
   "source": [
    "## Step 3: 데이터 탐색 (Exploratory Data Analysis)\n",
    "데이터의 패턴을 찾고, 관계를 시각화 하는 작업 등으로 통해 데이터에 대한 직관을 극대화 한다."
   ]
  },
  {
   "cell_type": "markdown",
   "id": "9ed35593",
   "metadata": {},
   "source": [
    "### 3.1 새로 결합된 데이터 프레임으로 histogram 그리기\n",
    "- fixed acidity, total sulfur dioxide, pH, alcohol "
   ]
  },
  {
   "cell_type": "code",
   "execution_count": null,
   "id": "28d684b0",
   "metadata": {},
   "outputs": [],
   "source": []
  },
  {
   "cell_type": "code",
   "execution_count": null,
   "id": "a75bce93",
   "metadata": {},
   "outputs": [],
   "source": []
  },
  {
   "cell_type": "markdown",
   "id": "4a83a0ba",
   "metadata": {},
   "source": [
    "- Question) 특성 중 오른쪽으로 꼬리가 긴 분포(right skewed distribution)는 어떤것인가?\n",
    "- Answer) "
   ]
  },
  {
   "cell_type": "markdown",
   "id": "b6e2c9ff",
   "metadata": {},
   "source": [
    "### 3.2 새로 결합된 데이터 프레임으로 산점도 그리기\n",
    "- quality와 아래의 특성들간의 상관관계 파악하기\n",
    "- volatile acidity, residual sugar, pH, alcohol"
   ]
  },
  {
   "cell_type": "code",
   "execution_count": null,
   "id": "f02a3015",
   "metadata": {},
   "outputs": [],
   "source": []
  },
  {
   "cell_type": "code",
   "execution_count": null,
   "id": "d22402bb",
   "metadata": {},
   "outputs": [],
   "source": []
  },
  {
   "cell_type": "markdown",
   "id": "02ba6104",
   "metadata": {},
   "source": [
    "- Question) 품질에 긍정적인 영향을 미칠 가능성이 높은 특성은 어떤 것인가?\n",
    "- Answer) "
   ]
  },
  {
   "cell_type": "markdown",
   "id": "08e487e2",
   "metadata": {},
   "source": [
    "## Step 4: 결론 도출 또는 예측 (Draw conclusions or make predictions)"
   ]
  },
  {
   "cell_type": "markdown",
   "id": "804def90",
   "metadata": {},
   "source": [
    "###  4.1 어떤 유형(white, red)의 와인이 더 좋은 평가를 받을까?"
   ]
  },
  {
   "cell_type": "code",
   "execution_count": null,
   "id": "57e54857",
   "metadata": {},
   "outputs": [],
   "source": []
  },
  {
   "cell_type": "code",
   "execution_count": null,
   "id": "54b0f17a",
   "metadata": {},
   "outputs": [],
   "source": []
  },
  {
   "cell_type": "markdown",
   "id": "1a4ea6de",
   "metadata": {},
   "source": [
    "- **분석결과** :"
   ]
  },
  {
   "cell_type": "markdown",
   "id": "3ad331e8",
   "metadata": {},
   "source": [
    "###  4.2 어느 정도의 산도가 와인 품질에 영향을 미칠까?\n",
    "- 산도를 4등분하여 (low, medium, medium_high, high ) 어느 단계의 quality의 평균값이 높은지 확인하기"
   ]
  },
  {
   "cell_type": "code",
   "execution_count": null,
   "id": "afa91b60",
   "metadata": {},
   "outputs": [],
   "source": []
  },
  {
   "cell_type": "code",
   "execution_count": null,
   "id": "5f502176",
   "metadata": {},
   "outputs": [],
   "source": []
  },
  {
   "cell_type": "markdown",
   "id": "5b9054eb",
   "metadata": {},
   "source": [
    "- **분석결과** :"
   ]
  },
  {
   "cell_type": "markdown",
   "id": "904e98e4",
   "metadata": {},
   "source": [
    "###  4.3 더 달콤한 와인이 더 나은 평가를 받을까?\n"
   ]
  },
  {
   "cell_type": "code",
   "execution_count": null,
   "id": "3be5ba4e",
   "metadata": {},
   "outputs": [],
   "source": []
  },
  {
   "cell_type": "code",
   "execution_count": null,
   "id": "82e2f17f",
   "metadata": {},
   "outputs": [],
   "source": []
  },
  {
   "cell_type": "markdown",
   "id": "3d5a6b73",
   "metadata": {},
   "source": [
    "**분석 결과** :"
   ]
  },
  {
   "cell_type": "markdown",
   "id": "95e41df2",
   "metadata": {},
   "source": [
    "###  4.4  알코올 도수가 높은 와인이 더 좋은 평가를 받을까?"
   ]
  },
  {
   "cell_type": "code",
   "execution_count": null,
   "id": "770d71f1",
   "metadata": {},
   "outputs": [],
   "source": []
  },
  {
   "cell_type": "code",
   "execution_count": null,
   "id": "6fc85258",
   "metadata": {},
   "outputs": [],
   "source": []
  },
  {
   "cell_type": "markdown",
   "id": "f4fbe260",
   "metadata": {},
   "source": [
    "**분석 결과** :"
   ]
  },
  {
   "cell_type": "markdown",
   "id": "5183a311",
   "metadata": {},
   "source": [
    "## Step 5: 결과 공유 (Communicate the results)\n",
    "보고서, 이메일, 블로그 등 다양한 방법을 통해 발견한 통찰들을 공유할 수 있다."
   ]
  },
  {
   "cell_type": "code",
   "execution_count": null,
   "id": "cc830c2e",
   "metadata": {},
   "outputs": [],
   "source": []
  },
  {
   "cell_type": "code",
   "execution_count": null,
   "id": "2842bd4e",
   "metadata": {},
   "outputs": [],
   "source": []
  }
 ],
 "metadata": {
  "kernelspec": {
   "display_name": "Python 3 (ipykernel)",
   "language": "python",
   "name": "python3"
  },
  "language_info": {
   "codemirror_mode": {
    "name": "ipython",
    "version": 3
   },
   "file_extension": ".py",
   "mimetype": "text/x-python",
   "name": "python",
   "nbconvert_exporter": "python",
   "pygments_lexer": "ipython3",
   "version": "3.9.12"
  }
 },
 "nbformat": 4,
 "nbformat_minor": 5
}
